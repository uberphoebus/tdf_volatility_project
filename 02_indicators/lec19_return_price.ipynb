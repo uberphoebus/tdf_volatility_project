{
 "cells": [
  {
   "cell_type": "markdown",
   "id": "intense-aaron",
   "metadata": {},
   "source": [
    "# 유가증권 수익율 계산 "
   ]
  },
  {
   "cell_type": "code",
   "execution_count": 1,
   "id": "warming-workplace",
   "metadata": {},
   "outputs": [],
   "source": [
    "import pandas as pd\n",
    "import numpy as np\n",
    "import pandas_datareader as pdr\n",
    "import FinanceDataReader as fdr\n",
    "import seaborn as sns\n",
    "from matplotlib import dates as mdates\n",
    "import matplotlib.pyplot as plt\n",
    "%matplotlib inline\n",
    "\n",
    "import warnings\n",
    "warnings.filterwarnings(action='ignore')"
   ]
  },
  {
   "cell_type": "code",
   "execution_count": 2,
   "id": "governmental-dancing",
   "metadata": {},
   "outputs": [
    {
     "data": {
      "image/png": "[encoded data removed]",
      "text/plain": [
       "<Figure size 432x288 with 1 Axes>"
      ]
     },
     "metadata": {
      "needs_background": "light"
     },
     "output_type": "display_data"
    }
   ],
   "source": [
    "import matplotlib.pyplot as plt\n",
    "plt.rcParams['font.family'] = 'Malgun Gothic'\n",
    "plt.title('한글제목')\n",
    "plt.show()"
   ]
  },
  {
   "cell_type": "code",
   "execution_count": 3,
   "id": "maritime-pavilion",
   "metadata": {},
   "outputs": [],
   "source": [
    "def myplot(df, nrows=5,  kind='line', title='제목', labels=False):  \n",
    "    if nrows > 0:\n",
    "        print(df.head(nrows))\n",
    "    else:\n",
    "        print(df.tail(nrows))\n",
    "    \n",
    "    if labels:\n",
    "        cols = df.columns\n",
    "        for i, col in enumerate(cols):\n",
    "            df[col].plot(label=labels[i], kind=kind)\n",
    "    else :\n",
    "        df.plot(kind=kind)\n",
    "    \n",
    "    plt.title(title)\n",
    "    plt.legend()\n",
    "    plt.show()"
   ]
  },
  {
   "cell_type": "code",
   "execution_count": 4,
   "id": "specified-millennium",
   "metadata": {
    "tags": []
   },
   "outputs": [],
   "source": [
    "def myplotmix(df1, df2, y1='ylabel-1', y2='ylabel-2', kind1='bar', kind2='line', title='제목',  nrows1=5, nrows2=5,  labels=False):  \n",
    "    ytl=['b', 'g', 'r', 'c', 'm', 'y', 'k', 'w']\n",
    "\n",
    "    if nrows1 > 0:\n",
    "        print(df1.head(nrows1))\n",
    "    elif nrows1 < 0:\n",
    "        print(df1.tail(nrows1))\n",
    "    if nrows2 > 0:\n",
    "        print(df2.head(nrows2))\n",
    "    else:\n",
    "        print(df2.tail(nrows2))\n",
    "    fig, ax1 = plt.subplots(figsize=(8, 4))\n",
    "    ax2=ax1.twinx()\n",
    "    if kind1 == 'line':\n",
    "        df1.plot(kind=kind1, ax=ax2, marker='d',color='#e35f62')  #color='y', \n",
    "        df2.plot(kind=kind2, ax=ax1)  #bar\n",
    "    else:\n",
    "        df1.plot(kind=kind1, ax=ax1,color='#bcbd22')\n",
    "        df2.plot(kind=kind2, ax=ax2) #color='y',\n",
    "        \n",
    "    # df['date'] = df['date'].dt.strftime('%Y-%m-%d')\n",
    "    # ax1.set_xticklabels(df['date'])    \n",
    "    ax1.yaxis.tick_right()\n",
    "    ax2.yaxis.tick_left()\n",
    "    ax1.set_ylabel(y1) #, color='red')\n",
    "    ax2.set_ylabel(y2) #, color='red')\n",
    "    ax1.legend(loc=1)\n",
    "    ax2.legend(loc=2)\n",
    "    plt.title(title)\n",
    "    ax1.grid(False)\n",
    "    ax2.grid(False)\n",
    "    plt.show()"
   ]
  },
  {
   "cell_type": "code",
   "execution_count": 5,
   "id": "stylish-stupid",
   "metadata": {},
   "outputs": [
    {
     "name": "stdout",
     "output_type": "stream",
     "text": [
      "035720\n"
     ]
    }
   ],
   "source": [
    "def codefind(name):\n",
    "    krx = fdr.StockListing('KRX')\n",
    "    search = list(krx['Name'])\n",
    "    for i in range(len(krx)):\n",
    "        if (search[i]==name):\n",
    "            print(krx['Symbol'][i])\n",
    "            return\n",
    "codefind('카카오')        "
   ]
  },
  {
   "cell_type": "markdown",
   "id": "fallen-engineering",
   "metadata": {},
   "source": [
    "## yahoo finance를 이용한 삼성전자 주식 가져오기"
   ]
  },
  {
   "cell_type": "code",
   "execution_count": 6,
   "id": "verbal-window",
   "metadata": {},
   "outputs": [],
   "source": [
    "df_ss = pdr.get_data_yahoo('005930.KS', '2018-01-01', '2019-12-31')\n"
   ]
  },
  {
   "cell_type": "code",
   "execution_count": 7,
   "id": "selective-antenna",
   "metadata": {},
   "outputs": [
    {
     "name": "stdout",
     "output_type": "stream",
     "text": [
      "<class 'pandas.core.frame.DataFrame'>\n",
      "DatetimeIndex: 487 entries, 2018-01-03 to 2019-12-30\n",
      "Data columns (total 6 columns):\n",
      " #   Column     Non-Null Count  Dtype  \n",
      "---  ------     --------------  -----  \n",
      " 0   High       487 non-null    float64\n",
      " 1   Low        487 non-null    float64\n",
      " 2   Open       487 non-null    float64\n",
      " 3   Close      487 non-null    float64\n",
      " 4   Volume     487 non-null    float64\n",
      " 5   Adj Close  487 non-null    float64\n",
      "dtypes: float64(6)\n",
      "memory usage: 26.6 KB\n"
     ]
    },
    {
     "data": {
      "text/html": [
       "<div>\n",
       "<style scoped>\n",
       "    .dataframe tbody tr th:only-of-type {\n",
       "        vertical-align: middle;\n",
       "    }\n",
       "\n",
       "    .dataframe tbody tr th {\n",
       "        vertical-align: top;\n",
       "    }\n",
       "\n",
       "    .dataframe thead th {\n",
       "        text-align: right;\n",
       "    }\n",
       "</style>\n",
       "<table border=\"1\" class=\"dataframe\">\n",
       "  <thead>\n",
       "    <tr style=\"text-align: right;\">\n",
       "      <th></th>\n",
       "      <th>High</th>\n",
       "      <th>Low</th>\n",
       "      <th>Open</th>\n",
       "      <th>Close</th>\n",
       "      <th>Volume</th>\n",
       "      <th>Adj Close</th>\n",
       "    </tr>\n",
       "    <tr>\n",
       "      <th>Date</th>\n",
       "      <th></th>\n",
       "      <th></th>\n",
       "      <th></th>\n",
       "      <th></th>\n",
       "      <th></th>\n",
       "      <th></th>\n",
       "    </tr>\n",
       "  </thead>\n",
       "  <tbody>\n",
       "    <tr>\n",
       "      <th>2018-01-03</th>\n",
       "      <td>52560.0</td>\n",
       "      <td>51420.0</td>\n",
       "      <td>52540.0</td>\n",
       "      <td>51620.0</td>\n",
       "      <td>10013500.0</td>\n",
       "      <td>46235.468750</td>\n",
       "    </tr>\n",
       "    <tr>\n",
       "      <th>2018-01-04</th>\n",
       "      <td>52180.0</td>\n",
       "      <td>50640.0</td>\n",
       "      <td>52120.0</td>\n",
       "      <td>51080.0</td>\n",
       "      <td>11695450.0</td>\n",
       "      <td>45751.796875</td>\n",
       "    </tr>\n",
       "    <tr>\n",
       "      <th>2018-01-05</th>\n",
       "      <td>52120.0</td>\n",
       "      <td>51200.0</td>\n",
       "      <td>51300.0</td>\n",
       "      <td>52120.0</td>\n",
       "      <td>9481150.0</td>\n",
       "      <td>46683.312500</td>\n",
       "    </tr>\n",
       "    <tr>\n",
       "      <th>2018-01-08</th>\n",
       "      <td>52520.0</td>\n",
       "      <td>51500.0</td>\n",
       "      <td>52400.0</td>\n",
       "      <td>52020.0</td>\n",
       "      <td>8383650.0</td>\n",
       "      <td>46593.753906</td>\n",
       "    </tr>\n",
       "    <tr>\n",
       "      <th>2018-01-09</th>\n",
       "      <td>51720.0</td>\n",
       "      <td>49980.0</td>\n",
       "      <td>51460.0</td>\n",
       "      <td>50400.0</td>\n",
       "      <td>18013600.0</td>\n",
       "      <td>45142.734375</td>\n",
       "    </tr>\n",
       "  </tbody>\n",
       "</table>\n",
       "</div>"
      ],
      "text/plain": [
       "               High      Low     Open    Close      Volume     Adj Close\n",
       "Date                                                                    \n",
       "2018-01-03  52560.0  51420.0  52540.0  51620.0  10013500.0  46235.468750\n",
       "2018-01-04  52180.0  50640.0  52120.0  51080.0  11695450.0  45751.796875\n",
       "2018-01-05  52120.0  51200.0  51300.0  52120.0   9481150.0  46683.312500\n",
       "2018-01-08  52520.0  51500.0  52400.0  52020.0   8383650.0  46593.753906\n",
       "2018-01-09  51720.0  49980.0  51460.0  50400.0  18013600.0  45142.734375"
      ]
     },
     "execution_count": 7,
     "metadata": {},
     "output_type": "execute_result"
    }
   ],
   "source": [
    "df_ss.info()\n",
    "df_ss.head()"
   ]
  },
  {
   "cell_type": "code",
   "execution_count": 8,
   "id": "manual-weapon",
   "metadata": {},
   "outputs": [
    {
     "data": {
      "text/plain": [
       "High         0\n",
       "Low          0\n",
       "Open         0\n",
       "Close        0\n",
       "Volume       0\n",
       "Adj Close    0\n",
       "dtype: int64"
      ]
     },
     "execution_count": 8,
     "metadata": {},
     "output_type": "execute_result"
    }
   ],
   "source": [
    "df_ss.isna().sum()"
   ]
  },
  {
   "cell_type": "markdown",
   "id": "tested-amino",
   "metadata": {},
   "source": [
    "### 종가 그데로 출력하면 다른 상품 가격과 비교하기 힘들다"
   ]
  },
  {
   "cell_type": "code",
   "execution_count": 9,
   "id": "published-future",
   "metadata": {},
   "outputs": [
    {
     "data": {
      "text/plain": [
       "<matplotlib.legend.Legend at 0x1a52d2c1ec8>"
      ]
     },
     "execution_count": 9,
     "metadata": {},
     "output_type": "execute_result"
    },
    {
     "data": {
      "image/png": "[encoded data removed]",
      "text/plain": [
       "<Figure size 648x432 with 1 Axes>"
      ]
     },
     "metadata": {
      "needs_background": "light"
     },
     "output_type": "display_data"
    }
   ],
   "source": [
    "plt.figure(figsize=(9, 6))\n",
    "# plt.subplot(2, 1, 1)\n",
    "plt.title('Samsung')\n",
    "plt.plot(df_ss.index, df_ss['Close'], label='samsung')\n",
    "plt.legend()\n"
   ]
  },
  {
   "cell_type": "markdown",
   "id": "utility-march",
   "metadata": {},
   "source": [
    "## 일간 변동가 / 변동률"
   ]
  },
  {
   "cell_type": "markdown",
   "id": "mathematical-space",
   "metadata": {},
   "source": [
    "### 이동평균선(이평선)\n",
    "* N일의 주가지수의 평균 변동률\n",
    "* 이동평균선 (N일 동안의 주가의 평균 변동률을 이은 선)"
   ]
  },
  {
   "cell_type": "code",
   "execution_count": 10,
   "id": "equipped-jaguar",
   "metadata": {},
   "outputs": [],
   "source": [
    "def 이동편균선(day=1):\n",
    "    df_ss['dayline_'+str(day)] = df_ss['Close'].rolling(day).mean()"
   ]
  },
  {
   "cell_type": "code",
   "execution_count": 11,
   "id": "undefined-stomach",
   "metadata": {},
   "outputs": [
    {
     "data": {
      "text/html": [
       "<div>\n",
       "<style scoped>\n",
       "    .dataframe tbody tr th:only-of-type {\n",
       "        vertical-align: middle;\n",
       "    }\n",
       "\n",
       "    .dataframe tbody tr th {\n",
       "        vertical-align: top;\n",
       "    }\n",
       "\n",
       "    .dataframe thead th {\n",
       "        text-align: right;\n",
       "    }\n",
       "</style>\n",
       "<table border=\"1\" class=\"dataframe\">\n",
       "  <thead>\n",
       "    <tr style=\"text-align: right;\">\n",
       "      <th></th>\n",
       "      <th>High</th>\n",
       "      <th>Low</th>\n",
       "      <th>Open</th>\n",
       "      <th>Close</th>\n",
       "      <th>Volume</th>\n",
       "      <th>Adj Close</th>\n",
       "    </tr>\n",
       "    <tr>\n",
       "      <th>Date</th>\n",
       "      <th></th>\n",
       "      <th></th>\n",
       "      <th></th>\n",
       "      <th></th>\n",
       "      <th></th>\n",
       "      <th></th>\n",
       "    </tr>\n",
       "  </thead>\n",
       "  <tbody>\n",
       "    <tr>\n",
       "      <th>2018-01-03</th>\n",
       "      <td>52560.0</td>\n",
       "      <td>51420.0</td>\n",
       "      <td>52540.0</td>\n",
       "      <td>51620.0</td>\n",
       "      <td>10013500.0</td>\n",
       "      <td>46235.468750</td>\n",
       "    </tr>\n",
       "    <tr>\n",
       "      <th>2018-01-04</th>\n",
       "      <td>52180.0</td>\n",
       "      <td>50640.0</td>\n",
       "      <td>52120.0</td>\n",
       "      <td>51080.0</td>\n",
       "      <td>11695450.0</td>\n",
       "      <td>45751.796875</td>\n",
       "    </tr>\n",
       "    <tr>\n",
       "      <th>2018-01-05</th>\n",
       "      <td>52120.0</td>\n",
       "      <td>51200.0</td>\n",
       "      <td>51300.0</td>\n",
       "      <td>52120.0</td>\n",
       "      <td>9481150.0</td>\n",
       "      <td>46683.312500</td>\n",
       "    </tr>\n",
       "    <tr>\n",
       "      <th>2018-01-08</th>\n",
       "      <td>52520.0</td>\n",
       "      <td>51500.0</td>\n",
       "      <td>52400.0</td>\n",
       "      <td>52020.0</td>\n",
       "      <td>8383650.0</td>\n",
       "      <td>46593.753906</td>\n",
       "    </tr>\n",
       "    <tr>\n",
       "      <th>2018-01-09</th>\n",
       "      <td>51720.0</td>\n",
       "      <td>49980.0</td>\n",
       "      <td>51460.0</td>\n",
       "      <td>50400.0</td>\n",
       "      <td>18013600.0</td>\n",
       "      <td>45142.734375</td>\n",
       "    </tr>\n",
       "  </tbody>\n",
       "</table>\n",
       "</div>"
      ],
      "text/plain": [
       "               High      Low     Open    Close      Volume     Adj Close\n",
       "Date                                                                    \n",
       "2018-01-03  52560.0  51420.0  52540.0  51620.0  10013500.0  46235.468750\n",
       "2018-01-04  52180.0  50640.0  52120.0  51080.0  11695450.0  45751.796875\n",
       "2018-01-05  52120.0  51200.0  51300.0  52120.0   9481150.0  46683.312500\n",
       "2018-01-08  52520.0  51500.0  52400.0  52020.0   8383650.0  46593.753906\n",
       "2018-01-09  51720.0  49980.0  51460.0  50400.0  18013600.0  45142.734375"
      ]
     },
     "execution_count": 11,
     "metadata": {},
     "output_type": "execute_result"
    }
   ],
   "source": [
    "df_ss.head()"
   ]
  },
  {
   "cell_type": "code",
   "execution_count": 12,
   "id": "mobile-collins",
   "metadata": {},
   "outputs": [
    {
     "name": "stdout",
     "output_type": "stream",
     "text": [
      "              Close  dayline_5  dayline_10\n",
      "Date                                      \n",
      "2018-01-03  51620.0        NaN         NaN\n",
      "2018-01-04  51080.0        NaN         NaN\n",
      "2018-01-05  52120.0        NaN         NaN\n",
      "2018-01-08  52020.0        NaN         NaN\n",
      "2018-01-09  50400.0    51448.0         NaN\n"
     ]
    },
    {
     "data": {
      "image/png": "[encoded data removed]",
      "text/plain": [
       "<Figure size 432x288 with 1 Axes>"
      ]
     },
     "metadata": {
      "needs_background": "light"
     },
     "output_type": "display_data"
    }
   ],
   "source": [
    "이동편균선(10)\n",
    "이동편균선(5)\n",
    "# myplot(df_ss[['Close','dayline_5','dayline_10']], title='이동평균선', labels=['Close','5일선','10일선'])\n",
    "myplot(df_ss.iloc[:100][['Close','dayline_5','dayline_10']], title='이동평균선', labels=['Close','5일선','10일선'])"
   ]
  },
  {
   "cell_type": "markdown",
   "id": "physical-tower",
   "metadata": {},
   "source": [
    "* 이평선은 변동성이 완화된 것처럼 보인다"
   ]
  },
  {
   "cell_type": "code",
   "execution_count": null,
   "id": "occasional-induction",
   "metadata": {},
   "outputs": [],
   "source": []
  },
  {
   "cell_type": "markdown",
   "id": "retired-hampshire",
   "metadata": {},
   "source": [
    "### 수익률 구하기 \n",
    "* 가격의 변동을 보고 오늘 기준으로 N일과 비교해서 가감산 금액 구하기"
   ]
  },
  {
   "cell_type": "code",
   "execution_count": 13,
   "id": "collective-definition",
   "metadata": {},
   "outputs": [],
   "source": [
    "def 변동지수_가격(day=1):\n",
    "    df_ss['chg_'+str(day)] = df_ss['Close'].pct_change(periods=day) * 100     "
   ]
  },
  {
   "cell_type": "code",
   "execution_count": 14,
   "id": "mature-geography",
   "metadata": {},
   "outputs": [
    {
     "data": {
      "text/html": [
       "<div>\n",
       "<style scoped>\n",
       "    .dataframe tbody tr th:only-of-type {\n",
       "        vertical-align: middle;\n",
       "    }\n",
       "\n",
       "    .dataframe tbody tr th {\n",
       "        vertical-align: top;\n",
       "    }\n",
       "\n",
       "    .dataframe thead th {\n",
       "        text-align: right;\n",
       "    }\n",
       "</style>\n",
       "<table border=\"1\" class=\"dataframe\">\n",
       "  <thead>\n",
       "    <tr style=\"text-align: right;\">\n",
       "      <th></th>\n",
       "      <th>High</th>\n",
       "      <th>Low</th>\n",
       "      <th>Open</th>\n",
       "      <th>Close</th>\n",
       "      <th>Volume</th>\n",
       "      <th>Adj Close</th>\n",
       "      <th>dayline_10</th>\n",
       "      <th>dayline_5</th>\n",
       "      <th>chg_3</th>\n",
       "    </tr>\n",
       "    <tr>\n",
       "      <th>Date</th>\n",
       "      <th></th>\n",
       "      <th></th>\n",
       "      <th></th>\n",
       "      <th></th>\n",
       "      <th></th>\n",
       "      <th></th>\n",
       "      <th></th>\n",
       "      <th></th>\n",
       "      <th></th>\n",
       "    </tr>\n",
       "  </thead>\n",
       "  <tbody>\n",
       "    <tr>\n",
       "      <th>2018-01-03</th>\n",
       "      <td>52560.0</td>\n",
       "      <td>51420.0</td>\n",
       "      <td>52540.0</td>\n",
       "      <td>51620.0</td>\n",
       "      <td>10013500.0</td>\n",
       "      <td>46235.468750</td>\n",
       "      <td>NaN</td>\n",
       "      <td>NaN</td>\n",
       "      <td>NaN</td>\n",
       "    </tr>\n",
       "    <tr>\n",
       "      <th>2018-01-04</th>\n",
       "      <td>52180.0</td>\n",
       "      <td>50640.0</td>\n",
       "      <td>52120.0</td>\n",
       "      <td>51080.0</td>\n",
       "      <td>11695450.0</td>\n",
       "      <td>45751.796875</td>\n",
       "      <td>NaN</td>\n",
       "      <td>NaN</td>\n",
       "      <td>NaN</td>\n",
       "    </tr>\n",
       "    <tr>\n",
       "      <th>2018-01-05</th>\n",
       "      <td>52120.0</td>\n",
       "      <td>51200.0</td>\n",
       "      <td>51300.0</td>\n",
       "      <td>52120.0</td>\n",
       "      <td>9481150.0</td>\n",
       "      <td>46683.312500</td>\n",
       "      <td>NaN</td>\n",
       "      <td>NaN</td>\n",
       "      <td>NaN</td>\n",
       "    </tr>\n",
       "    <tr>\n",
       "      <th>2018-01-08</th>\n",
       "      <td>52520.0</td>\n",
       "      <td>51500.0</td>\n",
       "      <td>52400.0</td>\n",
       "      <td>52020.0</td>\n",
       "      <td>8383650.0</td>\n",
       "      <td>46593.753906</td>\n",
       "      <td>NaN</td>\n",
       "      <td>NaN</td>\n",
       "      <td>0.774893</td>\n",
       "    </tr>\n",
       "    <tr>\n",
       "      <th>2018-01-09</th>\n",
       "      <td>51720.0</td>\n",
       "      <td>49980.0</td>\n",
       "      <td>51460.0</td>\n",
       "      <td>50400.0</td>\n",
       "      <td>18013600.0</td>\n",
       "      <td>45142.734375</td>\n",
       "      <td>NaN</td>\n",
       "      <td>51448.0</td>\n",
       "      <td>-1.331245</td>\n",
       "    </tr>\n",
       "  </tbody>\n",
       "</table>\n",
       "</div>"
      ],
      "text/plain": [
       "               High      Low     Open    Close      Volume     Adj Close  \\\n",
       "Date                                                                       \n",
       "2018-01-03  52560.0  51420.0  52540.0  51620.0  10013500.0  46235.468750   \n",
       "2018-01-04  52180.0  50640.0  52120.0  51080.0  11695450.0  45751.796875   \n",
       "2018-01-05  52120.0  51200.0  51300.0  52120.0   9481150.0  46683.312500   \n",
       "2018-01-08  52520.0  51500.0  52400.0  52020.0   8383650.0  46593.753906   \n",
       "2018-01-09  51720.0  49980.0  51460.0  50400.0  18013600.0  45142.734375   \n",
       "\n",
       "            dayline_10  dayline_5     chg_3  \n",
       "Date                                         \n",
       "2018-01-03         NaN        NaN       NaN  \n",
       "2018-01-04         NaN        NaN       NaN  \n",
       "2018-01-05         NaN        NaN       NaN  \n",
       "2018-01-08         NaN        NaN  0.774893  \n",
       "2018-01-09         NaN    51448.0 -1.331245  "
      ]
     },
     "execution_count": 14,
     "metadata": {},
     "output_type": "execute_result"
    }
   ],
   "source": [
    "변동지수_가격(3)\n",
    "df_ss.head()\n",
    "# myplot(df_ss.iloc[:100][['Close']], title='변동가(지수)---N일 이익률', labels=['Close'])"
   ]
  },
  {
   "cell_type": "code",
   "execution_count": 15,
   "id": "personalized-duncan",
   "metadata": {},
   "outputs": [],
   "source": [
    "# df_ss['ssv'] = df_ss['Close'].pct_change(periods=1) * 100 \n",
    "# df_ss = df_ss.fillna(0)\n",
    "# df_ss.head()\n",
    "# # df_ss['일별등락률'].cumsum()\n",
    "# df_ss.columns "
   ]
  },
  {
   "cell_type": "markdown",
   "id": "heavy-rabbit",
   "metadata": {},
   "source": [
    "### 보유기간 수익률(holding period return)\n",
    "* 투자자산을 보유한 기간 동안 몇 %의 수익률을 올렸는가를 측정하는 것으로, 단순한 성과비교용으로 사용\n",
    "* 보유기간수익률(%) = {[기말의 투자자산(매도가) ÷ 기초의 투자자산(매수가)] - 1} X 100"
   ]
  },
  {
   "cell_type": "code",
   "execution_count": 16,
   "id": "textile-insert",
   "metadata": {},
   "outputs": [
    {
     "data": {
      "text/plain": [
       "(Timestamp('2019-12-30 00:00:00'), Timestamp('2018-01-03 00:00:00'))"
      ]
     },
     "execution_count": 16,
     "metadata": {},
     "output_type": "execute_result"
    }
   ],
   "source": [
    "df_ss.index.max(), df_ss.index.min(), "
   ]
  },
  {
   "cell_type": "code",
   "execution_count": 17,
   "id": "animated-while",
   "metadata": {},
   "outputs": [
    {
     "name": "stdout",
     "output_type": "stream",
     "text": [
      "51620\n",
      "41450\n",
      "24.53558504221953\n"
     ]
    }
   ],
   "source": [
    "ago = int(df_ss.iloc[0:1,]['Close'])\n",
    "# ago = df_ss.iloc[0]['Close']\n",
    "print(ago)\n",
    "today = int(df_ss.iloc[252:253]['Close'])   #index.min()\n",
    "# today = df_ss.iloc[252]['Close']   #index.min()\n",
    "print(today)\n",
    "보유기간수익률 = ((ago / today) - 1) * 100\n",
    "print(보유기간수익률)"
   ]
  },
  {
   "cell_type": "markdown",
   "id": "injured-maple",
   "metadata": {},
   "source": [
    "### 연간 보유기간 수익률 - 기하평균\n",
    "* 연간 보유기간수익률(%) = {[(최종투자자산 ÷ 최초투자자산)^1/n] - 1} X 100\u000b",
    "*n : 년수 (ex 2년 6개월이라면 n=2.5 )\n"
   ]
  },
  {
   "cell_type": "code",
   "execution_count": 18,
   "id": "grateful-facial",
   "metadata": {},
   "outputs": [
    {
     "name": "stdout",
     "output_type": "stream",
     "text": [
      "-19.701666020922126\n"
     ]
    }
   ],
   "source": [
    "n = 1\n",
    "연간보유기간수익률 = (pow((today/ ago),1/n) - 1) * 100\n",
    "print(연간보유기간수익률)"
   ]
  },
  {
   "cell_type": "markdown",
   "id": "transparent-sense",
   "metadata": {},
   "source": [
    "### 기대수익률 - 기하평균\n",
    "* 호황%30 보통40% 불황30\n",
    "* 수익률% 20 8 -4\n",
    "* 12000 10800 9600\n",
    "* = 0.3 X 0.2 + 0.4 X 0.08 + 0.3 X (-0.04) = 0.08 = 8%"
   ]
  },
  {
   "cell_type": "code",
   "execution_count": 19,
   "id": "israeli-despite",
   "metadata": {},
   "outputs": [
    {
     "data": {
      "text/plain": [
       "0.08"
      ]
     },
     "execution_count": 19,
     "metadata": {},
     "output_type": "execute_result"
    }
   ],
   "source": [
    "price = [20/100, 8/100, -4/100]\n",
    "eco   = [30/100 , 40/100 , 30/100]\n",
    "기대수익률 = (eco[0]*price[0])  + (eco[1]*price[1])  + (eco[2]*price[2])\n",
    "기대수익률"
   ]
  },
  {
   "cell_type": "markdown",
   "id": "direct-second",
   "metadata": {},
   "source": [
    "## 가중평균 수익률"
   ]
  },
  {
   "cell_type": "code",
   "execution_count": 20,
   "id": "southern-rugby",
   "metadata": {},
   "outputs": [],
   "source": [
    "init_price = np.array([4000,4000,2000])\n",
    "year_earing_rate = np.array([0.25, 0.05,0.1 ])"
   ]
  },
  {
   "cell_type": "code",
   "execution_count": 21,
   "id": "determined-correction",
   "metadata": {},
   "outputs": [
    {
     "data": {
      "text/plain": [
       "array([1400.])"
      ]
     },
     "execution_count": 21,
     "metadata": {},
     "output_type": "execute_result"
    }
   ],
   "source": [
    "res = np.dot(init_price, year_earing_rate.reshape(-1,1))\n",
    "res"
   ]
  },
  {
   "cell_type": "code",
   "execution_count": 22,
   "id": "civic-reader",
   "metadata": {
    "tags": []
   },
   "outputs": [
    {
     "name": "stdout",
     "output_type": "stream",
     "text": [
      "[0.33333333] [0.33333333]\n"
     ]
    }
   ],
   "source": [
    "price = [12000, 10800, 9600]\n",
    "price_sum = np.array(price).sum()\n",
    "\n",
    "price_weight = [12000/price_sum, 10800/price_sum, 9600/price_sum]\n",
    "eco_rate = [30/100 , 40/100 , 30/100]\n",
    "\n",
    "\n",
    "price_weight = np.array(price_weight)\n",
    "eco_rate = np.array(eco_rate).reshape(-1,1)\n",
    "기대수익률1 = np.dot(price_weight, eco_rate)\n",
    "\n",
    "기대수익률2 = (eco_rate[0]*price_weight[0])  + (eco_rate[1]*price_weight[1])  + (eco_rate[2]*price_weight[2])\n",
    "print(기대수익률1, 기대수익률2)\n",
    "        "
   ]
  },
  {
   "cell_type": "markdown",
   "id": "distributed-stadium",
   "metadata": {},
   "source": [
    "## 변동지수_가격"
   ]
  },
  {
   "cell_type": "code",
   "execution_count": 23,
   "id": "distinguished-brand",
   "metadata": {},
   "outputs": [
    {
     "data": {
      "text/html": [
       "<div>\n",
       "<style scoped>\n",
       "    .dataframe tbody tr th:only-of-type {\n",
       "        vertical-align: middle;\n",
       "    }\n",
       "\n",
       "    .dataframe tbody tr th {\n",
       "        vertical-align: top;\n",
       "    }\n",
       "\n",
       "    .dataframe thead th {\n",
       "        text-align: right;\n",
       "    }\n",
       "</style>\n",
       "<table border=\"1\" class=\"dataframe\">\n",
       "  <thead>\n",
       "    <tr style=\"text-align: right;\">\n",
       "      <th></th>\n",
       "      <th>High</th>\n",
       "      <th>Low</th>\n",
       "      <th>Open</th>\n",
       "      <th>Close</th>\n",
       "      <th>Volume</th>\n",
       "      <th>Adj Close</th>\n",
       "      <th>dayline_10</th>\n",
       "      <th>dayline_5</th>\n",
       "      <th>chg_3</th>\n",
       "      <th>var_daily_price</th>\n",
       "      <th>var_daily_ratio</th>\n",
       "    </tr>\n",
       "    <tr>\n",
       "      <th>Date</th>\n",
       "      <th></th>\n",
       "      <th></th>\n",
       "      <th></th>\n",
       "      <th></th>\n",
       "      <th></th>\n",
       "      <th></th>\n",
       "      <th></th>\n",
       "      <th></th>\n",
       "      <th></th>\n",
       "      <th></th>\n",
       "      <th></th>\n",
       "    </tr>\n",
       "  </thead>\n",
       "  <tbody>\n",
       "    <tr>\n",
       "      <th>2018-01-03</th>\n",
       "      <td>52560.0</td>\n",
       "      <td>51420.0</td>\n",
       "      <td>52540.0</td>\n",
       "      <td>51620.0</td>\n",
       "      <td>10013500.0</td>\n",
       "      <td>46235.468750</td>\n",
       "      <td>NaN</td>\n",
       "      <td>NaN</td>\n",
       "      <td>NaN</td>\n",
       "      <td>NaN</td>\n",
       "      <td>NaN</td>\n",
       "    </tr>\n",
       "    <tr>\n",
       "      <th>2018-01-04</th>\n",
       "      <td>52180.0</td>\n",
       "      <td>50640.0</td>\n",
       "      <td>52120.0</td>\n",
       "      <td>51080.0</td>\n",
       "      <td>11695450.0</td>\n",
       "      <td>45751.796875</td>\n",
       "      <td>NaN</td>\n",
       "      <td>NaN</td>\n",
       "      <td>NaN</td>\n",
       "      <td>-540.0</td>\n",
       "      <td>-1.046106</td>\n",
       "    </tr>\n",
       "    <tr>\n",
       "      <th>2018-01-05</th>\n",
       "      <td>52120.0</td>\n",
       "      <td>51200.0</td>\n",
       "      <td>51300.0</td>\n",
       "      <td>52120.0</td>\n",
       "      <td>9481150.0</td>\n",
       "      <td>46683.312500</td>\n",
       "      <td>NaN</td>\n",
       "      <td>NaN</td>\n",
       "      <td>NaN</td>\n",
       "      <td>1040.0</td>\n",
       "      <td>2.036022</td>\n",
       "    </tr>\n",
       "    <tr>\n",
       "      <th>2018-01-08</th>\n",
       "      <td>52520.0</td>\n",
       "      <td>51500.0</td>\n",
       "      <td>52400.0</td>\n",
       "      <td>52020.0</td>\n",
       "      <td>8383650.0</td>\n",
       "      <td>46593.753906</td>\n",
       "      <td>NaN</td>\n",
       "      <td>NaN</td>\n",
       "      <td>0.774893</td>\n",
       "      <td>-100.0</td>\n",
       "      <td>-0.191865</td>\n",
       "    </tr>\n",
       "    <tr>\n",
       "      <th>2018-01-09</th>\n",
       "      <td>51720.0</td>\n",
       "      <td>49980.0</td>\n",
       "      <td>51460.0</td>\n",
       "      <td>50400.0</td>\n",
       "      <td>18013600.0</td>\n",
       "      <td>45142.734375</td>\n",
       "      <td>NaN</td>\n",
       "      <td>51448.0</td>\n",
       "      <td>-1.331245</td>\n",
       "      <td>-1620.0</td>\n",
       "      <td>-3.114187</td>\n",
       "    </tr>\n",
       "  </tbody>\n",
       "</table>\n",
       "</div>"
      ],
      "text/plain": [
       "               High      Low     Open    Close      Volume     Adj Close  \\\n",
       "Date                                                                       \n",
       "2018-01-03  52560.0  51420.0  52540.0  51620.0  10013500.0  46235.468750   \n",
       "2018-01-04  52180.0  50640.0  52120.0  51080.0  11695450.0  45751.796875   \n",
       "2018-01-05  52120.0  51200.0  51300.0  52120.0   9481150.0  46683.312500   \n",
       "2018-01-08  52520.0  51500.0  52400.0  52020.0   8383650.0  46593.753906   \n",
       "2018-01-09  51720.0  49980.0  51460.0  50400.0  18013600.0  45142.734375   \n",
       "\n",
       "            dayline_10  dayline_5     chg_3  var_daily_price  var_daily_ratio  \n",
       "Date                                                                           \n",
       "2018-01-03         NaN        NaN       NaN              NaN              NaN  \n",
       "2018-01-04         NaN        NaN       NaN           -540.0        -1.046106  \n",
       "2018-01-05         NaN        NaN       NaN           1040.0         2.036022  \n",
       "2018-01-08         NaN        NaN  0.774893           -100.0        -0.191865  \n",
       "2018-01-09         NaN    51448.0 -1.331245          -1620.0        -3.114187  "
      ]
     },
     "execution_count": 23,
     "metadata": {},
     "output_type": "execute_result"
    }
   ],
   "source": [
    "last_day = df_ss['Close'].shift(1)\n",
    "today = df_ss['Close']\n",
    "\n",
    "df_ss['var_daily_price'] = today - last_day                      # 변동가\n",
    "df_ss['var_daily_ratio'] = ((today - last_day)/last_day) *100    # 변동율\n",
    "\n",
    "df_ss.head()\n"
   ]
  },
  {
   "cell_type": "code",
   "execution_count": null,
   "id": "christian-dubai",
   "metadata": {},
   "outputs": [],
   "source": []
  },
  {
   "cell_type": "markdown",
   "id": "small-mounting",
   "metadata": {},
   "source": [
    "## 변동계수\n",
    "* 서로 다른 두 자산이 비슷하게 움직이는지 다른 방향으로 움직이는지 알려주는 지표\n",
    "* 변동계수 = 𝜎(자산수익률의 표준편차) / 자산의 평균(기대)수익률"
   ]
  },
  {
   "cell_type": "code",
   "execution_count": 24,
   "id": "alternate-dover",
   "metadata": {},
   "outputs": [
    {
     "data": {
      "text/html": [
       "<div>\n",
       "<style scoped>\n",
       "    .dataframe tbody tr th:only-of-type {\n",
       "        vertical-align: middle;\n",
       "    }\n",
       "\n",
       "    .dataframe tbody tr th {\n",
       "        vertical-align: top;\n",
       "    }\n",
       "\n",
       "    .dataframe thead th {\n",
       "        text-align: right;\n",
       "    }\n",
       "</style>\n",
       "<table border=\"1\" class=\"dataframe\">\n",
       "  <thead>\n",
       "    <tr style=\"text-align: right;\">\n",
       "      <th></th>\n",
       "      <th>High</th>\n",
       "      <th>Low</th>\n",
       "      <th>Open</th>\n",
       "      <th>Close</th>\n",
       "      <th>Volume</th>\n",
       "      <th>Adj Close</th>\n",
       "      <th>dayline_10</th>\n",
       "      <th>dayline_5</th>\n",
       "      <th>chg_3</th>\n",
       "      <th>var_daily_price</th>\n",
       "      <th>var_daily_ratio</th>\n",
       "    </tr>\n",
       "    <tr>\n",
       "      <th>Date</th>\n",
       "      <th></th>\n",
       "      <th></th>\n",
       "      <th></th>\n",
       "      <th></th>\n",
       "      <th></th>\n",
       "      <th></th>\n",
       "      <th></th>\n",
       "      <th></th>\n",
       "      <th></th>\n",
       "      <th></th>\n",
       "      <th></th>\n",
       "    </tr>\n",
       "  </thead>\n",
       "  <tbody>\n",
       "    <tr>\n",
       "      <th>2018-01-03</th>\n",
       "      <td>52560.0</td>\n",
       "      <td>51420.0</td>\n",
       "      <td>52540.0</td>\n",
       "      <td>51620.0</td>\n",
       "      <td>10013500.0</td>\n",
       "      <td>46235.468750</td>\n",
       "      <td>NaN</td>\n",
       "      <td>NaN</td>\n",
       "      <td>NaN</td>\n",
       "      <td>NaN</td>\n",
       "      <td>NaN</td>\n",
       "    </tr>\n",
       "    <tr>\n",
       "      <th>2018-01-04</th>\n",
       "      <td>52180.0</td>\n",
       "      <td>50640.0</td>\n",
       "      <td>52120.0</td>\n",
       "      <td>51080.0</td>\n",
       "      <td>11695450.0</td>\n",
       "      <td>45751.796875</td>\n",
       "      <td>NaN</td>\n",
       "      <td>NaN</td>\n",
       "      <td>NaN</td>\n",
       "      <td>-540.0</td>\n",
       "      <td>-1.046106</td>\n",
       "    </tr>\n",
       "    <tr>\n",
       "      <th>2018-01-05</th>\n",
       "      <td>52120.0</td>\n",
       "      <td>51200.0</td>\n",
       "      <td>51300.0</td>\n",
       "      <td>52120.0</td>\n",
       "      <td>9481150.0</td>\n",
       "      <td>46683.312500</td>\n",
       "      <td>NaN</td>\n",
       "      <td>NaN</td>\n",
       "      <td>NaN</td>\n",
       "      <td>1040.0</td>\n",
       "      <td>2.036022</td>\n",
       "    </tr>\n",
       "    <tr>\n",
       "      <th>2018-01-08</th>\n",
       "      <td>52520.0</td>\n",
       "      <td>51500.0</td>\n",
       "      <td>52400.0</td>\n",
       "      <td>52020.0</td>\n",
       "      <td>8383650.0</td>\n",
       "      <td>46593.753906</td>\n",
       "      <td>NaN</td>\n",
       "      <td>NaN</td>\n",
       "      <td>0.774893</td>\n",
       "      <td>-100.0</td>\n",
       "      <td>-0.191865</td>\n",
       "    </tr>\n",
       "    <tr>\n",
       "      <th>2018-01-09</th>\n",
       "      <td>51720.0</td>\n",
       "      <td>49980.0</td>\n",
       "      <td>51460.0</td>\n",
       "      <td>50400.0</td>\n",
       "      <td>18013600.0</td>\n",
       "      <td>45142.734375</td>\n",
       "      <td>NaN</td>\n",
       "      <td>51448.0</td>\n",
       "      <td>-1.331245</td>\n",
       "      <td>-1620.0</td>\n",
       "      <td>-3.114187</td>\n",
       "    </tr>\n",
       "  </tbody>\n",
       "</table>\n",
       "</div>"
      ],
      "text/plain": [
       "               High      Low     Open    Close      Volume     Adj Close  \\\n",
       "Date                                                                       \n",
       "2018-01-03  52560.0  51420.0  52540.0  51620.0  10013500.0  46235.468750   \n",
       "2018-01-04  52180.0  50640.0  52120.0  51080.0  11695450.0  45751.796875   \n",
       "2018-01-05  52120.0  51200.0  51300.0  52120.0   9481150.0  46683.312500   \n",
       "2018-01-08  52520.0  51500.0  52400.0  52020.0   8383650.0  46593.753906   \n",
       "2018-01-09  51720.0  49980.0  51460.0  50400.0  18013600.0  45142.734375   \n",
       "\n",
       "            dayline_10  dayline_5     chg_3  var_daily_price  var_daily_ratio  \n",
       "Date                                                                           \n",
       "2018-01-03         NaN        NaN       NaN              NaN              NaN  \n",
       "2018-01-04         NaN        NaN       NaN           -540.0        -1.046106  \n",
       "2018-01-05         NaN        NaN       NaN           1040.0         2.036022  \n",
       "2018-01-08         NaN        NaN  0.774893           -100.0        -0.191865  \n",
       "2018-01-09         NaN    51448.0 -1.331245          -1620.0        -3.114187  "
      ]
     },
     "execution_count": 24,
     "metadata": {},
     "output_type": "execute_result"
    }
   ],
   "source": [
    "df_ss.head()"
   ]
  },
  {
   "cell_type": "code",
   "execution_count": 25,
   "id": "hispanic-mustang",
   "metadata": {},
   "outputs": [
    {
     "data": {
      "text/plain": [
       "55.51350411060779"
      ]
     },
     "execution_count": 25,
     "metadata": {},
     "output_type": "execute_result"
    }
   ],
   "source": [
    "변동계수 = df_ss['var_daily_ratio'].std() / df_ss['var_daily_ratio'].mean()\n",
    "변동계수"
   ]
  },
  {
   "cell_type": "code",
   "execution_count": 26,
   "id": "regulated-hungarian",
   "metadata": {},
   "outputs": [
    {
     "name": "stdout",
     "output_type": "stream",
     "text": [
      "               High       Low      Open     Close    Volume  Adj Close  \\\n",
      "Close      0.992770  0.994379  0.985458  1.000000  0.067317   0.970953   \n",
      "Low        0.993544  1.000000  0.993830  0.994379  0.050855   0.967650   \n",
      "High       1.000000  0.993544  0.993159  0.992770  0.115784   0.959681   \n",
      "Open       0.993159  0.993830  1.000000  0.985458  0.076468   0.954972   \n",
      "dayline_5  0.980424  0.978770  0.978701  0.973042  0.094626   0.938656   \n",
      "\n",
      "           dayline_10  dayline_5     chg_3  var_daily_price  var_daily_ratio  \n",
      "Close        0.940026   0.973042  0.217413         0.125353         0.121939  \n",
      "Low          0.947468   0.978770  0.176550         0.058933         0.055715  \n",
      "High         0.950432   0.980424  0.164408         0.053057         0.050811  \n",
      "Open         0.946777   0.978701  0.149569        -0.000368        -0.002333  \n",
      "dayline_5    0.981051   1.000000 -0.002072        -0.045730        -0.048117  \n"
     ]
    },
    {
     "data": {
      "image/png": "[encoded data removed]",
      "text/plain": [
       "<Figure size 432x288 with 2 Axes>"
      ]
     },
     "metadata": {
      "needs_background": "light"
     },
     "output_type": "display_data"
    }
   ],
   "source": [
    "import seaborn as sns\n",
    "sns.heatmap(df_ss.corr())\n",
    "print(df_ss.corr().sort_values(by='Close', ascending=False)[:5])"
   ]
  },
  {
   "cell_type": "code",
   "execution_count": 27,
   "id": "blessed-trademark",
   "metadata": {},
   "outputs": [
    {
     "data": {
      "text/html": [
       "<div>\n",
       "<style scoped>\n",
       "    .dataframe tbody tr th:only-of-type {\n",
       "        vertical-align: middle;\n",
       "    }\n",
       "\n",
       "    .dataframe tbody tr th {\n",
       "        vertical-align: top;\n",
       "    }\n",
       "\n",
       "    .dataframe thead th {\n",
       "        text-align: right;\n",
       "    }\n",
       "</style>\n",
       "<table border=\"1\" class=\"dataframe\">\n",
       "  <thead>\n",
       "    <tr style=\"text-align: right;\">\n",
       "      <th></th>\n",
       "      <th>High</th>\n",
       "      <th>Low</th>\n",
       "      <th>Open</th>\n",
       "      <th>Close</th>\n",
       "      <th>Volume</th>\n",
       "      <th>Adj Close</th>\n",
       "      <th>dayline_10</th>\n",
       "      <th>dayline_5</th>\n",
       "      <th>chg_3</th>\n",
       "      <th>var_daily_price</th>\n",
       "      <th>var_daily_ratio</th>\n",
       "    </tr>\n",
       "    <tr>\n",
       "      <th>Date</th>\n",
       "      <th></th>\n",
       "      <th></th>\n",
       "      <th></th>\n",
       "      <th></th>\n",
       "      <th></th>\n",
       "      <th></th>\n",
       "      <th></th>\n",
       "      <th></th>\n",
       "      <th></th>\n",
       "      <th></th>\n",
       "      <th></th>\n",
       "    </tr>\n",
       "  </thead>\n",
       "  <tbody>\n",
       "    <tr>\n",
       "      <th>2018-01-03</th>\n",
       "      <td>52560.0</td>\n",
       "      <td>51420.0</td>\n",
       "      <td>52540.0</td>\n",
       "      <td>51620.0</td>\n",
       "      <td>10013500.0</td>\n",
       "      <td>46235.468750</td>\n",
       "      <td>NaN</td>\n",
       "      <td>NaN</td>\n",
       "      <td>NaN</td>\n",
       "      <td>NaN</td>\n",
       "      <td>NaN</td>\n",
       "    </tr>\n",
       "    <tr>\n",
       "      <th>2018-01-04</th>\n",
       "      <td>52180.0</td>\n",
       "      <td>50640.0</td>\n",
       "      <td>52120.0</td>\n",
       "      <td>51080.0</td>\n",
       "      <td>11695450.0</td>\n",
       "      <td>45751.796875</td>\n",
       "      <td>NaN</td>\n",
       "      <td>NaN</td>\n",
       "      <td>NaN</td>\n",
       "      <td>-540.0</td>\n",
       "      <td>-1.046106</td>\n",
       "    </tr>\n",
       "    <tr>\n",
       "      <th>2018-01-05</th>\n",
       "      <td>52120.0</td>\n",
       "      <td>51200.0</td>\n",
       "      <td>51300.0</td>\n",
       "      <td>52120.0</td>\n",
       "      <td>9481150.0</td>\n",
       "      <td>46683.312500</td>\n",
       "      <td>NaN</td>\n",
       "      <td>NaN</td>\n",
       "      <td>NaN</td>\n",
       "      <td>1040.0</td>\n",
       "      <td>2.036022</td>\n",
       "    </tr>\n",
       "    <tr>\n",
       "      <th>2018-01-08</th>\n",
       "      <td>52520.0</td>\n",
       "      <td>51500.0</td>\n",
       "      <td>52400.0</td>\n",
       "      <td>52020.0</td>\n",
       "      <td>8383650.0</td>\n",
       "      <td>46593.753906</td>\n",
       "      <td>NaN</td>\n",
       "      <td>NaN</td>\n",
       "      <td>0.774893</td>\n",
       "      <td>-100.0</td>\n",
       "      <td>-0.191865</td>\n",
       "    </tr>\n",
       "    <tr>\n",
       "      <th>2018-01-09</th>\n",
       "      <td>51720.0</td>\n",
       "      <td>49980.0</td>\n",
       "      <td>51460.0</td>\n",
       "      <td>50400.0</td>\n",
       "      <td>18013600.0</td>\n",
       "      <td>45142.734375</td>\n",
       "      <td>NaN</td>\n",
       "      <td>51448.0</td>\n",
       "      <td>-1.331245</td>\n",
       "      <td>-1620.0</td>\n",
       "      <td>-3.114187</td>\n",
       "    </tr>\n",
       "  </tbody>\n",
       "</table>\n",
       "</div>"
      ],
      "text/plain": [
       "               High      Low     Open    Close      Volume     Adj Close  \\\n",
       "Date                                                                       \n",
       "2018-01-03  52560.0  51420.0  52540.0  51620.0  10013500.0  46235.468750   \n",
       "2018-01-04  52180.0  50640.0  52120.0  51080.0  11695450.0  45751.796875   \n",
       "2018-01-05  52120.0  51200.0  51300.0  52120.0   9481150.0  46683.312500   \n",
       "2018-01-08  52520.0  51500.0  52400.0  52020.0   8383650.0  46593.753906   \n",
       "2018-01-09  51720.0  49980.0  51460.0  50400.0  18013600.0  45142.734375   \n",
       "\n",
       "            dayline_10  dayline_5     chg_3  var_daily_price  var_daily_ratio  \n",
       "Date                                                                           \n",
       "2018-01-03         NaN        NaN       NaN              NaN              NaN  \n",
       "2018-01-04         NaN        NaN       NaN           -540.0        -1.046106  \n",
       "2018-01-05         NaN        NaN       NaN           1040.0         2.036022  \n",
       "2018-01-08         NaN        NaN  0.774893           -100.0        -0.191865  \n",
       "2018-01-09         NaN    51448.0 -1.331245          -1620.0        -3.114187  "
      ]
     },
     "execution_count": 27,
     "metadata": {},
     "output_type": "execute_result"
    }
   ],
   "source": [
    "df_ss.head()"
   ]
  },
  {
   "cell_type": "markdown",
   "id": "honest-hypothetical",
   "metadata": {},
   "source": [
    "## NN 모델 예측"
   ]
  },
  {
   "cell_type": "markdown",
   "id": "anonymous-sussex",
   "metadata": {},
   "source": [
    "* 계산은 수익률은 예측모델하라고 계산한게 아니라 투자전략 세우라고 있는것이다\n",
    "* 추가 지표가 별도로 없어서 지표라 생각하고 NN 학습 시도"
   ]
  },
  {
   "cell_type": "code",
   "execution_count": 28,
   "id": "numeric-saturday",
   "metadata": {},
   "outputs": [],
   "source": [
    "# df_ss = df_ss.fillna(0)\n",
    "df_ss.dropna(axis=0, inplace=True)"
   ]
  },
  {
   "cell_type": "code",
   "execution_count": 29,
   "id": "vulnerable-commerce",
   "metadata": {},
   "outputs": [
    {
     "data": {
      "text/html": [
       "<div>\n",
       "<style scoped>\n",
       "    .dataframe tbody tr th:only-of-type {\n",
       "        vertical-align: middle;\n",
       "    }\n",
       "\n",
       "    .dataframe tbody tr th {\n",
       "        vertical-align: top;\n",
       "    }\n",
       "\n",
       "    .dataframe thead th {\n",
       "        text-align: right;\n",
       "    }\n",
       "</style>\n",
       "<table border=\"1\" class=\"dataframe\">\n",
       "  <thead>\n",
       "    <tr style=\"text-align: right;\">\n",
       "      <th></th>\n",
       "      <th>High</th>\n",
       "      <th>Low</th>\n",
       "      <th>Open</th>\n",
       "      <th>Close</th>\n",
       "      <th>Volume</th>\n",
       "      <th>Adj Close</th>\n",
       "      <th>dayline_10</th>\n",
       "      <th>dayline_5</th>\n",
       "      <th>chg_3</th>\n",
       "      <th>var_daily_price</th>\n",
       "      <th>var_daily_ratio</th>\n",
       "    </tr>\n",
       "    <tr>\n",
       "      <th>Date</th>\n",
       "      <th></th>\n",
       "      <th></th>\n",
       "      <th></th>\n",
       "      <th></th>\n",
       "      <th></th>\n",
       "      <th></th>\n",
       "      <th></th>\n",
       "      <th></th>\n",
       "      <th></th>\n",
       "      <th></th>\n",
       "      <th></th>\n",
       "    </tr>\n",
       "  </thead>\n",
       "  <tbody>\n",
       "    <tr>\n",
       "      <th>2018-01-16</th>\n",
       "      <td>50140.0</td>\n",
       "      <td>48620.0</td>\n",
       "      <td>48760.0</td>\n",
       "      <td>50000.0</td>\n",
       "      <td>20389650.0</td>\n",
       "      <td>44784.453125</td>\n",
       "      <td>50106.0</td>\n",
       "      <td>48764.0</td>\n",
       "      <td>3.648425</td>\n",
       "      <td>1460.0</td>\n",
       "      <td>3.007829</td>\n",
       "    </tr>\n",
       "    <tr>\n",
       "      <th>2018-01-17</th>\n",
       "      <td>50020.0</td>\n",
       "      <td>49060.0</td>\n",
       "      <td>50020.0</td>\n",
       "      <td>49620.0</td>\n",
       "      <td>11053050.0</td>\n",
       "      <td>44444.089844</td>\n",
       "      <td>49906.0</td>\n",
       "      <td>48920.0</td>\n",
       "      <td>2.946058</td>\n",
       "      <td>-380.0</td>\n",
       "      <td>-0.760000</td>\n",
       "    </tr>\n",
       "    <tr>\n",
       "      <th>2018-01-18</th>\n",
       "      <td>50640.0</td>\n",
       "      <td>49820.0</td>\n",
       "      <td>50020.0</td>\n",
       "      <td>49900.0</td>\n",
       "      <td>14848850.0</td>\n",
       "      <td>44694.882812</td>\n",
       "      <td>49788.0</td>\n",
       "      <td>49252.0</td>\n",
       "      <td>2.801813</td>\n",
       "      <td>280.0</td>\n",
       "      <td>0.564289</td>\n",
       "    </tr>\n",
       "    <tr>\n",
       "      <th>2018-01-19</th>\n",
       "      <td>50380.0</td>\n",
       "      <td>49040.0</td>\n",
       "      <td>50380.0</td>\n",
       "      <td>49320.0</td>\n",
       "      <td>9219950.0</td>\n",
       "      <td>44175.386719</td>\n",
       "      <td>49508.0</td>\n",
       "      <td>49476.0</td>\n",
       "      <td>-1.360000</td>\n",
       "      <td>-580.0</td>\n",
       "      <td>-1.162325</td>\n",
       "    </tr>\n",
       "    <tr>\n",
       "      <th>2018-01-22</th>\n",
       "      <td>48680.0</td>\n",
       "      <td>47960.0</td>\n",
       "      <td>48640.0</td>\n",
       "      <td>48240.0</td>\n",
       "      <td>12520900.0</td>\n",
       "      <td>43208.042969</td>\n",
       "      <td>49130.0</td>\n",
       "      <td>49416.0</td>\n",
       "      <td>-2.781137</td>\n",
       "      <td>-1080.0</td>\n",
       "      <td>-2.189781</td>\n",
       "    </tr>\n",
       "  </tbody>\n",
       "</table>\n",
       "</div>"
      ],
      "text/plain": [
       "               High      Low     Open    Close      Volume     Adj Close  \\\n",
       "Date                                                                       \n",
       "2018-01-16  50140.0  48620.0  48760.0  50000.0  20389650.0  44784.453125   \n",
       "2018-01-17  50020.0  49060.0  50020.0  49620.0  11053050.0  44444.089844   \n",
       "2018-01-18  50640.0  49820.0  50020.0  49900.0  14848850.0  44694.882812   \n",
       "2018-01-19  50380.0  49040.0  50380.0  49320.0   9219950.0  44175.386719   \n",
       "2018-01-22  48680.0  47960.0  48640.0  48240.0  12520900.0  43208.042969   \n",
       "\n",
       "            dayline_10  dayline_5     chg_3  var_daily_price  var_daily_ratio  \n",
       "Date                                                                           \n",
       "2018-01-16     50106.0    48764.0  3.648425           1460.0         3.007829  \n",
       "2018-01-17     49906.0    48920.0  2.946058           -380.0        -0.760000  \n",
       "2018-01-18     49788.0    49252.0  2.801813            280.0         0.564289  \n",
       "2018-01-19     49508.0    49476.0 -1.360000           -580.0        -1.162325  \n",
       "2018-01-22     49130.0    49416.0 -2.781137          -1080.0        -2.189781  "
      ]
     },
     "execution_count": 29,
     "metadata": {},
     "output_type": "execute_result"
    }
   ],
   "source": [
    "df_ss.head()"
   ]
  },
  {
   "cell_type": "code",
   "execution_count": 30,
   "id": "respective-leadership",
   "metadata": {},
   "outputs": [
    {
     "name": "stdout",
     "output_type": "stream",
     "text": [
      "<class 'pandas.core.frame.DataFrame'>\n",
      "DatetimeIndex: 478 entries, 2018-01-16 to 2019-12-30\n",
      "Data columns (total 11 columns):\n",
      " #   Column           Non-Null Count  Dtype  \n",
      "---  ------           --------------  -----  \n",
      " 0   High             478 non-null    float64\n",
      " 1   Low              478 non-null    float64\n",
      " 2   Open             478 non-null    float64\n",
      " 3   Close            478 non-null    float64\n",
      " 4   Volume           478 non-null    float64\n",
      " 5   Adj Close        478 non-null    float64\n",
      " 6   dayline_10       478 non-null    float64\n",
      " 7   dayline_5        478 non-null    float64\n",
      " 8   chg_3            478 non-null    float64\n",
      " 9   var_daily_price  478 non-null    float64\n",
      " 10  var_daily_ratio  478 non-null    float64\n",
      "dtypes: float64(11)\n",
      "memory usage: 44.8 KB\n"
     ]
    }
   ],
   "source": [
    "df_ss.info()"
   ]
  },
  {
   "cell_type": "code",
   "execution_count": 31,
   "id": "valid-leonard",
   "metadata": {},
   "outputs": [],
   "source": [
    "df_ss.drop(['dayline_10','Adj Close'], axis=1, inplace=True)"
   ]
  },
  {
   "cell_type": "code",
   "execution_count": 32,
   "id": "sharing-quarter",
   "metadata": {},
   "outputs": [
    {
     "data": {
      "text/html": [
       "<div>\n",
       "<style scoped>\n",
       "    .dataframe tbody tr th:only-of-type {\n",
       "        vertical-align: middle;\n",
       "    }\n",
       "\n",
       "    .dataframe tbody tr th {\n",
       "        vertical-align: top;\n",
       "    }\n",
       "\n",
       "    .dataframe thead th {\n",
       "        text-align: right;\n",
       "    }\n",
       "</style>\n",
       "<table border=\"1\" class=\"dataframe\">\n",
       "  <thead>\n",
       "    <tr style=\"text-align: right;\">\n",
       "      <th></th>\n",
       "      <th>High</th>\n",
       "      <th>Low</th>\n",
       "      <th>Open</th>\n",
       "      <th>Close</th>\n",
       "      <th>Volume</th>\n",
       "      <th>dayline_5</th>\n",
       "      <th>chg_3</th>\n",
       "      <th>var_daily_price</th>\n",
       "      <th>var_daily_ratio</th>\n",
       "    </tr>\n",
       "    <tr>\n",
       "      <th>Date</th>\n",
       "      <th></th>\n",
       "      <th></th>\n",
       "      <th></th>\n",
       "      <th></th>\n",
       "      <th></th>\n",
       "      <th></th>\n",
       "      <th></th>\n",
       "      <th></th>\n",
       "      <th></th>\n",
       "    </tr>\n",
       "  </thead>\n",
       "  <tbody>\n",
       "    <tr>\n",
       "      <th>2018-01-16</th>\n",
       "      <td>50140.0</td>\n",
       "      <td>48620.0</td>\n",
       "      <td>48760.0</td>\n",
       "      <td>50000.0</td>\n",
       "      <td>20389650.0</td>\n",
       "      <td>48764.0</td>\n",
       "      <td>3.648425</td>\n",
       "      <td>1460.0</td>\n",
       "      <td>3.007829</td>\n",
       "    </tr>\n",
       "    <tr>\n",
       "      <th>2018-01-17</th>\n",
       "      <td>50020.0</td>\n",
       "      <td>49060.0</td>\n",
       "      <td>50020.0</td>\n",
       "      <td>49620.0</td>\n",
       "      <td>11053050.0</td>\n",
       "      <td>48920.0</td>\n",
       "      <td>2.946058</td>\n",
       "      <td>-380.0</td>\n",
       "      <td>-0.760000</td>\n",
       "    </tr>\n",
       "    <tr>\n",
       "      <th>2018-01-18</th>\n",
       "      <td>50640.0</td>\n",
       "      <td>49820.0</td>\n",
       "      <td>50020.0</td>\n",
       "      <td>49900.0</td>\n",
       "      <td>14848850.0</td>\n",
       "      <td>49252.0</td>\n",
       "      <td>2.801813</td>\n",
       "      <td>280.0</td>\n",
       "      <td>0.564289</td>\n",
       "    </tr>\n",
       "    <tr>\n",
       "      <th>2018-01-19</th>\n",
       "      <td>50380.0</td>\n",
       "      <td>49040.0</td>\n",
       "      <td>50380.0</td>\n",
       "      <td>49320.0</td>\n",
       "      <td>9219950.0</td>\n",
       "      <td>49476.0</td>\n",
       "      <td>-1.360000</td>\n",
       "      <td>-580.0</td>\n",
       "      <td>-1.162325</td>\n",
       "    </tr>\n",
       "    <tr>\n",
       "      <th>2018-01-22</th>\n",
       "      <td>48680.0</td>\n",
       "      <td>47960.0</td>\n",
       "      <td>48640.0</td>\n",
       "      <td>48240.0</td>\n",
       "      <td>12520900.0</td>\n",
       "      <td>49416.0</td>\n",
       "      <td>-2.781137</td>\n",
       "      <td>-1080.0</td>\n",
       "      <td>-2.189781</td>\n",
       "    </tr>\n",
       "  </tbody>\n",
       "</table>\n",
       "</div>"
      ],
      "text/plain": [
       "               High      Low     Open    Close      Volume  dayline_5  \\\n",
       "Date                                                                    \n",
       "2018-01-16  50140.0  48620.0  48760.0  50000.0  20389650.0    48764.0   \n",
       "2018-01-17  50020.0  49060.0  50020.0  49620.0  11053050.0    48920.0   \n",
       "2018-01-18  50640.0  49820.0  50020.0  49900.0  14848850.0    49252.0   \n",
       "2018-01-19  50380.0  49040.0  50380.0  49320.0   9219950.0    49476.0   \n",
       "2018-01-22  48680.0  47960.0  48640.0  48240.0  12520900.0    49416.0   \n",
       "\n",
       "               chg_3  var_daily_price  var_daily_ratio  \n",
       "Date                                                    \n",
       "2018-01-16  3.648425           1460.0         3.007829  \n",
       "2018-01-17  2.946058           -380.0        -0.760000  \n",
       "2018-01-18  2.801813            280.0         0.564289  \n",
       "2018-01-19 -1.360000           -580.0        -1.162325  \n",
       "2018-01-22 -2.781137          -1080.0        -2.189781  "
      ]
     },
     "execution_count": 32,
     "metadata": {},
     "output_type": "execute_result"
    }
   ],
   "source": [
    "df_ss.head()"
   ]
  },
  {
   "cell_type": "code",
   "execution_count": 33,
   "id": "nonprofit-boulder",
   "metadata": {},
   "outputs": [
    {
     "name": "stdout",
     "output_type": "stream",
     "text": [
      "(382, 9) (96, 9)\n"
     ]
    }
   ],
   "source": [
    "split_size = int(df_ss.shape[0]*0.8)  #382\n",
    "train = df_ss.iloc[:split_size]  #[:382]\n",
    "test = df_ss.iloc[split_size:]   #[382:]\n",
    "print(train.shape, test.shape)"
   ]
  },
  {
   "cell_type": "code",
   "execution_count": 34,
   "id": "obvious-masters",
   "metadata": {},
   "outputs": [
    {
     "data": {
      "text/plain": [
       "<AxesSubplot:xlabel='Date'>"
      ]
     },
     "execution_count": 34,
     "metadata": {},
     "output_type": "execute_result"
    },
    {
     "data": {
      "image/png": "[encoded data removed]",
      "text/plain": [
       "<Figure size 432x288 with 1 Axes>"
      ]
     },
     "metadata": {
      "needs_background": "light"
     },
     "output_type": "display_data"
    }
   ],
   "source": [
    "train['Close'].plot()\n",
    "test['Close'].plot()"
   ]
  },
  {
   "cell_type": "code",
   "execution_count": 35,
   "id": "classical-oxford",
   "metadata": {},
   "outputs": [
    {
     "data": {
      "text/html": [
       "<div>\n",
       "<style scoped>\n",
       "    .dataframe tbody tr th:only-of-type {\n",
       "        vertical-align: middle;\n",
       "    }\n",
       "\n",
       "    .dataframe tbody tr th {\n",
       "        vertical-align: top;\n",
       "    }\n",
       "\n",
       "    .dataframe thead th {\n",
       "        text-align: right;\n",
       "    }\n",
       "</style>\n",
       "<table border=\"1\" class=\"dataframe\">\n",
       "  <thead>\n",
       "    <tr style=\"text-align: right;\">\n",
       "      <th></th>\n",
       "      <th>High</th>\n",
       "      <th>Low</th>\n",
       "      <th>Open</th>\n",
       "      <th>Close</th>\n",
       "      <th>Volume</th>\n",
       "      <th>dayline_5</th>\n",
       "      <th>chg_3</th>\n",
       "      <th>var_daily_price</th>\n",
       "      <th>var_daily_ratio</th>\n",
       "    </tr>\n",
       "    <tr>\n",
       "      <th>Date</th>\n",
       "      <th></th>\n",
       "      <th></th>\n",
       "      <th></th>\n",
       "      <th></th>\n",
       "      <th></th>\n",
       "      <th></th>\n",
       "      <th></th>\n",
       "      <th></th>\n",
       "      <th></th>\n",
       "    </tr>\n",
       "  </thead>\n",
       "  <tbody>\n",
       "    <tr>\n",
       "      <th>2018-01-16</th>\n",
       "      <td>50140.0</td>\n",
       "      <td>48620.0</td>\n",
       "      <td>48760.0</td>\n",
       "      <td>50000.0</td>\n",
       "      <td>20389650.0</td>\n",
       "      <td>48764.0</td>\n",
       "      <td>3.648425</td>\n",
       "      <td>1460.0</td>\n",
       "      <td>3.007829</td>\n",
       "    </tr>\n",
       "    <tr>\n",
       "      <th>2018-01-17</th>\n",
       "      <td>50020.0</td>\n",
       "      <td>49060.0</td>\n",
       "      <td>50020.0</td>\n",
       "      <td>49620.0</td>\n",
       "      <td>11053050.0</td>\n",
       "      <td>48920.0</td>\n",
       "      <td>2.946058</td>\n",
       "      <td>-380.0</td>\n",
       "      <td>-0.760000</td>\n",
       "    </tr>\n",
       "    <tr>\n",
       "      <th>2018-01-18</th>\n",
       "      <td>50640.0</td>\n",
       "      <td>49820.0</td>\n",
       "      <td>50020.0</td>\n",
       "      <td>49900.0</td>\n",
       "      <td>14848850.0</td>\n",
       "      <td>49252.0</td>\n",
       "      <td>2.801813</td>\n",
       "      <td>280.0</td>\n",
       "      <td>0.564289</td>\n",
       "    </tr>\n",
       "    <tr>\n",
       "      <th>2018-01-19</th>\n",
       "      <td>50380.0</td>\n",
       "      <td>49040.0</td>\n",
       "      <td>50380.0</td>\n",
       "      <td>49320.0</td>\n",
       "      <td>9219950.0</td>\n",
       "      <td>49476.0</td>\n",
       "      <td>-1.360000</td>\n",
       "      <td>-580.0</td>\n",
       "      <td>-1.162325</td>\n",
       "    </tr>\n",
       "    <tr>\n",
       "      <th>2018-01-22</th>\n",
       "      <td>48680.0</td>\n",
       "      <td>47960.0</td>\n",
       "      <td>48640.0</td>\n",
       "      <td>48240.0</td>\n",
       "      <td>12520900.0</td>\n",
       "      <td>49416.0</td>\n",
       "      <td>-2.781137</td>\n",
       "      <td>-1080.0</td>\n",
       "      <td>-2.189781</td>\n",
       "    </tr>\n",
       "  </tbody>\n",
       "</table>\n",
       "</div>"
      ],
      "text/plain": [
       "               High      Low     Open    Close      Volume  dayline_5  \\\n",
       "Date                                                                    \n",
       "2018-01-16  50140.0  48620.0  48760.0  50000.0  20389650.0    48764.0   \n",
       "2018-01-17  50020.0  49060.0  50020.0  49620.0  11053050.0    48920.0   \n",
       "2018-01-18  50640.0  49820.0  50020.0  49900.0  14848850.0    49252.0   \n",
       "2018-01-19  50380.0  49040.0  50380.0  49320.0   9219950.0    49476.0   \n",
       "2018-01-22  48680.0  47960.0  48640.0  48240.0  12520900.0    49416.0   \n",
       "\n",
       "               chg_3  var_daily_price  var_daily_ratio  \n",
       "Date                                                    \n",
       "2018-01-16  3.648425           1460.0         3.007829  \n",
       "2018-01-17  2.946058           -380.0        -0.760000  \n",
       "2018-01-18  2.801813            280.0         0.564289  \n",
       "2018-01-19 -1.360000           -580.0        -1.162325  \n",
       "2018-01-22 -2.781137          -1080.0        -2.189781  "
      ]
     },
     "execution_count": 35,
     "metadata": {},
     "output_type": "execute_result"
    }
   ],
   "source": [
    "df_ss.head()"
   ]
  },
  {
   "cell_type": "code",
   "execution_count": 36,
   "id": "ideal-radio",
   "metadata": {},
   "outputs": [],
   "source": [
    "# y = df_ss['Close']\n",
    "# X = df_ss.drop('Close', axis=1)\n",
    "from sklearn.preprocessing import MinMaxScaler\n",
    "scaler = MinMaxScaler()\n",
    "scaler.fit(train)\n",
    "train_scaler = scaler.transform(train)\n",
    "test_scaler  = scaler.transform(test)"
   ]
  },
  {
   "cell_type": "code",
   "execution_count": 37,
   "id": "composite-liabilities",
   "metadata": {},
   "outputs": [
    {
     "data": {
      "text/plain": [
       "((382, 9), (96, 9))"
      ]
     },
     "execution_count": 37,
     "metadata": {},
     "output_type": "execute_result"
    }
   ],
   "source": [
    "train_scaler.shape, test_scaler.shape"
   ]
  },
  {
   "cell_type": "code",
   "execution_count": 38,
   "id": "casual-sleeve",
   "metadata": {},
   "outputs": [
    {
     "data": {
      "text/plain": [
       "array([[0.75816203, 0.72879257, 0.70998117, 0.80707395, 0.31523253,\n",
       "        0.7234998 , 0.62628384, 0.87142857, 0.81907669],\n",
       "       [0.75090689, 0.75603715, 0.78907721, 0.78263666, 0.17088478,\n",
       "        0.73411348, 0.58232569, 0.43333333, 0.42665466],\n",
       "       [0.78839178, 0.80309598, 0.78907721, 0.80064309, 0.22956944,\n",
       "        0.75670159, 0.57329799, 0.59047619, 0.56458026],\n",
       "       [0.77267231, 0.75479876, 0.81167608, 0.76334405, 0.14254429,\n",
       "        0.77194176, 0.31282765, 0.38571429, 0.38475226],\n",
       "       [0.66989117, 0.6879257 , 0.70244821, 0.69389068, 0.19357836,\n",
       "        0.76785957, 0.22388469, 0.26666667, 0.27774194],\n",
       "       [0.69891173, 0.70897833, 0.7037037 , 0.75305466, 0.20922121,\n",
       "        0.75642945, 0.30513173, 0.74285714, 0.70443825],\n",
       "       [0.73155985, 0.7250774 , 0.71625863, 0.76463023, 0.14765473,\n",
       "        0.7526194 , 0.40048227, 0.56666667, 0.54394412],\n",
       "       [0.77146312, 0.7622291 , 0.7388575 , 0.82379421, 0.17254369,\n",
       "        0.75751803, 0.66001582, 0.74285714, 0.70000996],\n",
       "       [0.79685611, 0.80433437, 0.81920904, 0.85723473, 0.16001688,\n",
       "        0.77738468, 0.60418715, 0.64761905, 0.6135656 ],\n",
       "       [0.83917775, 0.86996904, 0.86315129, 0.88553055, 0.18303281,\n",
       "        0.81793441, 0.63641469, 0.62857143, 0.596054  ]])"
      ]
     },
     "execution_count": 38,
     "metadata": {},
     "output_type": "execute_result"
    }
   ],
   "source": [
    "train_scaler[:10]"
   ]
  },
  {
   "cell_type": "code",
   "execution_count": 39,
   "id": "finnish-projector",
   "metadata": {},
   "outputs": [],
   "source": [
    "train_scale_df = pd.DataFrame(train_scaler)\n",
    "train_scale_df.columns = train.columns\n",
    "test_scale_df = pd.DataFrame(test_scaler)\n",
    "test_scale_df.columns = train.columns\n",
    "\n",
    "y_train = train_scale_df['Close']\n",
    "X_train = train_scale_df.drop('Close', axis=1)\n",
    "\n",
    "y_test = test_scale_df['Close']\n",
    "X_test = test_scale_df.drop('Close', axis=1)"
   ]
  },
  {
   "cell_type": "code",
   "execution_count": 40,
   "id": "mechanical-buyer",
   "metadata": {},
   "outputs": [
    {
     "data": {
      "text/plain": [
       "((382, 8), 382)"
      ]
     },
     "execution_count": 40,
     "metadata": {},
     "output_type": "execute_result"
    }
   ],
   "source": [
    "X_train.shape, len(y_train)"
   ]
  },
  {
   "cell_type": "code",
   "execution_count": 41,
   "id": "civil-influence",
   "metadata": {},
   "outputs": [
    {
     "data": {
      "text/plain": [
       "((96, 8), 96)"
      ]
     },
     "execution_count": 41,
     "metadata": {},
     "output_type": "execute_result"
    }
   ],
   "source": [
    "X_test.shape, len(y_test)"
   ]
  },
  {
   "cell_type": "code",
   "execution_count": null,
   "id": "entire-inclusion",
   "metadata": {},
   "outputs": [],
   "source": []
  },
  {
   "cell_type": "markdown",
   "id": "amino-marina",
   "metadata": {},
   "source": [
    "### feature에 지수 관련 피쳐 넣을 것\n",
    "### 당장은 뭐 없어서 위에서 연습한 수익률.. 이런것들을 사용"
   ]
  },
  {
   "cell_type": "code",
   "execution_count": 42,
   "id": "respected-quantum",
   "metadata": {},
   "outputs": [],
   "source": [
    "def my_dataset_window(xdata, ydata, window_size=5):\n",
    "    window_size = 5\n",
    "    xlist= []\n",
    "    ylist = []\n",
    "    # for i in range(train_scaler.shape[0] - window_size) :  #range(377)\n",
    "    for i in range(window_size, xdata.shape[0]) :   #5,377   \n",
    "        xvar = xdata[i-window_size: i]   #[0:5]  0,1,2,3,4\n",
    "        yvar = ydata[i]    #Close\n",
    "        xlist.append(xvar)\n",
    "        ylist.append(yvar) \n",
    "    xlist = np.array(xlist)\n",
    "    ylist = np.array(ylist)\n",
    "    return xlist, ylist\n",
    "\n",
    "X_train, y_train = my_dataset_window(X_train, y_train)\n",
    "X_test, y_test = my_dataset_window(X_test, y_test)"
   ]
  },
  {
   "cell_type": "code",
   "execution_count": 44,
   "id": "coated-delay",
   "metadata": {},
   "outputs": [
    {
     "name": "stdout",
     "output_type": "stream",
     "text": [
      "(377, 5, 8)\n",
      "(377,)\n"
     ]
    }
   ],
   "source": [
    "print(X_train.shape)    \n",
    "print(y_train.shape)  "
   ]
  },
  {
   "cell_type": "code",
   "execution_count": 51,
   "id": "early-nancy",
   "metadata": {},
   "outputs": [
    {
     "name": "stdout",
     "output_type": "stream",
     "text": [
      "Model: \"sequential_6\"\n",
      "_________________________________________________________________\n",
      "Layer (type)                 Output Shape              Param #   \n",
      "=================================================================\n",
      "lstm_10 (LSTM)               (None, 10)                760       \n",
      "_________________________________________________________________\n",
      "dropout_5 (Dropout)          (None, 10)                0         \n",
      "_________________________________________________________________\n",
      "dense_2 (Dense)              (None, 1)                 11        \n",
      "=================================================================\n",
      "Total params: 771\n",
      "Trainable params: 771\n",
      "Non-trainable params: 0\n",
      "_________________________________________________________________\n"
     ]
    }
   ],
   "source": [
    "from tensorflow.keras import Sequential\n",
    "from tensorflow.keras.layers import Dense, LSTM, Dropout\n",
    "# 모델 생성\n",
    "model = Sequential()\n",
    "model.add(LSTM(10, activation='relu',\n",
    "               input_shape=(X_train.shape[1], X_train.shape[2])))  #(5,8)\n",
    "model.add(Dropout(0.1))\n",
    "model.add(Dense(1))\n",
    "model.summary()\n",
    "model.compile(optimizer='adam', loss='mean_squared_error', metrics=['mse'])\n"
   ]
  },
  {
   "cell_type": "code",
   "execution_count": 62,
   "id": "waiting-karma",
   "metadata": {},
   "outputs": [
    {
     "name": "stdout",
     "output_type": "stream",
     "text": [
      "Model: \"sequential_8\"\n",
      "_________________________________________________________________\n",
      "Layer (type)                 Output Shape              Param #   \n",
      "=================================================================\n",
      "lstm_15 (LSTM)               (None, 5, 50)             11800     \n",
      "_________________________________________________________________\n",
      "dropout_10 (Dropout)         (None, 5, 50)             0         \n",
      "_________________________________________________________________\n",
      "lstm_16 (LSTM)               (None, 5, 60)             26640     \n",
      "_________________________________________________________________\n",
      "dropout_11 (Dropout)         (None, 5, 60)             0         \n",
      "_________________________________________________________________\n",
      "lstm_17 (LSTM)               (None, 5, 80)             45120     \n",
      "_________________________________________________________________\n",
      "dropout_12 (Dropout)         (None, 5, 80)             0         \n",
      "_________________________________________________________________\n",
      "lstm_18 (LSTM)               (None, 120)               96480     \n",
      "_________________________________________________________________\n",
      "dropout_13 (Dropout)         (None, 120)               0         \n",
      "_________________________________________________________________\n",
      "dense_4 (Dense)              (None, 1)                 121       \n",
      "=================================================================\n",
      "Total params: 180,161\n",
      "Trainable params: 180,161\n",
      "Non-trainable params: 0\n",
      "_________________________________________________________________\n"
     ]
    }
   ],
   "source": [
    "model = Sequential()\n",
    "model.add(LSTM(units=50, activation=\"relu\", return_sequences=True, input_shape = (X_train.shape[1], X_train.shape[2])))\n",
    "model.add(Dropout(0.2))\n",
    "\n",
    "model.add(LSTM(units=60, activation=\"relu\", return_sequences=True))\n",
    "model.add(Dropout(0.3))\n",
    "\n",
    "model.add(LSTM(units=80, activation=\"relu\", return_sequences=True))\n",
    "model.add(Dropout(0.4))\n",
    "\n",
    "model.add(LSTM(units=120, activation=\"relu\"))\n",
    "model.add(Dropout(0.5))\n",
    "\n",
    "model.add(Dense(units = 1))\n",
    "\n",
    "model.summary()\n",
    "model.compile(optimizer='adam', loss='mean_squared_error', metrics=['mse'])\n"
   ]
  },
  {
   "cell_type": "code",
   "execution_count": 63,
   "id": "acting-colombia",
   "metadata": {},
   "outputs": [
    {
     "name": "stdout",
     "output_type": "stream",
     "text": [
      "Epoch 1/200\n",
      "22/22 [==============================] - 5s 34ms/step - loss: 0.2021 - mse: 0.2021 - val_loss: 0.0360 - val_mse: 0.0360\n",
      "Epoch 2/200\n",
      "22/22 [==============================] - 0s 11ms/step - loss: 0.0390 - mse: 0.0390 - val_loss: 0.0040 - val_mse: 0.0040\n",
      "Epoch 3/200\n",
      "22/22 [==============================] - 0s 12ms/step - loss: 0.0286 - mse: 0.0286 - val_loss: 0.0053 - val_mse: 0.0053\n",
      "Epoch 4/200\n",
      "22/22 [==============================] - 0s 11ms/step - loss: 0.0231 - mse: 0.0231 - val_loss: 0.0080 - val_mse: 0.0080\n",
      "Epoch 5/200\n",
      "22/22 [==============================] - 0s 12ms/step - loss: 0.0234 - mse: 0.0234 - val_loss: 0.0071 - val_mse: 0.0071\n",
      "Epoch 6/200\n",
      "22/22 [==============================] - 0s 11ms/step - loss: 0.0196 - mse: 0.0196 - val_loss: 0.0116 - val_mse: 0.0116\n",
      "Epoch 7/200\n",
      "22/22 [==============================] - 0s 12ms/step - loss: 0.0187 - mse: 0.0187 - val_loss: 0.0053 - val_mse: 0.0053\n",
      "Epoch 8/200\n",
      "22/22 [==============================] - 0s 12ms/step - loss: 0.0174 - mse: 0.0174 - val_loss: 0.0043 - val_mse: 0.0043\n",
      "Epoch 9/200\n",
      "22/22 [==============================] - 0s 12ms/step - loss: 0.0161 - mse: 0.0161 - val_loss: 0.0058 - val_mse: 0.0058\n",
      "Epoch 10/200\n",
      "22/22 [==============================] - 0s 13ms/step - loss: 0.0160 - mse: 0.0160 - val_loss: 0.0043 - val_mse: 0.0043\n",
      "Epoch 11/200\n",
      "22/22 [==============================] - 0s 13ms/step - loss: 0.0189 - mse: 0.0189 - val_loss: 0.0087 - val_mse: 0.0087\n",
      "Epoch 12/200\n",
      "22/22 [==============================] - 0s 14ms/step - loss: 0.0173 - mse: 0.0173 - val_loss: 0.0042 - val_mse: 0.0042\n"
     ]
    }
   ],
   "source": [
    "from keras.callbacks import EarlyStopping\n",
    "stop = EarlyStopping(monitor='val_loss', patience=10)\n",
    "history = model.fit(X_train, y_train, epochs=200, batch_size=16, validation_split=0.1, callbacks=[stop])"
   ]
  },
  {
   "cell_type": "code",
   "execution_count": 64,
   "id": "spectacular-tender",
   "metadata": {},
   "outputs": [
    {
     "data": {
      "text/plain": [
       "[<matplotlib.lines.Line2D at 0x1a540366c88>]"
      ]
     },
     "execution_count": 64,
     "metadata": {},
     "output_type": "execute_result"
    },
    {
     "data": {
      "image/png": "[encoded data removed]",
      "text/plain": [
       "<Figure size 432x288 with 1 Axes>"
      ]
     },
     "metadata": {
      "needs_background": "light"
     },
     "output_type": "display_data"
    }
   ],
   "source": [
    "plt.plot(history.history['loss'], label='loss')\n",
    "plt.plot(history.history['val_loss'], label= 'val_loss')"
   ]
  },
  {
   "cell_type": "code",
   "execution_count": 65,
   "id": "recovered-powell",
   "metadata": {},
   "outputs": [],
   "source": [
    "pred = model.predict(X_test)"
   ]
  },
  {
   "cell_type": "code",
   "execution_count": 66,
   "id": "therapeutic-draft",
   "metadata": {
    "tags": []
   },
   "outputs": [
    {
     "data": {
      "text/plain": [
       "[<matplotlib.lines.Line2D at 0x1a5362c2908>]"
      ]
     },
     "execution_count": 66,
     "metadata": {},
     "output_type": "execute_result"
    },
    {
     "data": {
      "image/png": "[encoded data removed]",
      "text/plain": [
       "<Figure size 432x288 with 1 Axes>"
      ]
     },
     "metadata": {
      "needs_background": "light"
     },
     "output_type": "display_data"
    }
   ],
   "source": [
    "plt.plot(pred, label='pred')\n",
    "plt.plot(y_test, label= 'y_test')"
   ]
  },
  {
   "cell_type": "code",
   "execution_count": null,
   "id": "present-vampire",
   "metadata": {},
   "outputs": [],
   "source": [
    "# mf_df['2019_수익률'] = ''\n",
    "# for x in mf_df['종목코드'].values : \n",
    "#     df = fdr.DataReader(x, '2019-01-01','2019-12-31') # 개별 종목 가격 데이터 호출\n",
    "#     cum_ret = df.loc[df.index[-1], 'Close'] / df.loc[df.index[0],'Close'] -1  # 2019년도 누적 수익률 계산\n",
    "#     mf_df.loc[mf_df['종목코드'] == x, '2019_수익률' ] = cum_ret  # 누적 수익률 저장\n",
    "#     df = None"
   ]
  },
  {
   "cell_type": "code",
   "execution_count": null,
   "id": "placed-auckland",
   "metadata": {},
   "outputs": [],
   "source": [
    "# mf_df_rtn = pd.DataFrame()\n",
    "# for x in mf_df['종목코드'].values : \n",
    "# #     print(x ,', ' , mf_df.loc[mf_df['종목코드'] == x, '종목명' ].values[0])\n",
    "#     df = fdr.DataReader(x, '2019-01-01','2019-12-31') # 개별 종목 가격 데이터 호출\n",
    "#     df['daily_rtn'] = df['Close'].pct_change(periods=1)\n",
    "#     df['cum_rtn'] = (1+df['daily_rtn']).cumprod()\n",
    "#     cum_ret = df.loc[df.index[-1],'cum_rtn']\n",
    "#     mf_df.loc[mf_df['종목코드'] == x, '2019_수익률' ] = cum_ret  # 누적 수익률 저장\n",
    "#     df = None"
   ]
  },
  {
   "cell_type": "code",
   "execution_count": null,
   "id": "express-ordinary",
   "metadata": {},
   "outputs": [],
   "source": [
    "# for ind,val in enumerate(mf_df['종목코드'].values) : \n",
    "#     # 가독성을 위해 종목명 추출.\n",
    "#     code_name = mf_df.loc[mf_df['종목코드'] == val,'종목명'].values[0]\n",
    "#     print(val, code_name)\n",
    "#     df = fdr.DataReader(val, '2019-01-01','2019-12-31') # 개별 종목 가격 데이터 호출\n",
    "#     if ind == 0 :\n",
    "#         mf_df_rtn = pd.DataFrame(index=df.index) # 첫 번째 종목코드 인덱스 활용한 데이터프레임 생성\n",
    "#     df['daily_rtn'] = df['Close'].pct_change(periods=1) # period 기간 차이만큼 변동율 계산\n",
    "#     df['cum_rtn'] = (1+df['daily_rtn']).cumprod() # 누적 곱 계산\n",
    "#     tmp = df.loc[:,['cum_rtn']].rename(columns={'cum_rtn':code_name}) # 가독성을 위한 컬럼명 변경\n",
    "#     mf_df_rtn = mf_df_rtn.join(tmp,how='left') # 새로 계산된 누적 수익률 추가.\n",
    "#     df = None # 데이터 프레임 초기화"
   ]
  }
 ],
 "metadata": {
  "kernelspec": {
   "display_name": "Python 3 (ipykernel)",
   "language": "python",
   "name": "python3"
  },
  "language_info": {
   "codemirror_mode": {
    "name": "ipython",
    "version": 3
   },
   "file_extension": ".py",
   "mimetype": "text/x-python",
   "name": "python",
   "nbconvert_exporter": "python",
   "pygments_lexer": "ipython3",
   "version": "3.8.8"
  }
 },
 "nbformat": 4,
 "nbformat_minor": 5
}
