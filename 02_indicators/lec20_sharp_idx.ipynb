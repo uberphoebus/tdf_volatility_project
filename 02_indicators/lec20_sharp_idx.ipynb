{
 "cells": [
  {
   "cell_type": "markdown",
   "id": "changed-inside",
   "metadata": {
    "id": "complete-italian"
   },
   "source": [
    "## 효율적 투자선 , 샤프지수\n",
    "* 수익(return), 위험(risk)  관계"
   ]
  },
  {
   "cell_type": "code",
   "execution_count": null,
   "id": "planned-verification",
   "metadata": {
    "id": "friendly-solid"
   },
   "outputs": [],
   "source": [
    "import pandas as pd\n",
    "import numpy as np\n",
    "import pandas_datareader as pdr\n",
    "import FinanceDataReader as fdr\n",
    "import seaborn as sns\n",
    "from matplotlib import dates as mdates\n",
    "import matplotlib.pyplot as plt\n",
    "%matplotlib inline\n",
    "\n",
    "from pykrx import stock\n",
    "from xml.etree import ElementTree\n",
    "\n",
    "import warnings\n",
    "warnings.filterwarnings(action='ignore')"
   ]
  },
  {
   "cell_type": "code",
   "execution_count": null,
   "id": "technological-glucose",
   "metadata": {
    "id": "further-determination",
    "outputId": "7fbc4947-939e-4846-d2a1-f5465d14c347"
   },
   "outputs": [
    {
     "data": {
      "image/png": "[encoded data removed]",
      "text/plain": [
       "<Figure size 432x288 with 1 Axes>"
      ]
     },
     "metadata": {
      "needs_background": "light",
      "tags": []
     },
     "output_type": "display_data"
    }
   ],
   "source": [
    "import matplotlib.pyplot as plt\n",
    "plt.rcParams['font.family'] = 'Malgun Gothic'\n",
    "plt.title('한글제목')\n",
    "plt.show()"
   ]
  },
  {
   "cell_type": "code",
   "execution_count": null,
   "id": "lovely-undergraduate",
   "metadata": {
    "id": "demanding-triangle"
   },
   "outputs": [],
   "source": [
    "def myplot(df, nrows=5,  kind='line', title='제목', labels=False):  \n",
    "    if nrows > 0:\n",
    "        print(df.head(nrows))\n",
    "    else:\n",
    "        print(df.tail(nrows))\n",
    "    \n",
    "    if labels:\n",
    "        cols = df.columns\n",
    "        for i, col in enumerate(cols):\n",
    "            df[col].plot(label=labels[i], kind=kind)\n",
    "    else :\n",
    "        df.plot(kind=kind)\n",
    "    \n",
    "    plt.title(title)\n",
    "    plt.legend()\n",
    "    plt.show()"
   ]
  },
  {
   "cell_type": "code",
   "execution_count": null,
   "id": "facial-delhi",
   "metadata": {
    "id": "based-governor",
    "tags": []
   },
   "outputs": [],
   "source": [
    "def myplotmix(df1, df2, y1='ylabel-1', y2='ylabel-2', kind1='bar', kind2='line', title='제목',  nrows1=5, nrows2=5,  labels=False):  \n",
    "    ytl=['b', 'g', 'r', 'c', 'm', 'y', 'k', 'w']\n",
    "\n",
    "    if nrows1 > 0:\n",
    "        print(df1.head(nrows1))\n",
    "    elif nrows1 < 0:\n",
    "        print(df1.tail(nrows1))\n",
    "    if nrows2 > 0:\n",
    "        print(df2.head(nrows2))\n",
    "    else:\n",
    "        print(df2.tail(nrows2))\n",
    "    fig, ax1 = plt.subplots(figsize=(8, 4))\n",
    "    ax2=ax1.twinx()\n",
    "    if kind1 == 'line':\n",
    "        df1.plot(kind=kind1, ax=ax2, marker='d',color='#e35f62')  #color='y', \n",
    "        df2.plot(kind=kind2, ax=ax1)  #bar\n",
    "    else:\n",
    "        df1.plot(kind=kind1, ax=ax1,color='#bcbd22')\n",
    "        df2.plot(kind=kind2, ax=ax2) #color='y',\n",
    "        \n",
    "    # df['date'] = df['date'].dt.strftime('%Y-%m-%d')\n",
    "    # ax1.set_xticklabels(df['date'])    \n",
    "    ax1.yaxis.tick_right()\n",
    "    ax2.yaxis.tick_left()\n",
    "    ax1.set_ylabel(y1) #, color='red')\n",
    "    ax2.set_ylabel(y2) #, color='red')\n",
    "    ax1.legend(loc=1)\n",
    "    ax2.legend(loc=2)\n",
    "    plt.title(title)\n",
    "    ax1.grid(False)\n",
    "    ax2.grid(False)\n",
    "    plt.show()"
   ]
  },
  {
   "cell_type": "code",
   "execution_count": null,
   "id": "intimate-things",
   "metadata": {
    "id": "tropical-source"
   },
   "outputs": [],
   "source": [
    "# def codefind(name):\n",
    "#     krx = fdr.StockListing('KRX')\n",
    "#     search = list(krx['Name'])\n",
    "#     for i in range(len(krx)):\n",
    "#         if (search[i]==name):\n",
    "#             print(krx['Symbol'][i])\n",
    "#             return\n",
    "# codefind('카카오')        "
   ]
  },
  {
   "cell_type": "code",
   "execution_count": null,
   "id": "light-contributor",
   "metadata": {
    "id": "trying-cleanup"
   },
   "outputs": [],
   "source": [
    "def my_ticker(names):    \n",
    "    df_code = pd.read_html('http://kind.krx.co.kr/corpgeneral/corpList.do?method=download', header=0)[0]\n",
    "    df_code.종목코드 = df_code.종목코드.map('{:06d}'.format)\n",
    "\n",
    "    df_code = df_code[['회사명', '종목코드']]\n",
    "    code_list = []\n",
    "    for name in names:\n",
    "        code = df_code.query(\"회사명=='{}'\".format(name))['종목코드'].to_string(index=False)\n",
    "        code_list.append(code)\n",
    "    return code_list\n",
    "\n",
    "# stocks = my_ticker(['삼성전자', 'SK하이닉스', '현대자동차', 'NAVER'])\n",
    "# print(stocks)"
   ]
  },
  {
   "cell_type": "code",
   "execution_count": null,
   "id": "treated-probability",
   "metadata": {
    "id": "conscious-cambodia",
    "outputId": "7444afa3-79f2-408f-bc65-a7a827073e98"
   },
   "outputs": [
    {
     "name": "stdout",
     "output_type": "stream",
     "text": [
      "success:1, failed:0\n"
     ]
    },
    {
     "data": {
      "text/html": [
       "<div>\n",
       "<style scoped>\n",
       "    .dataframe tbody tr th:only-of-type {\n",
       "        vertical-align: middle;\n",
       "    }\n",
       "\n",
       "    .dataframe tbody tr th {\n",
       "        vertical-align: top;\n",
       "    }\n",
       "\n",
       "    .dataframe thead th {\n",
       "        text-align: right;\n",
       "    }\n",
       "</style>\n",
       "<table border=\"1\" class=\"dataframe\">\n",
       "  <thead>\n",
       "    <tr style=\"text-align: right;\">\n",
       "      <th></th>\n",
       "      <th>date</th>\n",
       "      <th>code</th>\n",
       "      <th>open</th>\n",
       "      <th>high</th>\n",
       "      <th>low</th>\n",
       "      <th>close</th>\n",
       "      <th>volume</th>\n",
       "    </tr>\n",
       "  </thead>\n",
       "  <tbody>\n",
       "    <tr>\n",
       "      <th>0</th>\n",
       "      <td>2018-01-02</td>\n",
       "      <td>005930</td>\n",
       "      <td>51380</td>\n",
       "      <td>51400</td>\n",
       "      <td>50780</td>\n",
       "      <td>51020</td>\n",
       "      <td>169485</td>\n",
       "    </tr>\n",
       "    <tr>\n",
       "      <th>1</th>\n",
       "      <td>2018-01-03</td>\n",
       "      <td>005930</td>\n",
       "      <td>52540</td>\n",
       "      <td>52560</td>\n",
       "      <td>51420</td>\n",
       "      <td>51620</td>\n",
       "      <td>200270</td>\n",
       "    </tr>\n",
       "    <tr>\n",
       "      <th>2</th>\n",
       "      <td>2018-01-04</td>\n",
       "      <td>005930</td>\n",
       "      <td>52120</td>\n",
       "      <td>52180</td>\n",
       "      <td>50640</td>\n",
       "      <td>51080</td>\n",
       "      <td>233909</td>\n",
       "    </tr>\n",
       "    <tr>\n",
       "      <th>3</th>\n",
       "      <td>2018-01-05</td>\n",
       "      <td>005930</td>\n",
       "      <td>51300</td>\n",
       "      <td>52120</td>\n",
       "      <td>51200</td>\n",
       "      <td>52120</td>\n",
       "      <td>189623</td>\n",
       "    </tr>\n",
       "    <tr>\n",
       "      <th>4</th>\n",
       "      <td>2018-01-08</td>\n",
       "      <td>005930</td>\n",
       "      <td>52400</td>\n",
       "      <td>52520</td>\n",
       "      <td>51500</td>\n",
       "      <td>52020</td>\n",
       "      <td>167673</td>\n",
       "    </tr>\n",
       "    <tr>\n",
       "      <th>...</th>\n",
       "      <td>...</td>\n",
       "      <td>...</td>\n",
       "      <td>...</td>\n",
       "      <td>...</td>\n",
       "      <td>...</td>\n",
       "      <td>...</td>\n",
       "      <td>...</td>\n",
       "    </tr>\n",
       "    <tr>\n",
       "      <th>485</th>\n",
       "      <td>2019-12-23</td>\n",
       "      <td>005930</td>\n",
       "      <td>56100</td>\n",
       "      <td>56400</td>\n",
       "      <td>55100</td>\n",
       "      <td>55500</td>\n",
       "      <td>9839252</td>\n",
       "    </tr>\n",
       "    <tr>\n",
       "      <th>486</th>\n",
       "      <td>2019-12-24</td>\n",
       "      <td>005930</td>\n",
       "      <td>55600</td>\n",
       "      <td>55700</td>\n",
       "      <td>54800</td>\n",
       "      <td>55000</td>\n",
       "      <td>11868463</td>\n",
       "    </tr>\n",
       "    <tr>\n",
       "      <th>487</th>\n",
       "      <td>2019-12-26</td>\n",
       "      <td>005930</td>\n",
       "      <td>54700</td>\n",
       "      <td>55400</td>\n",
       "      <td>54400</td>\n",
       "      <td>55400</td>\n",
       "      <td>9645034</td>\n",
       "    </tr>\n",
       "    <tr>\n",
       "      <th>488</th>\n",
       "      <td>2019-12-27</td>\n",
       "      <td>005930</td>\n",
       "      <td>55700</td>\n",
       "      <td>56900</td>\n",
       "      <td>55500</td>\n",
       "      <td>56500</td>\n",
       "      <td>12313056</td>\n",
       "    </tr>\n",
       "    <tr>\n",
       "      <th>489</th>\n",
       "      <td>2019-12-30</td>\n",
       "      <td>005930</td>\n",
       "      <td>56200</td>\n",
       "      <td>56600</td>\n",
       "      <td>55700</td>\n",
       "      <td>55800</td>\n",
       "      <td>8356767</td>\n",
       "    </tr>\n",
       "  </tbody>\n",
       "</table>\n",
       "<p>490 rows × 7 columns</p>\n",
       "</div>"
      ],
      "text/plain": [
       "          date    code   open   high    low  close    volume\n",
       "0   2018-01-02  005930  51380  51400  50780  51020    169485\n",
       "1   2018-01-03  005930  52540  52560  51420  51620    200270\n",
       "2   2018-01-04  005930  52120  52180  50640  51080    233909\n",
       "3   2018-01-05  005930  51300  52120  51200  52120    189623\n",
       "4   2018-01-08  005930  52400  52520  51500  52020    167673\n",
       "..         ...     ...    ...    ...    ...    ...       ...\n",
       "485 2019-12-23  005930  56100  56400  55100  55500   9839252\n",
       "486 2019-12-24  005930  55600  55700  54800  55000  11868463\n",
       "487 2019-12-26  005930  54700  55400  54400  55400   9645034\n",
       "488 2019-12-27  005930  55700  56900  55500  56500  12313056\n",
       "489 2019-12-30  005930  56200  56600  55700  55800   8356767\n",
       "\n",
       "[490 rows x 7 columns]"
      ]
     },
     "execution_count": 26,
     "metadata": {
      "tags": []
     },
     "output_type": "execute_result"
    }
   ],
   "source": [
    "# def logger(func):\n",
    "#     @wraps(func)\n",
    "#     def wrapper(*args, **kwargs):\n",
    "#         start = time.perf_counter()\n",
    "#         success, failed = func(*args, **kwargs)\n",
    "#         end = time.perf_counter() - start\n",
    "#         func_start, func_end = args[0], args[1]\n",
    "#         print(#f'#date: {func_start} ~ {func_end}, \\n',\n",
    "#               f'#success: {success} item(s), \\n',\n",
    "#               f'#failed: {failed} item(s), \\n',\n",
    "#              )\n",
    "#     return wrapper\n",
    "# @logger\n",
    "def my_krx(start, end, *codes):\n",
    "    error_list = []\n",
    "    failed = 0\n",
    "    success = 0\n",
    "    df = pd.DataFrame()\n",
    "    for code in codes:\n",
    "        try: \n",
    "            df = stock.get_market_ohlcv_by_date(start, end, code)\n",
    "            df.reset_index(inplace=True)\n",
    "            df.insert(loc=1, column='종목코드', value=code)\n",
    "            df.columns = ['date', 'code', 'open', 'high', 'low', 'close','volume']\n",
    "            success += 1\n",
    "        except ElementTree.ParseError as e:\n",
    "            error_list.append(e)\n",
    "            drop_rows(database, table, code)  # 특정 종목코드에서 에러 발생 시 해당 종목코드에 대한 데이터 삭제 후 다음 종목코드로 넘어감\n",
    "            failed += 1\n",
    "            continue\n",
    "        except Exception as e:\n",
    "            print('Error occurred : ', e)\n",
    "            failed += 1\n",
    "            continue\n",
    "    print(f'success:{success}, failed:{failed}')\n",
    "    return df\n",
    "my_krx('20180101', '20191231', '005930')"
   ]
  },
  {
   "cell_type": "code",
   "execution_count": null,
   "id": "perfect-enzyme",
   "metadata": {
    "id": "fitted-swimming"
   },
   "outputs": [],
   "source": [
    "# yahoo finance\n",
    "# df_ss = pdr.get_data_yahoo('005930.KS', '2018-01-01', '2019-12-31')"
   ]
  },
  {
   "cell_type": "code",
   "execution_count": null,
   "id": "secondary-diesel",
   "metadata": {
    "id": "personal-thriller",
    "outputId": "37dba6f6-531e-4f30-aba7-52d0fd8a4ec9"
   },
   "outputs": [
    {
     "name": "stdout",
     "output_type": "stream",
     "text": [
      "['005930', '000660', '005380', '035420']\n",
      "success:1, failed:0\n",
      "success:1, failed:0\n",
      "success:1, failed:0\n",
      "success:1, failed:0\n"
     ]
    },
    {
     "data": {
      "text/html": [
       "<div>\n",
       "<style scoped>\n",
       "    .dataframe tbody tr th:only-of-type {\n",
       "        vertical-align: middle;\n",
       "    }\n",
       "\n",
       "    .dataframe tbody tr th {\n",
       "        vertical-align: top;\n",
       "    }\n",
       "\n",
       "    .dataframe thead th {\n",
       "        text-align: right;\n",
       "    }\n",
       "</style>\n",
       "<table border=\"1\" class=\"dataframe\">\n",
       "  <thead>\n",
       "    <tr style=\"text-align: right;\">\n",
       "      <th></th>\n",
       "      <th>삼성전자</th>\n",
       "      <th>SK하이닉스</th>\n",
       "      <th>현대자동차</th>\n",
       "      <th>NAVER</th>\n",
       "    </tr>\n",
       "  </thead>\n",
       "  <tbody>\n",
       "    <tr>\n",
       "      <th>0</th>\n",
       "      <td>51020</td>\n",
       "      <td>76600</td>\n",
       "      <td>149500</td>\n",
       "      <td>177251</td>\n",
       "    </tr>\n",
       "    <tr>\n",
       "      <th>1</th>\n",
       "      <td>51620</td>\n",
       "      <td>77700</td>\n",
       "      <td>150500</td>\n",
       "      <td>174447</td>\n",
       "    </tr>\n",
       "    <tr>\n",
       "      <th>2</th>\n",
       "      <td>51080</td>\n",
       "      <td>77100</td>\n",
       "      <td>146500</td>\n",
       "      <td>178853</td>\n",
       "    </tr>\n",
       "    <tr>\n",
       "      <th>3</th>\n",
       "      <td>52120</td>\n",
       "      <td>79300</td>\n",
       "      <td>149000</td>\n",
       "      <td>181857</td>\n",
       "    </tr>\n",
       "    <tr>\n",
       "      <th>4</th>\n",
       "      <td>52020</td>\n",
       "      <td>78200</td>\n",
       "      <td>151000</td>\n",
       "      <td>190269</td>\n",
       "    </tr>\n",
       "  </tbody>\n",
       "</table>\n",
       "</div>"
      ],
      "text/plain": [
       "    삼성전자  SK하이닉스   현대자동차   NAVER\n",
       "0  51020   76600  149500  177251\n",
       "1  51620   77700  150500  174447\n",
       "2  51080   77100  146500  178853\n",
       "3  52120   79300  149000  181857\n",
       "4  52020   78200  151000  190269"
      ]
     },
     "execution_count": 30,
     "metadata": {
      "tags": []
     },
     "output_type": "execute_result"
    }
   ],
   "source": [
    "stocks = ['삼성전자', 'SK하이닉스', '현대자동차', 'NAVER']\n",
    "stocks_code = my_ticker(stocks)\n",
    "print(stocks_code)  #['005930', '000660', '005380', '035420']\n",
    "\n",
    "df = pd.DataFrame()\n",
    "for i, sname in enumerate(stocks):\n",
    "#     print(sname, stocks_code[i])    \n",
    "    df[sname] = my_krx('20180101', '20191231', stocks_code[i])['close']\n",
    "df.head()"
   ]
  },
  {
   "cell_type": "code",
   "execution_count": null,
   "id": "convenient-fault",
   "metadata": {
    "id": "presidential-valve"
   },
   "outputs": [],
   "source": []
  },
  {
   "cell_type": "code",
   "execution_count": null,
   "id": "constitutional-irish",
   "metadata": {
    "id": "coupled-score"
   },
   "outputs": [],
   "source": []
  },
  {
   "cell_type": "code",
   "execution_count": null,
   "id": "atomic-hours",
   "metadata": {
    "id": "flexible-floating"
   },
   "outputs": [],
   "source": []
  },
  {
   "cell_type": "code",
   "execution_count": null,
   "id": "close-afghanistan",
   "metadata": {
    "id": "surrounded-tension"
   },
   "outputs": [],
   "source": []
  }
 ],
 "metadata": {
  "colab": {
   "name": "lec20_sharp_idx.ipynb",
   "provenance": []
  },
  "kernelspec": {
   "display_name": "Python 3 (ipykernel)",
   "language": "python",
   "name": "python3"
  },
  "language_info": {
   "codemirror_mode": {
    "name": "ipython",
    "version": 3
   },
   "file_extension": ".py",
   "mimetype": "text/x-python",
   "name": "python",
   "nbconvert_exporter": "python",
   "pygments_lexer": "ipython3",
   "version": "3.8.8"
  }
 },
 "nbformat": 4,
 "nbformat_minor": 5
}
