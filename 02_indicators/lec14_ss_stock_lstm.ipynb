{
 "cells": [
  {
   "cell_type": "code",
   "execution_count": 53,
   "id": "interstate-discrimination",
   "metadata": {},
   "outputs": [],
   "source": [
    "# pip install yfinance\n",
    "# pip install pandas-datareader\n",
    "# pip install pykrx"
   ]
  },
  {
   "cell_type": "code",
   "execution_count": 54,
   "id": "searching-collapse",
   "metadata": {},
   "outputs": [],
   "source": [
    "import pandas as pd\n",
    "import numpy as np\n",
    "\n",
    "# from pandas_datareader import data as pdr\n",
    "# import yfinance as yf\n",
    "import matplotlib.pyplot as plt\n",
    "from pykrx import stock\n"
   ]
  },
  {
   "cell_type": "code",
   "execution_count": 55,
   "id": "appropriate-basic",
   "metadata": {},
   "outputs": [],
   "source": [
    "# !pip install pykrx"
   ]
  },
  {
   "cell_type": "markdown",
   "id": "induced-information",
   "metadata": {},
   "source": [
    "# pykrx API"
   ]
  },
  {
   "cell_type": "code",
   "execution_count": 56,
   "id": "intermediate-artist",
   "metadata": {},
   "outputs": [],
   "source": [
    "df_ss = stock.get_market_ohlcv_by_date('20190101','20210101', '005930')\n",
    "df_lg = stock.get_market_ohlcv_by_date('20190101','20210101', '066570')"
   ]
  },
  {
   "cell_type": "code",
   "execution_count": null,
   "id": "personalized-equilibrium",
   "metadata": {},
   "outputs": [],
   "source": []
  },
  {
   "cell_type": "code",
   "execution_count": 57,
   "id": "improved-pendant",
   "metadata": {},
   "outputs": [
    {
     "data": {
      "text/html": [
       "<div>\n",
       "<style scoped>\n",
       "    .dataframe tbody tr th:only-of-type {\n",
       "        vertical-align: middle;\n",
       "    }\n",
       "\n",
       "    .dataframe tbody tr th {\n",
       "        vertical-align: top;\n",
       "    }\n",
       "\n",
       "    .dataframe thead th {\n",
       "        text-align: right;\n",
       "    }\n",
       "</style>\n",
       "<table border=\"1\" class=\"dataframe\">\n",
       "  <thead>\n",
       "    <tr style=\"text-align: right;\">\n",
       "      <th></th>\n",
       "      <th>시가</th>\n",
       "      <th>고가</th>\n",
       "      <th>저가</th>\n",
       "      <th>종가</th>\n",
       "      <th>거래량</th>\n",
       "    </tr>\n",
       "    <tr>\n",
       "      <th>날짜</th>\n",
       "      <th></th>\n",
       "      <th></th>\n",
       "      <th></th>\n",
       "      <th></th>\n",
       "      <th></th>\n",
       "    </tr>\n",
       "  </thead>\n",
       "  <tbody>\n",
       "    <tr>\n",
       "      <th>2019-01-02</th>\n",
       "      <td>39400</td>\n",
       "      <td>39400</td>\n",
       "      <td>38550</td>\n",
       "      <td>38750</td>\n",
       "      <td>7847664</td>\n",
       "    </tr>\n",
       "    <tr>\n",
       "      <th>2019-01-03</th>\n",
       "      <td>38300</td>\n",
       "      <td>38550</td>\n",
       "      <td>37450</td>\n",
       "      <td>37600</td>\n",
       "      <td>12471493</td>\n",
       "    </tr>\n",
       "    <tr>\n",
       "      <th>2019-01-04</th>\n",
       "      <td>37450</td>\n",
       "      <td>37600</td>\n",
       "      <td>36850</td>\n",
       "      <td>37450</td>\n",
       "      <td>14108958</td>\n",
       "    </tr>\n",
       "    <tr>\n",
       "      <th>2019-01-07</th>\n",
       "      <td>38000</td>\n",
       "      <td>38900</td>\n",
       "      <td>37800</td>\n",
       "      <td>38750</td>\n",
       "      <td>12748997</td>\n",
       "    </tr>\n",
       "    <tr>\n",
       "      <th>2019-01-08</th>\n",
       "      <td>38000</td>\n",
       "      <td>39200</td>\n",
       "      <td>37950</td>\n",
       "      <td>38100</td>\n",
       "      <td>12756554</td>\n",
       "    </tr>\n",
       "  </tbody>\n",
       "</table>\n",
       "</div>"
      ],
      "text/plain": [
       "               시가     고가     저가     종가       거래량\n",
       "날짜                                              \n",
       "2019-01-02  39400  39400  38550  38750   7847664\n",
       "2019-01-03  38300  38550  37450  37600  12471493\n",
       "2019-01-04  37450  37600  36850  37450  14108958\n",
       "2019-01-07  38000  38900  37800  38750  12748997\n",
       "2019-01-08  38000  39200  37950  38100  12756554"
      ]
     },
     "execution_count": 57,
     "metadata": {},
     "output_type": "execute_result"
    }
   ],
   "source": [
    "df_ss.head()"
   ]
  },
  {
   "cell_type": "code",
   "execution_count": 58,
   "id": "standard-shopping",
   "metadata": {},
   "outputs": [],
   "source": [
    "df_ss['전일종가'] = df_ss['종가'].shift(1)\n",
    "df_ss['일별등락률'] =  ((df_ss['종가'] - df_ss['전일종가'] )/ df_ss['전일종가']) * 100"
   ]
  },
  {
   "cell_type": "code",
   "execution_count": 59,
   "id": "urban-bread",
   "metadata": {},
   "outputs": [],
   "source": [
    "df_lg['전일종가'] = df_lg['종가'].shift(1)\n",
    "df_lg['일별등락률'] =  ((df_lg['종가'] - df_lg['전일종가'] )/ df_lg['전일종가']) * 100"
   ]
  },
  {
   "cell_type": "code",
   "execution_count": 60,
   "id": "distinct-republican",
   "metadata": {},
   "outputs": [
    {
     "data": {
      "text/html": [
       "<div>\n",
       "<style scoped>\n",
       "    .dataframe tbody tr th:only-of-type {\n",
       "        vertical-align: middle;\n",
       "    }\n",
       "\n",
       "    .dataframe tbody tr th {\n",
       "        vertical-align: top;\n",
       "    }\n",
       "\n",
       "    .dataframe thead th {\n",
       "        text-align: right;\n",
       "    }\n",
       "</style>\n",
       "<table border=\"1\" class=\"dataframe\">\n",
       "  <thead>\n",
       "    <tr style=\"text-align: right;\">\n",
       "      <th></th>\n",
       "      <th>시가</th>\n",
       "      <th>고가</th>\n",
       "      <th>저가</th>\n",
       "      <th>종가</th>\n",
       "      <th>거래량</th>\n",
       "      <th>전일종가</th>\n",
       "      <th>일별등락률</th>\n",
       "    </tr>\n",
       "    <tr>\n",
       "      <th>날짜</th>\n",
       "      <th></th>\n",
       "      <th></th>\n",
       "      <th></th>\n",
       "      <th></th>\n",
       "      <th></th>\n",
       "      <th></th>\n",
       "      <th></th>\n",
       "    </tr>\n",
       "  </thead>\n",
       "  <tbody>\n",
       "    <tr>\n",
       "      <th>2019-01-02</th>\n",
       "      <td>39400</td>\n",
       "      <td>39400</td>\n",
       "      <td>38550</td>\n",
       "      <td>38750</td>\n",
       "      <td>7847664</td>\n",
       "      <td>NaN</td>\n",
       "      <td>NaN</td>\n",
       "    </tr>\n",
       "    <tr>\n",
       "      <th>2019-01-03</th>\n",
       "      <td>38300</td>\n",
       "      <td>38550</td>\n",
       "      <td>37450</td>\n",
       "      <td>37600</td>\n",
       "      <td>12471493</td>\n",
       "      <td>38750.0</td>\n",
       "      <td>-2.967742</td>\n",
       "    </tr>\n",
       "    <tr>\n",
       "      <th>2019-01-04</th>\n",
       "      <td>37450</td>\n",
       "      <td>37600</td>\n",
       "      <td>36850</td>\n",
       "      <td>37450</td>\n",
       "      <td>14108958</td>\n",
       "      <td>37600.0</td>\n",
       "      <td>-0.398936</td>\n",
       "    </tr>\n",
       "    <tr>\n",
       "      <th>2019-01-07</th>\n",
       "      <td>38000</td>\n",
       "      <td>38900</td>\n",
       "      <td>37800</td>\n",
       "      <td>38750</td>\n",
       "      <td>12748997</td>\n",
       "      <td>37450.0</td>\n",
       "      <td>3.471295</td>\n",
       "    </tr>\n",
       "    <tr>\n",
       "      <th>2019-01-08</th>\n",
       "      <td>38000</td>\n",
       "      <td>39200</td>\n",
       "      <td>37950</td>\n",
       "      <td>38100</td>\n",
       "      <td>12756554</td>\n",
       "      <td>38750.0</td>\n",
       "      <td>-1.677419</td>\n",
       "    </tr>\n",
       "  </tbody>\n",
       "</table>\n",
       "</div>"
      ],
      "text/plain": [
       "               시가     고가     저가     종가       거래량     전일종가     일별등락률\n",
       "날짜                                                                 \n",
       "2019-01-02  39400  39400  38550  38750   7847664      NaN       NaN\n",
       "2019-01-03  38300  38550  37450  37600  12471493  38750.0 -2.967742\n",
       "2019-01-04  37450  37600  36850  37450  14108958  37600.0 -0.398936\n",
       "2019-01-07  38000  38900  37800  38750  12748997  37450.0  3.471295\n",
       "2019-01-08  38000  39200  37950  38100  12756554  38750.0 -1.677419"
      ]
     },
     "execution_count": 60,
     "metadata": {},
     "output_type": "execute_result"
    }
   ],
   "source": [
    "df_ss.head()"
   ]
  },
  {
   "cell_type": "code",
   "execution_count": 61,
   "id": "parental-seating",
   "metadata": {},
   "outputs": [
    {
     "data": {
      "text/plain": [
       "pandas.core.frame.DataFrame"
      ]
     },
     "execution_count": 61,
     "metadata": {},
     "output_type": "execute_result"
    }
   ],
   "source": [
    "type(df_ss)"
   ]
  },
  {
   "cell_type": "code",
   "execution_count": 62,
   "id": "serial-philosophy",
   "metadata": {},
   "outputs": [
    {
     "name": "stdout",
     "output_type": "stream",
     "text": [
      "<class 'pandas.core.frame.DataFrame'>\n",
      "DatetimeIndex: 494 entries, 2019-01-02 to 2020-12-30\n",
      "Data columns (total 7 columns):\n",
      " #   Column  Non-Null Count  Dtype  \n",
      "---  ------  --------------  -----  \n",
      " 0   시가      494 non-null    int32  \n",
      " 1   고가      494 non-null    int32  \n",
      " 2   저가      494 non-null    int32  \n",
      " 3   종가      494 non-null    int32  \n",
      " 4   거래량     494 non-null    int32  \n",
      " 5   전일종가    493 non-null    float64\n",
      " 6   일별등락률   493 non-null    float64\n",
      "dtypes: float64(2), int32(5)\n",
      "memory usage: 21.2 KB\n"
     ]
    }
   ],
   "source": [
    "df_ss.info()"
   ]
  },
  {
   "cell_type": "code",
   "execution_count": 63,
   "id": "desperate-python",
   "metadata": {},
   "outputs": [
    {
     "data": {
      "text/html": [
       "<div>\n",
       "<style scoped>\n",
       "    .dataframe tbody tr th:only-of-type {\n",
       "        vertical-align: middle;\n",
       "    }\n",
       "\n",
       "    .dataframe tbody tr th {\n",
       "        vertical-align: top;\n",
       "    }\n",
       "\n",
       "    .dataframe thead th {\n",
       "        text-align: right;\n",
       "    }\n",
       "</style>\n",
       "<table border=\"1\" class=\"dataframe\">\n",
       "  <thead>\n",
       "    <tr style=\"text-align: right;\">\n",
       "      <th></th>\n",
       "      <th>시가</th>\n",
       "      <th>고가</th>\n",
       "      <th>저가</th>\n",
       "      <th>종가</th>\n",
       "      <th>거래량</th>\n",
       "      <th>전일종가</th>\n",
       "      <th>일별등락률</th>\n",
       "    </tr>\n",
       "    <tr>\n",
       "      <th>날짜</th>\n",
       "      <th></th>\n",
       "      <th></th>\n",
       "      <th></th>\n",
       "      <th></th>\n",
       "      <th></th>\n",
       "      <th></th>\n",
       "      <th></th>\n",
       "    </tr>\n",
       "  </thead>\n",
       "  <tbody>\n",
       "    <tr>\n",
       "      <th>2019-01-02</th>\n",
       "      <td>63300</td>\n",
       "      <td>64200</td>\n",
       "      <td>62700</td>\n",
       "      <td>62800</td>\n",
       "      <td>568844</td>\n",
       "      <td>NaN</td>\n",
       "      <td>NaN</td>\n",
       "    </tr>\n",
       "    <tr>\n",
       "      <th>2019-01-03</th>\n",
       "      <td>63100</td>\n",
       "      <td>64100</td>\n",
       "      <td>62100</td>\n",
       "      <td>62900</td>\n",
       "      <td>604561</td>\n",
       "      <td>62800.0</td>\n",
       "      <td>0.159236</td>\n",
       "    </tr>\n",
       "    <tr>\n",
       "      <th>2019-01-04</th>\n",
       "      <td>63000</td>\n",
       "      <td>63400</td>\n",
       "      <td>61100</td>\n",
       "      <td>62200</td>\n",
       "      <td>602100</td>\n",
       "      <td>62900.0</td>\n",
       "      <td>-1.112878</td>\n",
       "    </tr>\n",
       "    <tr>\n",
       "      <th>2019-01-07</th>\n",
       "      <td>63100</td>\n",
       "      <td>64700</td>\n",
       "      <td>62700</td>\n",
       "      <td>64200</td>\n",
       "      <td>660173</td>\n",
       "      <td>62200.0</td>\n",
       "      <td>3.215434</td>\n",
       "    </tr>\n",
       "    <tr>\n",
       "      <th>2019-01-08</th>\n",
       "      <td>63700</td>\n",
       "      <td>63700</td>\n",
       "      <td>61200</td>\n",
       "      <td>61900</td>\n",
       "      <td>1338626</td>\n",
       "      <td>64200.0</td>\n",
       "      <td>-3.582555</td>\n",
       "    </tr>\n",
       "  </tbody>\n",
       "</table>\n",
       "</div>"
      ],
      "text/plain": [
       "               시가     고가     저가     종가      거래량     전일종가     일별등락률\n",
       "날짜                                                                \n",
       "2019-01-02  63300  64200  62700  62800   568844      NaN       NaN\n",
       "2019-01-03  63100  64100  62100  62900   604561  62800.0  0.159236\n",
       "2019-01-04  63000  63400  61100  62200   602100  62900.0 -1.112878\n",
       "2019-01-07  63100  64700  62700  64200   660173  62200.0  3.215434\n",
       "2019-01-08  63700  63700  61200  61900  1338626  64200.0 -3.582555"
      ]
     },
     "execution_count": 63,
     "metadata": {},
     "output_type": "execute_result"
    }
   ],
   "source": [
    "df_lg.head()"
   ]
  },
  {
   "cell_type": "code",
   "execution_count": 64,
   "id": "educated-reality",
   "metadata": {},
   "outputs": [],
   "source": [
    "# df_lg.fillna(0, inplce=True, axis=1)\n",
    "# df_lg['일별등락률'].fillna(method='ffill', inplace=True)   #앞에서 가져온다\n",
    "# df_lg['일별등락률'].fillna(method='bfill', inplace=True)   #뒤에서 가져온다\n",
    "df_lg.fillna(method='ffill', inplace=True)   #앞에서 가져온다\n",
    "df_lg.fillna(method='bfill', inplace=True)   #뒤에서 가져온다\n"
   ]
  },
  {
   "cell_type": "code",
   "execution_count": 65,
   "id": "hazardous-flight",
   "metadata": {},
   "outputs": [],
   "source": [
    "df_ss.fillna(method='ffill', inplace=True)   #앞에서 가져온다\n",
    "df_ss.fillna(method='bfill', inplace=True)   #뒤에서 가져온다"
   ]
  },
  {
   "cell_type": "code",
   "execution_count": 66,
   "id": "sporting-public",
   "metadata": {},
   "outputs": [
    {
     "data": {
      "text/plain": [
       "시가       0\n",
       "고가       0\n",
       "저가       0\n",
       "종가       0\n",
       "거래량      0\n",
       "전일종가     0\n",
       "일별등락률    0\n",
       "dtype: int64"
      ]
     },
     "execution_count": 66,
     "metadata": {},
     "output_type": "execute_result"
    }
   ],
   "source": [
    "df_ss.isna().sum()"
   ]
  },
  {
   "cell_type": "code",
   "execution_count": 67,
   "id": "perfect-scientist",
   "metadata": {},
   "outputs": [
    {
     "data": {
      "text/plain": [
       "시가       0\n",
       "고가       0\n",
       "저가       0\n",
       "종가       0\n",
       "거래량      0\n",
       "전일종가     0\n",
       "일별등락률    0\n",
       "dtype: int64"
      ]
     },
     "execution_count": 67,
     "metadata": {},
     "output_type": "execute_result"
    }
   ],
   "source": [
    "df_lg.isna().sum()"
   ]
  },
  {
   "cell_type": "code",
   "execution_count": 68,
   "id": "synthetic-momentum",
   "metadata": {},
   "outputs": [
    {
     "name": "stdout",
     "output_type": "stream",
     "text": [
      "<class 'pandas.core.frame.DataFrame'>\n",
      "DatetimeIndex: 494 entries, 2019-01-02 to 2020-12-30\n",
      "Data columns (total 7 columns):\n",
      " #   Column  Non-Null Count  Dtype  \n",
      "---  ------  --------------  -----  \n",
      " 0   시가      494 non-null    int32  \n",
      " 1   고가      494 non-null    int32  \n",
      " 2   저가      494 non-null    int32  \n",
      " 3   종가      494 non-null    int32  \n",
      " 4   거래량     494 non-null    int32  \n",
      " 5   전일종가    494 non-null    float64\n",
      " 6   일별등락률   494 non-null    float64\n",
      "dtypes: float64(2), int32(5)\n",
      "memory usage: 21.2 KB\n"
     ]
    }
   ],
   "source": [
    "df_ss.info()"
   ]
  },
  {
   "cell_type": "code",
   "execution_count": 69,
   "id": "worthy-intelligence",
   "metadata": {},
   "outputs": [
    {
     "data": {
      "text/plain": [
       "날짜\n",
       "2019-01-02   -2.967742\n",
       "2019-01-03   -5.935484\n",
       "2019-01-04   -6.334420\n",
       "2019-01-07   -2.863125\n",
       "2019-01-08   -4.540544\n",
       "Name: 일별등락률, dtype: float64"
      ]
     },
     "execution_count": 69,
     "metadata": {},
     "output_type": "execute_result"
    }
   ],
   "source": [
    "df_ss['일별등락률'].cumsum()[:5]\n",
    "# cumsum"
   ]
  },
  {
   "cell_type": "code",
   "execution_count": 70,
   "id": "hawaiian-option",
   "metadata": {},
   "outputs": [
    {
     "name": "stderr",
     "output_type": "stream",
     "text": [
      "c:\\it\\python_workspace\\venv\\lib\\site-packages\\matplotlib\\backends\\backend_agg.py:238: RuntimeWarning: Glyph 8722 missing from current font.\n",
      "  font.set_text(s, 0.0, flags=flags)\n",
      "c:\\it\\python_workspace\\venv\\lib\\site-packages\\matplotlib\\backends\\backend_agg.py:201: RuntimeWarning: Glyph 8722 missing from current font.\n",
      "  font.set_text(s, 0, flags=flags)\n"
     ]
    },
    {
     "data": {
      "image/png": "[encoded data removed]",
      "text/plain": [
       "<Figure size 432x288 with 1 Axes>"
      ]
     },
     "metadata": {
      "needs_background": "light"
     },
     "output_type": "display_data"
    }
   ],
   "source": [
    "plt.plot(df_ss.index, df_ss['일별등락률'].cumsum(), label=\"SAMSUNG\")\n",
    "plt.plot(df_lg.index, df_lg['일별등락률'].cumsum(), label=\"LG\") #,secondary_y=True)\n",
    "plt.legend()\n",
    "plt.xticks(rotation=45)\n",
    "plt.title(\"Samsung vs LG\")\n",
    "plt.grid()\n",
    "plt.show()"
   ]
  },
  {
   "cell_type": "code",
   "execution_count": 71,
   "id": "secret-simpson",
   "metadata": {},
   "outputs": [
    {
     "data": {
      "text/plain": [
       "(494, 7)"
      ]
     },
     "execution_count": 71,
     "metadata": {},
     "output_type": "execute_result"
    }
   ],
   "source": [
    "df_ss.shape"
   ]
  },
  {
   "cell_type": "code",
   "execution_count": 72,
   "id": "hungry-company",
   "metadata": {},
   "outputs": [
    {
     "data": {
      "text/plain": [
       "날짜\n",
       "2019-01-02    38750.0\n",
       "2019-01-03    38750.0\n",
       "2019-01-04    38750.0\n",
       "2019-01-07    38750.0\n",
       "2019-01-08    38750.0\n",
       "               ...   \n",
       "2020-12-23    73900.0\n",
       "2020-12-24    77800.0\n",
       "2020-12-28    78700.0\n",
       "2020-12-29    78700.0\n",
       "2020-12-30    81000.0\n",
       "Name: 종가, Length: 494, dtype: float64"
      ]
     },
     "execution_count": 72,
     "metadata": {},
     "output_type": "execute_result"
    }
   ],
   "source": [
    "window_size = 250   # 1년 단위로 묶는다\n",
    "df_ss['종가'].rolling(window_size, min_periods=1).max()"
   ]
  },
  {
   "cell_type": "code",
   "execution_count": 73,
   "id": "biological-cosmetic",
   "metadata": {},
   "outputs": [
    {
     "data": {
      "text/html": [
       "<div>\n",
       "<style scoped>\n",
       "    .dataframe tbody tr th:only-of-type {\n",
       "        vertical-align: middle;\n",
       "    }\n",
       "\n",
       "    .dataframe tbody tr th {\n",
       "        vertical-align: top;\n",
       "    }\n",
       "\n",
       "    .dataframe thead th {\n",
       "        text-align: right;\n",
       "    }\n",
       "</style>\n",
       "<table border=\"1\" class=\"dataframe\">\n",
       "  <thead>\n",
       "    <tr style=\"text-align: right;\">\n",
       "      <th></th>\n",
       "      <th>SS</th>\n",
       "      <th>LG</th>\n",
       "    </tr>\n",
       "    <tr>\n",
       "      <th>날짜</th>\n",
       "      <th></th>\n",
       "      <th></th>\n",
       "    </tr>\n",
       "  </thead>\n",
       "  <tbody>\n",
       "    <tr>\n",
       "      <th>2019-01-02</th>\n",
       "      <td>38750</td>\n",
       "      <td>62800</td>\n",
       "    </tr>\n",
       "    <tr>\n",
       "      <th>2019-01-03</th>\n",
       "      <td>37600</td>\n",
       "      <td>62900</td>\n",
       "    </tr>\n",
       "    <tr>\n",
       "      <th>2019-01-04</th>\n",
       "      <td>37450</td>\n",
       "      <td>62200</td>\n",
       "    </tr>\n",
       "    <tr>\n",
       "      <th>2019-01-07</th>\n",
       "      <td>38750</td>\n",
       "      <td>64200</td>\n",
       "    </tr>\n",
       "    <tr>\n",
       "      <th>2019-01-08</th>\n",
       "      <td>38100</td>\n",
       "      <td>61900</td>\n",
       "    </tr>\n",
       "  </tbody>\n",
       "</table>\n",
       "</div>"
      ],
      "text/plain": [
       "               SS     LG\n",
       "날짜                      \n",
       "2019-01-02  38750  62800\n",
       "2019-01-03  37600  62900\n",
       "2019-01-04  37450  62200\n",
       "2019-01-07  38750  64200\n",
       "2019-01-08  38100  61900"
      ]
     },
     "execution_count": 73,
     "metadata": {},
     "output_type": "execute_result"
    }
   ],
   "source": [
    "temp = pd.DataFrame({\"SS\": df_ss['종가'], \"LG\": df_lg['종가']  })\n",
    "temp.head()"
   ]
  },
  {
   "cell_type": "code",
   "execution_count": 74,
   "id": "hazardous-customer",
   "metadata": {},
   "outputs": [
    {
     "data": {
      "text/html": [
       "<div>\n",
       "<style scoped>\n",
       "    .dataframe tbody tr th:only-of-type {\n",
       "        vertical-align: middle;\n",
       "    }\n",
       "\n",
       "    .dataframe tbody tr th {\n",
       "        vertical-align: top;\n",
       "    }\n",
       "\n",
       "    .dataframe thead th {\n",
       "        text-align: right;\n",
       "    }\n",
       "</style>\n",
       "<table border=\"1\" class=\"dataframe\">\n",
       "  <thead>\n",
       "    <tr style=\"text-align: right;\">\n",
       "      <th></th>\n",
       "      <th>SS</th>\n",
       "      <th>LG</th>\n",
       "    </tr>\n",
       "  </thead>\n",
       "  <tbody>\n",
       "    <tr>\n",
       "      <th>SS</th>\n",
       "      <td>1.000000</td>\n",
       "      <td>0.595367</td>\n",
       "    </tr>\n",
       "    <tr>\n",
       "      <th>LG</th>\n",
       "      <td>0.595367</td>\n",
       "      <td>1.000000</td>\n",
       "    </tr>\n",
       "  </tbody>\n",
       "</table>\n",
       "</div>"
      ],
      "text/plain": [
       "          SS        LG\n",
       "SS  1.000000  0.595367\n",
       "LG  0.595367  1.000000"
      ]
     },
     "execution_count": 74,
     "metadata": {},
     "output_type": "execute_result"
    }
   ],
   "source": [
    "temp.corr()"
   ]
  },
  {
   "cell_type": "code",
   "execution_count": 75,
   "id": "given-offense",
   "metadata": {},
   "outputs": [
    {
     "data": {
      "text/plain": [
       "Text(0, 0.5, 'LG')"
      ]
     },
     "execution_count": 75,
     "metadata": {},
     "output_type": "execute_result"
    },
    {
     "data": {
      "image/png": "[encoded data removed]",
      "text/plain": [
       "<Figure size 432x288 with 1 Axes>"
      ]
     },
     "metadata": {
      "needs_background": "light"
     },
     "output_type": "display_data"
    }
   ],
   "source": [
    "plt.scatter(temp['SS'], temp['LG'])\n",
    "plt.xlabel(\"SS\")\n",
    "plt.ylabel(\"LG\")"
   ]
  },
  {
   "cell_type": "code",
   "execution_count": 76,
   "id": "suffering-installation",
   "metadata": {},
   "outputs": [
    {
     "name": "stdout",
     "output_type": "stream",
     "text": [
      "<class 'scipy.stats._stats_mstats_common.LinregressResult'>\n",
      "LinregressResult(slope=0.9480898106012626, intercept=22915.262833912013, rvalue=0.5953667255560411, pvalue=1.0476300600213361e-48, stderr=0.057682414451396484, intercept_stderr=3026.2527009378027)\n"
     ]
    }
   ],
   "source": [
    "from scipy import stats\n",
    "reg = stats.linregress(temp['SS'], temp['LG'])\n",
    "print(type(reg))\n",
    "print(reg)"
   ]
  },
  {
   "cell_type": "code",
   "execution_count": 77,
   "id": "numerous-andrew",
   "metadata": {},
   "outputs": [],
   "source": [
    "# y = wx + b\n",
    "x = 1\n",
    "hx = reg.slope * x + reg.intercept"
   ]
  },
  {
   "cell_type": "code",
   "execution_count": 78,
   "id": "comparable-metropolitan",
   "metadata": {},
   "outputs": [
    {
     "data": {
      "text/plain": [
       "Text(0, 0.5, 'LG')"
      ]
     },
     "execution_count": 78,
     "metadata": {},
     "output_type": "execute_result"
    },
    {
     "data": {
      "image/png": "[encoded data removed]",
      "text/plain": [
       "<Figure size 432x288 with 1 Axes>"
      ]
     },
     "metadata": {
      "needs_background": "light"
     },
     "output_type": "display_data"
    }
   ],
   "source": [
    "plt.scatter(temp['SS'], temp['LG'])\n",
    "plt.scatter(temp['SS'],   reg.slope * temp['SS'] + reg.intercept)\n",
    "plt.xlabel(\"SS\")\n",
    "plt.ylabel(\"LG\")"
   ]
  },
  {
   "cell_type": "code",
   "execution_count": null,
   "id": "placed-liver",
   "metadata": {},
   "outputs": [],
   "source": []
  },
  {
   "cell_type": "markdown",
   "id": "swedish-endorsement",
   "metadata": {},
   "source": [
    "# LSTM을 이용한 삼성전자 주가 예측"
   ]
  },
  {
   "cell_type": "code",
   "execution_count": 79,
   "id": "textile-guinea",
   "metadata": {},
   "outputs": [],
   "source": [
    "df = stock.get_market_ohlcv_by_date('20100101','20210101', '005930')\n",
    "df.fillna(method='ffill', inplace=True)   #앞에서 가져온다\n",
    "df.fillna(method='bfill', inplace=True)   #뒤에서 가져온다"
   ]
  },
  {
   "cell_type": "code",
   "execution_count": 80,
   "id": "reported-breakdown",
   "metadata": {},
   "outputs": [
    {
     "data": {
      "text/plain": [
       "(2714, 5)"
      ]
     },
     "execution_count": 80,
     "metadata": {},
     "output_type": "execute_result"
    }
   ],
   "source": [
    "df.shape  #(2714, 5)"
   ]
  },
  {
   "cell_type": "code",
   "execution_count": 81,
   "id": "polished-mobility",
   "metadata": {},
   "outputs": [
    {
     "data": {
      "text/html": [
       "<div>\n",
       "<style scoped>\n",
       "    .dataframe tbody tr th:only-of-type {\n",
       "        vertical-align: middle;\n",
       "    }\n",
       "\n",
       "    .dataframe tbody tr th {\n",
       "        vertical-align: top;\n",
       "    }\n",
       "\n",
       "    .dataframe thead th {\n",
       "        text-align: right;\n",
       "    }\n",
       "</style>\n",
       "<table border=\"1\" class=\"dataframe\">\n",
       "  <thead>\n",
       "    <tr style=\"text-align: right;\">\n",
       "      <th></th>\n",
       "      <th>시가</th>\n",
       "      <th>고가</th>\n",
       "      <th>저가</th>\n",
       "      <th>종가</th>\n",
       "      <th>거래량</th>\n",
       "    </tr>\n",
       "    <tr>\n",
       "      <th>날짜</th>\n",
       "      <th></th>\n",
       "      <th></th>\n",
       "      <th></th>\n",
       "      <th></th>\n",
       "      <th></th>\n",
       "    </tr>\n",
       "  </thead>\n",
       "  <tbody>\n",
       "    <tr>\n",
       "      <th>2010-01-04</th>\n",
       "      <td>16060</td>\n",
       "      <td>16180</td>\n",
       "      <td>16000</td>\n",
       "      <td>16180</td>\n",
       "      <td>239271</td>\n",
       "    </tr>\n",
       "    <tr>\n",
       "      <th>2010-01-05</th>\n",
       "      <td>16520</td>\n",
       "      <td>16580</td>\n",
       "      <td>16300</td>\n",
       "      <td>16440</td>\n",
       "      <td>559219</td>\n",
       "    </tr>\n",
       "    <tr>\n",
       "      <th>2010-01-06</th>\n",
       "      <td>16580</td>\n",
       "      <td>16820</td>\n",
       "      <td>16520</td>\n",
       "      <td>16820</td>\n",
       "      <td>459755</td>\n",
       "    </tr>\n",
       "    <tr>\n",
       "      <th>2010-01-07</th>\n",
       "      <td>16820</td>\n",
       "      <td>16820</td>\n",
       "      <td>16260</td>\n",
       "      <td>16260</td>\n",
       "      <td>443237</td>\n",
       "    </tr>\n",
       "    <tr>\n",
       "      <th>2010-01-08</th>\n",
       "      <td>16400</td>\n",
       "      <td>16420</td>\n",
       "      <td>16120</td>\n",
       "      <td>16420</td>\n",
       "      <td>295798</td>\n",
       "    </tr>\n",
       "  </tbody>\n",
       "</table>\n",
       "</div>"
      ],
      "text/plain": [
       "               시가     고가     저가     종가     거래량\n",
       "날짜                                            \n",
       "2010-01-04  16060  16180  16000  16180  239271\n",
       "2010-01-05  16520  16580  16300  16440  559219\n",
       "2010-01-06  16580  16820  16520  16820  459755\n",
       "2010-01-07  16820  16820  16260  16260  443237\n",
       "2010-01-08  16400  16420  16120  16420  295798"
      ]
     },
     "execution_count": 81,
     "metadata": {},
     "output_type": "execute_result"
    }
   ],
   "source": [
    "df.head()"
   ]
  },
  {
   "cell_type": "code",
   "execution_count": 82,
   "id": "choice-julian",
   "metadata": {},
   "outputs": [
    {
     "name": "stdout",
     "output_type": "stream",
     "text": [
      "<class 'pandas.core.frame.DataFrame'>\n",
      "DatetimeIndex: 2714 entries, 2010-01-04 to 2020-12-30\n",
      "Data columns (total 5 columns):\n",
      " #   Column  Non-Null Count  Dtype\n",
      "---  ------  --------------  -----\n",
      " 0   시가      2714 non-null   int32\n",
      " 1   고가      2714 non-null   int32\n",
      " 2   저가      2714 non-null   int32\n",
      " 3   종가      2714 non-null   int32\n",
      " 4   거래량     2714 non-null   int32\n",
      "dtypes: int32(5)\n",
      "memory usage: 74.2 KB\n"
     ]
    }
   ],
   "source": [
    "df.info()"
   ]
  },
  {
   "cell_type": "code",
   "execution_count": 83,
   "id": "through-festival",
   "metadata": {},
   "outputs": [],
   "source": [
    "# #날짜모양의 글자다  '2019-01-01'  --> date타입\n",
    "# df['날짜'] = pd.to_datetime(df['날짜'], format='%Y-%m-%d')\n",
    "# df.set_index('날짜')"
   ]
  },
  {
   "cell_type": "code",
   "execution_count": 84,
   "id": "periodic-constraint",
   "metadata": {},
   "outputs": [
    {
     "data": {
      "text/plain": [
       "<AxesSubplot:xlabel='날짜'>"
      ]
     },
     "execution_count": 84,
     "metadata": {},
     "output_type": "execute_result"
    },
    {
     "data": {
      "image/png": "[encoded data removed]",
      "text/plain": [
       "<Figure size 432x288 with 1 Axes>"
      ]
     },
     "metadata": {
      "needs_background": "light"
     },
     "output_type": "display_data"
    }
   ],
   "source": [
    "df[\"종가\"].plot()"
   ]
  },
  {
   "cell_type": "code",
   "execution_count": 85,
   "id": "ceramic-winner",
   "metadata": {},
   "outputs": [
    {
     "data": {
      "text/plain": [
       "<AxesSubplot:xlabel='날짜'>"
      ]
     },
     "execution_count": 85,
     "metadata": {},
     "output_type": "execute_result"
    },
    {
     "data": {
      "image/png": "[encoded data removed]",
      "text/plain": [
       "<Figure size 432x288 with 1 Axes>"
      ]
     },
     "metadata": {
      "needs_background": "light"
     },
     "output_type": "display_data"
    }
   ],
   "source": [
    "df[\"거래량\"].plot()"
   ]
  },
  {
   "cell_type": "code",
   "execution_count": 86,
   "id": "municipal-disease",
   "metadata": {},
   "outputs": [
    {
     "data": {
      "text/plain": [
       "<AxesSubplot:>"
      ]
     },
     "execution_count": 86,
     "metadata": {},
     "output_type": "execute_result"
    },
    {
     "data": {
      "image/png": "[encoded data removed]",
      "text/plain": [
       "<Figure size 432x288 with 1 Axes>"
      ]
     },
     "metadata": {
      "needs_background": "light"
     },
     "output_type": "display_data"
    }
   ],
   "source": [
    "df['종가'].hist()"
   ]
  },
  {
   "cell_type": "code",
   "execution_count": 87,
   "id": "infinite-blogger",
   "metadata": {},
   "outputs": [],
   "source": [
    "from sklearn.preprocessing import MinMaxScaler\n",
    "scaler = MinMaxScaler()\n",
    "df_scaler = scaler.fit_transform(df)\n",
    "sdf = pd.DataFrame(df_scaler)\n",
    "sdf.columns = df.columns\n",
    "sdf.index = df.index"
   ]
  },
  {
   "cell_type": "code",
   "execution_count": 88,
   "id": "fresh-dependence",
   "metadata": {},
   "outputs": [
    {
     "data": {
      "text/html": [
       "<div>\n",
       "<style scoped>\n",
       "    .dataframe tbody tr th:only-of-type {\n",
       "        vertical-align: middle;\n",
       "    }\n",
       "\n",
       "    .dataframe tbody tr th {\n",
       "        vertical-align: top;\n",
       "    }\n",
       "\n",
       "    .dataframe thead th {\n",
       "        text-align: right;\n",
       "    }\n",
       "</style>\n",
       "<table border=\"1\" class=\"dataframe\">\n",
       "  <thead>\n",
       "    <tr style=\"text-align: right;\">\n",
       "      <th></th>\n",
       "      <th>시가</th>\n",
       "      <th>고가</th>\n",
       "      <th>저가</th>\n",
       "      <th>종가</th>\n",
       "      <th>거래량</th>\n",
       "    </tr>\n",
       "    <tr>\n",
       "      <th>날짜</th>\n",
       "      <th></th>\n",
       "      <th></th>\n",
       "      <th></th>\n",
       "      <th></th>\n",
       "      <th></th>\n",
       "    </tr>\n",
       "  </thead>\n",
       "  <tbody>\n",
       "    <tr>\n",
       "      <th>2010-01-04</th>\n",
       "      <td>0.203291</td>\n",
       "      <td>0.199016</td>\n",
       "      <td>0.204604</td>\n",
       "      <td>0.038279</td>\n",
       "      <td>0.003769</td>\n",
       "    </tr>\n",
       "    <tr>\n",
       "      <th>2010-01-05</th>\n",
       "      <td>0.209114</td>\n",
       "      <td>0.203936</td>\n",
       "      <td>0.208440</td>\n",
       "      <td>0.042136</td>\n",
       "      <td>0.008808</td>\n",
       "    </tr>\n",
       "    <tr>\n",
       "      <th>2010-01-06</th>\n",
       "      <td>0.209873</td>\n",
       "      <td>0.206888</td>\n",
       "      <td>0.211253</td>\n",
       "      <td>0.047774</td>\n",
       "      <td>0.007241</td>\n",
       "    </tr>\n",
       "    <tr>\n",
       "      <th>2010-01-07</th>\n",
       "      <td>0.212911</td>\n",
       "      <td>0.206888</td>\n",
       "      <td>0.207928</td>\n",
       "      <td>0.039466</td>\n",
       "      <td>0.006981</td>\n",
       "    </tr>\n",
       "    <tr>\n",
       "      <th>2010-01-08</th>\n",
       "      <td>0.207595</td>\n",
       "      <td>0.201968</td>\n",
       "      <td>0.206138</td>\n",
       "      <td>0.041840</td>\n",
       "      <td>0.004659</td>\n",
       "    </tr>\n",
       "  </tbody>\n",
       "</table>\n",
       "</div>"
      ],
      "text/plain": [
       "                  시가        고가        저가        종가       거래량\n",
       "날짜                                                          \n",
       "2010-01-04  0.203291  0.199016  0.204604  0.038279  0.003769\n",
       "2010-01-05  0.209114  0.203936  0.208440  0.042136  0.008808\n",
       "2010-01-06  0.209873  0.206888  0.211253  0.047774  0.007241\n",
       "2010-01-07  0.212911  0.206888  0.207928  0.039466  0.006981\n",
       "2010-01-08  0.207595  0.201968  0.206138  0.041840  0.004659"
      ]
     },
     "execution_count": 88,
     "metadata": {},
     "output_type": "execute_result"
    }
   ],
   "source": [
    "sdf.head()"
   ]
  },
  {
   "cell_type": "code",
   "execution_count": 89,
   "id": "subtle-society",
   "metadata": {},
   "outputs": [
    {
     "name": "stdout",
     "output_type": "stream",
     "text": [
      "2714 542\n"
     ]
    }
   ],
   "source": [
    "print(sdf.shape[0],  int(sdf.shape[0] * 0.2))\n",
    "split_idx =  int(sdf.shape[0] * 0.2)"
   ]
  },
  {
   "cell_type": "code",
   "execution_count": 90,
   "id": "norwegian-manner",
   "metadata": {},
   "outputs": [],
   "source": [
    "train = sdf.iloc[:-split_idx]\n",
    "test = sdf.iloc[-split_idx:] "
   ]
  },
  {
   "cell_type": "code",
   "execution_count": 91,
   "id": "electric-shelf",
   "metadata": {},
   "outputs": [
    {
     "name": "stdout",
     "output_type": "stream",
     "text": [
      "(2172, 5) (542, 5)\n"
     ]
    }
   ],
   "source": [
    "print(train.shape, test.shape)"
   ]
  },
  {
   "cell_type": "code",
   "execution_count": 92,
   "id": "spatial-paste",
   "metadata": {},
   "outputs": [],
   "source": [
    "def mymake_dataset(data, label, window_size=20):\n",
    "    feature_list = []\n",
    "    label_list = []\n",
    "    for i in range(len(data) - window_size):\n",
    "        feature_list.append(np.array(data.iloc[i:i+window_size]))\n",
    "        label_list.append(np.array(label.iloc[i+window_size]))\n",
    "    return np.array(feature_list), np.array(label_list)"
   ]
  },
  {
   "cell_type": "code",
   "execution_count": 113,
   "id": "sapphire-intervention",
   "metadata": {},
   "outputs": [],
   "source": [
    "y_train = train[\"종가\"]\n",
    "X_train = train.drop(\"종가\", axis=1)\n",
    "y_test = test[\"종가\"]\n",
    "X_test = test.drop(\"종가\", axis=1)\n",
    "\n",
    "X_train_arr, y_train_arr = mymake_dataset(X_train, y_train)\n",
    "X_test_arr, y_test_arr = mymake_dataset(X_test, y_test)"
   ]
  },
  {
   "cell_type": "code",
   "execution_count": 114,
   "id": "corresponding-carol",
   "metadata": {},
   "outputs": [
    {
     "name": "stdout",
     "output_type": "stream",
     "text": [
      "(2152, 20, 4) (2152,)\n",
      "(522, 20, 4) (522,)\n"
     ]
    }
   ],
   "source": [
    "print(X_train_arr.shape, y_train_arr.shape)\n",
    "print(X_test_arr.shape, y_test_arr.shape)"
   ]
  },
  {
   "cell_type": "code",
   "execution_count": null,
   "id": "fossil-croatia",
   "metadata": {},
   "outputs": [],
   "source": []
  },
  {
   "cell_type": "code",
   "execution_count": 104,
   "id": "charitable-ontario",
   "metadata": {},
   "outputs": [],
   "source": [
    "from keras.models import Sequential\n",
    "from keras.layers import Dense, LSTM\n",
    "from keras.callbacks import EarlyStopping, ModelCheckpoint"
   ]
  },
  {
   "cell_type": "code",
   "execution_count": 105,
   "id": "respected-proportion",
   "metadata": {},
   "outputs": [],
   "source": [
    "model = Sequential()\n",
    "# model.add(Input())\n",
    "model.add(LSTM(20, activation='relu',return_sequences= True, input_shape = (X_train_arr.shape[1], X_train_arr.shape[2])))\n",
    "model.add(Dense(1))\n"
   ]
  },
  {
   "cell_type": "code",
   "execution_count": 120,
   "id": "hollywood-biography",
   "metadata": {},
   "outputs": [
    {
     "name": "stdout",
     "output_type": "stream",
     "text": [
      "Epoch 1/100\n",
      "61/61 [==============================] - 3s 15ms/step - loss: 4.1535e-04 - mse: 4.1535e-04 - val_loss: 0.0038 - val_mse: 0.0038\n",
      "Epoch 2/100\n",
      "61/61 [==============================] - 0s 5ms/step - loss: 3.9431e-04 - mse: 3.9431e-04 - val_loss: 0.0037 - val_mse: 0.0037\n",
      "Epoch 3/100\n",
      "61/61 [==============================] - 0s 5ms/step - loss: 3.9180e-04 - mse: 3.9180e-04 - val_loss: 0.0039 - val_mse: 0.0039\n",
      "Epoch 4/100\n",
      "61/61 [==============================] - 0s 5ms/step - loss: 3.9333e-04 - mse: 3.9333e-04 - val_loss: 0.0038 - val_mse: 0.0038\n",
      "Epoch 5/100\n",
      "61/61 [==============================] - 0s 6ms/step - loss: 4.0021e-04 - mse: 4.0021e-04 - val_loss: 0.0040 - val_mse: 0.0040\n",
      "Epoch 6/100\n",
      "61/61 [==============================] - 0s 5ms/step - loss: 4.0218e-04 - mse: 4.0218e-04 - val_loss: 0.0038 - val_mse: 0.0038\n"
     ]
    }
   ],
   "source": [
    "\n",
    "model.compile(optimizer='adam', loss='mse', metrics=['mse'])\n",
    "estop = EarlyStopping(monitor='val_loss', patience=4)\n",
    "res = model.fit(X_train_arr, y_train_arr, epochs=100, batch_size=32,\n",
    "          validation_split=0.1,\n",
    "          callbacks=[estop])\n"
   ]
  },
  {
   "cell_type": "code",
   "execution_count": 112,
   "id": "returning-conclusion",
   "metadata": {},
   "outputs": [
    {
     "name": "stdout",
     "output_type": "stream",
     "text": [
      "(522, 20, 1)\n"
     ]
    },
    {
     "data": {
      "image/png": "[encoded data removed]",
      "text/plain": [
       "<Figure size 432x288 with 1 Axes>"
      ]
     },
     "metadata": {
      "needs_background": "light"
     },
     "output_type": "display_data"
    }
   ],
   "source": [
    "\n",
    "pred = model.predict(X_test_arr)   #522.20.1\n",
    "# print(y_test_arr[:5], pred[:5])\n",
    "\n",
    "print(pred.shape)\n",
    "plt.plot(y_test_arr , label='original')  #522,\n",
    "plt.plot(pred.mean(axis=1) , label='pred')  #522.20.1\n",
    "plt.legend()\n",
    "plt.show()"
   ]
  },
  {
   "cell_type": "code",
   "execution_count": 118,
   "id": "baking-likelihood",
   "metadata": {},
   "outputs": [
    {
     "data": {
      "text/plain": [
       "0.02463076"
      ]
     },
     "execution_count": 118,
     "metadata": {},
     "output_type": "execute_result"
    }
   ],
   "source": [
    "from keras.losses import MeanSquaredError\n",
    "mse = MeanSquaredError()\n",
    "mse(y_test_arr, pred).numpy()"
   ]
  }
 ],
 "metadata": {
  "kernelspec": {
   "display_name": "Python 3 (ipykernel)",
   "language": "python",
   "name": "python3"
  },
  "language_info": {
   "codemirror_mode": {
    "name": "ipython",
    "version": 3
   },
   "file_extension": ".py",
   "mimetype": "text/x-python",
   "name": "python",
   "nbconvert_exporter": "python",
   "pygments_lexer": "ipython3",
   "version": "3.8.8"
  }
 },
 "nbformat": 4,
 "nbformat_minor": 5
}
