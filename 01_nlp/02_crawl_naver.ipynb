{
 "cells": [
  {
   "cell_type": "markdown",
   "metadata": {},
   "source": [
    "# imports"
   ]
  },
  {
   "cell_type": "code",
   "execution_count": 1,
   "metadata": {},
   "outputs": [],
   "source": [
    "import pandas as pd\n",
    "import numpy as np\n",
    "\n",
    "import requests\n",
    "from bs4 import BeautifulSoup"
   ]
  },
  {
   "cell_type": "markdown",
   "metadata": {},
   "source": [
    "# def"
   ]
  },
  {
   "cell_type": "code",
   "execution_count": 2,
   "metadata": {},
   "outputs": [],
   "source": [
    "def getNaver(base_url, dates):\n",
    "    \n",
    "    articles_list = []\n",
    "    for date in dates:\n",
    "        for page in range(1, 21):\n",
    "            \n",
    "            url = base_url + str(date) + '&page=' + str(page)\n",
    "            response = requests.get(url)\n",
    "            \n",
    "            if response.status_code == 200:\n",
    "                html = response.text\n",
    "                soup = BeautifulSoup(html, 'html.parser')\n",
    "                \n",
    "                articles = soup.select_one('#contentarea_left > ul').select('dd.articleSubject')\n",
    "                for article in articles:\n",
    "                    try:\n",
    "                        title       = article.select_one('a').text\n",
    "                        article_url = 'https://finance.naver.com/' + article.select_one('a').get('href')\n",
    "                        \n",
    "                        article_row = []\n",
    "                        article_row.append(page)\n",
    "                        article_row.append(date)\n",
    "                        article_row.append(title)\n",
    "                        article_row.append(article_url)\n",
    "                        \n",
    "                        articles_list.append(article_row)\n",
    "                        \n",
    "                    except Exception:\n",
    "                        continue\n",
    "            else:\n",
    "                print('error')\n",
    "    \n",
    "    df = pd.DataFrame(articles_list, columns=['page', 'date', 'title', 'url'])\n",
    "    \n",
    "    return df"
   ]
  },
  {
   "cell_type": "markdown",
   "metadata": {},
   "source": [
    "# 네이버 금융 : 시황/전망"
   ]
  },
  {
   "cell_type": "code",
   "execution_count": 3,
   "metadata": {},
   "outputs": [],
   "source": [
    "sihwang_url = 'https://finance.naver.com/news/news_list.naver?mode=LSS3D&section_id=101&section_id2=258&section_id3=401&date='\n",
    "dates = pd.date_range('2003-01-01', '2021-11-10').strftime('%Y%m%d').tolist()\n",
    "\n",
    "sihwang = getNaver(sihwang_url, dates)"
   ]
  },
  {
   "cell_type": "code",
   "execution_count": 4,
   "metadata": {},
   "outputs": [
    {
     "data": {
      "text/html": [
       "<div>\n",
       "<style scoped>\n",
       "    .dataframe tbody tr th:only-of-type {\n",
       "        vertical-align: middle;\n",
       "    }\n",
       "\n",
       "    .dataframe tbody tr th {\n",
       "        vertical-align: top;\n",
       "    }\n",
       "\n",
       "    .dataframe thead th {\n",
       "        text-align: right;\n",
       "    }\n",
       "</style>\n",
       "<table border=\"1\" class=\"dataframe\">\n",
       "  <thead>\n",
       "    <tr style=\"text-align: right;\">\n",
       "      <th></th>\n",
       "      <th>page</th>\n",
       "      <th>date</th>\n",
       "      <th>title</th>\n",
       "      <th>url</th>\n",
       "    </tr>\n",
       "  </thead>\n",
       "  <tbody>\n",
       "    <tr>\n",
       "      <th>0</th>\n",
       "      <td>1</td>\n",
       "      <td>20040223</td>\n",
       "      <td>(표)ECN 시장 거래현황 종합(23일)</td>\n",
       "      <td>https://finance.naver.com//news/news_read.nave...</td>\n",
       "    </tr>\n",
       "    <tr>\n",
       "      <th>1</th>\n",
       "      <td>1</td>\n",
       "      <td>20040223</td>\n",
       "      <td>[표]ECN 하락률 상위종목 - 23일</td>\n",
       "      <td>https://finance.naver.com//news/news_read.nave...</td>\n",
       "    </tr>\n",
       "    <tr>\n",
       "      <th>2</th>\n",
       "      <td>1</td>\n",
       "      <td>20040223</td>\n",
       "      <td>[표]ECN 상승률 상위종목 - 23일</td>\n",
       "      <td>https://finance.naver.com//news/news_read.nave...</td>\n",
       "    </tr>\n",
       "    <tr>\n",
       "      <th>3</th>\n",
       "      <td>1</td>\n",
       "      <td>20040223</td>\n",
       "      <td>[표]ECN 거래량 상위종목 - 23일</td>\n",
       "      <td>https://finance.naver.com//news/news_read.nave...</td>\n",
       "    </tr>\n",
       "    <tr>\n",
       "      <th>4</th>\n",
       "      <td>2</td>\n",
       "      <td>20040223</td>\n",
       "      <td>(표)투신권 수익증권 자금 동향(2/20)</td>\n",
       "      <td>https://finance.naver.com//news/news_read.nave...</td>\n",
       "    </tr>\n",
       "    <tr>\n",
       "      <th>...</th>\n",
       "      <td>...</td>\n",
       "      <td>...</td>\n",
       "      <td>...</td>\n",
       "      <td>...</td>\n",
       "    </tr>\n",
       "    <tr>\n",
       "      <th>372969</th>\n",
       "      <td>7</td>\n",
       "      <td>20211110</td>\n",
       "      <td>MSCI 지수 편입 기대 종목은…엘앤에프·F&amp;F '유력'</td>\n",
       "      <td>https://finance.naver.com//news/news_read.nave...</td>\n",
       "    </tr>\n",
       "    <tr>\n",
       "      <th>372970</th>\n",
       "      <td>7</td>\n",
       "      <td>20211110</td>\n",
       "      <td>외국인, 지난 달 韓 주식 3.3조 팔아...시총 비중 금융위기 이후 최저</td>\n",
       "      <td>https://finance.naver.com//news/news_read.nave...</td>\n",
       "    </tr>\n",
       "    <tr>\n",
       "      <th>372971</th>\n",
       "      <td>7</td>\n",
       "      <td>20211110</td>\n",
       "      <td>외국인, 지난달 韓주식 3조3천억원 순매도…한달만에 '팔자'</td>\n",
       "      <td>https://finance.naver.com//news/news_read.nave...</td>\n",
       "    </tr>\n",
       "    <tr>\n",
       "      <th>372972</th>\n",
       "      <td>7</td>\n",
       "      <td>20211110</td>\n",
       "      <td>中·금리 때문에…美증시 달리는데 코스피 뒷걸음질, 언제 쫓아가나</td>\n",
       "      <td>https://finance.naver.com//news/news_read.nave...</td>\n",
       "    </tr>\n",
       "    <tr>\n",
       "      <th>372973</th>\n",
       "      <td>7</td>\n",
       "      <td>20211110</td>\n",
       "      <td>엔터주 테마탄 디어유 오늘 상장…‘따상' 가나</td>\n",
       "      <td>https://finance.naver.com//news/news_read.nave...</td>\n",
       "    </tr>\n",
       "  </tbody>\n",
       "</table>\n",
       "<p>372974 rows × 4 columns</p>\n",
       "</div>"
      ],
      "text/plain": [
       "        page      date                                      title  \\\n",
       "0          1  20040223                     (표)ECN 시장 거래현황 종합(23일)   \n",
       "1          1  20040223                      [표]ECN 하락률 상위종목 - 23일   \n",
       "2          1  20040223                      [표]ECN 상승률 상위종목 - 23일   \n",
       "3          1  20040223                      [표]ECN 거래량 상위종목 - 23일   \n",
       "4          2  20040223                    (표)투신권 수익증권 자금 동향(2/20)   \n",
       "...      ...       ...                                        ...   \n",
       "372969     7  20211110            MSCI 지수 편입 기대 종목은…엘앤에프·F&F '유력'   \n",
       "372970     7  20211110  외국인, 지난 달 韓 주식 3.3조 팔아...시총 비중 금융위기 이후 최저   \n",
       "372971     7  20211110          외국인, 지난달 韓주식 3조3천억원 순매도…한달만에 '팔자'   \n",
       "372972     7  20211110        中·금리 때문에…美증시 달리는데 코스피 뒷걸음질, 언제 쫓아가나   \n",
       "372973     7  20211110                  엔터주 테마탄 디어유 오늘 상장…‘따상' 가나   \n",
       "\n",
       "                                                      url  \n",
       "0       https://finance.naver.com//news/news_read.nave...  \n",
       "1       https://finance.naver.com//news/news_read.nave...  \n",
       "2       https://finance.naver.com//news/news_read.nave...  \n",
       "3       https://finance.naver.com//news/news_read.nave...  \n",
       "4       https://finance.naver.com//news/news_read.nave...  \n",
       "...                                                   ...  \n",
       "372969  https://finance.naver.com//news/news_read.nave...  \n",
       "372970  https://finance.naver.com//news/news_read.nave...  \n",
       "372971  https://finance.naver.com//news/news_read.nave...  \n",
       "372972  https://finance.naver.com//news/news_read.nave...  \n",
       "372973  https://finance.naver.com//news/news_read.nave...  \n",
       "\n",
       "[372974 rows x 4 columns]"
      ]
     },
     "execution_count": 4,
     "metadata": {},
     "output_type": "execute_result"
    }
   ],
   "source": [
    "sihwang"
   ]
  },
  {
   "cell_type": "code",
   "execution_count": 5,
   "metadata": {},
   "outputs": [],
   "source": [
    "sihwang.to_csv('./naver_sihwang_url.csv', index=False)"
   ]
  },
  {
   "cell_type": "markdown",
   "metadata": {},
   "source": [
    "# 네이버 금융 : 해외증시"
   ]
  },
  {
   "cell_type": "code",
   "execution_count": 8,
   "metadata": {},
   "outputs": [],
   "source": [
    "foreign_url = 'https://finance.naver.com/news/news_list.naver?mode=LSS3D&section_id=101&section_id2=258&section_id3=403&date='\n",
    "dates = pd.date_range('2003-01-01', '2021-11-10').strftime('%Y%m%d').tolist()\n",
    "\n",
    "foreign = getNaver(foreign_url, dates)"
   ]
  },
  {
   "cell_type": "code",
   "execution_count": 10,
   "metadata": {},
   "outputs": [],
   "source": [
    "foreign.to_csv('./nadver_foreign_url.csv', index=False)"
   ]
  }
 ],
 "metadata": {
  "interpreter": {
   "hash": "17164ff5f922defefa3fdd6afe0c064ec3948eda8922a4bbab17a59b9b0232dc"
  },
  "kernelspec": {
   "display_name": "Python 3.8.8 64-bit ('venv': venv)",
   "language": "python",
   "name": "python3"
  },
  "language_info": {
   "codemirror_mode": {
    "name": "ipython",
    "version": 3
   },
   "file_extension": ".py",
   "mimetype": "text/x-python",
   "name": "python",
   "nbconvert_exporter": "python",
   "pygments_lexer": "ipython3",
   "version": "3.8.8"
  },
  "orig_nbformat": 4
 },
 "nbformat": 4,
 "nbformat_minor": 2
}
