{
 "cells": [
  {
   "cell_type": "code",
   "execution_count": 1,
   "metadata": {},
   "outputs": [],
   "source": [
    "import pandas as pd\n",
    "import numpy as np\n",
    "pd.set_option('display.max_rows', 1000, 'display.max_columns', 100, 'max_colwidth', None)"
   ]
  },
  {
   "cell_type": "code",
   "execution_count": 2,
   "metadata": {},
   "outputs": [
    {
     "data": {
      "text/plain": [
       "(595824, 7)"
      ]
     },
     "execution_count": 2,
     "metadata": {},
     "output_type": "execute_result"
    }
   ],
   "source": [
    "df = pd.read_csv('./input/articles_title_headwords.csv')\n",
    "total_dtm = pd.read_csv('./total_dtm.csv')\n",
    "df.shape"
   ]
  },
  {
   "cell_type": "code",
   "execution_count": 3,
   "metadata": {},
   "outputs": [
    {
     "data": {
      "text/html": [
       "<div>\n",
       "<style scoped>\n",
       "    .dataframe tbody tr th:only-of-type {\n",
       "        vertical-align: middle;\n",
       "    }\n",
       "\n",
       "    .dataframe tbody tr th {\n",
       "        vertical-align: top;\n",
       "    }\n",
       "\n",
       "    .dataframe thead th {\n",
       "        text-align: right;\n",
       "    }\n",
       "</style>\n",
       "<table border=\"1\" class=\"dataframe\">\n",
       "  <thead>\n",
       "    <tr style=\"text-align: right;\">\n",
       "      <th></th>\n",
       "      <th>index</th>\n",
       "      <th>count</th>\n",
       "      <th>band</th>\n",
       "    </tr>\n",
       "  </thead>\n",
       "  <tbody>\n",
       "    <tr>\n",
       "      <th>0</th>\n",
       "      <td>가격</td>\n",
       "      <td>1875</td>\n",
       "      <td>87</td>\n",
       "    </tr>\n",
       "    <tr>\n",
       "      <th>1</th>\n",
       "      <td>가계</td>\n",
       "      <td>157</td>\n",
       "      <td>15</td>\n",
       "    </tr>\n",
       "    <tr>\n",
       "      <th>2</th>\n",
       "      <td>가계부채</td>\n",
       "      <td>66</td>\n",
       "      <td>8</td>\n",
       "    </tr>\n",
       "    <tr>\n",
       "      <th>3</th>\n",
       "      <td>가권</td>\n",
       "      <td>1375</td>\n",
       "      <td>10</td>\n",
       "    </tr>\n",
       "    <tr>\n",
       "      <th>4</th>\n",
       "      <td>가까이</td>\n",
       "      <td>67</td>\n",
       "      <td>15</td>\n",
       "    </tr>\n",
       "    <tr>\n",
       "      <th>...</th>\n",
       "      <td>...</td>\n",
       "      <td>...</td>\n",
       "      <td>...</td>\n",
       "    </tr>\n",
       "    <tr>\n",
       "      <th>1542</th>\n",
       "      <td>흐름</td>\n",
       "      <td>5882</td>\n",
       "      <td>102</td>\n",
       "    </tr>\n",
       "    <tr>\n",
       "      <th>1543</th>\n",
       "      <td>흑자</td>\n",
       "      <td>703</td>\n",
       "      <td>65</td>\n",
       "    </tr>\n",
       "    <tr>\n",
       "      <th>1544</th>\n",
       "      <td>흥행</td>\n",
       "      <td>288</td>\n",
       "      <td>40</td>\n",
       "    </tr>\n",
       "    <tr>\n",
       "      <th>1545</th>\n",
       "      <td>희망</td>\n",
       "      <td>230</td>\n",
       "      <td>21</td>\n",
       "    </tr>\n",
       "    <tr>\n",
       "      <th>1546</th>\n",
       "      <td>희비</td>\n",
       "      <td>79</td>\n",
       "      <td>6</td>\n",
       "    </tr>\n",
       "  </tbody>\n",
       "</table>\n",
       "<p>1547 rows × 3 columns</p>\n",
       "</div>"
      ],
      "text/plain": [
       "     index  count  band\n",
       "0       가격   1875    87\n",
       "1       가계    157    15\n",
       "2     가계부채     66     8\n",
       "3       가권   1375    10\n",
       "4      가까이     67    15\n",
       "...    ...    ...   ...\n",
       "1542    흐름   5882   102\n",
       "1543    흑자    703    65\n",
       "1544    흥행    288    40\n",
       "1545    희망    230    21\n",
       "1546    희비     79     6\n",
       "\n",
       "[1547 rows x 3 columns]"
      ]
     },
     "execution_count": 3,
     "metadata": {},
     "output_type": "execute_result"
    }
   ],
   "source": [
    "total_dtm"
   ]
  },
  {
   "cell_type": "code",
   "execution_count": 4,
   "metadata": {},
   "outputs": [
    {
     "data": {
      "text/plain": [
       "424"
      ]
     },
     "execution_count": 4,
     "metadata": {},
     "output_type": "execute_result"
    }
   ],
   "source": [
    "words = ['통화', '최고', '고용', '총선', '관건', '급등', '긴장', '불안', '제재', '안심', '당선', '회복', '공매도', '주의', '그린', '팔자', '대선', '흐름', '불구', '베팅', '개발', '강세', '우수', '블루', '동양종금', '지연', '투자자', '부진', '대표', '개최', '해소', '교체', '경신', '소재', '리먼', '여전', '만기', '헝다', '사망', '눈길', '불가피', '위안', '도전', '규제', '버블', '위협', '제한', '알리바바', '등록', '선거', '호조', '미래', '레버리지', '훈풍', '부담', '변동성', '바닥', '육박', '리더', '하락', '최대', '공략', '상보', '변수', '가계부채', '금지', '상회', '차익', '랠리', '상환', '추진', '어닝', '서브프라임', '도입', '거품', '등락', '폭탄', '대규모', '검토', '워스트', '과잉', '제외', '반전', '보유', '금리인하', '북한', '고조', '강등', '경협', '대장', '대박', '실망', '통화정책', '가능성', '카드', '발동', '배열', '긴축', '고지', '발전', '북핵', '부족', '민감', '주시', '악재', '시그널', '실업', '흥행', '절하', '위험', '초대형', '간다', '상향', '진정', '선방', '마이너스', '위기', '갈등', '보합', '대안', '방어', '매입', '확산', '완화', '날개', '탈출', '주춤', '개장', '귀환', '출시', '대우조선', '활짝', '델타', '약세', '중단', '디디', '취임', '메르스', '골든', '우투', '원화', '부양', '동학', '분할', '손보', '이슈', '도달', '탈환', '최악', '지지', '안착', '패스', '쇼크', '대주', '급락', '이벤트', '리스크', '촉각', '긴급', '소송', '개편안', '투자', '원전', '도약', '사고', '모멘텀', '공개', '발굴', '불황', '호재', '고수', '라임', '부실', '매력', '선도', '성공', '손실', '현금', '외국', '변동', '양적완화', '예측', '안도', '줄줄이', '목표', '법인세', '개막', '재개', '신용등급', '유입', '사자', '능가', '급증', '출구', '브렉', '테이퍼링', '모집', '깜짝', '오른', '확보', '공모', '수급', '근접', '선호', '선택', '반등', '주목', '감소', '변화', '가입', '친환경', '달성', '약화', '정상화', '뒷걸음', '개시', '외국인', '협약', '김정일', '가소', '독점', '임박', '관심', '동결', '낙관', '남북', '보장', '원대', '확정', '우려', '유효', '희망', '시트', '역배', '낙폭', '대형주', '순이익', '루머', '충격', '대출', '천스닥', '메타', '신청', '이하', '맥스', '팬데믹', '붕괴', '유행', '이익', '과대', '관망', '유상증자', '결합', '양호', '플러스', '유지', '연금', '증세', '경색', '가시', '분쟁', '반발', '확대', '매수', '유로존', '가치', '오름', '조정', '적자', '주의보', '감리', '안전', '세미', '접종', '혁산', '정체', '강화', '기대', '최고점', '경고', '심리', '발표', '부양책', '눈치', '대체', '대비', '기념', '사태', '심사', '열풍', '게임스탑', '계약', '미사일', '압력', '합의', '돈나무', '실전', '마지막', '단독', '만기일', '일부', '그리스', '타결', '둔화', '패닉', '폐렴', '대지진', '출발', '이탈', '출범', '외인', '리비아', '서학', '사드', '고공', '상승', '혜택', '와락', '실패', '파월', '이상인상', '폭락', '호전', '위축', '활발', '수익', '유동성', '화이자', '폭풍', '신호', '협상', '사상', '통합', '흑자', '증가', '공포', '승인', '매도', '블루칩', '상승세', '희비', '제자리', '감전', '악화', '최저', '저가', '부각', '인하', '공세', '팔인', '화제', '환매', '치료', '백신', '구조조정', '대상', '폭발', '세력', '소비', '수혜', '피해', '디폴트', '우위', '부채', '인플레이션', '폭등', '급감', '매각', '바이', '과열', '논란', '셧다운', '발목', '배당', '과세', '껑충', '횡보', '돌파', '러브콜', '상한', '구제', '성장', '문제', '머스크', '금융위기', '코로나', '사기', '추락', '수요', '협력', '일제', '개선', '침체', '가능', '일시', '의전', '쌍끌이', '개편', '감산', '진출', '유망', '인플레', '확진', '여파', '안정', '편입', '엎치락뒤치락', '역대', '지속', '인기', '불확실', '매출', '눈앞', '우한', '통과', '하향', '정상', '후퇴', '공시', '반락', '활성화', '긍정', '개혁', '리치']\n",
    "len(words)"
   ]
  },
  {
   "cell_type": "code",
   "execution_count": 5,
   "metadata": {},
   "outputs": [
    {
     "name": "stderr",
     "output_type": "stream",
     "text": [
      "f:\\workspace\\venv\\lib\\site-packages\\pandas\\core\\indexing.py:1684: PerformanceWarning: DataFrame is highly fragmented.  This is usually the result of calling `frame.insert` many times, which has poor performance.  Consider using pd.concat instead.  To get a de-fragmented frame, use `newframe = frame.copy()`\n",
      "  self.obj[key] = infer_fill_value(value)\n"
     ]
    }
   ],
   "source": [
    "for word in words:\n",
    "    df.loc[df['headwords'].str.contains(word), word] = 1"
   ]
  },
  {
   "cell_type": "code",
   "execution_count": 6,
   "metadata": {},
   "outputs": [
    {
     "data": {
      "text/plain": [
       "251541871"
      ]
     },
     "execution_count": 6,
     "metadata": {},
     "output_type": "execute_result"
    }
   ],
   "source": [
    "df.isna().sum().sum()"
   ]
  },
  {
   "cell_type": "code",
   "execution_count": 7,
   "metadata": {},
   "outputs": [
    {
     "data": {
      "text/plain": [
       "0"
      ]
     },
     "execution_count": 7,
     "metadata": {},
     "output_type": "execute_result"
    }
   ],
   "source": [
    "df.fillna(value=0, inplace=True)\n",
    "df.isna().sum().sum()"
   ]
  },
  {
   "cell_type": "code",
   "execution_count": 10,
   "metadata": {},
   "outputs": [],
   "source": [
    "def resampleArticle(a, b):\n",
    "    if a < '2004-02-23':\n",
    "        result = b * 3\n",
    "    elif a < '2011-12-14':\n",
    "        result = b * 1.5\n",
    "    else:\n",
    "        result = b\n",
    "    return result\n",
    "\n",
    "df[words] = df.apply(lambda x: resampleArticle(x['date'], x[words]), axis=1)"
   ]
  },
  {
   "cell_type": "code",
   "execution_count": 16,
   "metadata": {},
   "outputs": [],
   "source": [
    "date_dtm = df.groupby('date').sum()\n",
    "date_dtm.reset_index(inplace=True)"
   ]
  },
  {
   "cell_type": "code",
   "execution_count": 17,
   "metadata": {},
   "outputs": [],
   "source": [
    "date_dtm.to_csv('./date_dtm.csv', index=False)"
   ]
  }
 ],
 "metadata": {
  "interpreter": {
   "hash": "17164ff5f922defefa3fdd6afe0c064ec3948eda8922a4bbab17a59b9b0232dc"
  },
  "kernelspec": {
   "display_name": "Python 3.8.8 64-bit ('venv': venv)",
   "language": "python",
   "name": "python3"
  },
  "language_info": {
   "codemirror_mode": {
    "name": "ipython",
    "version": 3
   },
   "file_extension": ".py",
   "mimetype": "text/x-python",
   "name": "python",
   "nbconvert_exporter": "python",
   "pygments_lexer": "ipython3",
   "version": "3.8.8"
  },
  "orig_nbformat": 4
 },
 "nbformat": 4,
 "nbformat_minor": 2
}
