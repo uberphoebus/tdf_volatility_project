{
 "cells": [
  {
   "cell_type": "markdown",
   "metadata": {},
   "source": [
    "# imports"
   ]
  },
  {
   "cell_type": "code",
   "execution_count": 1,
   "metadata": {},
   "outputs": [],
   "source": [
    "import pandas as pd\n",
    "import numpy as np\n",
    "\n",
    "import requests\n",
    "from bs4 import BeautifulSoup"
   ]
  },
  {
   "cell_type": "markdown",
   "metadata": {},
   "source": [
    "# def"
   ]
  },
  {
   "cell_type": "code",
   "execution_count": 114,
   "metadata": {},
   "outputs": [],
   "source": [
    "def getHankyong(base_url, pages):\n",
    "    \n",
    "    articles_list = []\n",
    "    for page in pages:\n",
    "        url = base_url + str(page)\n",
    "        response = requests.get(url)\n",
    "        \n",
    "        if response.status_code == 200:\n",
    "            html = response.text\n",
    "            soup = BeautifulSoup(html, 'html.parser')\n",
    "            \n",
    "            articles = soup.select_one('#container > div.wrap_cont > div.inner_list').select('li')\n",
    "            for article in articles:\n",
    "                try:\n",
    "                    date  = article.select_one('span.time').text\n",
    "                    title = article.select_one('h3.tit').text\n",
    "                    url   = article.select_one('h3.tit').select_one('a').get('href')\n",
    "                    \n",
    "                    article_row = []\n",
    "                    article_row.append(page)\n",
    "                    article_row.append(date)\n",
    "                    article_row.append(title)\n",
    "                    article_row.append(url)\n",
    "                    \n",
    "                    articles_list.append(article_row)\n",
    "                except Exception:\n",
    "                    continue\n",
    "        else:\n",
    "            print('error')\n",
    "    \n",
    "    df = pd.DataFrame(articles_list, columns=['page', 'date', 'title', 'url'])\n",
    "    \n",
    "    return df"
   ]
  },
  {
   "cell_type": "markdown",
   "metadata": {},
   "source": [
    "# 한국경제 시황"
   ]
  },
  {
   "cell_type": "code",
   "execution_count": 118,
   "metadata": {},
   "outputs": [],
   "source": [
    "sihwang = getHankyong('https://www.hankyung.com/finance/0101?page=', range(1, 3164))"
   ]
  },
  {
   "cell_type": "code",
   "execution_count": 119,
   "metadata": {},
   "outputs": [
    {
     "data": {
      "text/html": [
       "<div>\n",
       "<style scoped>\n",
       "    .dataframe tbody tr th:only-of-type {\n",
       "        vertical-align: middle;\n",
       "    }\n",
       "\n",
       "    .dataframe tbody tr th {\n",
       "        vertical-align: top;\n",
       "    }\n",
       "\n",
       "    .dataframe thead th {\n",
       "        text-align: right;\n",
       "    }\n",
       "</style>\n",
       "<table border=\"1\" class=\"dataframe\">\n",
       "  <thead>\n",
       "    <tr style=\"text-align: right;\">\n",
       "      <th></th>\n",
       "      <th>page</th>\n",
       "      <th>date</th>\n",
       "      <th>title</th>\n",
       "      <th>url</th>\n",
       "    </tr>\n",
       "  </thead>\n",
       "  <tbody>\n",
       "    <tr>\n",
       "      <th>0</th>\n",
       "      <td>1</td>\n",
       "      <td>2021.11.10 15:55</td>\n",
       "      <td>코스피, 물가 부담에 하락…2930선까지 밀려</td>\n",
       "      <td>https://www.hankyung.com/finance/article/20211...</td>\n",
       "    </tr>\n",
       "    <tr>\n",
       "      <th>1</th>\n",
       "      <td>1</td>\n",
       "      <td>2021.11.10 15:36</td>\n",
       "      <td>(마감)코스피 기관 2355억 매도 우위</td>\n",
       "      <td>https://www.hankyung.com/finance/article/20211...</td>\n",
       "    </tr>\n",
       "    <tr>\n",
       "      <th>2</th>\n",
       "      <td>1</td>\n",
       "      <td>2021.11.10 15:35</td>\n",
       "      <td>(마감)프로그램 1707억 매도 우위</td>\n",
       "      <td>https://www.hankyung.com/finance/article/20211...</td>\n",
       "    </tr>\n",
       "    <tr>\n",
       "      <th>3</th>\n",
       "      <td>1</td>\n",
       "      <td>2021.11.10 15:34</td>\n",
       "      <td>(마감)코스피 외국인 236억 순매도</td>\n",
       "      <td>https://www.hankyung.com/finance/article/20211...</td>\n",
       "    </tr>\n",
       "    <tr>\n",
       "      <th>4</th>\n",
       "      <td>1</td>\n",
       "      <td>2021.11.10 09:13</td>\n",
       "      <td>오를 땐 디커플링이었는데…코스피, 美증시 따라 하락출발</td>\n",
       "      <td>https://www.hankyung.com/finance/article/20211...</td>\n",
       "    </tr>\n",
       "    <tr>\n",
       "      <th>...</th>\n",
       "      <td>...</td>\n",
       "      <td>...</td>\n",
       "      <td>...</td>\n",
       "      <td>...</td>\n",
       "    </tr>\n",
       "    <tr>\n",
       "      <th>63080</th>\n",
       "      <td>3163</td>\n",
       "      <td>2000.03.20</td>\n",
       "      <td>[증시산책] 경제성</td>\n",
       "      <td>https://www.hankyung.com/finance/article/20000...</td>\n",
       "    </tr>\n",
       "    <tr>\n",
       "      <th>63081</th>\n",
       "      <td>3163</td>\n",
       "      <td>2000.03.18</td>\n",
       "      <td>증시자금 거래소 이동 .. 주가 14P 상승 855</td>\n",
       "      <td>https://www.hankyung.com/finance/article/20000...</td>\n",
       "    </tr>\n",
       "    <tr>\n",
       "      <th>63082</th>\n",
       "      <td>3163</td>\n",
       "      <td>2000.03.18</td>\n",
       "      <td>[증시산책] 게으름뱅이 농사</td>\n",
       "      <td>https://www.hankyung.com/finance/article/20000...</td>\n",
       "    </tr>\n",
       "    <tr>\n",
       "      <th>63083</th>\n",
       "      <td>3163</td>\n",
       "      <td>2000.03.18</td>\n",
       "      <td>[주식시황] (17일) 대형주/옐로칩 상승 주도</td>\n",
       "      <td>https://www.hankyung.com/finance/article/20000...</td>\n",
       "    </tr>\n",
       "    <tr>\n",
       "      <th>63084</th>\n",
       "      <td>3163</td>\n",
       "      <td>2000.03.17</td>\n",
       "      <td>[한경 애널리스트 분석] '건설업'..주택전문업체 수익률 호조</td>\n",
       "      <td>https://www.hankyung.com/finance/article/20000...</td>\n",
       "    </tr>\n",
       "  </tbody>\n",
       "</table>\n",
       "<p>63085 rows × 4 columns</p>\n",
       "</div>"
      ],
      "text/plain": [
       "       page              date                               title  \\\n",
       "0         1  2021.11.10 15:55           코스피, 물가 부담에 하락…2930선까지 밀려   \n",
       "1         1  2021.11.10 15:36              (마감)코스피 기관 2355억 매도 우위   \n",
       "2         1  2021.11.10 15:35                (마감)프로그램 1707억 매도 우위   \n",
       "3         1  2021.11.10 15:34                (마감)코스피 외국인 236억 순매도   \n",
       "4         1  2021.11.10 09:13      오를 땐 디커플링이었는데…코스피, 美증시 따라 하락출발   \n",
       "...     ...               ...                                 ...   \n",
       "63080  3163        2000.03.20                          [증시산책] 경제성   \n",
       "63081  3163        2000.03.18        증시자금 거래소 이동 .. 주가 14P 상승 855   \n",
       "63082  3163        2000.03.18                     [증시산책] 게으름뱅이 농사   \n",
       "63083  3163        2000.03.18          [주식시황] (17일) 대형주/옐로칩 상승 주도   \n",
       "63084  3163        2000.03.17  [한경 애널리스트 분석] '건설업'..주택전문업체 수익률 호조   \n",
       "\n",
       "                                                     url  \n",
       "0      https://www.hankyung.com/finance/article/20211...  \n",
       "1      https://www.hankyung.com/finance/article/20211...  \n",
       "2      https://www.hankyung.com/finance/article/20211...  \n",
       "3      https://www.hankyung.com/finance/article/20211...  \n",
       "4      https://www.hankyung.com/finance/article/20211...  \n",
       "...                                                  ...  \n",
       "63080  https://www.hankyung.com/finance/article/20000...  \n",
       "63081  https://www.hankyung.com/finance/article/20000...  \n",
       "63082  https://www.hankyung.com/finance/article/20000...  \n",
       "63083  https://www.hankyung.com/finance/article/20000...  \n",
       "63084  https://www.hankyung.com/finance/article/20000...  \n",
       "\n",
       "[63085 rows x 4 columns]"
      ]
     },
     "execution_count": 119,
     "metadata": {},
     "output_type": "execute_result"
    }
   ],
   "source": [
    "sihwang"
   ]
  },
  {
   "cell_type": "code",
   "execution_count": 120,
   "metadata": {},
   "outputs": [],
   "source": [
    "sihwang.to_csv('./hankyoung_sihwang_url.csv', index=False)"
   ]
  },
  {
   "cell_type": "code",
   "execution_count": 188,
   "metadata": {},
   "outputs": [
    {
     "data": {
      "text/plain": [
       "'https://www.hankyung.com/finance/article/2021111098036'"
      ]
     },
     "execution_count": 188,
     "metadata": {},
     "output_type": "execute_result"
    }
   ],
   "source": [
    "sihwang.iloc[0, 3]"
   ]
  },
  {
   "cell_type": "code",
   "execution_count": 149,
   "metadata": {},
   "outputs": [],
   "source": [
    "import time"
   ]
  },
  {
   "cell_type": "code",
   "execution_count": 186,
   "metadata": {},
   "outputs": [],
   "source": [
    "def getContent(article_url):\n",
    "    # time.sleep(10)\n",
    "    response = requests.get(article_url)\n",
    "    \n",
    "    if response.status_code == 200:\n",
    "        html = response.text\n",
    "        # soup = BeautifulSoup(html, 'html.parser')\n",
    "        \n",
    "        # content = soup.select('#articletxt')\n",
    "        \n",
    "        \n",
    "    else:\n",
    "        print('response :', response.status_code)\n",
    "    \n",
    "    return response"
   ]
  },
  {
   "cell_type": "code",
   "execution_count": 191,
   "metadata": {},
   "outputs": [
    {
     "name": "stdout",
     "output_type": "stream",
     "text": [
      "response : 404\n"
     ]
    },
    {
     "data": {
      "text/plain": [
       "<Response [404]>"
      ]
     },
     "execution_count": 191,
     "metadata": {},
     "output_type": "execute_result"
    }
   ],
   "source": [
    "getContent('https://www.hankyung.com/finance/article/2021110949787')"
   ]
  },
  {
   "cell_type": "code",
   "execution_count": 198,
   "metadata": {},
   "outputs": [
    {
     "data": {
      "text/plain": [
       "<Response [404]>"
      ]
     },
     "execution_count": 198,
     "metadata": {},
     "output_type": "execute_result"
    }
   ],
   "source": [
    "requests.get('https://www.hankyung.com/finance/article/2021111098036')"
   ]
  },
  {
   "cell_type": "markdown",
   "metadata": {},
   "source": [
    "# 한국경제 해외증시"
   ]
  },
  {
   "cell_type": "code",
   "execution_count": 193,
   "metadata": {},
   "outputs": [],
   "source": [
    "foreign = getHankyong('https://www.hankyung.com/finance/0105?page=', range(1, 1872))"
   ]
  },
  {
   "cell_type": "code",
   "execution_count": 194,
   "metadata": {},
   "outputs": [
    {
     "data": {
      "text/html": [
       "<div>\n",
       "<style scoped>\n",
       "    .dataframe tbody tr th:only-of-type {\n",
       "        vertical-align: middle;\n",
       "    }\n",
       "\n",
       "    .dataframe tbody tr th {\n",
       "        vertical-align: top;\n",
       "    }\n",
       "\n",
       "    .dataframe thead th {\n",
       "        text-align: right;\n",
       "    }\n",
       "</style>\n",
       "<table border=\"1\" class=\"dataframe\">\n",
       "  <thead>\n",
       "    <tr style=\"text-align: right;\">\n",
       "      <th></th>\n",
       "      <th>page</th>\n",
       "      <th>date</th>\n",
       "      <th>title</th>\n",
       "      <th>url</th>\n",
       "    </tr>\n",
       "  </thead>\n",
       "  <tbody>\n",
       "    <tr>\n",
       "      <th>0</th>\n",
       "      <td>1</td>\n",
       "      <td>2021.11.10 17:40</td>\n",
       "      <td>올해 주가 600% 뛴 업스타트홀딩스, 3분기 매출 250% 증가</td>\n",
       "      <td>https://www.hankyung.com/finance/article/20211...</td>\n",
       "    </tr>\n",
       "    <tr>\n",
       "      <th>1</th>\n",
       "      <td>1</td>\n",
       "      <td>2021.11.10 17:35</td>\n",
       "      <td>[오늘의 한경 글로벌마켓] 페이팔, 실적악화 우려에 주가 10% 급락</td>\n",
       "      <td>https://www.hankyung.com/finance/article/20211...</td>\n",
       "    </tr>\n",
       "    <tr>\n",
       "      <th>2</th>\n",
       "      <td>1</td>\n",
       "      <td>2021.11.10 15:01</td>\n",
       "      <td>일본 닛케이지수 0.61% 하락 마감</td>\n",
       "      <td>https://www.hankyung.com/finance/article/20211...</td>\n",
       "    </tr>\n",
       "    <tr>\n",
       "      <th>3</th>\n",
       "      <td>1</td>\n",
       "      <td>2021.11.10 13:30</td>\n",
       "      <td>중국 상하이종합지수 오전장 1.20% 하락 마감</td>\n",
       "      <td>https://www.hankyung.com/finance/article/20211...</td>\n",
       "    </tr>\n",
       "    <tr>\n",
       "      <th>4</th>\n",
       "      <td>1</td>\n",
       "      <td>2021.11.10 11:30</td>\n",
       "      <td>일본 닛케이 오전장 0.30% 하락 마감</td>\n",
       "      <td>https://www.hankyung.com/finance/article/20211...</td>\n",
       "    </tr>\n",
       "    <tr>\n",
       "      <th>...</th>\n",
       "      <td>...</td>\n",
       "      <td>...</td>\n",
       "      <td>...</td>\n",
       "      <td>...</td>\n",
       "    </tr>\n",
       "    <tr>\n",
       "      <th>37340</th>\n",
       "      <td>1871</td>\n",
       "      <td>2000.03.28</td>\n",
       "      <td>[해외증시] (27일) 일본/대만/홍콩 등 아시아 큰폭 상승</td>\n",
       "      <td>https://www.hankyung.com/finance/article/20000...</td>\n",
       "    </tr>\n",
       "    <tr>\n",
       "      <th>37341</th>\n",
       "      <td>1871</td>\n",
       "      <td>2000.03.27</td>\n",
       "      <td>시스코, 싯가총액 최대기업 부상 .. 24일 나스닥 MS 제쳐</td>\n",
       "      <td>https://www.hankyung.com/finance/article/20000...</td>\n",
       "    </tr>\n",
       "    <tr>\n",
       "      <th>37342</th>\n",
       "      <td>1871</td>\n",
       "      <td>2000.03.24</td>\n",
       "      <td>시스코 시스템스 싯가총액 5천억달러 돌파</td>\n",
       "      <td>https://www.hankyung.com/finance/article/20000...</td>\n",
       "    </tr>\n",
       "    <tr>\n",
       "      <th>37343</th>\n",
       "      <td>1871</td>\n",
       "      <td>2000.03.24</td>\n",
       "      <td>현대선물, 사이버 모의선물 투자대회 개최</td>\n",
       "      <td>https://www.hankyung.com/finance/article/20000...</td>\n",
       "    </tr>\n",
       "    <tr>\n",
       "      <th>37344</th>\n",
       "      <td>1871</td>\n",
       "      <td>2000.03.22</td>\n",
       "      <td>미국 인터넷 대주주 발 뺀다..지난달 주식처분 급증...234억달러 신고</td>\n",
       "      <td>https://www.hankyung.com/finance/article/20000...</td>\n",
       "    </tr>\n",
       "  </tbody>\n",
       "</table>\n",
       "<p>37345 rows × 4 columns</p>\n",
       "</div>"
      ],
      "text/plain": [
       "       page              date                                     title  \\\n",
       "0         1  2021.11.10 17:40      올해 주가 600% 뛴 업스타트홀딩스, 3분기 매출 250% 증가   \n",
       "1         1  2021.11.10 17:35    [오늘의 한경 글로벌마켓] 페이팔, 실적악화 우려에 주가 10% 급락   \n",
       "2         1  2021.11.10 15:01                      일본 닛케이지수 0.61% 하락 마감   \n",
       "3         1  2021.11.10 13:30                중국 상하이종합지수 오전장 1.20% 하락 마감   \n",
       "4         1  2021.11.10 11:30                    일본 닛케이 오전장 0.30% 하락 마감   \n",
       "...     ...               ...                                       ...   \n",
       "37340  1871        2000.03.28         [해외증시] (27일) 일본/대만/홍콩 등 아시아 큰폭 상승   \n",
       "37341  1871        2000.03.27        시스코, 싯가총액 최대기업 부상 .. 24일 나스닥 MS 제쳐   \n",
       "37342  1871        2000.03.24                    시스코 시스템스 싯가총액 5천억달러 돌파   \n",
       "37343  1871        2000.03.24                    현대선물, 사이버 모의선물 투자대회 개최   \n",
       "37344  1871        2000.03.22  미국 인터넷 대주주 발 뺀다..지난달 주식처분 급증...234억달러 신고   \n",
       "\n",
       "                                                     url  \n",
       "0      https://www.hankyung.com/finance/article/20211...  \n",
       "1      https://www.hankyung.com/finance/article/20211...  \n",
       "2      https://www.hankyung.com/finance/article/20211...  \n",
       "3      https://www.hankyung.com/finance/article/20211...  \n",
       "4      https://www.hankyung.com/finance/article/20211...  \n",
       "...                                                  ...  \n",
       "37340  https://www.hankyung.com/finance/article/20000...  \n",
       "37341  https://www.hankyung.com/finance/article/20000...  \n",
       "37342  https://www.hankyung.com/finance/article/20000...  \n",
       "37343  https://www.hankyung.com/finance/article/20000...  \n",
       "37344  https://www.hankyung.com/finance/article/20000...  \n",
       "\n",
       "[37345 rows x 4 columns]"
      ]
     },
     "execution_count": 194,
     "metadata": {},
     "output_type": "execute_result"
    }
   ],
   "source": [
    "foreign"
   ]
  },
  {
   "cell_type": "code",
   "execution_count": 195,
   "metadata": {},
   "outputs": [],
   "source": [
    "foreign.to_csv('./hankyoung_foreign_url.csv', index=False)"
   ]
  }
 ],
 "metadata": {
  "interpreter": {
   "hash": "17164ff5f922defefa3fdd6afe0c064ec3948eda8922a4bbab17a59b9b0232dc"
  },
  "kernelspec": {
   "display_name": "Python 3.8.8 64-bit ('venv': venv)",
   "language": "python",
   "name": "python3"
  },
  "language_info": {
   "codemirror_mode": {
    "name": "ipython",
    "version": 3
   },
   "file_extension": ".py",
   "mimetype": "text/x-python",
   "name": "python",
   "nbconvert_exporter": "python",
   "pygments_lexer": "ipython3",
   "version": "3.8.8"
  },
  "orig_nbformat": 4
 },
 "nbformat": 4,
 "nbformat_minor": 2
}
