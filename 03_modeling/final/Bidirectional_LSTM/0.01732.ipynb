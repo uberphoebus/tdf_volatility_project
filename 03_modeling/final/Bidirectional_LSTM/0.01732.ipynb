{
 "cells": [
  {
   "cell_type": "code",
   "execution_count": 1,
   "id": "e54b8112-095e-4b96-b409-086817e76dc5",
   "metadata": {},
   "outputs": [],
   "source": [
    "import pandas as pd\n",
    "import numpy as np\n",
    "import matplotlib as mpl\n",
    "import matplotlib.pyplot as plt\n",
    "import seaborn as sns\n",
    "\n",
    "mpl.rcParams['figure.figsize'] = (8, 6)\n",
    "mpl.rcParams['axes.grid'] = False\n",
    "plt.style.use('seaborn')\n",
    "plt.rcParams['figure.figsize'] = [8, 4.5]\n",
    "plt.rcParams['figure.dpi'] = 300\n",
    "\n",
    "# 텐서 씨드 고정\n",
    "import tensorflow as tf\n",
    "import random\n",
    "import os\n",
    "#글로벌 시드\n",
    "class config:\n",
    "    seed = 1234\n",
    "    device = \"cuda:0\"    \n",
    "\n",
    "def seed_everything(seed: int = 1234):\n",
    "    random.seed(seed)\n",
    "    np.random.seed(seed)\n",
    "    os.environ[\"PYTHONHASHSEED\"] = str(seed)\n",
    "    tf.random.set_seed(seed)\n",
    "    \n",
    "seed_everything(config.seed)\n",
    "\n",
    "import tensorflow as tf\n",
    "import numpy as np\n",
    "import pandas as pd\n",
    "import matplotlib.pyplot as plt\n",
    "from tensorflow.keras.models import Sequential\n",
    "from tensorflow.keras.layers import LSTM, Dense, Dropout, GRU,Bidirectional, Input\n",
    "from tensorflow.keras.callbacks import EarlyStopping\n",
    "\n",
    "from keras.models import Model\n",
    "\n",
    "seed =1234\n",
    "\n",
    "pd.set_option('display.max_rows', 10, 'display.max_columns', 500, 'max_colwidth', None)"
   ]
  },
  {
   "cell_type": "code",
   "execution_count": 2,
   "id": "97fd7d6d-7666-4921-a9f7-0d6005941d86",
   "metadata": {},
   "outputs": [],
   "source": [
    "from keras.layers.advanced_activations import LeakyReLU"
   ]
  },
  {
   "cell_type": "code",
   "execution_count": 3,
   "id": "16c1a4fe-7039-4229-97d8-51a9fdc3e422",
   "metadata": {},
   "outputs": [
    {
     "data": {
      "text/plain": [
       "(4598, 55)"
      ]
     },
     "execution_count": 3,
     "metadata": {},
     "output_type": "execute_result"
    }
   ],
   "source": [
    "# df = pd.read_csv('./kospi.csv')\n",
    "df = pd.read_csv('./baseline_hv.csv')\n",
    "\n",
    "df.shape"
   ]
  },
  {
   "cell_type": "code",
   "execution_count": 4,
   "id": "4364c6e9-7e42-4235-a442-b8c20f3ca7a5",
   "metadata": {},
   "outputs": [
    {
     "data": {
      "text/html": [
       "<div>\n",
       "<style scoped>\n",
       "    .dataframe tbody tr th:only-of-type {\n",
       "        vertical-align: middle;\n",
       "    }\n",
       "\n",
       "    .dataframe tbody tr th {\n",
       "        vertical-align: top;\n",
       "    }\n",
       "\n",
       "    .dataframe thead th {\n",
       "        text-align: right;\n",
       "    }\n",
       "</style>\n",
       "<table border=\"1\" class=\"dataframe\">\n",
       "  <thead>\n",
       "    <tr style=\"text-align: right;\">\n",
       "      <th></th>\n",
       "      <th>date</th>\n",
       "      <th>baseline</th>\n",
       "      <th>HV</th>\n",
       "      <th>HV_pred</th>\n",
       "      <th>HV_resid</th>\n",
       "      <th>sum_word</th>\n",
       "      <th>MA5</th>\n",
       "      <th>MA20</th>\n",
       "      <th>MA60</th>\n",
       "      <th>MA120</th>\n",
       "      <th>MA5_gra</th>\n",
       "      <th>MA20_gra</th>\n",
       "      <th>MA60_gra</th>\n",
       "      <th>MA120_gra</th>\n",
       "      <th>V_MA5</th>\n",
       "      <th>V_MA20</th>\n",
       "      <th>V_MA60</th>\n",
       "      <th>V_MA120</th>\n",
       "      <th>EMA5</th>\n",
       "      <th>EMA20</th>\n",
       "      <th>EMA60</th>\n",
       "      <th>EMA120</th>\n",
       "      <th>MACD</th>\n",
       "      <th>MACD_sig9</th>\n",
       "      <th>MACD_OSC</th>\n",
       "      <th>Fast%K</th>\n",
       "      <th>Fast%D</th>\n",
       "      <th>Slow%K</th>\n",
       "      <th>Slow%D</th>\n",
       "      <th>RSI14</th>\n",
       "      <th>RSI signal</th>\n",
       "      <th>CCI</th>\n",
       "      <th>A_Ratio</th>\n",
       "      <th>B_Ratio</th>\n",
       "      <th>ATR</th>\n",
       "      <th>UpDI</th>\n",
       "      <th>DownDI</th>\n",
       "      <th>MFI</th>\n",
       "      <th>Momentum</th>\n",
       "      <th>Sonar</th>\n",
       "      <th>Sonar_sig5</th>\n",
       "      <th>STDEV</th>\n",
       "      <th>Sigma</th>\n",
       "      <th>TRIX</th>\n",
       "      <th>VR</th>\n",
       "      <th>WILLR</th>\n",
       "      <th>Psy</th>\n",
       "      <th>Disparity20</th>\n",
       "      <th>Disparity60</th>\n",
       "      <th>ADX</th>\n",
       "      <th>ADOSC</th>\n",
       "      <th>Volume_OSC</th>\n",
       "      <th>upperband</th>\n",
       "      <th>middleband</th>\n",
       "      <th>lowerband</th>\n",
       "    </tr>\n",
       "  </thead>\n",
       "  <tbody>\n",
       "    <tr>\n",
       "      <th>0</th>\n",
       "      <td>2003-07-28</td>\n",
       "      <td>100.0</td>\n",
       "      <td>NaN</td>\n",
       "      <td>0.0</td>\n",
       "      <td>NaN</td>\n",
       "      <td>0.0</td>\n",
       "      <td>0.000000</td>\n",
       "      <td>0.0</td>\n",
       "      <td>0.0</td>\n",
       "      <td>0.0</td>\n",
       "      <td>0.0</td>\n",
       "      <td>0.0</td>\n",
       "      <td>0.0</td>\n",
       "      <td>0.0</td>\n",
       "      <td>0.000000e+00</td>\n",
       "      <td>0.0</td>\n",
       "      <td>0.0</td>\n",
       "      <td>0.0</td>\n",
       "      <td>0.000000</td>\n",
       "      <td>0.0</td>\n",
       "      <td>0.0</td>\n",
       "      <td>0.0</td>\n",
       "      <td>0.0</td>\n",
       "      <td>0.0</td>\n",
       "      <td>0.0</td>\n",
       "      <td>0.0</td>\n",
       "      <td>0.0</td>\n",
       "      <td>0.0</td>\n",
       "      <td>0.0</td>\n",
       "      <td>0.0</td>\n",
       "      <td>0.0</td>\n",
       "      <td>0.0</td>\n",
       "      <td>0.0</td>\n",
       "      <td>0.0</td>\n",
       "      <td>0.0</td>\n",
       "      <td>0.0</td>\n",
       "      <td>0.0</td>\n",
       "      <td>0.0</td>\n",
       "      <td>0.0</td>\n",
       "      <td>0.0</td>\n",
       "      <td>0.0</td>\n",
       "      <td>0.0</td>\n",
       "      <td>0.0</td>\n",
       "      <td>0.0</td>\n",
       "      <td>0.0</td>\n",
       "      <td>0.0</td>\n",
       "      <td>0.000</td>\n",
       "      <td>0.0</td>\n",
       "      <td>0.0</td>\n",
       "      <td>0.0</td>\n",
       "      <td>0.0</td>\n",
       "      <td>0.0</td>\n",
       "      <td>0.0</td>\n",
       "      <td>0.0</td>\n",
       "      <td>0.0</td>\n",
       "    </tr>\n",
       "    <tr>\n",
       "      <th>1</th>\n",
       "      <td>2003-07-29</td>\n",
       "      <td>100.0</td>\n",
       "      <td>0.0</td>\n",
       "      <td>0.0</td>\n",
       "      <td>0.0</td>\n",
       "      <td>0.0</td>\n",
       "      <td>0.000000</td>\n",
       "      <td>0.0</td>\n",
       "      <td>0.0</td>\n",
       "      <td>0.0</td>\n",
       "      <td>0.0</td>\n",
       "      <td>0.0</td>\n",
       "      <td>0.0</td>\n",
       "      <td>0.0</td>\n",
       "      <td>0.000000e+00</td>\n",
       "      <td>0.0</td>\n",
       "      <td>0.0</td>\n",
       "      <td>0.0</td>\n",
       "      <td>0.000000</td>\n",
       "      <td>0.0</td>\n",
       "      <td>0.0</td>\n",
       "      <td>0.0</td>\n",
       "      <td>0.0</td>\n",
       "      <td>0.0</td>\n",
       "      <td>0.0</td>\n",
       "      <td>0.0</td>\n",
       "      <td>0.0</td>\n",
       "      <td>0.0</td>\n",
       "      <td>0.0</td>\n",
       "      <td>0.0</td>\n",
       "      <td>0.0</td>\n",
       "      <td>0.0</td>\n",
       "      <td>0.0</td>\n",
       "      <td>0.0</td>\n",
       "      <td>0.0</td>\n",
       "      <td>0.0</td>\n",
       "      <td>0.0</td>\n",
       "      <td>0.0</td>\n",
       "      <td>0.0</td>\n",
       "      <td>0.0</td>\n",
       "      <td>0.0</td>\n",
       "      <td>0.0</td>\n",
       "      <td>0.0</td>\n",
       "      <td>0.0</td>\n",
       "      <td>0.0</td>\n",
       "      <td>0.0</td>\n",
       "      <td>2.750</td>\n",
       "      <td>0.0</td>\n",
       "      <td>0.0</td>\n",
       "      <td>0.0</td>\n",
       "      <td>0.0</td>\n",
       "      <td>0.0</td>\n",
       "      <td>0.0</td>\n",
       "      <td>0.0</td>\n",
       "      <td>0.0</td>\n",
       "    </tr>\n",
       "    <tr>\n",
       "      <th>2</th>\n",
       "      <td>2003-07-30</td>\n",
       "      <td>100.0</td>\n",
       "      <td>0.0</td>\n",
       "      <td>0.0</td>\n",
       "      <td>0.0</td>\n",
       "      <td>0.0</td>\n",
       "      <td>0.000000</td>\n",
       "      <td>0.0</td>\n",
       "      <td>0.0</td>\n",
       "      <td>0.0</td>\n",
       "      <td>0.0</td>\n",
       "      <td>0.0</td>\n",
       "      <td>0.0</td>\n",
       "      <td>0.0</td>\n",
       "      <td>0.000000e+00</td>\n",
       "      <td>0.0</td>\n",
       "      <td>0.0</td>\n",
       "      <td>0.0</td>\n",
       "      <td>0.000000</td>\n",
       "      <td>0.0</td>\n",
       "      <td>0.0</td>\n",
       "      <td>0.0</td>\n",
       "      <td>0.0</td>\n",
       "      <td>0.0</td>\n",
       "      <td>0.0</td>\n",
       "      <td>0.0</td>\n",
       "      <td>0.0</td>\n",
       "      <td>0.0</td>\n",
       "      <td>0.0</td>\n",
       "      <td>0.0</td>\n",
       "      <td>0.0</td>\n",
       "      <td>0.0</td>\n",
       "      <td>0.0</td>\n",
       "      <td>0.0</td>\n",
       "      <td>0.0</td>\n",
       "      <td>0.0</td>\n",
       "      <td>0.0</td>\n",
       "      <td>0.0</td>\n",
       "      <td>0.0</td>\n",
       "      <td>0.0</td>\n",
       "      <td>0.0</td>\n",
       "      <td>0.0</td>\n",
       "      <td>0.0</td>\n",
       "      <td>0.0</td>\n",
       "      <td>0.0</td>\n",
       "      <td>0.0</td>\n",
       "      <td>3.125</td>\n",
       "      <td>0.0</td>\n",
       "      <td>0.0</td>\n",
       "      <td>0.0</td>\n",
       "      <td>0.0</td>\n",
       "      <td>0.0</td>\n",
       "      <td>0.0</td>\n",
       "      <td>0.0</td>\n",
       "      <td>0.0</td>\n",
       "    </tr>\n",
       "    <tr>\n",
       "      <th>3</th>\n",
       "      <td>2003-07-31</td>\n",
       "      <td>100.0</td>\n",
       "      <td>0.0</td>\n",
       "      <td>0.0</td>\n",
       "      <td>0.0</td>\n",
       "      <td>0.0</td>\n",
       "      <td>0.000000</td>\n",
       "      <td>0.0</td>\n",
       "      <td>0.0</td>\n",
       "      <td>0.0</td>\n",
       "      <td>0.0</td>\n",
       "      <td>0.0</td>\n",
       "      <td>0.0</td>\n",
       "      <td>0.0</td>\n",
       "      <td>0.000000e+00</td>\n",
       "      <td>0.0</td>\n",
       "      <td>0.0</td>\n",
       "      <td>0.0</td>\n",
       "      <td>0.000000</td>\n",
       "      <td>0.0</td>\n",
       "      <td>0.0</td>\n",
       "      <td>0.0</td>\n",
       "      <td>0.0</td>\n",
       "      <td>0.0</td>\n",
       "      <td>0.0</td>\n",
       "      <td>0.0</td>\n",
       "      <td>0.0</td>\n",
       "      <td>0.0</td>\n",
       "      <td>0.0</td>\n",
       "      <td>0.0</td>\n",
       "      <td>0.0</td>\n",
       "      <td>0.0</td>\n",
       "      <td>0.0</td>\n",
       "      <td>0.0</td>\n",
       "      <td>0.0</td>\n",
       "      <td>0.0</td>\n",
       "      <td>0.0</td>\n",
       "      <td>0.0</td>\n",
       "      <td>0.0</td>\n",
       "      <td>0.0</td>\n",
       "      <td>0.0</td>\n",
       "      <td>0.0</td>\n",
       "      <td>0.0</td>\n",
       "      <td>0.0</td>\n",
       "      <td>0.0</td>\n",
       "      <td>0.0</td>\n",
       "      <td>10.625</td>\n",
       "      <td>0.0</td>\n",
       "      <td>0.0</td>\n",
       "      <td>0.0</td>\n",
       "      <td>0.0</td>\n",
       "      <td>0.0</td>\n",
       "      <td>0.0</td>\n",
       "      <td>0.0</td>\n",
       "      <td>0.0</td>\n",
       "    </tr>\n",
       "    <tr>\n",
       "      <th>4</th>\n",
       "      <td>2003-08-01</td>\n",
       "      <td>100.0</td>\n",
       "      <td>0.0</td>\n",
       "      <td>0.0</td>\n",
       "      <td>0.0</td>\n",
       "      <td>3.0</td>\n",
       "      <td>41.088806</td>\n",
       "      <td>0.0</td>\n",
       "      <td>0.0</td>\n",
       "      <td>0.0</td>\n",
       "      <td>0.0</td>\n",
       "      <td>0.0</td>\n",
       "      <td>0.0</td>\n",
       "      <td>0.0</td>\n",
       "      <td>3.291079e+07</td>\n",
       "      <td>0.0</td>\n",
       "      <td>0.0</td>\n",
       "      <td>0.0</td>\n",
       "      <td>41.088806</td>\n",
       "      <td>0.0</td>\n",
       "      <td>0.0</td>\n",
       "      <td>0.0</td>\n",
       "      <td>0.0</td>\n",
       "      <td>0.0</td>\n",
       "      <td>0.0</td>\n",
       "      <td>0.0</td>\n",
       "      <td>0.0</td>\n",
       "      <td>0.0</td>\n",
       "      <td>0.0</td>\n",
       "      <td>0.0</td>\n",
       "      <td>0.0</td>\n",
       "      <td>0.0</td>\n",
       "      <td>0.0</td>\n",
       "      <td>0.0</td>\n",
       "      <td>0.0</td>\n",
       "      <td>0.0</td>\n",
       "      <td>0.0</td>\n",
       "      <td>0.0</td>\n",
       "      <td>0.0</td>\n",
       "      <td>0.0</td>\n",
       "      <td>0.0</td>\n",
       "      <td>0.0</td>\n",
       "      <td>0.0</td>\n",
       "      <td>0.0</td>\n",
       "      <td>0.0</td>\n",
       "      <td>0.0</td>\n",
       "      <td>13.125</td>\n",
       "      <td>0.0</td>\n",
       "      <td>0.0</td>\n",
       "      <td>0.0</td>\n",
       "      <td>0.0</td>\n",
       "      <td>0.0</td>\n",
       "      <td>0.0</td>\n",
       "      <td>0.0</td>\n",
       "      <td>0.0</td>\n",
       "    </tr>\n",
       "  </tbody>\n",
       "</table>\n",
       "</div>"
      ],
      "text/plain": [
       "         date  baseline   HV  HV_pred  HV_resid  sum_word        MA5  MA20  \\\n",
       "0  2003-07-28     100.0  NaN      0.0       NaN       0.0   0.000000   0.0   \n",
       "1  2003-07-29     100.0  0.0      0.0       0.0       0.0   0.000000   0.0   \n",
       "2  2003-07-30     100.0  0.0      0.0       0.0       0.0   0.000000   0.0   \n",
       "3  2003-07-31     100.0  0.0      0.0       0.0       0.0   0.000000   0.0   \n",
       "4  2003-08-01     100.0  0.0      0.0       0.0       3.0  41.088806   0.0   \n",
       "\n",
       "   MA60  MA120  MA5_gra  MA20_gra  MA60_gra  MA120_gra         V_MA5  V_MA20  \\\n",
       "0   0.0    0.0      0.0       0.0       0.0        0.0  0.000000e+00     0.0   \n",
       "1   0.0    0.0      0.0       0.0       0.0        0.0  0.000000e+00     0.0   \n",
       "2   0.0    0.0      0.0       0.0       0.0        0.0  0.000000e+00     0.0   \n",
       "3   0.0    0.0      0.0       0.0       0.0        0.0  0.000000e+00     0.0   \n",
       "4   0.0    0.0      0.0       0.0       0.0        0.0  3.291079e+07     0.0   \n",
       "\n",
       "   V_MA60  V_MA120       EMA5  EMA20  EMA60  EMA120  MACD  MACD_sig9  \\\n",
       "0     0.0      0.0   0.000000    0.0    0.0     0.0   0.0        0.0   \n",
       "1     0.0      0.0   0.000000    0.0    0.0     0.0   0.0        0.0   \n",
       "2     0.0      0.0   0.000000    0.0    0.0     0.0   0.0        0.0   \n",
       "3     0.0      0.0   0.000000    0.0    0.0     0.0   0.0        0.0   \n",
       "4     0.0      0.0  41.088806    0.0    0.0     0.0   0.0        0.0   \n",
       "\n",
       "   MACD_OSC  Fast%K  Fast%D  Slow%K  Slow%D  RSI14  RSI signal  CCI  A_Ratio  \\\n",
       "0       0.0     0.0     0.0     0.0     0.0    0.0         0.0  0.0      0.0   \n",
       "1       0.0     0.0     0.0     0.0     0.0    0.0         0.0  0.0      0.0   \n",
       "2       0.0     0.0     0.0     0.0     0.0    0.0         0.0  0.0      0.0   \n",
       "3       0.0     0.0     0.0     0.0     0.0    0.0         0.0  0.0      0.0   \n",
       "4       0.0     0.0     0.0     0.0     0.0    0.0         0.0  0.0      0.0   \n",
       "\n",
       "   B_Ratio  ATR  UpDI  DownDI  MFI  Momentum  Sonar  Sonar_sig5  STDEV  Sigma  \\\n",
       "0      0.0  0.0   0.0     0.0  0.0       0.0    0.0         0.0    0.0    0.0   \n",
       "1      0.0  0.0   0.0     0.0  0.0       0.0    0.0         0.0    0.0    0.0   \n",
       "2      0.0  0.0   0.0     0.0  0.0       0.0    0.0         0.0    0.0    0.0   \n",
       "3      0.0  0.0   0.0     0.0  0.0       0.0    0.0         0.0    0.0    0.0   \n",
       "4      0.0  0.0   0.0     0.0  0.0       0.0    0.0         0.0    0.0    0.0   \n",
       "\n",
       "   TRIX   VR  WILLR     Psy  Disparity20  Disparity60  ADX  ADOSC  Volume_OSC  \\\n",
       "0   0.0  0.0    0.0   0.000          0.0          0.0  0.0    0.0         0.0   \n",
       "1   0.0  0.0    0.0   2.750          0.0          0.0  0.0    0.0         0.0   \n",
       "2   0.0  0.0    0.0   3.125          0.0          0.0  0.0    0.0         0.0   \n",
       "3   0.0  0.0    0.0  10.625          0.0          0.0  0.0    0.0         0.0   \n",
       "4   0.0  0.0    0.0  13.125          0.0          0.0  0.0    0.0         0.0   \n",
       "\n",
       "   upperband  middleband  lowerband  \n",
       "0        0.0         0.0        0.0  \n",
       "1        0.0         0.0        0.0  \n",
       "2        0.0         0.0        0.0  \n",
       "3        0.0         0.0        0.0  \n",
       "4        0.0         0.0        0.0  "
      ]
     },
     "execution_count": 4,
     "metadata": {},
     "output_type": "execute_result"
    }
   ],
   "source": [
    "df.head()"
   ]
  },
  {
   "cell_type": "code",
   "execution_count": 5,
   "id": "b762678e-805a-427b-a284-59c431fda36b",
   "metadata": {},
   "outputs": [
    {
     "data": {
      "text/plain": [
       "date           0\n",
       "baseline       0\n",
       "HV             1\n",
       "HV_pred       20\n",
       "HV_resid      21\n",
       "              ..\n",
       "ADOSC          0\n",
       "Volume_OSC     0\n",
       "upperband      0\n",
       "middleband     0\n",
       "lowerband      0\n",
       "Length: 55, dtype: int64"
      ]
     },
     "execution_count": 5,
     "metadata": {},
     "output_type": "execute_result"
    }
   ],
   "source": [
    "df.isna().sum()"
   ]
  },
  {
   "cell_type": "code",
   "execution_count": 6,
   "id": "f9994ee9-9298-40c9-8177-cebfff74e117",
   "metadata": {},
   "outputs": [
    {
     "data": {
      "text/html": [
       "<div>\n",
       "<style scoped>\n",
       "    .dataframe tbody tr th:only-of-type {\n",
       "        vertical-align: middle;\n",
       "    }\n",
       "\n",
       "    .dataframe tbody tr th {\n",
       "        vertical-align: top;\n",
       "    }\n",
       "\n",
       "    .dataframe thead th {\n",
       "        text-align: right;\n",
       "    }\n",
       "</style>\n",
       "<table border=\"1\" class=\"dataframe\">\n",
       "  <thead>\n",
       "    <tr style=\"text-align: right;\">\n",
       "      <th></th>\n",
       "      <th>date</th>\n",
       "      <th>baseline</th>\n",
       "      <th>HV</th>\n",
       "      <th>HV_pred</th>\n",
       "      <th>HV_resid</th>\n",
       "      <th>sum_word</th>\n",
       "      <th>MA5</th>\n",
       "      <th>MA20</th>\n",
       "      <th>MA60</th>\n",
       "      <th>MA120</th>\n",
       "      <th>MA5_gra</th>\n",
       "      <th>MA20_gra</th>\n",
       "      <th>MA60_gra</th>\n",
       "      <th>MA120_gra</th>\n",
       "      <th>V_MA5</th>\n",
       "      <th>V_MA20</th>\n",
       "      <th>V_MA60</th>\n",
       "      <th>V_MA120</th>\n",
       "      <th>EMA5</th>\n",
       "      <th>EMA20</th>\n",
       "      <th>EMA60</th>\n",
       "      <th>EMA120</th>\n",
       "      <th>MACD</th>\n",
       "      <th>MACD_sig9</th>\n",
       "      <th>MACD_OSC</th>\n",
       "      <th>Fast%K</th>\n",
       "      <th>Fast%D</th>\n",
       "      <th>Slow%K</th>\n",
       "      <th>Slow%D</th>\n",
       "      <th>RSI14</th>\n",
       "      <th>RSI signal</th>\n",
       "      <th>CCI</th>\n",
       "      <th>A_Ratio</th>\n",
       "      <th>B_Ratio</th>\n",
       "      <th>ATR</th>\n",
       "      <th>UpDI</th>\n",
       "      <th>DownDI</th>\n",
       "      <th>MFI</th>\n",
       "      <th>Momentum</th>\n",
       "      <th>Sonar</th>\n",
       "      <th>Sonar_sig5</th>\n",
       "      <th>STDEV</th>\n",
       "      <th>Sigma</th>\n",
       "      <th>TRIX</th>\n",
       "      <th>VR</th>\n",
       "      <th>WILLR</th>\n",
       "      <th>Psy</th>\n",
       "      <th>Disparity20</th>\n",
       "      <th>Disparity60</th>\n",
       "      <th>ADX</th>\n",
       "      <th>ADOSC</th>\n",
       "      <th>Volume_OSC</th>\n",
       "      <th>upperband</th>\n",
       "      <th>middleband</th>\n",
       "      <th>lowerband</th>\n",
       "    </tr>\n",
       "  </thead>\n",
       "  <tbody>\n",
       "    <tr>\n",
       "      <th>0</th>\n",
       "      <td>2003-07-28</td>\n",
       "      <td>100.0</td>\n",
       "      <td>NaN</td>\n",
       "      <td>0.0</td>\n",
       "      <td>NaN</td>\n",
       "      <td>0.0</td>\n",
       "      <td>0.000000</td>\n",
       "      <td>0.0</td>\n",
       "      <td>0.0</td>\n",
       "      <td>0.0</td>\n",
       "      <td>0.0</td>\n",
       "      <td>0.0</td>\n",
       "      <td>0.0</td>\n",
       "      <td>0.0</td>\n",
       "      <td>0.000000e+00</td>\n",
       "      <td>0.0</td>\n",
       "      <td>0.0</td>\n",
       "      <td>0.0</td>\n",
       "      <td>0.000000</td>\n",
       "      <td>0.0</td>\n",
       "      <td>0.0</td>\n",
       "      <td>0.0</td>\n",
       "      <td>0.0</td>\n",
       "      <td>0.0</td>\n",
       "      <td>0.0</td>\n",
       "      <td>0.0</td>\n",
       "      <td>0.0</td>\n",
       "      <td>0.0</td>\n",
       "      <td>0.0</td>\n",
       "      <td>0.0</td>\n",
       "      <td>0.0</td>\n",
       "      <td>0.0</td>\n",
       "      <td>0.0</td>\n",
       "      <td>0.0</td>\n",
       "      <td>0.0</td>\n",
       "      <td>0.0</td>\n",
       "      <td>0.0</td>\n",
       "      <td>0.0</td>\n",
       "      <td>0.0</td>\n",
       "      <td>0.0</td>\n",
       "      <td>0.0</td>\n",
       "      <td>0.0</td>\n",
       "      <td>0.0</td>\n",
       "      <td>0.0</td>\n",
       "      <td>0.0</td>\n",
       "      <td>0.0</td>\n",
       "      <td>0.000</td>\n",
       "      <td>0.0</td>\n",
       "      <td>0.0</td>\n",
       "      <td>0.0</td>\n",
       "      <td>0.0</td>\n",
       "      <td>0.0</td>\n",
       "      <td>0.0</td>\n",
       "      <td>0.0</td>\n",
       "      <td>0.0</td>\n",
       "    </tr>\n",
       "    <tr>\n",
       "      <th>1</th>\n",
       "      <td>2003-07-29</td>\n",
       "      <td>100.0</td>\n",
       "      <td>0.0</td>\n",
       "      <td>0.0</td>\n",
       "      <td>0.0</td>\n",
       "      <td>0.0</td>\n",
       "      <td>0.000000</td>\n",
       "      <td>0.0</td>\n",
       "      <td>0.0</td>\n",
       "      <td>0.0</td>\n",
       "      <td>0.0</td>\n",
       "      <td>0.0</td>\n",
       "      <td>0.0</td>\n",
       "      <td>0.0</td>\n",
       "      <td>0.000000e+00</td>\n",
       "      <td>0.0</td>\n",
       "      <td>0.0</td>\n",
       "      <td>0.0</td>\n",
       "      <td>0.000000</td>\n",
       "      <td>0.0</td>\n",
       "      <td>0.0</td>\n",
       "      <td>0.0</td>\n",
       "      <td>0.0</td>\n",
       "      <td>0.0</td>\n",
       "      <td>0.0</td>\n",
       "      <td>0.0</td>\n",
       "      <td>0.0</td>\n",
       "      <td>0.0</td>\n",
       "      <td>0.0</td>\n",
       "      <td>0.0</td>\n",
       "      <td>0.0</td>\n",
       "      <td>0.0</td>\n",
       "      <td>0.0</td>\n",
       "      <td>0.0</td>\n",
       "      <td>0.0</td>\n",
       "      <td>0.0</td>\n",
       "      <td>0.0</td>\n",
       "      <td>0.0</td>\n",
       "      <td>0.0</td>\n",
       "      <td>0.0</td>\n",
       "      <td>0.0</td>\n",
       "      <td>0.0</td>\n",
       "      <td>0.0</td>\n",
       "      <td>0.0</td>\n",
       "      <td>0.0</td>\n",
       "      <td>0.0</td>\n",
       "      <td>2.750</td>\n",
       "      <td>0.0</td>\n",
       "      <td>0.0</td>\n",
       "      <td>0.0</td>\n",
       "      <td>0.0</td>\n",
       "      <td>0.0</td>\n",
       "      <td>0.0</td>\n",
       "      <td>0.0</td>\n",
       "      <td>0.0</td>\n",
       "    </tr>\n",
       "    <tr>\n",
       "      <th>2</th>\n",
       "      <td>2003-07-30</td>\n",
       "      <td>100.0</td>\n",
       "      <td>0.0</td>\n",
       "      <td>0.0</td>\n",
       "      <td>0.0</td>\n",
       "      <td>0.0</td>\n",
       "      <td>0.000000</td>\n",
       "      <td>0.0</td>\n",
       "      <td>0.0</td>\n",
       "      <td>0.0</td>\n",
       "      <td>0.0</td>\n",
       "      <td>0.0</td>\n",
       "      <td>0.0</td>\n",
       "      <td>0.0</td>\n",
       "      <td>0.000000e+00</td>\n",
       "      <td>0.0</td>\n",
       "      <td>0.0</td>\n",
       "      <td>0.0</td>\n",
       "      <td>0.000000</td>\n",
       "      <td>0.0</td>\n",
       "      <td>0.0</td>\n",
       "      <td>0.0</td>\n",
       "      <td>0.0</td>\n",
       "      <td>0.0</td>\n",
       "      <td>0.0</td>\n",
       "      <td>0.0</td>\n",
       "      <td>0.0</td>\n",
       "      <td>0.0</td>\n",
       "      <td>0.0</td>\n",
       "      <td>0.0</td>\n",
       "      <td>0.0</td>\n",
       "      <td>0.0</td>\n",
       "      <td>0.0</td>\n",
       "      <td>0.0</td>\n",
       "      <td>0.0</td>\n",
       "      <td>0.0</td>\n",
       "      <td>0.0</td>\n",
       "      <td>0.0</td>\n",
       "      <td>0.0</td>\n",
       "      <td>0.0</td>\n",
       "      <td>0.0</td>\n",
       "      <td>0.0</td>\n",
       "      <td>0.0</td>\n",
       "      <td>0.0</td>\n",
       "      <td>0.0</td>\n",
       "      <td>0.0</td>\n",
       "      <td>3.125</td>\n",
       "      <td>0.0</td>\n",
       "      <td>0.0</td>\n",
       "      <td>0.0</td>\n",
       "      <td>0.0</td>\n",
       "      <td>0.0</td>\n",
       "      <td>0.0</td>\n",
       "      <td>0.0</td>\n",
       "      <td>0.0</td>\n",
       "    </tr>\n",
       "    <tr>\n",
       "      <th>3</th>\n",
       "      <td>2003-07-31</td>\n",
       "      <td>100.0</td>\n",
       "      <td>0.0</td>\n",
       "      <td>0.0</td>\n",
       "      <td>0.0</td>\n",
       "      <td>0.0</td>\n",
       "      <td>0.000000</td>\n",
       "      <td>0.0</td>\n",
       "      <td>0.0</td>\n",
       "      <td>0.0</td>\n",
       "      <td>0.0</td>\n",
       "      <td>0.0</td>\n",
       "      <td>0.0</td>\n",
       "      <td>0.0</td>\n",
       "      <td>0.000000e+00</td>\n",
       "      <td>0.0</td>\n",
       "      <td>0.0</td>\n",
       "      <td>0.0</td>\n",
       "      <td>0.000000</td>\n",
       "      <td>0.0</td>\n",
       "      <td>0.0</td>\n",
       "      <td>0.0</td>\n",
       "      <td>0.0</td>\n",
       "      <td>0.0</td>\n",
       "      <td>0.0</td>\n",
       "      <td>0.0</td>\n",
       "      <td>0.0</td>\n",
       "      <td>0.0</td>\n",
       "      <td>0.0</td>\n",
       "      <td>0.0</td>\n",
       "      <td>0.0</td>\n",
       "      <td>0.0</td>\n",
       "      <td>0.0</td>\n",
       "      <td>0.0</td>\n",
       "      <td>0.0</td>\n",
       "      <td>0.0</td>\n",
       "      <td>0.0</td>\n",
       "      <td>0.0</td>\n",
       "      <td>0.0</td>\n",
       "      <td>0.0</td>\n",
       "      <td>0.0</td>\n",
       "      <td>0.0</td>\n",
       "      <td>0.0</td>\n",
       "      <td>0.0</td>\n",
       "      <td>0.0</td>\n",
       "      <td>0.0</td>\n",
       "      <td>10.625</td>\n",
       "      <td>0.0</td>\n",
       "      <td>0.0</td>\n",
       "      <td>0.0</td>\n",
       "      <td>0.0</td>\n",
       "      <td>0.0</td>\n",
       "      <td>0.0</td>\n",
       "      <td>0.0</td>\n",
       "      <td>0.0</td>\n",
       "    </tr>\n",
       "    <tr>\n",
       "      <th>4</th>\n",
       "      <td>2003-08-01</td>\n",
       "      <td>100.0</td>\n",
       "      <td>0.0</td>\n",
       "      <td>0.0</td>\n",
       "      <td>0.0</td>\n",
       "      <td>3.0</td>\n",
       "      <td>41.088806</td>\n",
       "      <td>0.0</td>\n",
       "      <td>0.0</td>\n",
       "      <td>0.0</td>\n",
       "      <td>0.0</td>\n",
       "      <td>0.0</td>\n",
       "      <td>0.0</td>\n",
       "      <td>0.0</td>\n",
       "      <td>3.291079e+07</td>\n",
       "      <td>0.0</td>\n",
       "      <td>0.0</td>\n",
       "      <td>0.0</td>\n",
       "      <td>41.088806</td>\n",
       "      <td>0.0</td>\n",
       "      <td>0.0</td>\n",
       "      <td>0.0</td>\n",
       "      <td>0.0</td>\n",
       "      <td>0.0</td>\n",
       "      <td>0.0</td>\n",
       "      <td>0.0</td>\n",
       "      <td>0.0</td>\n",
       "      <td>0.0</td>\n",
       "      <td>0.0</td>\n",
       "      <td>0.0</td>\n",
       "      <td>0.0</td>\n",
       "      <td>0.0</td>\n",
       "      <td>0.0</td>\n",
       "      <td>0.0</td>\n",
       "      <td>0.0</td>\n",
       "      <td>0.0</td>\n",
       "      <td>0.0</td>\n",
       "      <td>0.0</td>\n",
       "      <td>0.0</td>\n",
       "      <td>0.0</td>\n",
       "      <td>0.0</td>\n",
       "      <td>0.0</td>\n",
       "      <td>0.0</td>\n",
       "      <td>0.0</td>\n",
       "      <td>0.0</td>\n",
       "      <td>0.0</td>\n",
       "      <td>13.125</td>\n",
       "      <td>0.0</td>\n",
       "      <td>0.0</td>\n",
       "      <td>0.0</td>\n",
       "      <td>0.0</td>\n",
       "      <td>0.0</td>\n",
       "      <td>0.0</td>\n",
       "      <td>0.0</td>\n",
       "      <td>0.0</td>\n",
       "    </tr>\n",
       "  </tbody>\n",
       "</table>\n",
       "</div>"
      ],
      "text/plain": [
       "         date  baseline   HV  HV_pred  HV_resid  sum_word        MA5  MA20  \\\n",
       "0  2003-07-28     100.0  NaN      0.0       NaN       0.0   0.000000   0.0   \n",
       "1  2003-07-29     100.0  0.0      0.0       0.0       0.0   0.000000   0.0   \n",
       "2  2003-07-30     100.0  0.0      0.0       0.0       0.0   0.000000   0.0   \n",
       "3  2003-07-31     100.0  0.0      0.0       0.0       0.0   0.000000   0.0   \n",
       "4  2003-08-01     100.0  0.0      0.0       0.0       3.0  41.088806   0.0   \n",
       "\n",
       "   MA60  MA120  MA5_gra  MA20_gra  MA60_gra  MA120_gra         V_MA5  V_MA20  \\\n",
       "0   0.0    0.0      0.0       0.0       0.0        0.0  0.000000e+00     0.0   \n",
       "1   0.0    0.0      0.0       0.0       0.0        0.0  0.000000e+00     0.0   \n",
       "2   0.0    0.0      0.0       0.0       0.0        0.0  0.000000e+00     0.0   \n",
       "3   0.0    0.0      0.0       0.0       0.0        0.0  0.000000e+00     0.0   \n",
       "4   0.0    0.0      0.0       0.0       0.0        0.0  3.291079e+07     0.0   \n",
       "\n",
       "   V_MA60  V_MA120       EMA5  EMA20  EMA60  EMA120  MACD  MACD_sig9  \\\n",
       "0     0.0      0.0   0.000000    0.0    0.0     0.0   0.0        0.0   \n",
       "1     0.0      0.0   0.000000    0.0    0.0     0.0   0.0        0.0   \n",
       "2     0.0      0.0   0.000000    0.0    0.0     0.0   0.0        0.0   \n",
       "3     0.0      0.0   0.000000    0.0    0.0     0.0   0.0        0.0   \n",
       "4     0.0      0.0  41.088806    0.0    0.0     0.0   0.0        0.0   \n",
       "\n",
       "   MACD_OSC  Fast%K  Fast%D  Slow%K  Slow%D  RSI14  RSI signal  CCI  A_Ratio  \\\n",
       "0       0.0     0.0     0.0     0.0     0.0    0.0         0.0  0.0      0.0   \n",
       "1       0.0     0.0     0.0     0.0     0.0    0.0         0.0  0.0      0.0   \n",
       "2       0.0     0.0     0.0     0.0     0.0    0.0         0.0  0.0      0.0   \n",
       "3       0.0     0.0     0.0     0.0     0.0    0.0         0.0  0.0      0.0   \n",
       "4       0.0     0.0     0.0     0.0     0.0    0.0         0.0  0.0      0.0   \n",
       "\n",
       "   B_Ratio  ATR  UpDI  DownDI  MFI  Momentum  Sonar  Sonar_sig5  STDEV  Sigma  \\\n",
       "0      0.0  0.0   0.0     0.0  0.0       0.0    0.0         0.0    0.0    0.0   \n",
       "1      0.0  0.0   0.0     0.0  0.0       0.0    0.0         0.0    0.0    0.0   \n",
       "2      0.0  0.0   0.0     0.0  0.0       0.0    0.0         0.0    0.0    0.0   \n",
       "3      0.0  0.0   0.0     0.0  0.0       0.0    0.0         0.0    0.0    0.0   \n",
       "4      0.0  0.0   0.0     0.0  0.0       0.0    0.0         0.0    0.0    0.0   \n",
       "\n",
       "   TRIX   VR  WILLR     Psy  Disparity20  Disparity60  ADX  ADOSC  Volume_OSC  \\\n",
       "0   0.0  0.0    0.0   0.000          0.0          0.0  0.0    0.0         0.0   \n",
       "1   0.0  0.0    0.0   2.750          0.0          0.0  0.0    0.0         0.0   \n",
       "2   0.0  0.0    0.0   3.125          0.0          0.0  0.0    0.0         0.0   \n",
       "3   0.0  0.0    0.0  10.625          0.0          0.0  0.0    0.0         0.0   \n",
       "4   0.0  0.0    0.0  13.125          0.0          0.0  0.0    0.0         0.0   \n",
       "\n",
       "   upperband  middleband  lowerband  \n",
       "0        0.0         0.0        0.0  \n",
       "1        0.0         0.0        0.0  \n",
       "2        0.0         0.0        0.0  \n",
       "3        0.0         0.0        0.0  \n",
       "4        0.0         0.0        0.0  "
      ]
     },
     "execution_count": 6,
     "metadata": {},
     "output_type": "execute_result"
    }
   ],
   "source": [
    "df.head()"
   ]
  },
  {
   "cell_type": "code",
   "execution_count": 7,
   "id": "80975447-64a1-4bd9-a702-1320ab8eee88",
   "metadata": {},
   "outputs": [
    {
     "data": {
      "text/plain": [
       "0"
      ]
     },
     "execution_count": 7,
     "metadata": {},
     "output_type": "execute_result"
    }
   ],
   "source": [
    "df['sum_word'].fillna(0, inplace=True)\n",
    "df['sum_word'].isnull().sum()"
   ]
  },
  {
   "cell_type": "code",
   "execution_count": 8,
   "id": "4b0ce94c-2846-46cd-8e70-e88b03317356",
   "metadata": {},
   "outputs": [],
   "source": [
    "df.set_index('date', inplace=True)"
   ]
  },
  {
   "cell_type": "code",
   "execution_count": 9,
   "id": "a7056865-568e-4c37-83a5-ce5f1c10aacc",
   "metadata": {},
   "outputs": [
    {
     "data": {
      "text/html": [
       "<div>\n",
       "<style scoped>\n",
       "    .dataframe tbody tr th:only-of-type {\n",
       "        vertical-align: middle;\n",
       "    }\n",
       "\n",
       "    .dataframe tbody tr th {\n",
       "        vertical-align: top;\n",
       "    }\n",
       "\n",
       "    .dataframe thead th {\n",
       "        text-align: right;\n",
       "    }\n",
       "</style>\n",
       "<table border=\"1\" class=\"dataframe\">\n",
       "  <thead>\n",
       "    <tr style=\"text-align: right;\">\n",
       "      <th></th>\n",
       "      <th>baseline</th>\n",
       "      <th>HV</th>\n",
       "      <th>HV_pred</th>\n",
       "      <th>HV_resid</th>\n",
       "      <th>sum_word</th>\n",
       "      <th>MA5</th>\n",
       "      <th>MA20</th>\n",
       "      <th>MA60</th>\n",
       "      <th>MA120</th>\n",
       "      <th>MA5_gra</th>\n",
       "      <th>MA20_gra</th>\n",
       "      <th>MA60_gra</th>\n",
       "      <th>MA120_gra</th>\n",
       "      <th>V_MA5</th>\n",
       "      <th>V_MA20</th>\n",
       "      <th>V_MA60</th>\n",
       "      <th>V_MA120</th>\n",
       "      <th>EMA5</th>\n",
       "      <th>EMA20</th>\n",
       "      <th>EMA60</th>\n",
       "      <th>EMA120</th>\n",
       "      <th>MACD</th>\n",
       "      <th>MACD_sig9</th>\n",
       "      <th>MACD_OSC</th>\n",
       "      <th>Fast%K</th>\n",
       "      <th>Fast%D</th>\n",
       "      <th>Slow%K</th>\n",
       "      <th>Slow%D</th>\n",
       "      <th>RSI14</th>\n",
       "      <th>RSI signal</th>\n",
       "      <th>CCI</th>\n",
       "      <th>A_Ratio</th>\n",
       "      <th>B_Ratio</th>\n",
       "      <th>ATR</th>\n",
       "      <th>UpDI</th>\n",
       "      <th>DownDI</th>\n",
       "      <th>MFI</th>\n",
       "      <th>Momentum</th>\n",
       "      <th>Sonar</th>\n",
       "      <th>Sonar_sig5</th>\n",
       "      <th>STDEV</th>\n",
       "      <th>Sigma</th>\n",
       "      <th>TRIX</th>\n",
       "      <th>VR</th>\n",
       "      <th>WILLR</th>\n",
       "      <th>Psy</th>\n",
       "      <th>Disparity20</th>\n",
       "      <th>Disparity60</th>\n",
       "      <th>ADX</th>\n",
       "      <th>ADOSC</th>\n",
       "      <th>Volume_OSC</th>\n",
       "      <th>upperband</th>\n",
       "      <th>middleband</th>\n",
       "      <th>lowerband</th>\n",
       "    </tr>\n",
       "    <tr>\n",
       "      <th>date</th>\n",
       "      <th></th>\n",
       "      <th></th>\n",
       "      <th></th>\n",
       "      <th></th>\n",
       "      <th></th>\n",
       "      <th></th>\n",
       "      <th></th>\n",
       "      <th></th>\n",
       "      <th></th>\n",
       "      <th></th>\n",
       "      <th></th>\n",
       "      <th></th>\n",
       "      <th></th>\n",
       "      <th></th>\n",
       "      <th></th>\n",
       "      <th></th>\n",
       "      <th></th>\n",
       "      <th></th>\n",
       "      <th></th>\n",
       "      <th></th>\n",
       "      <th></th>\n",
       "      <th></th>\n",
       "      <th></th>\n",
       "      <th></th>\n",
       "      <th></th>\n",
       "      <th></th>\n",
       "      <th></th>\n",
       "      <th></th>\n",
       "      <th></th>\n",
       "      <th></th>\n",
       "      <th></th>\n",
       "      <th></th>\n",
       "      <th></th>\n",
       "      <th></th>\n",
       "      <th></th>\n",
       "      <th></th>\n",
       "      <th></th>\n",
       "      <th></th>\n",
       "      <th></th>\n",
       "      <th></th>\n",
       "      <th></th>\n",
       "      <th></th>\n",
       "      <th></th>\n",
       "      <th></th>\n",
       "      <th></th>\n",
       "      <th></th>\n",
       "      <th></th>\n",
       "      <th></th>\n",
       "      <th></th>\n",
       "      <th></th>\n",
       "      <th></th>\n",
       "      <th></th>\n",
       "      <th></th>\n",
       "      <th></th>\n",
       "    </tr>\n",
       "  </thead>\n",
       "  <tbody>\n",
       "    <tr>\n",
       "      <th>2003-07-28</th>\n",
       "      <td>100.0</td>\n",
       "      <td>NaN</td>\n",
       "      <td>0.0</td>\n",
       "      <td>NaN</td>\n",
       "      <td>0.0</td>\n",
       "      <td>0.000000</td>\n",
       "      <td>0.0</td>\n",
       "      <td>0.0</td>\n",
       "      <td>0.0</td>\n",
       "      <td>0.0</td>\n",
       "      <td>0.0</td>\n",
       "      <td>0.0</td>\n",
       "      <td>0.0</td>\n",
       "      <td>0.000000e+00</td>\n",
       "      <td>0.0</td>\n",
       "      <td>0.0</td>\n",
       "      <td>0.0</td>\n",
       "      <td>0.000000</td>\n",
       "      <td>0.0</td>\n",
       "      <td>0.0</td>\n",
       "      <td>0.0</td>\n",
       "      <td>0.0</td>\n",
       "      <td>0.0</td>\n",
       "      <td>0.0</td>\n",
       "      <td>0.0</td>\n",
       "      <td>0.0</td>\n",
       "      <td>0.0</td>\n",
       "      <td>0.0</td>\n",
       "      <td>0.0</td>\n",
       "      <td>0.0</td>\n",
       "      <td>0.0</td>\n",
       "      <td>0.0</td>\n",
       "      <td>0.0</td>\n",
       "      <td>0.0</td>\n",
       "      <td>0.0</td>\n",
       "      <td>0.0</td>\n",
       "      <td>0.0</td>\n",
       "      <td>0.0</td>\n",
       "      <td>0.0</td>\n",
       "      <td>0.0</td>\n",
       "      <td>0.0</td>\n",
       "      <td>0.0</td>\n",
       "      <td>0.0</td>\n",
       "      <td>0.0</td>\n",
       "      <td>0.0</td>\n",
       "      <td>0.000</td>\n",
       "      <td>0.0</td>\n",
       "      <td>0.0</td>\n",
       "      <td>0.0</td>\n",
       "      <td>0.0</td>\n",
       "      <td>0.0</td>\n",
       "      <td>0.0</td>\n",
       "      <td>0.0</td>\n",
       "      <td>0.0</td>\n",
       "    </tr>\n",
       "    <tr>\n",
       "      <th>2003-07-29</th>\n",
       "      <td>100.0</td>\n",
       "      <td>0.0</td>\n",
       "      <td>0.0</td>\n",
       "      <td>0.0</td>\n",
       "      <td>0.0</td>\n",
       "      <td>0.000000</td>\n",
       "      <td>0.0</td>\n",
       "      <td>0.0</td>\n",
       "      <td>0.0</td>\n",
       "      <td>0.0</td>\n",
       "      <td>0.0</td>\n",
       "      <td>0.0</td>\n",
       "      <td>0.0</td>\n",
       "      <td>0.000000e+00</td>\n",
       "      <td>0.0</td>\n",
       "      <td>0.0</td>\n",
       "      <td>0.0</td>\n",
       "      <td>0.000000</td>\n",
       "      <td>0.0</td>\n",
       "      <td>0.0</td>\n",
       "      <td>0.0</td>\n",
       "      <td>0.0</td>\n",
       "      <td>0.0</td>\n",
       "      <td>0.0</td>\n",
       "      <td>0.0</td>\n",
       "      <td>0.0</td>\n",
       "      <td>0.0</td>\n",
       "      <td>0.0</td>\n",
       "      <td>0.0</td>\n",
       "      <td>0.0</td>\n",
       "      <td>0.0</td>\n",
       "      <td>0.0</td>\n",
       "      <td>0.0</td>\n",
       "      <td>0.0</td>\n",
       "      <td>0.0</td>\n",
       "      <td>0.0</td>\n",
       "      <td>0.0</td>\n",
       "      <td>0.0</td>\n",
       "      <td>0.0</td>\n",
       "      <td>0.0</td>\n",
       "      <td>0.0</td>\n",
       "      <td>0.0</td>\n",
       "      <td>0.0</td>\n",
       "      <td>0.0</td>\n",
       "      <td>0.0</td>\n",
       "      <td>2.750</td>\n",
       "      <td>0.0</td>\n",
       "      <td>0.0</td>\n",
       "      <td>0.0</td>\n",
       "      <td>0.0</td>\n",
       "      <td>0.0</td>\n",
       "      <td>0.0</td>\n",
       "      <td>0.0</td>\n",
       "      <td>0.0</td>\n",
       "    </tr>\n",
       "    <tr>\n",
       "      <th>2003-07-30</th>\n",
       "      <td>100.0</td>\n",
       "      <td>0.0</td>\n",
       "      <td>0.0</td>\n",
       "      <td>0.0</td>\n",
       "      <td>0.0</td>\n",
       "      <td>0.000000</td>\n",
       "      <td>0.0</td>\n",
       "      <td>0.0</td>\n",
       "      <td>0.0</td>\n",
       "      <td>0.0</td>\n",
       "      <td>0.0</td>\n",
       "      <td>0.0</td>\n",
       "      <td>0.0</td>\n",
       "      <td>0.000000e+00</td>\n",
       "      <td>0.0</td>\n",
       "      <td>0.0</td>\n",
       "      <td>0.0</td>\n",
       "      <td>0.000000</td>\n",
       "      <td>0.0</td>\n",
       "      <td>0.0</td>\n",
       "      <td>0.0</td>\n",
       "      <td>0.0</td>\n",
       "      <td>0.0</td>\n",
       "      <td>0.0</td>\n",
       "      <td>0.0</td>\n",
       "      <td>0.0</td>\n",
       "      <td>0.0</td>\n",
       "      <td>0.0</td>\n",
       "      <td>0.0</td>\n",
       "      <td>0.0</td>\n",
       "      <td>0.0</td>\n",
       "      <td>0.0</td>\n",
       "      <td>0.0</td>\n",
       "      <td>0.0</td>\n",
       "      <td>0.0</td>\n",
       "      <td>0.0</td>\n",
       "      <td>0.0</td>\n",
       "      <td>0.0</td>\n",
       "      <td>0.0</td>\n",
       "      <td>0.0</td>\n",
       "      <td>0.0</td>\n",
       "      <td>0.0</td>\n",
       "      <td>0.0</td>\n",
       "      <td>0.0</td>\n",
       "      <td>0.0</td>\n",
       "      <td>3.125</td>\n",
       "      <td>0.0</td>\n",
       "      <td>0.0</td>\n",
       "      <td>0.0</td>\n",
       "      <td>0.0</td>\n",
       "      <td>0.0</td>\n",
       "      <td>0.0</td>\n",
       "      <td>0.0</td>\n",
       "      <td>0.0</td>\n",
       "    </tr>\n",
       "    <tr>\n",
       "      <th>2003-07-31</th>\n",
       "      <td>100.0</td>\n",
       "      <td>0.0</td>\n",
       "      <td>0.0</td>\n",
       "      <td>0.0</td>\n",
       "      <td>0.0</td>\n",
       "      <td>0.000000</td>\n",
       "      <td>0.0</td>\n",
       "      <td>0.0</td>\n",
       "      <td>0.0</td>\n",
       "      <td>0.0</td>\n",
       "      <td>0.0</td>\n",
       "      <td>0.0</td>\n",
       "      <td>0.0</td>\n",
       "      <td>0.000000e+00</td>\n",
       "      <td>0.0</td>\n",
       "      <td>0.0</td>\n",
       "      <td>0.0</td>\n",
       "      <td>0.000000</td>\n",
       "      <td>0.0</td>\n",
       "      <td>0.0</td>\n",
       "      <td>0.0</td>\n",
       "      <td>0.0</td>\n",
       "      <td>0.0</td>\n",
       "      <td>0.0</td>\n",
       "      <td>0.0</td>\n",
       "      <td>0.0</td>\n",
       "      <td>0.0</td>\n",
       "      <td>0.0</td>\n",
       "      <td>0.0</td>\n",
       "      <td>0.0</td>\n",
       "      <td>0.0</td>\n",
       "      <td>0.0</td>\n",
       "      <td>0.0</td>\n",
       "      <td>0.0</td>\n",
       "      <td>0.0</td>\n",
       "      <td>0.0</td>\n",
       "      <td>0.0</td>\n",
       "      <td>0.0</td>\n",
       "      <td>0.0</td>\n",
       "      <td>0.0</td>\n",
       "      <td>0.0</td>\n",
       "      <td>0.0</td>\n",
       "      <td>0.0</td>\n",
       "      <td>0.0</td>\n",
       "      <td>0.0</td>\n",
       "      <td>10.625</td>\n",
       "      <td>0.0</td>\n",
       "      <td>0.0</td>\n",
       "      <td>0.0</td>\n",
       "      <td>0.0</td>\n",
       "      <td>0.0</td>\n",
       "      <td>0.0</td>\n",
       "      <td>0.0</td>\n",
       "      <td>0.0</td>\n",
       "    </tr>\n",
       "    <tr>\n",
       "      <th>2003-08-01</th>\n",
       "      <td>100.0</td>\n",
       "      <td>0.0</td>\n",
       "      <td>0.0</td>\n",
       "      <td>0.0</td>\n",
       "      <td>3.0</td>\n",
       "      <td>41.088806</td>\n",
       "      <td>0.0</td>\n",
       "      <td>0.0</td>\n",
       "      <td>0.0</td>\n",
       "      <td>0.0</td>\n",
       "      <td>0.0</td>\n",
       "      <td>0.0</td>\n",
       "      <td>0.0</td>\n",
       "      <td>3.291079e+07</td>\n",
       "      <td>0.0</td>\n",
       "      <td>0.0</td>\n",
       "      <td>0.0</td>\n",
       "      <td>41.088806</td>\n",
       "      <td>0.0</td>\n",
       "      <td>0.0</td>\n",
       "      <td>0.0</td>\n",
       "      <td>0.0</td>\n",
       "      <td>0.0</td>\n",
       "      <td>0.0</td>\n",
       "      <td>0.0</td>\n",
       "      <td>0.0</td>\n",
       "      <td>0.0</td>\n",
       "      <td>0.0</td>\n",
       "      <td>0.0</td>\n",
       "      <td>0.0</td>\n",
       "      <td>0.0</td>\n",
       "      <td>0.0</td>\n",
       "      <td>0.0</td>\n",
       "      <td>0.0</td>\n",
       "      <td>0.0</td>\n",
       "      <td>0.0</td>\n",
       "      <td>0.0</td>\n",
       "      <td>0.0</td>\n",
       "      <td>0.0</td>\n",
       "      <td>0.0</td>\n",
       "      <td>0.0</td>\n",
       "      <td>0.0</td>\n",
       "      <td>0.0</td>\n",
       "      <td>0.0</td>\n",
       "      <td>0.0</td>\n",
       "      <td>13.125</td>\n",
       "      <td>0.0</td>\n",
       "      <td>0.0</td>\n",
       "      <td>0.0</td>\n",
       "      <td>0.0</td>\n",
       "      <td>0.0</td>\n",
       "      <td>0.0</td>\n",
       "      <td>0.0</td>\n",
       "      <td>0.0</td>\n",
       "    </tr>\n",
       "  </tbody>\n",
       "</table>\n",
       "</div>"
      ],
      "text/plain": [
       "            baseline   HV  HV_pred  HV_resid  sum_word        MA5  MA20  MA60  \\\n",
       "date                                                                            \n",
       "2003-07-28     100.0  NaN      0.0       NaN       0.0   0.000000   0.0   0.0   \n",
       "2003-07-29     100.0  0.0      0.0       0.0       0.0   0.000000   0.0   0.0   \n",
       "2003-07-30     100.0  0.0      0.0       0.0       0.0   0.000000   0.0   0.0   \n",
       "2003-07-31     100.0  0.0      0.0       0.0       0.0   0.000000   0.0   0.0   \n",
       "2003-08-01     100.0  0.0      0.0       0.0       3.0  41.088806   0.0   0.0   \n",
       "\n",
       "            MA120  MA5_gra  MA20_gra  MA60_gra  MA120_gra         V_MA5  \\\n",
       "date                                                                      \n",
       "2003-07-28    0.0      0.0       0.0       0.0        0.0  0.000000e+00   \n",
       "2003-07-29    0.0      0.0       0.0       0.0        0.0  0.000000e+00   \n",
       "2003-07-30    0.0      0.0       0.0       0.0        0.0  0.000000e+00   \n",
       "2003-07-31    0.0      0.0       0.0       0.0        0.0  0.000000e+00   \n",
       "2003-08-01    0.0      0.0       0.0       0.0        0.0  3.291079e+07   \n",
       "\n",
       "            V_MA20  V_MA60  V_MA120       EMA5  EMA20  EMA60  EMA120  MACD  \\\n",
       "date                                                                         \n",
       "2003-07-28     0.0     0.0      0.0   0.000000    0.0    0.0     0.0   0.0   \n",
       "2003-07-29     0.0     0.0      0.0   0.000000    0.0    0.0     0.0   0.0   \n",
       "2003-07-30     0.0     0.0      0.0   0.000000    0.0    0.0     0.0   0.0   \n",
       "2003-07-31     0.0     0.0      0.0   0.000000    0.0    0.0     0.0   0.0   \n",
       "2003-08-01     0.0     0.0      0.0  41.088806    0.0    0.0     0.0   0.0   \n",
       "\n",
       "            MACD_sig9  MACD_OSC  Fast%K  Fast%D  Slow%K  Slow%D  RSI14  \\\n",
       "date                                                                     \n",
       "2003-07-28        0.0       0.0     0.0     0.0     0.0     0.0    0.0   \n",
       "2003-07-29        0.0       0.0     0.0     0.0     0.0     0.0    0.0   \n",
       "2003-07-30        0.0       0.0     0.0     0.0     0.0     0.0    0.0   \n",
       "2003-07-31        0.0       0.0     0.0     0.0     0.0     0.0    0.0   \n",
       "2003-08-01        0.0       0.0     0.0     0.0     0.0     0.0    0.0   \n",
       "\n",
       "            RSI signal  CCI  A_Ratio  B_Ratio  ATR  UpDI  DownDI  MFI  \\\n",
       "date                                                                    \n",
       "2003-07-28         0.0  0.0      0.0      0.0  0.0   0.0     0.0  0.0   \n",
       "2003-07-29         0.0  0.0      0.0      0.0  0.0   0.0     0.0  0.0   \n",
       "2003-07-30         0.0  0.0      0.0      0.0  0.0   0.0     0.0  0.0   \n",
       "2003-07-31         0.0  0.0      0.0      0.0  0.0   0.0     0.0  0.0   \n",
       "2003-08-01         0.0  0.0      0.0      0.0  0.0   0.0     0.0  0.0   \n",
       "\n",
       "            Momentum  Sonar  Sonar_sig5  STDEV  Sigma  TRIX   VR  WILLR  \\\n",
       "date                                                                      \n",
       "2003-07-28       0.0    0.0         0.0    0.0    0.0   0.0  0.0    0.0   \n",
       "2003-07-29       0.0    0.0         0.0    0.0    0.0   0.0  0.0    0.0   \n",
       "2003-07-30       0.0    0.0         0.0    0.0    0.0   0.0  0.0    0.0   \n",
       "2003-07-31       0.0    0.0         0.0    0.0    0.0   0.0  0.0    0.0   \n",
       "2003-08-01       0.0    0.0         0.0    0.0    0.0   0.0  0.0    0.0   \n",
       "\n",
       "               Psy  Disparity20  Disparity60  ADX  ADOSC  Volume_OSC  \\\n",
       "date                                                                   \n",
       "2003-07-28   0.000          0.0          0.0  0.0    0.0         0.0   \n",
       "2003-07-29   2.750          0.0          0.0  0.0    0.0         0.0   \n",
       "2003-07-30   3.125          0.0          0.0  0.0    0.0         0.0   \n",
       "2003-07-31  10.625          0.0          0.0  0.0    0.0         0.0   \n",
       "2003-08-01  13.125          0.0          0.0  0.0    0.0         0.0   \n",
       "\n",
       "            upperband  middleband  lowerband  \n",
       "date                                          \n",
       "2003-07-28        0.0         0.0        0.0  \n",
       "2003-07-29        0.0         0.0        0.0  \n",
       "2003-07-30        0.0         0.0        0.0  \n",
       "2003-07-31        0.0         0.0        0.0  \n",
       "2003-08-01        0.0         0.0        0.0  "
      ]
     },
     "execution_count": 9,
     "metadata": {},
     "output_type": "execute_result"
    }
   ],
   "source": [
    "df.head()"
   ]
  },
  {
   "cell_type": "code",
   "execution_count": 10,
   "id": "438320f9-a8c5-4ada-9c78-1b6cd7895d7b",
   "metadata": {},
   "outputs": [
    {
     "data": {
      "text/plain": [
       "(4598, 54)"
      ]
     },
     "execution_count": 10,
     "metadata": {},
     "output_type": "execute_result"
    }
   ],
   "source": [
    "df.shape"
   ]
  },
  {
   "cell_type": "code",
   "execution_count": 11,
   "id": "87a54e42-d87f-41f8-8003-4e3e640aab41",
   "metadata": {},
   "outputs": [
    {
     "data": {
      "text/plain": [
       "['HV', 'sum_word', 'MA5_gra', 'Volume_OSC', 'Sigma', 'Disparity20']"
      ]
     },
     "execution_count": 11,
     "metadata": {},
     "output_type": "execute_result"
    }
   ],
   "source": [
    "cols = ['HV', 'sum_word','MA5_gra','Volume_OSC','Sigma','Disparity20']#, 'MACD_OSC', 'Sonar', 'Sigma', 'Momentum', 'Volume_OSC',  'ATR','RSI signal','RSI14',  'ADOSC']\n",
    "cols\n"
   ]
  },
  {
   "cell_type": "code",
   "execution_count": 12,
   "id": "451f1f43-3cb4-43e1-a123-388a0483111f",
   "metadata": {},
   "outputs": [],
   "source": [
    "df = df[cols]"
   ]
  },
  {
   "cell_type": "code",
   "execution_count": 13,
   "id": "3382103b-6335-431d-ba06-3fb6f46262f1",
   "metadata": {},
   "outputs": [
    {
     "data": {
      "text/plain": [
       "Index(['2003-07-28', '2003-07-29', '2003-07-30', '2003-07-31', '2003-08-01',\n",
       "       '2003-08-04', '2003-08-05', '2003-08-06', '2003-08-07', '2003-08-08',\n",
       "       ...\n",
       "       '2021-10-15', '2021-10-18', '2021-10-19', '2021-10-20', '2021-10-21',\n",
       "       '2021-10-22', '2021-10-25', '2021-10-26', '2021-10-27', '2021-10-28'],\n",
       "      dtype='object', name='date', length=4598)"
      ]
     },
     "execution_count": 13,
     "metadata": {},
     "output_type": "execute_result"
    }
   ],
   "source": [
    "df.index"
   ]
  },
  {
   "cell_type": "code",
   "execution_count": 14,
   "id": "0634efdd-3df4-4836-b6b3-1ee694c15269",
   "metadata": {},
   "outputs": [
    {
     "data": {
      "text/html": [
       "<div>\n",
       "<style scoped>\n",
       "    .dataframe tbody tr th:only-of-type {\n",
       "        vertical-align: middle;\n",
       "    }\n",
       "\n",
       "    .dataframe tbody tr th {\n",
       "        vertical-align: top;\n",
       "    }\n",
       "\n",
       "    .dataframe thead th {\n",
       "        text-align: right;\n",
       "    }\n",
       "</style>\n",
       "<table border=\"1\" class=\"dataframe\">\n",
       "  <thead>\n",
       "    <tr style=\"text-align: right;\">\n",
       "      <th></th>\n",
       "      <th>HV</th>\n",
       "      <th>sum_word</th>\n",
       "      <th>MA5_gra</th>\n",
       "      <th>Volume_OSC</th>\n",
       "      <th>Sigma</th>\n",
       "      <th>Disparity20</th>\n",
       "    </tr>\n",
       "    <tr>\n",
       "      <th>date</th>\n",
       "      <th></th>\n",
       "      <th></th>\n",
       "      <th></th>\n",
       "      <th></th>\n",
       "      <th></th>\n",
       "      <th></th>\n",
       "    </tr>\n",
       "  </thead>\n",
       "  <tbody>\n",
       "    <tr>\n",
       "      <th>2003-07-28</th>\n",
       "      <td>NaN</td>\n",
       "      <td>0.0</td>\n",
       "      <td>0.0</td>\n",
       "      <td>0.0</td>\n",
       "      <td>0.0</td>\n",
       "      <td>0.0</td>\n",
       "    </tr>\n",
       "    <tr>\n",
       "      <th>2003-07-29</th>\n",
       "      <td>0.0</td>\n",
       "      <td>0.0</td>\n",
       "      <td>0.0</td>\n",
       "      <td>0.0</td>\n",
       "      <td>0.0</td>\n",
       "      <td>0.0</td>\n",
       "    </tr>\n",
       "    <tr>\n",
       "      <th>2003-07-30</th>\n",
       "      <td>0.0</td>\n",
       "      <td>0.0</td>\n",
       "      <td>0.0</td>\n",
       "      <td>0.0</td>\n",
       "      <td>0.0</td>\n",
       "      <td>0.0</td>\n",
       "    </tr>\n",
       "    <tr>\n",
       "      <th>2003-07-31</th>\n",
       "      <td>0.0</td>\n",
       "      <td>0.0</td>\n",
       "      <td>0.0</td>\n",
       "      <td>0.0</td>\n",
       "      <td>0.0</td>\n",
       "      <td>0.0</td>\n",
       "    </tr>\n",
       "    <tr>\n",
       "      <th>2003-08-01</th>\n",
       "      <td>0.0</td>\n",
       "      <td>3.0</td>\n",
       "      <td>0.0</td>\n",
       "      <td>0.0</td>\n",
       "      <td>0.0</td>\n",
       "      <td>0.0</td>\n",
       "    </tr>\n",
       "  </tbody>\n",
       "</table>\n",
       "</div>"
      ],
      "text/plain": [
       "             HV  sum_word  MA5_gra  Volume_OSC  Sigma  Disparity20\n",
       "date                                                              \n",
       "2003-07-28  NaN       0.0      0.0         0.0    0.0          0.0\n",
       "2003-07-29  0.0       0.0      0.0         0.0    0.0          0.0\n",
       "2003-07-30  0.0       0.0      0.0         0.0    0.0          0.0\n",
       "2003-07-31  0.0       0.0      0.0         0.0    0.0          0.0\n",
       "2003-08-01  0.0       3.0      0.0         0.0    0.0          0.0"
      ]
     },
     "execution_count": 14,
     "metadata": {},
     "output_type": "execute_result"
    }
   ],
   "source": [
    "df.head()"
   ]
  },
  {
   "cell_type": "code",
   "execution_count": 15,
   "id": "342eeddd-8474-4d44-a0db-0efe3b5647cd",
   "metadata": {},
   "outputs": [
    {
     "data": {
      "text/plain": [
       "(4598, 6)"
      ]
     },
     "execution_count": 15,
     "metadata": {},
     "output_type": "execute_result"
    }
   ],
   "source": [
    "df.shape"
   ]
  },
  {
   "cell_type": "code",
   "execution_count": 16,
   "id": "08e04333-c333-476f-8836-53f3f19a9b04",
   "metadata": {},
   "outputs": [
    {
     "name": "stdout",
     "output_type": "stream",
     "text": [
      "(4532, 6)\n"
     ]
    },
    {
     "data": {
      "text/html": [
       "<div>\n",
       "<style scoped>\n",
       "    .dataframe tbody tr th:only-of-type {\n",
       "        vertical-align: middle;\n",
       "    }\n",
       "\n",
       "    .dataframe tbody tr th {\n",
       "        vertical-align: top;\n",
       "    }\n",
       "\n",
       "    .dataframe thead th {\n",
       "        text-align: right;\n",
       "    }\n",
       "</style>\n",
       "<table border=\"1\" class=\"dataframe\">\n",
       "  <thead>\n",
       "    <tr style=\"text-align: right;\">\n",
       "      <th></th>\n",
       "      <th>HV</th>\n",
       "      <th>sum_word</th>\n",
       "      <th>MA5_gra</th>\n",
       "      <th>Volume_OSC</th>\n",
       "      <th>Sigma</th>\n",
       "      <th>Disparity20</th>\n",
       "    </tr>\n",
       "    <tr>\n",
       "      <th>date</th>\n",
       "      <th></th>\n",
       "      <th></th>\n",
       "      <th></th>\n",
       "      <th></th>\n",
       "      <th></th>\n",
       "      <th></th>\n",
       "    </tr>\n",
       "  </thead>\n",
       "  <tbody>\n",
       "    <tr>\n",
       "      <th>2003-09-29</th>\n",
       "      <td>0.000000</td>\n",
       "      <td>0.0</td>\n",
       "      <td>-0.003142</td>\n",
       "      <td>0.484744</td>\n",
       "      <td>-1.225259</td>\n",
       "      <td>97.591753</td>\n",
       "    </tr>\n",
       "    <tr>\n",
       "      <th>2003-09-30</th>\n",
       "      <td>0.046147</td>\n",
       "      <td>0.0</td>\n",
       "      <td>-0.007730</td>\n",
       "      <td>4.466314</td>\n",
       "      <td>-1.742624</td>\n",
       "      <td>96.506024</td>\n",
       "    </tr>\n",
       "    <tr>\n",
       "      <th>2003-10-01</th>\n",
       "      <td>0.111621</td>\n",
       "      <td>0.0</td>\n",
       "      <td>0.002179</td>\n",
       "      <td>8.823151</td>\n",
       "      <td>-0.226977</td>\n",
       "      <td>99.353199</td>\n",
       "    </tr>\n",
       "    <tr>\n",
       "      <th>2003-10-02</th>\n",
       "      <td>0.113955</td>\n",
       "      <td>0.0</td>\n",
       "      <td>0.005389</td>\n",
       "      <td>8.880720</td>\n",
       "      <td>0.099223</td>\n",
       "      <td>100.166147</td>\n",
       "    </tr>\n",
       "    <tr>\n",
       "      <th>2003-10-03</th>\n",
       "      <td>0.127419</td>\n",
       "      <td>0.0</td>\n",
       "      <td>0.009944</td>\n",
       "      <td>9.854309</td>\n",
       "      <td>0.955635</td>\n",
       "      <td>101.891182</td>\n",
       "    </tr>\n",
       "  </tbody>\n",
       "</table>\n",
       "</div>"
      ],
      "text/plain": [
       "                  HV  sum_word   MA5_gra  Volume_OSC     Sigma  Disparity20\n",
       "date                                                                       \n",
       "2003-09-29  0.000000       0.0 -0.003142    0.484744 -1.225259    97.591753\n",
       "2003-09-30  0.046147       0.0 -0.007730    4.466314 -1.742624    96.506024\n",
       "2003-10-01  0.111621       0.0  0.002179    8.823151 -0.226977    99.353199\n",
       "2003-10-02  0.113955       0.0  0.005389    8.880720  0.099223   100.166147\n",
       "2003-10-03  0.127419       0.0  0.009944    9.854309  0.955635   101.891182"
      ]
     },
     "execution_count": 16,
     "metadata": {},
     "output_type": "execute_result"
    }
   ],
   "source": [
    "feature_df = df.loc['2003-09-29':'2021-09-28', 'HV':'Disparity20']\n",
    "print(feature_df.shape)\n",
    "feature_df.head()"
   ]
  },
  {
   "cell_type": "code",
   "execution_count": 17,
   "id": "6a808ed0-f6f2-4224-998d-dcbfa9fa50d3",
   "metadata": {},
   "outputs": [
    {
     "data": {
      "text/plain": [
       "0"
      ]
     },
     "execution_count": 17,
     "metadata": {},
     "output_type": "execute_result"
    }
   ],
   "source": [
    "feature_df[feature_df['HV']<0].value_counts().sum()"
   ]
  },
  {
   "cell_type": "code",
   "execution_count": 18,
   "id": "e2f57333-2a27-47f2-9147-efc26217523e",
   "metadata": {},
   "outputs": [
    {
     "data": {
      "text/plain": [
       "0"
      ]
     },
     "execution_count": 18,
     "metadata": {},
     "output_type": "execute_result"
    }
   ],
   "source": [
    "feature_df[feature_df['sum_word']<0].value_counts().sum()"
   ]
  },
  {
   "cell_type": "code",
   "execution_count": 19,
   "id": "08603628-619c-4758-b282-06a6db618e8d",
   "metadata": {},
   "outputs": [
    {
     "data": {
      "text/plain": [
       "1874"
      ]
     },
     "execution_count": 19,
     "metadata": {},
     "output_type": "execute_result"
    }
   ],
   "source": [
    "feature_df[feature_df['MA5_gra']<0].value_counts().sum()"
   ]
  },
  {
   "cell_type": "code",
   "execution_count": 20,
   "id": "1e2f5951-e53c-4a9e-8d89-3bf4b332dbce",
   "metadata": {},
   "outputs": [
    {
     "data": {
      "text/plain": [
       "2469"
      ]
     },
     "execution_count": 20,
     "metadata": {},
     "output_type": "execute_result"
    }
   ],
   "source": [
    "feature_df[feature_df['Volume_OSC']<0].value_counts().sum()"
   ]
  },
  {
   "cell_type": "code",
   "execution_count": 21,
   "id": "49652772-c4a8-470c-b33a-42f240ebcfd9",
   "metadata": {},
   "outputs": [
    {
     "data": {
      "text/plain": [
       "1581"
      ]
     },
     "execution_count": 21,
     "metadata": {},
     "output_type": "execute_result"
    }
   ],
   "source": [
    "feature_df[feature_df['Sigma']<0].value_counts().sum()"
   ]
  },
  {
   "cell_type": "code",
   "execution_count": 22,
   "id": "acb202ba-d723-4cf4-9d0a-1f16766fd283",
   "metadata": {},
   "outputs": [
    {
     "data": {
      "text/plain": [
       "0"
      ]
     },
     "execution_count": 22,
     "metadata": {},
     "output_type": "execute_result"
    }
   ],
   "source": [
    "feature_df[feature_df['Disparity20']<0].value_counts().sum()"
   ]
  },
  {
   "cell_type": "code",
   "execution_count": 23,
   "id": "bc7edba2-6ef9-4251-8d4c-447349d1d2d5",
   "metadata": {},
   "outputs": [
    {
     "name": "stdout",
     "output_type": "stream",
     "text": [
      "(4554,)\n"
     ]
    },
    {
     "data": {
      "text/plain": [
       "date\n",
       "2003-09-29    0.000000\n",
       "2003-09-30    0.046147\n",
       "2003-10-01    0.111621\n",
       "2003-10-02    0.113955\n",
       "2003-10-03    0.127419\n",
       "Name: HV, dtype: float64"
      ]
     },
     "execution_count": 23,
     "metadata": {},
     "output_type": "execute_result"
    }
   ],
   "source": [
    "label_df = df.loc['2003-09-29':'2021-10-28', 'HV']\n",
    "print(label_df.shape)\n",
    "label_df.head()"
   ]
  },
  {
   "cell_type": "markdown",
   "id": "0a17cd28-be59-4695-8eeb-8ba4bd7bf439",
   "metadata": {},
   "source": [
    "# TRAIN, TEST 분리\n",
    "- 1차 : 2003 ~ 2011 학습 / 2012 ~ 2016 예측\n",
    "- 2차 : 2003 ~ 2016 학습 / 2017~ 2021 예측"
   ]
  },
  {
   "cell_type": "markdown",
   "id": "08614768-aa8f-4664-ae17-04b1daff9f61",
   "metadata": {},
   "source": [
    "## 1차 train_test 분리"
   ]
  },
  {
   "cell_type": "code",
   "execution_count": 24,
   "id": "4a6455c0-e9c6-4ed3-b5d6-ab8b856e9a18",
   "metadata": {},
   "outputs": [
    {
     "name": "stdout",
     "output_type": "stream",
     "text": [
      "(2016, 6)\n"
     ]
    },
    {
     "data": {
      "text/html": [
       "<div>\n",
       "<style scoped>\n",
       "    .dataframe tbody tr th:only-of-type {\n",
       "        vertical-align: middle;\n",
       "    }\n",
       "\n",
       "    .dataframe tbody tr th {\n",
       "        vertical-align: top;\n",
       "    }\n",
       "\n",
       "    .dataframe thead th {\n",
       "        text-align: right;\n",
       "    }\n",
       "</style>\n",
       "<table border=\"1\" class=\"dataframe\">\n",
       "  <thead>\n",
       "    <tr style=\"text-align: right;\">\n",
       "      <th></th>\n",
       "      <th>HV</th>\n",
       "      <th>sum_word</th>\n",
       "      <th>MA5_gra</th>\n",
       "      <th>Volume_OSC</th>\n",
       "      <th>Sigma</th>\n",
       "      <th>Disparity20</th>\n",
       "    </tr>\n",
       "    <tr>\n",
       "      <th>date</th>\n",
       "      <th></th>\n",
       "      <th></th>\n",
       "      <th></th>\n",
       "      <th></th>\n",
       "      <th></th>\n",
       "      <th></th>\n",
       "    </tr>\n",
       "  </thead>\n",
       "  <tbody>\n",
       "    <tr>\n",
       "      <th>2003-09-29</th>\n",
       "      <td>0.000000</td>\n",
       "      <td>0.0</td>\n",
       "      <td>-0.003142</td>\n",
       "      <td>0.484744</td>\n",
       "      <td>-1.225259</td>\n",
       "      <td>97.591753</td>\n",
       "    </tr>\n",
       "    <tr>\n",
       "      <th>2003-09-30</th>\n",
       "      <td>0.046147</td>\n",
       "      <td>0.0</td>\n",
       "      <td>-0.007730</td>\n",
       "      <td>4.466314</td>\n",
       "      <td>-1.742624</td>\n",
       "      <td>96.506024</td>\n",
       "    </tr>\n",
       "    <tr>\n",
       "      <th>2003-10-01</th>\n",
       "      <td>0.111621</td>\n",
       "      <td>0.0</td>\n",
       "      <td>0.002179</td>\n",
       "      <td>8.823151</td>\n",
       "      <td>-0.226977</td>\n",
       "      <td>99.353199</td>\n",
       "    </tr>\n",
       "    <tr>\n",
       "      <th>2003-10-02</th>\n",
       "      <td>0.113955</td>\n",
       "      <td>0.0</td>\n",
       "      <td>0.005389</td>\n",
       "      <td>8.880720</td>\n",
       "      <td>0.099223</td>\n",
       "      <td>100.166147</td>\n",
       "    </tr>\n",
       "    <tr>\n",
       "      <th>2003-10-03</th>\n",
       "      <td>0.127419</td>\n",
       "      <td>0.0</td>\n",
       "      <td>0.009944</td>\n",
       "      <td>9.854309</td>\n",
       "      <td>0.955635</td>\n",
       "      <td>101.891182</td>\n",
       "    </tr>\n",
       "  </tbody>\n",
       "</table>\n",
       "</div>"
      ],
      "text/plain": [
       "                  HV  sum_word   MA5_gra  Volume_OSC     Sigma  Disparity20\n",
       "date                                                                       \n",
       "2003-09-29  0.000000       0.0 -0.003142    0.484744 -1.225259    97.591753\n",
       "2003-09-30  0.046147       0.0 -0.007730    4.466314 -1.742624    96.506024\n",
       "2003-10-01  0.111621       0.0  0.002179    8.823151 -0.226977    99.353199\n",
       "2003-10-02  0.113955       0.0  0.005389    8.880720  0.099223   100.166147\n",
       "2003-10-03  0.127419       0.0  0.009944    9.854309  0.955635   101.891182"
      ]
     },
     "execution_count": 24,
     "metadata": {},
     "output_type": "execute_result"
    }
   ],
   "source": [
    "X_train_1st = feature_df.loc['2003-09-29':'2011-09-28']\n",
    "print(X_train_1st.shape)\n",
    "X_train_1st.head()"
   ]
  },
  {
   "cell_type": "code",
   "execution_count": 25,
   "id": "932fcfa6-7e0c-4b57-a77a-528612c3762c",
   "metadata": {},
   "outputs": [
    {
     "name": "stdout",
     "output_type": "stream",
     "text": [
      "(2016,)\n"
     ]
    },
    {
     "data": {
      "text/plain": [
       "date\n",
       "2003-09-29    0.000000\n",
       "2003-09-30    0.046147\n",
       "2003-10-01    0.111621\n",
       "2003-10-02    0.113955\n",
       "2003-10-03    0.127419\n",
       "Name: HV, dtype: float64"
      ]
     },
     "execution_count": 25,
     "metadata": {},
     "output_type": "execute_result"
    }
   ],
   "source": [
    "y_train_1st = label_df.loc['2003-09-29':'2011-09-28']\n",
    "print(y_train_1st.shape)\n",
    "y_train_1st.head()"
   ]
  },
  {
   "cell_type": "markdown",
   "id": "8b6b5b8e-8ea4-4e01-9933-cedbe9b22fb2",
   "metadata": {},
   "source": [
    "### test"
   ]
  },
  {
   "cell_type": "code",
   "execution_count": 26,
   "id": "bfd1df2a-cf4a-4c07-908c-783f9ffbb927",
   "metadata": {},
   "outputs": [
    {
     "name": "stdout",
     "output_type": "stream",
     "text": [
      "(2516, 6)\n"
     ]
    },
    {
     "data": {
      "text/html": [
       "<div>\n",
       "<style scoped>\n",
       "    .dataframe tbody tr th:only-of-type {\n",
       "        vertical-align: middle;\n",
       "    }\n",
       "\n",
       "    .dataframe tbody tr th {\n",
       "        vertical-align: top;\n",
       "    }\n",
       "\n",
       "    .dataframe thead th {\n",
       "        text-align: right;\n",
       "    }\n",
       "</style>\n",
       "<table border=\"1\" class=\"dataframe\">\n",
       "  <thead>\n",
       "    <tr style=\"text-align: right;\">\n",
       "      <th></th>\n",
       "      <th>HV</th>\n",
       "      <th>sum_word</th>\n",
       "      <th>MA5_gra</th>\n",
       "      <th>Volume_OSC</th>\n",
       "      <th>Sigma</th>\n",
       "      <th>Disparity20</th>\n",
       "    </tr>\n",
       "    <tr>\n",
       "      <th>date</th>\n",
       "      <th></th>\n",
       "      <th></th>\n",
       "      <th></th>\n",
       "      <th></th>\n",
       "      <th></th>\n",
       "      <th></th>\n",
       "    </tr>\n",
       "  </thead>\n",
       "  <tbody>\n",
       "    <tr>\n",
       "      <th>2011-09-29</th>\n",
       "      <td>0.311156</td>\n",
       "      <td>24.0</td>\n",
       "      <td>0.007127</td>\n",
       "      <td>7.613165</td>\n",
       "      <td>-0.607309</td>\n",
       "      <td>97.759248</td>\n",
       "    </tr>\n",
       "    <tr>\n",
       "      <th>2011-09-30</th>\n",
       "      <td>0.324805</td>\n",
       "      <td>12.0</td>\n",
       "      <td>-0.001436</td>\n",
       "      <td>6.637214</td>\n",
       "      <td>-1.508087</td>\n",
       "      <td>95.174749</td>\n",
       "    </tr>\n",
       "    <tr>\n",
       "      <th>2011-10-03</th>\n",
       "      <td>0.327470</td>\n",
       "      <td>10.5</td>\n",
       "      <td>-0.010362</td>\n",
       "      <td>7.614666</td>\n",
       "      <td>-2.099935</td>\n",
       "      <td>92.930028</td>\n",
       "    </tr>\n",
       "    <tr>\n",
       "      <th>2011-10-04</th>\n",
       "      <td>0.340938</td>\n",
       "      <td>42.0</td>\n",
       "      <td>-0.010086</td>\n",
       "      <td>13.034524</td>\n",
       "      <td>-1.284014</td>\n",
       "      <td>95.421343</td>\n",
       "    </tr>\n",
       "    <tr>\n",
       "      <th>2011-10-05</th>\n",
       "      <td>0.327492</td>\n",
       "      <td>21.0</td>\n",
       "      <td>-0.002000</td>\n",
       "      <td>12.029998</td>\n",
       "      <td>-0.667012</td>\n",
       "      <td>97.453557</td>\n",
       "    </tr>\n",
       "  </tbody>\n",
       "</table>\n",
       "</div>"
      ],
      "text/plain": [
       "                  HV  sum_word   MA5_gra  Volume_OSC     Sigma  Disparity20\n",
       "date                                                                       \n",
       "2011-09-29  0.311156      24.0  0.007127    7.613165 -0.607309    97.759248\n",
       "2011-09-30  0.324805      12.0 -0.001436    6.637214 -1.508087    95.174749\n",
       "2011-10-03  0.327470      10.5 -0.010362    7.614666 -2.099935    92.930028\n",
       "2011-10-04  0.340938      42.0 -0.010086   13.034524 -1.284014    95.421343\n",
       "2011-10-05  0.327492      21.0 -0.002000   12.029998 -0.667012    97.453557"
      ]
     },
     "execution_count": 26,
     "metadata": {},
     "output_type": "execute_result"
    }
   ],
   "source": [
    "X_test_1st = feature_df.loc['2011-09-29':'2021-10-28']\n",
    "print(X_test_1st.shape)\n",
    "X_test_1st.head()"
   ]
  },
  {
   "cell_type": "code",
   "execution_count": 27,
   "id": "cdb5e673-12ad-45ad-b895-060d7bd3a139",
   "metadata": {},
   "outputs": [
    {
     "name": "stdout",
     "output_type": "stream",
     "text": [
      "(2538,)\n"
     ]
    },
    {
     "data": {
      "text/plain": [
       "date\n",
       "2011-09-29    0.311156\n",
       "2011-09-30    0.324805\n",
       "2011-10-03    0.327470\n",
       "2011-10-04    0.340938\n",
       "2011-10-05    0.327492\n",
       "Name: HV, dtype: float64"
      ]
     },
     "execution_count": 27,
     "metadata": {},
     "output_type": "execute_result"
    }
   ],
   "source": [
    "y_test_1st = label_df.loc['2011-09-29':'2021-10-28']\n",
    "print(y_test_1st.shape)\n",
    "y_test_1st.head()"
   ]
  },
  {
   "cell_type": "code",
   "execution_count": 28,
   "id": "1a315fea-9605-40ed-9e6c-e895ff83f430",
   "metadata": {},
   "outputs": [
    {
     "name": "stdout",
     "output_type": "stream",
     "text": [
      "(2016, 6) (2016,)\n",
      "(2516, 6) (2538,)\n"
     ]
    }
   ],
   "source": [
    "print(X_train_1st.shape, y_train_1st.shape)\n",
    "print(X_test_1st.shape, y_test_1st.shape)"
   ]
  },
  {
   "cell_type": "markdown",
   "id": "de64f21b-8a4b-41a8-b545-e34c53776878",
   "metadata": {},
   "source": [
    "## scaling\n",
    "X와 y를 각각 scaling 해주어야한다."
   ]
  },
  {
   "cell_type": "code",
   "execution_count": 29,
   "id": "58e048ba-f302-4480-b924-613bdf08bd53",
   "metadata": {},
   "outputs": [],
   "source": [
    "from sklearn.preprocessing import StandardScaler, MinMaxScaler, RobustScaler\n",
    "\n",
    "# Standardization 평균 0 / 분산 1\n",
    "X_scaler = MinMaxScaler()\n",
    "\n",
    "# 교차검증시\n",
    "X_scaler.fit(X_train_1st)\n",
    "X_train_1st_sc = X_scaler.transform(X_train_1st)\n",
    "X_test_1st_sc = X_scaler.transform(X_test_1st)"
   ]
  },
  {
   "cell_type": "code",
   "execution_count": 30,
   "id": "689961ea-e7ca-456f-83e4-7c0e1cd18297",
   "metadata": {},
   "outputs": [],
   "source": [
    "# from sklearn.preprocessing import StandardScaler\n",
    "\n",
    "# Standardization 평균 0 / 분산 1\n",
    "y_scaler = MinMaxScaler()   \n",
    "\n",
    "# 교차검증시\n",
    "y_scaler.fit(np.array(y_train_1st).reshape(-1,1))\n",
    "y_train_1st_sc = y_scaler.transform(np.array(y_train_1st).reshape(-1,1))\n",
    "y_test_1st_sc = y_scaler.transform(np.array(y_test_1st).reshape(-1,1))"
   ]
  },
  {
   "cell_type": "code",
   "execution_count": 31,
   "id": "e95d9a83-c469-40b8-b7fa-5db936f76838",
   "metadata": {},
   "outputs": [
    {
     "data": {
      "text/plain": [
       "((2016, 6), (2516, 6), (2016,), (2538,))"
      ]
     },
     "execution_count": 31,
     "metadata": {},
     "output_type": "execute_result"
    }
   ],
   "source": [
    "X_train_1st_sc.shape, X_test_1st_sc.shape, y_train_1st.shape, y_test_1st.shape"
   ]
  },
  {
   "cell_type": "code",
   "execution_count": 32,
   "id": "ae757593-13db-4c44-90bf-280f1be275db",
   "metadata": {},
   "outputs": [
    {
     "data": {
      "text/plain": [
       "array([[0.        ],\n",
       "       [0.04309432],\n",
       "       [0.1042375 ],\n",
       "       [0.10641735],\n",
       "       [0.11899137]])"
      ]
     },
     "execution_count": 32,
     "metadata": {},
     "output_type": "execute_result"
    }
   ],
   "source": [
    "y_train_1st_sc[:5]"
   ]
  },
  {
   "cell_type": "code",
   "execution_count": 33,
   "id": "47bdb30e-124a-4b07-a97a-42f008f1ea7d",
   "metadata": {},
   "outputs": [
    {
     "data": {
      "text/plain": [
       "array([[0.29057482],\n",
       "       [0.30332099],\n",
       "       [0.30580974],\n",
       "       [0.31838696],\n",
       "       [0.30583013]])"
      ]
     },
     "execution_count": 33,
     "metadata": {},
     "output_type": "execute_result"
    }
   ],
   "source": [
    "y_test_1st_sc[:5]"
   ]
  },
  {
   "cell_type": "code",
   "execution_count": 34,
   "id": "a257a2bb-b6aa-4f24-8fec-d28e42406b3e",
   "metadata": {},
   "outputs": [
    {
     "data": {
      "text/plain": [
       "date\n",
       "2003-09-29    0.000000\n",
       "2003-09-30    0.046147\n",
       "2003-10-01    0.111621\n",
       "2003-10-02    0.113955\n",
       "2003-10-03    0.127419\n",
       "Name: HV, dtype: float64"
      ]
     },
     "execution_count": 34,
     "metadata": {},
     "output_type": "execute_result"
    }
   ],
   "source": [
    "y_train_1st[:5]"
   ]
  },
  {
   "cell_type": "code",
   "execution_count": 35,
   "id": "98d22068-8574-42b6-b140-0b146443aa03",
   "metadata": {},
   "outputs": [
    {
     "data": {
      "text/plain": [
       "date\n",
       "2011-09-29    0.311156\n",
       "2011-09-30    0.324805\n",
       "2011-10-03    0.327470\n",
       "2011-10-04    0.340938\n",
       "2011-10-05    0.327492\n",
       "Name: HV, dtype: float64"
      ]
     },
     "execution_count": 35,
     "metadata": {},
     "output_type": "execute_result"
    }
   ],
   "source": [
    "y_test_1st[:5]"
   ]
  },
  {
   "cell_type": "code",
   "execution_count": 36,
   "id": "d2776713-7caa-4c69-a71c-8fe463fce1c6",
   "metadata": {},
   "outputs": [],
   "source": [
    "# 입력 파라미터 feature, label -> numpy type\n",
    "def make_sequence_dataset(feature, label, window_size):\n",
    "    feature_list = [] # 생성될 feature list\n",
    "    label_list = []  # 생성될 label list\n",
    "    \n",
    "    for i in range(len(feature)-window_size):\n",
    "        feature_list.append(feature[i:i+window_size])\n",
    "        label_list.append(label[i+window_size])\n",
    "    return np.array(feature_list), np.array(label_list) # 3차원으로 만들어줌"
   ]
  },
  {
   "cell_type": "code",
   "execution_count": 37,
   "id": "745f8dfc-46fc-4eba-a9c3-897deb7b4c34",
   "metadata": {},
   "outputs": [
    {
     "name": "stdout",
     "output_type": "stream",
     "text": [
      "(1996, 20, 6) (1996, 1) (2496, 20, 6) (2496, 1)\n"
     ]
    }
   ],
   "source": [
    "window_size = 20\n",
    "X_train_1st, y_train_1st = make_sequence_dataset(X_train_1st_sc, y_train_1st_sc, window_size)\n",
    "X_test_1st, y_test_1st = make_sequence_dataset(X_test_1st_sc, y_test_1st_sc, window_size)\n",
    "print(X_train_1st.shape, y_train_1st.shape, X_test_1st.shape, y_test_1st.shape) # (batch size, time steps, input dims)"
   ]
  },
  {
   "cell_type": "markdown",
   "id": "46f09fcf-4828-4f0d-8b10-b56528c308c0",
   "metadata": {},
   "source": [
    "# TRAIN, TEST 분리"
   ]
  },
  {
   "cell_type": "code",
   "execution_count": 38,
   "id": "abbf7549-3fca-4fa1-85bc-6e4223754278",
   "metadata": {},
   "outputs": [
    {
     "data": {
      "text/plain": [
       "(20, 6)"
      ]
     },
     "execution_count": 38,
     "metadata": {},
     "output_type": "execute_result"
    }
   ],
   "source": [
    "# input_shape\n",
    "X_train_1st[0].shape"
   ]
  },
  {
   "cell_type": "code",
   "execution_count": 39,
   "id": "f5eb80f3-9b90-4031-a37d-290184a51ebe",
   "metadata": {},
   "outputs": [
    {
     "name": "stdout",
     "output_type": "stream",
     "text": [
      "Model: \"sequential\"\n",
      "_________________________________________________________________\n",
      "Layer (type)                 Output Shape              Param #   \n",
      "=================================================================\n",
      "bidirectional (Bidirectional (None, 20, 64)            9984      \n",
      "_________________________________________________________________\n",
      "dropout (Dropout)            (None, 20, 64)            0         \n",
      "_________________________________________________________________\n",
      "bidirectional_1 (Bidirection (None, 20, 64)            24832     \n",
      "_________________________________________________________________\n",
      "dropout_1 (Dropout)          (None, 20, 64)            0         \n",
      "_________________________________________________________________\n",
      "bidirectional_2 (Bidirection (None, 64)                24832     \n",
      "_________________________________________________________________\n",
      "dropout_2 (Dropout)          (None, 64)                0         \n",
      "_________________________________________________________________\n",
      "dense (Dense)                (None, 1)                 65        \n",
      "=================================================================\n",
      "Total params: 59,713\n",
      "Trainable params: 59,713\n",
      "Non-trainable params: 0\n",
      "_________________________________________________________________\n"
     ]
    }
   ],
   "source": [
    "model = Sequential()\n",
    "model.add(Bidirectional(LSTM(32,activation = 'LeakyReLU',return_sequences=True), input_shape = X_train_1st[0].shape))\n",
    "model.add(Dropout(0.1))\n",
    "\n",
    "# model.add(Bidirectional(LSTM(32, activation = 'LeakyReLU', return_sequences=True)))\n",
    "model.add(Bidirectional(LSTM(32,activation = 'LeakyReLU',return_sequences=True)))\n",
    "model.add(Dropout(0.1))\n",
    "\n",
    "model.add(Bidirectional(LSTM(32,activation = 'LeakyReLU')))\n",
    "model.add(Dropout(0.1))\n",
    "\n",
    "model.add(Dense(1))\n",
    "model.summary()\n",
    "\n",
    "model.compile(loss = 'mse', optimizer ='adam')\n",
    "\n",
    "# 0.0134 32\n",
    "# 0.011912739496566772  64\n",
    "\n",
    "# 0.015772244934072994  32 (no dropout)\n"
   ]
  },
  {
   "cell_type": "markdown",
   "id": "3661601c-1aa7-4600-8dcb-8d61ff599451",
   "metadata": {},
   "source": [
    "# Model"
   ]
  },
  {
   "cell_type": "code",
   "execution_count": 40,
   "id": "65443238-0f02-4087-ab56-3da2916d67cf",
   "metadata": {},
   "outputs": [
    {
     "name": "stdout",
     "output_type": "stream",
     "text": [
      "Epoch 1/50\n",
      "134/134 [==============================] - 8s 32ms/step - loss: 0.0096 - val_loss: 0.0024\n",
      "Epoch 2/50\n",
      "134/134 [==============================] - 3s 25ms/step - loss: 0.0018 - val_loss: 0.0033\n",
      "Epoch 3/50\n",
      "134/134 [==============================] - 3s 24ms/step - loss: 0.0013 - val_loss: 0.0024\n",
      "Epoch 4/50\n",
      "134/134 [==============================] - 4s 30ms/step - loss: 0.0012 - val_loss: 0.0011\n",
      "Epoch 5/50\n",
      "134/134 [==============================] - 3s 23ms/step - loss: 0.0012 - val_loss: 0.0012\n",
      "Epoch 6/50\n",
      "134/134 [==============================] - 4s 31ms/step - loss: 8.4353e-04 - val_loss: 0.0010\n",
      "Epoch 7/50\n",
      "134/134 [==============================] - 3s 24ms/step - loss: 0.0010 - val_loss: 8.7155e-04\n",
      "Epoch 8/50\n",
      "134/134 [==============================] - 4s 28ms/step - loss: 8.4845e-04 - val_loss: 5.5634e-04\n",
      "Epoch 9/50\n",
      "134/134 [==============================] - 4s 27ms/step - loss: 8.1592e-04 - val_loss: 0.0010\n",
      "Epoch 10/50\n",
      "134/134 [==============================] - 3s 24ms/step - loss: 8.1479e-04 - val_loss: 0.0042\n",
      "Epoch 11/50\n",
      "134/134 [==============================] - 4s 30ms/step - loss: 0.0016 - val_loss: 7.6548e-04\n",
      "Epoch 12/50\n",
      "134/134 [==============================] - 3s 23ms/step - loss: 7.7978e-04 - val_loss: 3.7169e-04\n",
      "Epoch 13/50\n",
      "134/134 [==============================] - 4s 30ms/step - loss: 7.0659e-04 - val_loss: 7.0760e-04\n",
      "Epoch 14/50\n",
      "134/134 [==============================] - 3s 24ms/step - loss: 8.0325e-04 - val_loss: 8.8929e-04\n",
      "Epoch 15/50\n",
      "134/134 [==============================] - 4s 27ms/step - loss: 7.3952e-04 - val_loss: 6.7947e-04\n",
      "Epoch 16/50\n",
      "134/134 [==============================] - 4s 28ms/step - loss: 6.8326e-04 - val_loss: 8.2145e-04\n",
      "Epoch 17/50\n",
      "134/134 [==============================] - 3s 24ms/step - loss: 6.0095e-04 - val_loss: 6.2399e-04\n",
      "Epoch 18/50\n",
      "134/134 [==============================] - 4s 31ms/step - loss: 5.9076e-04 - val_loss: 4.0903e-04\n",
      "Epoch 19/50\n",
      "134/134 [==============================] - 3s 23ms/step - loss: 5.1782e-04 - val_loss: 2.9999e-04\n",
      "Epoch 20/50\n",
      "134/134 [==============================] - 4s 30ms/step - loss: 5.1183e-04 - val_loss: 8.3102e-04\n",
      "Epoch 21/50\n",
      "134/134 [==============================] - 3s 24ms/step - loss: 5.5640e-04 - val_loss: 5.7938e-04\n",
      "Epoch 22/50\n",
      "134/134 [==============================] - 4s 28ms/step - loss: 5.4110e-04 - val_loss: 6.0164e-04\n",
      "Epoch 23/50\n",
      "134/134 [==============================] - 4s 27ms/step - loss: 4.9805e-04 - val_loss: 5.4148e-04\n",
      "Epoch 24/50\n",
      "134/134 [==============================] - 3s 25ms/step - loss: 4.9419e-04 - val_loss: 4.2727e-04\n",
      "Epoch 25/50\n",
      "134/134 [==============================] - 4s 31ms/step - loss: 4.3569e-04 - val_loss: 5.2361e-04\n",
      "Epoch 26/50\n",
      "134/134 [==============================] - 3s 24ms/step - loss: 5.2086e-04 - val_loss: 7.4648e-04\n",
      "Epoch 27/50\n",
      "134/134 [==============================] - 4s 31ms/step - loss: 4.3722e-04 - val_loss: 0.0011\n",
      "Epoch 28/50\n",
      "134/134 [==============================] - 3s 24ms/step - loss: 4.9704e-04 - val_loss: 0.0014\n",
      "Epoch 29/50\n",
      "134/134 [==============================] - 4s 28ms/step - loss: 5.0448e-04 - val_loss: 5.6919e-04\n"
     ]
    }
   ],
   "source": [
    "model.compile(loss = 'mse', optimizer = 'adam')\n",
    "early_stop = EarlyStopping(monitor = 'val_loss', patience = 10)\n",
    "history = model.fit(X_train_1st, y_train_1st, validation_data = (X_test_1st, y_test_1st), epochs=50, \n",
    "          batch_size=15, callbacks = [early_stop])"
   ]
  },
  {
   "cell_type": "code",
   "execution_count": 41,
   "id": "a18f8f36-512a-4659-b64d-26cfc6e73517",
   "metadata": {
    "tags": []
   },
   "outputs": [
    {
     "name": "stdout",
     "output_type": "stream",
     "text": [
      "[0.002431554952636361, 0.0032563533168286085, 0.002365828724578023, 0.001055278116837144, 0.0012129474198445678]\n"
     ]
    }
   ],
   "source": [
    "val_loss = history.history['val_loss']\n",
    "print(val_loss[:5])"
   ]
  },
  {
   "cell_type": "code",
   "execution_count": 42,
   "id": "04058c7f-7f55-4ccb-80d4-d9592a12cf06",
   "metadata": {},
   "outputs": [
    {
     "name": "stdout",
     "output_type": "stream",
     "text": [
      "[0.009648041799664497, 0.0017863005632534623, 0.0013039615005254745, 0.0011557090329006314, 0.0011988460319116712]\n"
     ]
    }
   ],
   "source": [
    "train_loss = history.history['loss']\n",
    "print(train_loss[:5])"
   ]
  },
  {
   "cell_type": "code",
   "execution_count": 43,
   "id": "afa005ab-3e21-4c94-b0c8-9f602b212496",
   "metadata": {
    "tags": []
   },
   "outputs": [
    {
     "data": {
      "image/png": "[encoded data removed]",
      "text/plain": [
       "<Figure size 2400x1350 with 1 Axes>"
      ]
     },
     "metadata": {},
     "output_type": "display_data"
    }
   ],
   "source": [
    "plt.plot(np.arange(len(val_loss)), val_loss, c=\"red\", label='val')\n",
    "plt.plot(np.arange(len(train_loss)), train_loss, c='blue', label ='train')\n",
    "plt.legend()\n",
    "plt.show()"
   ]
  },
  {
   "cell_type": "code",
   "execution_count": 44,
   "id": "031ebfdf-a397-4da9-aeb6-e3bf12526596",
   "metadata": {},
   "outputs": [
    {
     "data": {
      "text/plain": [
       "0.01732013461393075"
      ]
     },
     "execution_count": 44,
     "metadata": {},
     "output_type": "execute_result"
    }
   ],
   "source": [
    "rmse_score = np.sqrt(np.min(val_loss))\n",
    "rmse_score"
   ]
  },
  {
   "cell_type": "markdown",
   "id": "9b897df8-7866-4e2b-84be-e7dc3f80481a",
   "metadata": {
    "tags": []
   },
   "source": [
    "# 예측 결과 시각화\n",
    "- https://www.youtube.com/watch?v=LLLVYkXJw30"
   ]
  },
  {
   "cell_type": "code",
   "execution_count": 45,
   "id": "4a594006-e803-4e02-a17b-81f18c00ff08",
   "metadata": {},
   "outputs": [],
   "source": [
    "pred = model.predict(X_test_1st)"
   ]
  },
  {
   "cell_type": "code",
   "execution_count": 46,
   "id": "e3b79d45-b639-4aea-b70f-7ca4a642a6ee",
   "metadata": {},
   "outputs": [
    {
     "data": {
      "text/plain": [
       "array([[0.26773936],\n",
       "       [0.2671957 ],\n",
       "       [0.262555  ],\n",
       "       [0.2634868 ],\n",
       "       [0.2658237 ]], dtype=float32)"
      ]
     },
     "execution_count": 46,
     "metadata": {},
     "output_type": "execute_result"
    }
   ],
   "source": [
    "pred[:5]"
   ]
  },
  {
   "cell_type": "code",
   "execution_count": 47,
   "id": "f36b268a-fd51-482f-9bf2-c7fbbc64f283",
   "metadata": {},
   "outputs": [
    {
     "data": {
      "text/plain": [
       "(2496, 1)"
      ]
     },
     "execution_count": 47,
     "metadata": {},
     "output_type": "execute_result"
    }
   ],
   "source": [
    "pred.shape"
   ]
  },
  {
   "cell_type": "code",
   "execution_count": 48,
   "id": "866ef140-2817-4394-b196-3cb416c49dc0",
   "metadata": {},
   "outputs": [],
   "source": [
    "# pred = pred.reshape(2496,20)"
   ]
  },
  {
   "cell_type": "code",
   "execution_count": 49,
   "id": "5d1397bf-aecb-4989-8be8-cadfb8d71921",
   "metadata": {},
   "outputs": [
    {
     "data": {
      "text/plain": [
       "0.1422767"
      ]
     },
     "execution_count": 49,
     "metadata": {},
     "output_type": "execute_result"
    }
   ],
   "source": [
    "np.mean(pred)"
   ]
  },
  {
   "cell_type": "code",
   "execution_count": 50,
   "id": "902f7d56-baea-4bf2-8afd-a237b5a0a501",
   "metadata": {},
   "outputs": [
    {
     "data": {
      "text/plain": [
       "array([[0.3077117 ],\n",
       "       [0.28268843],\n",
       "       [0.28485148],\n",
       "       [0.29732126],\n",
       "       [0.2969859 ]])"
      ]
     },
     "execution_count": 50,
     "metadata": {},
     "output_type": "execute_result"
    }
   ],
   "source": [
    "y_test_1st[:5]"
   ]
  },
  {
   "cell_type": "code",
   "execution_count": 51,
   "id": "c65547de-eeca-4cc1-9197-d42558408550",
   "metadata": {},
   "outputs": [
    {
     "data": {
      "image/png": "[encoded data removed]",
      "text/plain": [
       "<Figure size 3600x1800 with 1 Axes>"
      ]
     },
     "metadata": {},
     "output_type": "display_data"
    }
   ],
   "source": [
    "plt.figure(figsize = (12,6))\n",
    "plt.title('[HV, sum_word,MA5_gra,Volume_OSC,Sigma,Disparity20], window_size =20')\n",
    "plt.ylabel('HV')\n",
    "plt.xlabel('Period')\n",
    "plt.plot(y_test_1st, label = 'actual')\n",
    "plt.plot(pred, label = 'prediction')\n",
    "plt.grid()\n",
    "plt.legend(loc = 'best')\n",
    "\n",
    "plt.show()"
   ]
  },
  {
   "cell_type": "code",
   "execution_count": null,
   "id": "3fc98c40-9d10-4404-b1c6-fa718dfa8e0c",
   "metadata": {},
   "outputs": [],
   "source": []
  },
  {
   "cell_type": "code",
   "execution_count": null,
   "id": "2017d64e-cc7d-4753-b699-9c0a6e61ca98",
   "metadata": {},
   "outputs": [],
   "source": []
  }
 ],
 "metadata": {
  "kernelspec": {
   "display_name": "Python 3 (ipykernel)",
   "language": "python",
   "name": "python3"
  },
  "language_info": {
   "codemirror_mode": {
    "name": "ipython",
    "version": 3
   },
   "file_extension": ".py",
   "mimetype": "text/x-python",
   "name": "python",
   "nbconvert_exporter": "python",
   "pygments_lexer": "ipython3",
   "version": "3.8.8"
  }
 },
 "nbformat": 4,
 "nbformat_minor": 5
}
