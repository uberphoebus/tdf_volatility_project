{
 "cells": [
  {
   "cell_type": "code",
   "execution_count": 1,
   "metadata": {},
   "outputs": [],
   "source": [
    "import pandas as pd\n",
    "import numpy as np\n",
    "import matplotlib as mpl\n",
    "import matplotlib.pyplot as plt\n",
    "import seaborn as sns\n",
    "\n",
    "mpl.rcParams['figure.figsize'] = (8, 6)\n",
    "mpl.rcParams['axes.grid'] = False\n",
    "plt.style.use('seaborn')\n",
    "plt.rcParams['figure.figsize'] = [8, 4.5]\n",
    "plt.rcParams['figure.dpi'] = 300\n",
    "\n",
    "# 텐서 씨드 고정\n",
    "import tensorflow as tf\n",
    "import random\n",
    "import os\n",
    "#글로벌 시드\n",
    "class config:\n",
    "    seed = 1234\n",
    "    device = \"cuda:0\"    \n",
    "\n",
    "def seed_everything(seed: int = 1234):\n",
    "    random.seed(seed)\n",
    "    np.random.seed(seed)\n",
    "    os.environ[\"PYTHONHASHSEED\"] = str(seed)\n",
    "    tf.random.set_seed(seed)\n",
    "    \n",
    "seed_everything(config.seed)\n",
    "\n",
    "import tensorflow as tf\n",
    "import numpy as np\n",
    "import pandas as pd\n",
    "import matplotlib.pyplot as plt\n",
    "from tensorflow.keras.models import Sequential\n",
    "from tensorflow.keras.layers import LSTM, Dense, Dropout\n",
    "from tensorflow.keras.callbacks import EarlyStopping\n",
    "\n",
    "seed =1234\n",
    "\n",
    "pd.set_option('display.max_rows', 10, 'display.max_columns', 500, 'max_colwidth', None)"
   ]
  },
  {
   "cell_type": "code",
   "execution_count": 2,
   "metadata": {},
   "outputs": [],
   "source": [
    "from sklearn.model_selection import TimeSeriesSplit\n",
    "from sklearn.model_selection import KFold\n",
    "import numpy as np\n",
    "import matplotlib.pyplot as plt\n",
    "from matplotlib.patches import Patch\n",
    "import seaborn as sns \n",
    "\n",
    "import sklearn\n",
    "from sklearn.linear_model import ElasticNet, LinearRegression\n",
    "from sklearn.neural_network import MLPRegressor\n",
    "from sklearn.neighbors import KNeighborsRegressor\n",
    "from sklearn.ensemble import RandomForestRegressor\n",
    "from sklearn.svm import SVR\n",
    "\n",
    "from sklearn.multioutput import MultiOutputRegressor\n",
    "from sklearn.model_selection import cross_val_score\n",
    "from sklearn.model_selection import GridSearchCV\n",
    "from keras.wrappers.scikit_learn import KerasClassifier, KerasRegressor\n",
    "np.random.seed(1338)\n",
    "cmap_data = plt.cm.Paired\n",
    "cmap_cv = plt.cm.coolwarm\n",
    "n_splits = 5\n",
    "\n",
    "import pandas as pd\n",
    "from pandas_datareader import data as web\n",
    "import warnings\n",
    "warnings.filterwarnings('ignore')"
   ]
  },
  {
   "cell_type": "code",
   "execution_count": 3,
   "metadata": {},
   "outputs": [],
   "source": [
    "from sklearn.model_selection import TimeSeriesSplit"
   ]
  },
  {
   "cell_type": "code",
   "execution_count": 4,
   "metadata": {},
   "outputs": [
    {
     "data": {
      "text/plain": [
       "(4598, 55)"
      ]
     },
     "execution_count": 4,
     "metadata": {},
     "output_type": "execute_result"
    }
   ],
   "source": [
    "# df = pd.read_csv('./kospi.csv')\n",
    "df = pd.read_csv('./baseline_hv.csv')\n",
    "\n",
    "df.shape"
   ]
  },
  {
   "cell_type": "code",
   "execution_count": 5,
   "metadata": {},
   "outputs": [
    {
     "data": {
      "text/html": [
       "<div>\n",
       "<style scoped>\n",
       "    .dataframe tbody tr th:only-of-type {\n",
       "        vertical-align: middle;\n",
       "    }\n",
       "\n",
       "    .dataframe tbody tr th {\n",
       "        vertical-align: top;\n",
       "    }\n",
       "\n",
       "    .dataframe thead th {\n",
       "        text-align: right;\n",
       "    }\n",
       "</style>\n",
       "<table border=\"1\" class=\"dataframe\">\n",
       "  <thead>\n",
       "    <tr style=\"text-align: right;\">\n",
       "      <th></th>\n",
       "      <th>date</th>\n",
       "      <th>baseline</th>\n",
       "      <th>HV</th>\n",
       "      <th>HV_pred</th>\n",
       "      <th>HV_resid</th>\n",
       "      <th>sum_word</th>\n",
       "      <th>MA5</th>\n",
       "      <th>MA20</th>\n",
       "      <th>MA60</th>\n",
       "      <th>MA120</th>\n",
       "      <th>MA5_gra</th>\n",
       "      <th>MA20_gra</th>\n",
       "      <th>MA60_gra</th>\n",
       "      <th>MA120_gra</th>\n",
       "      <th>V_MA5</th>\n",
       "      <th>V_MA20</th>\n",
       "      <th>V_MA60</th>\n",
       "      <th>V_MA120</th>\n",
       "      <th>EMA5</th>\n",
       "      <th>EMA20</th>\n",
       "      <th>EMA60</th>\n",
       "      <th>EMA120</th>\n",
       "      <th>MACD</th>\n",
       "      <th>MACD_sig9</th>\n",
       "      <th>MACD_OSC</th>\n",
       "      <th>Fast%K</th>\n",
       "      <th>Fast%D</th>\n",
       "      <th>Slow%K</th>\n",
       "      <th>Slow%D</th>\n",
       "      <th>RSI14</th>\n",
       "      <th>RSI signal</th>\n",
       "      <th>CCI</th>\n",
       "      <th>A_Ratio</th>\n",
       "      <th>B_Ratio</th>\n",
       "      <th>ATR</th>\n",
       "      <th>UpDI</th>\n",
       "      <th>DownDI</th>\n",
       "      <th>MFI</th>\n",
       "      <th>Momentum</th>\n",
       "      <th>Sonar</th>\n",
       "      <th>Sonar_sig5</th>\n",
       "      <th>STDEV</th>\n",
       "      <th>Sigma</th>\n",
       "      <th>TRIX</th>\n",
       "      <th>VR</th>\n",
       "      <th>WILLR</th>\n",
       "      <th>Psy</th>\n",
       "      <th>Disparity20</th>\n",
       "      <th>Disparity60</th>\n",
       "      <th>ADX</th>\n",
       "      <th>ADOSC</th>\n",
       "      <th>Volume_OSC</th>\n",
       "      <th>upperband</th>\n",
       "      <th>middleband</th>\n",
       "      <th>lowerband</th>\n",
       "    </tr>\n",
       "  </thead>\n",
       "  <tbody>\n",
       "    <tr>\n",
       "      <th>0</th>\n",
       "      <td>2003-07-28</td>\n",
       "      <td>100.0</td>\n",
       "      <td>NaN</td>\n",
       "      <td>0.0</td>\n",
       "      <td>NaN</td>\n",
       "      <td>0.0</td>\n",
       "      <td>0.000000</td>\n",
       "      <td>0.0</td>\n",
       "      <td>0.0</td>\n",
       "      <td>0.0</td>\n",
       "      <td>0.0</td>\n",
       "      <td>0.0</td>\n",
       "      <td>0.0</td>\n",
       "      <td>0.0</td>\n",
       "      <td>0.000000e+00</td>\n",
       "      <td>0.0</td>\n",
       "      <td>0.0</td>\n",
       "      <td>0.0</td>\n",
       "      <td>0.000000</td>\n",
       "      <td>0.0</td>\n",
       "      <td>0.0</td>\n",
       "      <td>0.0</td>\n",
       "      <td>0.0</td>\n",
       "      <td>0.0</td>\n",
       "      <td>0.0</td>\n",
       "      <td>0.0</td>\n",
       "      <td>0.0</td>\n",
       "      <td>0.0</td>\n",
       "      <td>0.0</td>\n",
       "      <td>0.0</td>\n",
       "      <td>0.0</td>\n",
       "      <td>0.0</td>\n",
       "      <td>0.0</td>\n",
       "      <td>0.0</td>\n",
       "      <td>0.0</td>\n",
       "      <td>0.0</td>\n",
       "      <td>0.0</td>\n",
       "      <td>0.0</td>\n",
       "      <td>0.0</td>\n",
       "      <td>0.0</td>\n",
       "      <td>0.0</td>\n",
       "      <td>0.0</td>\n",
       "      <td>0.0</td>\n",
       "      <td>0.0</td>\n",
       "      <td>0.0</td>\n",
       "      <td>0.0</td>\n",
       "      <td>0.000</td>\n",
       "      <td>0.0</td>\n",
       "      <td>0.0</td>\n",
       "      <td>0.0</td>\n",
       "      <td>0.0</td>\n",
       "      <td>0.0</td>\n",
       "      <td>0.0</td>\n",
       "      <td>0.0</td>\n",
       "      <td>0.0</td>\n",
       "    </tr>\n",
       "    <tr>\n",
       "      <th>1</th>\n",
       "      <td>2003-07-29</td>\n",
       "      <td>100.0</td>\n",
       "      <td>0.0</td>\n",
       "      <td>0.0</td>\n",
       "      <td>0.0</td>\n",
       "      <td>0.0</td>\n",
       "      <td>0.000000</td>\n",
       "      <td>0.0</td>\n",
       "      <td>0.0</td>\n",
       "      <td>0.0</td>\n",
       "      <td>0.0</td>\n",
       "      <td>0.0</td>\n",
       "      <td>0.0</td>\n",
       "      <td>0.0</td>\n",
       "      <td>0.000000e+00</td>\n",
       "      <td>0.0</td>\n",
       "      <td>0.0</td>\n",
       "      <td>0.0</td>\n",
       "      <td>0.000000</td>\n",
       "      <td>0.0</td>\n",
       "      <td>0.0</td>\n",
       "      <td>0.0</td>\n",
       "      <td>0.0</td>\n",
       "      <td>0.0</td>\n",
       "      <td>0.0</td>\n",
       "      <td>0.0</td>\n",
       "      <td>0.0</td>\n",
       "      <td>0.0</td>\n",
       "      <td>0.0</td>\n",
       "      <td>0.0</td>\n",
       "      <td>0.0</td>\n",
       "      <td>0.0</td>\n",
       "      <td>0.0</td>\n",
       "      <td>0.0</td>\n",
       "      <td>0.0</td>\n",
       "      <td>0.0</td>\n",
       "      <td>0.0</td>\n",
       "      <td>0.0</td>\n",
       "      <td>0.0</td>\n",
       "      <td>0.0</td>\n",
       "      <td>0.0</td>\n",
       "      <td>0.0</td>\n",
       "      <td>0.0</td>\n",
       "      <td>0.0</td>\n",
       "      <td>0.0</td>\n",
       "      <td>0.0</td>\n",
       "      <td>2.750</td>\n",
       "      <td>0.0</td>\n",
       "      <td>0.0</td>\n",
       "      <td>0.0</td>\n",
       "      <td>0.0</td>\n",
       "      <td>0.0</td>\n",
       "      <td>0.0</td>\n",
       "      <td>0.0</td>\n",
       "      <td>0.0</td>\n",
       "    </tr>\n",
       "    <tr>\n",
       "      <th>2</th>\n",
       "      <td>2003-07-30</td>\n",
       "      <td>100.0</td>\n",
       "      <td>0.0</td>\n",
       "      <td>0.0</td>\n",
       "      <td>0.0</td>\n",
       "      <td>0.0</td>\n",
       "      <td>0.000000</td>\n",
       "      <td>0.0</td>\n",
       "      <td>0.0</td>\n",
       "      <td>0.0</td>\n",
       "      <td>0.0</td>\n",
       "      <td>0.0</td>\n",
       "      <td>0.0</td>\n",
       "      <td>0.0</td>\n",
       "      <td>0.000000e+00</td>\n",
       "      <td>0.0</td>\n",
       "      <td>0.0</td>\n",
       "      <td>0.0</td>\n",
       "      <td>0.000000</td>\n",
       "      <td>0.0</td>\n",
       "      <td>0.0</td>\n",
       "      <td>0.0</td>\n",
       "      <td>0.0</td>\n",
       "      <td>0.0</td>\n",
       "      <td>0.0</td>\n",
       "      <td>0.0</td>\n",
       "      <td>0.0</td>\n",
       "      <td>0.0</td>\n",
       "      <td>0.0</td>\n",
       "      <td>0.0</td>\n",
       "      <td>0.0</td>\n",
       "      <td>0.0</td>\n",
       "      <td>0.0</td>\n",
       "      <td>0.0</td>\n",
       "      <td>0.0</td>\n",
       "      <td>0.0</td>\n",
       "      <td>0.0</td>\n",
       "      <td>0.0</td>\n",
       "      <td>0.0</td>\n",
       "      <td>0.0</td>\n",
       "      <td>0.0</td>\n",
       "      <td>0.0</td>\n",
       "      <td>0.0</td>\n",
       "      <td>0.0</td>\n",
       "      <td>0.0</td>\n",
       "      <td>0.0</td>\n",
       "      <td>3.125</td>\n",
       "      <td>0.0</td>\n",
       "      <td>0.0</td>\n",
       "      <td>0.0</td>\n",
       "      <td>0.0</td>\n",
       "      <td>0.0</td>\n",
       "      <td>0.0</td>\n",
       "      <td>0.0</td>\n",
       "      <td>0.0</td>\n",
       "    </tr>\n",
       "    <tr>\n",
       "      <th>3</th>\n",
       "      <td>2003-07-31</td>\n",
       "      <td>100.0</td>\n",
       "      <td>0.0</td>\n",
       "      <td>0.0</td>\n",
       "      <td>0.0</td>\n",
       "      <td>0.0</td>\n",
       "      <td>0.000000</td>\n",
       "      <td>0.0</td>\n",
       "      <td>0.0</td>\n",
       "      <td>0.0</td>\n",
       "      <td>0.0</td>\n",
       "      <td>0.0</td>\n",
       "      <td>0.0</td>\n",
       "      <td>0.0</td>\n",
       "      <td>0.000000e+00</td>\n",
       "      <td>0.0</td>\n",
       "      <td>0.0</td>\n",
       "      <td>0.0</td>\n",
       "      <td>0.000000</td>\n",
       "      <td>0.0</td>\n",
       "      <td>0.0</td>\n",
       "      <td>0.0</td>\n",
       "      <td>0.0</td>\n",
       "      <td>0.0</td>\n",
       "      <td>0.0</td>\n",
       "      <td>0.0</td>\n",
       "      <td>0.0</td>\n",
       "      <td>0.0</td>\n",
       "      <td>0.0</td>\n",
       "      <td>0.0</td>\n",
       "      <td>0.0</td>\n",
       "      <td>0.0</td>\n",
       "      <td>0.0</td>\n",
       "      <td>0.0</td>\n",
       "      <td>0.0</td>\n",
       "      <td>0.0</td>\n",
       "      <td>0.0</td>\n",
       "      <td>0.0</td>\n",
       "      <td>0.0</td>\n",
       "      <td>0.0</td>\n",
       "      <td>0.0</td>\n",
       "      <td>0.0</td>\n",
       "      <td>0.0</td>\n",
       "      <td>0.0</td>\n",
       "      <td>0.0</td>\n",
       "      <td>0.0</td>\n",
       "      <td>10.625</td>\n",
       "      <td>0.0</td>\n",
       "      <td>0.0</td>\n",
       "      <td>0.0</td>\n",
       "      <td>0.0</td>\n",
       "      <td>0.0</td>\n",
       "      <td>0.0</td>\n",
       "      <td>0.0</td>\n",
       "      <td>0.0</td>\n",
       "    </tr>\n",
       "    <tr>\n",
       "      <th>4</th>\n",
       "      <td>2003-08-01</td>\n",
       "      <td>100.0</td>\n",
       "      <td>0.0</td>\n",
       "      <td>0.0</td>\n",
       "      <td>0.0</td>\n",
       "      <td>3.0</td>\n",
       "      <td>41.088806</td>\n",
       "      <td>0.0</td>\n",
       "      <td>0.0</td>\n",
       "      <td>0.0</td>\n",
       "      <td>0.0</td>\n",
       "      <td>0.0</td>\n",
       "      <td>0.0</td>\n",
       "      <td>0.0</td>\n",
       "      <td>3.291079e+07</td>\n",
       "      <td>0.0</td>\n",
       "      <td>0.0</td>\n",
       "      <td>0.0</td>\n",
       "      <td>41.088806</td>\n",
       "      <td>0.0</td>\n",
       "      <td>0.0</td>\n",
       "      <td>0.0</td>\n",
       "      <td>0.0</td>\n",
       "      <td>0.0</td>\n",
       "      <td>0.0</td>\n",
       "      <td>0.0</td>\n",
       "      <td>0.0</td>\n",
       "      <td>0.0</td>\n",
       "      <td>0.0</td>\n",
       "      <td>0.0</td>\n",
       "      <td>0.0</td>\n",
       "      <td>0.0</td>\n",
       "      <td>0.0</td>\n",
       "      <td>0.0</td>\n",
       "      <td>0.0</td>\n",
       "      <td>0.0</td>\n",
       "      <td>0.0</td>\n",
       "      <td>0.0</td>\n",
       "      <td>0.0</td>\n",
       "      <td>0.0</td>\n",
       "      <td>0.0</td>\n",
       "      <td>0.0</td>\n",
       "      <td>0.0</td>\n",
       "      <td>0.0</td>\n",
       "      <td>0.0</td>\n",
       "      <td>0.0</td>\n",
       "      <td>13.125</td>\n",
       "      <td>0.0</td>\n",
       "      <td>0.0</td>\n",
       "      <td>0.0</td>\n",
       "      <td>0.0</td>\n",
       "      <td>0.0</td>\n",
       "      <td>0.0</td>\n",
       "      <td>0.0</td>\n",
       "      <td>0.0</td>\n",
       "    </tr>\n",
       "  </tbody>\n",
       "</table>\n",
       "</div>"
      ],
      "text/plain": [
       "         date  baseline   HV  HV_pred  HV_resid  sum_word        MA5  MA20  \\\n",
       "0  2003-07-28     100.0  NaN      0.0       NaN       0.0   0.000000   0.0   \n",
       "1  2003-07-29     100.0  0.0      0.0       0.0       0.0   0.000000   0.0   \n",
       "2  2003-07-30     100.0  0.0      0.0       0.0       0.0   0.000000   0.0   \n",
       "3  2003-07-31     100.0  0.0      0.0       0.0       0.0   0.000000   0.0   \n",
       "4  2003-08-01     100.0  0.0      0.0       0.0       3.0  41.088806   0.0   \n",
       "\n",
       "   MA60  MA120  MA5_gra  MA20_gra  MA60_gra  MA120_gra         V_MA5  V_MA20  \\\n",
       "0   0.0    0.0      0.0       0.0       0.0        0.0  0.000000e+00     0.0   \n",
       "1   0.0    0.0      0.0       0.0       0.0        0.0  0.000000e+00     0.0   \n",
       "2   0.0    0.0      0.0       0.0       0.0        0.0  0.000000e+00     0.0   \n",
       "3   0.0    0.0      0.0       0.0       0.0        0.0  0.000000e+00     0.0   \n",
       "4   0.0    0.0      0.0       0.0       0.0        0.0  3.291079e+07     0.0   \n",
       "\n",
       "   V_MA60  V_MA120       EMA5  EMA20  EMA60  EMA120  MACD  MACD_sig9  \\\n",
       "0     0.0      0.0   0.000000    0.0    0.0     0.0   0.0        0.0   \n",
       "1     0.0      0.0   0.000000    0.0    0.0     0.0   0.0        0.0   \n",
       "2     0.0      0.0   0.000000    0.0    0.0     0.0   0.0        0.0   \n",
       "3     0.0      0.0   0.000000    0.0    0.0     0.0   0.0        0.0   \n",
       "4     0.0      0.0  41.088806    0.0    0.0     0.0   0.0        0.0   \n",
       "\n",
       "   MACD_OSC  Fast%K  Fast%D  Slow%K  Slow%D  RSI14  RSI signal  CCI  A_Ratio  \\\n",
       "0       0.0     0.0     0.0     0.0     0.0    0.0         0.0  0.0      0.0   \n",
       "1       0.0     0.0     0.0     0.0     0.0    0.0         0.0  0.0      0.0   \n",
       "2       0.0     0.0     0.0     0.0     0.0    0.0         0.0  0.0      0.0   \n",
       "3       0.0     0.0     0.0     0.0     0.0    0.0         0.0  0.0      0.0   \n",
       "4       0.0     0.0     0.0     0.0     0.0    0.0         0.0  0.0      0.0   \n",
       "\n",
       "   B_Ratio  ATR  UpDI  DownDI  MFI  Momentum  Sonar  Sonar_sig5  STDEV  Sigma  \\\n",
       "0      0.0  0.0   0.0     0.0  0.0       0.0    0.0         0.0    0.0    0.0   \n",
       "1      0.0  0.0   0.0     0.0  0.0       0.0    0.0         0.0    0.0    0.0   \n",
       "2      0.0  0.0   0.0     0.0  0.0       0.0    0.0         0.0    0.0    0.0   \n",
       "3      0.0  0.0   0.0     0.0  0.0       0.0    0.0         0.0    0.0    0.0   \n",
       "4      0.0  0.0   0.0     0.0  0.0       0.0    0.0         0.0    0.0    0.0   \n",
       "\n",
       "   TRIX   VR  WILLR     Psy  Disparity20  Disparity60  ADX  ADOSC  Volume_OSC  \\\n",
       "0   0.0  0.0    0.0   0.000          0.0          0.0  0.0    0.0         0.0   \n",
       "1   0.0  0.0    0.0   2.750          0.0          0.0  0.0    0.0         0.0   \n",
       "2   0.0  0.0    0.0   3.125          0.0          0.0  0.0    0.0         0.0   \n",
       "3   0.0  0.0    0.0  10.625          0.0          0.0  0.0    0.0         0.0   \n",
       "4   0.0  0.0    0.0  13.125          0.0          0.0  0.0    0.0         0.0   \n",
       "\n",
       "   upperband  middleband  lowerband  \n",
       "0        0.0         0.0        0.0  \n",
       "1        0.0         0.0        0.0  \n",
       "2        0.0         0.0        0.0  \n",
       "3        0.0         0.0        0.0  \n",
       "4        0.0         0.0        0.0  "
      ]
     },
     "execution_count": 5,
     "metadata": {},
     "output_type": "execute_result"
    }
   ],
   "source": [
    "df.head()"
   ]
  },
  {
   "cell_type": "code",
   "execution_count": 6,
   "metadata": {},
   "outputs": [
    {
     "data": {
      "text/plain": [
       "date           0\n",
       "baseline       0\n",
       "HV             1\n",
       "HV_pred       20\n",
       "HV_resid      21\n",
       "              ..\n",
       "ADOSC          0\n",
       "Volume_OSC     0\n",
       "upperband      0\n",
       "middleband     0\n",
       "lowerband      0\n",
       "Length: 55, dtype: int64"
      ]
     },
     "execution_count": 6,
     "metadata": {},
     "output_type": "execute_result"
    }
   ],
   "source": [
    "df.isnull().sum()"
   ]
  },
  {
   "cell_type": "code",
   "execution_count": 7,
   "metadata": {},
   "outputs": [],
   "source": [
    "df['sum_word'].fillna(0,  inplace=True)"
   ]
  },
  {
   "cell_type": "code",
   "execution_count": 8,
   "metadata": {},
   "outputs": [
    {
     "data": {
      "text/plain": [
       "date           0\n",
       "baseline       0\n",
       "HV             1\n",
       "HV_pred       20\n",
       "HV_resid      21\n",
       "              ..\n",
       "ADOSC          0\n",
       "Volume_OSC     0\n",
       "upperband      0\n",
       "middleband     0\n",
       "lowerband      0\n",
       "Length: 55, dtype: int64"
      ]
     },
     "execution_count": 8,
     "metadata": {},
     "output_type": "execute_result"
    }
   ],
   "source": [
    "df.isnull().sum()"
   ]
  },
  {
   "cell_type": "code",
   "execution_count": 9,
   "metadata": {},
   "outputs": [
    {
     "data": {
      "text/html": [
       "<div>\n",
       "<style scoped>\n",
       "    .dataframe tbody tr th:only-of-type {\n",
       "        vertical-align: middle;\n",
       "    }\n",
       "\n",
       "    .dataframe tbody tr th {\n",
       "        vertical-align: top;\n",
       "    }\n",
       "\n",
       "    .dataframe thead th {\n",
       "        text-align: right;\n",
       "    }\n",
       "</style>\n",
       "<table border=\"1\" class=\"dataframe\">\n",
       "  <thead>\n",
       "    <tr style=\"text-align: right;\">\n",
       "      <th></th>\n",
       "      <th>date</th>\n",
       "      <th>baseline</th>\n",
       "      <th>HV</th>\n",
       "      <th>HV_pred</th>\n",
       "      <th>HV_resid</th>\n",
       "      <th>sum_word</th>\n",
       "      <th>MA5</th>\n",
       "      <th>MA20</th>\n",
       "      <th>MA60</th>\n",
       "      <th>MA120</th>\n",
       "      <th>MA5_gra</th>\n",
       "      <th>MA20_gra</th>\n",
       "      <th>MA60_gra</th>\n",
       "      <th>MA120_gra</th>\n",
       "      <th>V_MA5</th>\n",
       "      <th>V_MA20</th>\n",
       "      <th>V_MA60</th>\n",
       "      <th>V_MA120</th>\n",
       "      <th>EMA5</th>\n",
       "      <th>EMA20</th>\n",
       "      <th>EMA60</th>\n",
       "      <th>EMA120</th>\n",
       "      <th>MACD</th>\n",
       "      <th>MACD_sig9</th>\n",
       "      <th>MACD_OSC</th>\n",
       "      <th>Fast%K</th>\n",
       "      <th>Fast%D</th>\n",
       "      <th>Slow%K</th>\n",
       "      <th>Slow%D</th>\n",
       "      <th>RSI14</th>\n",
       "      <th>RSI signal</th>\n",
       "      <th>CCI</th>\n",
       "      <th>A_Ratio</th>\n",
       "      <th>B_Ratio</th>\n",
       "      <th>ATR</th>\n",
       "      <th>UpDI</th>\n",
       "      <th>DownDI</th>\n",
       "      <th>MFI</th>\n",
       "      <th>Momentum</th>\n",
       "      <th>Sonar</th>\n",
       "      <th>Sonar_sig5</th>\n",
       "      <th>STDEV</th>\n",
       "      <th>Sigma</th>\n",
       "      <th>TRIX</th>\n",
       "      <th>VR</th>\n",
       "      <th>WILLR</th>\n",
       "      <th>Psy</th>\n",
       "      <th>Disparity20</th>\n",
       "      <th>Disparity60</th>\n",
       "      <th>ADX</th>\n",
       "      <th>ADOSC</th>\n",
       "      <th>Volume_OSC</th>\n",
       "      <th>upperband</th>\n",
       "      <th>middleband</th>\n",
       "      <th>lowerband</th>\n",
       "    </tr>\n",
       "  </thead>\n",
       "  <tbody>\n",
       "    <tr>\n",
       "      <th>0</th>\n",
       "      <td>2003-07-28</td>\n",
       "      <td>100.0</td>\n",
       "      <td>NaN</td>\n",
       "      <td>0.0</td>\n",
       "      <td>NaN</td>\n",
       "      <td>0.0</td>\n",
       "      <td>0.000000</td>\n",
       "      <td>0.0</td>\n",
       "      <td>0.0</td>\n",
       "      <td>0.0</td>\n",
       "      <td>0.0</td>\n",
       "      <td>0.0</td>\n",
       "      <td>0.0</td>\n",
       "      <td>0.0</td>\n",
       "      <td>0.000000e+00</td>\n",
       "      <td>0.0</td>\n",
       "      <td>0.0</td>\n",
       "      <td>0.0</td>\n",
       "      <td>0.000000</td>\n",
       "      <td>0.0</td>\n",
       "      <td>0.0</td>\n",
       "      <td>0.0</td>\n",
       "      <td>0.0</td>\n",
       "      <td>0.0</td>\n",
       "      <td>0.0</td>\n",
       "      <td>0.0</td>\n",
       "      <td>0.0</td>\n",
       "      <td>0.0</td>\n",
       "      <td>0.0</td>\n",
       "      <td>0.0</td>\n",
       "      <td>0.0</td>\n",
       "      <td>0.0</td>\n",
       "      <td>0.0</td>\n",
       "      <td>0.0</td>\n",
       "      <td>0.0</td>\n",
       "      <td>0.0</td>\n",
       "      <td>0.0</td>\n",
       "      <td>0.0</td>\n",
       "      <td>0.0</td>\n",
       "      <td>0.0</td>\n",
       "      <td>0.0</td>\n",
       "      <td>0.0</td>\n",
       "      <td>0.0</td>\n",
       "      <td>0.0</td>\n",
       "      <td>0.0</td>\n",
       "      <td>0.0</td>\n",
       "      <td>0.000</td>\n",
       "      <td>0.0</td>\n",
       "      <td>0.0</td>\n",
       "      <td>0.0</td>\n",
       "      <td>0.0</td>\n",
       "      <td>0.0</td>\n",
       "      <td>0.0</td>\n",
       "      <td>0.0</td>\n",
       "      <td>0.0</td>\n",
       "    </tr>\n",
       "    <tr>\n",
       "      <th>1</th>\n",
       "      <td>2003-07-29</td>\n",
       "      <td>100.0</td>\n",
       "      <td>0.0</td>\n",
       "      <td>0.0</td>\n",
       "      <td>0.0</td>\n",
       "      <td>0.0</td>\n",
       "      <td>0.000000</td>\n",
       "      <td>0.0</td>\n",
       "      <td>0.0</td>\n",
       "      <td>0.0</td>\n",
       "      <td>0.0</td>\n",
       "      <td>0.0</td>\n",
       "      <td>0.0</td>\n",
       "      <td>0.0</td>\n",
       "      <td>0.000000e+00</td>\n",
       "      <td>0.0</td>\n",
       "      <td>0.0</td>\n",
       "      <td>0.0</td>\n",
       "      <td>0.000000</td>\n",
       "      <td>0.0</td>\n",
       "      <td>0.0</td>\n",
       "      <td>0.0</td>\n",
       "      <td>0.0</td>\n",
       "      <td>0.0</td>\n",
       "      <td>0.0</td>\n",
       "      <td>0.0</td>\n",
       "      <td>0.0</td>\n",
       "      <td>0.0</td>\n",
       "      <td>0.0</td>\n",
       "      <td>0.0</td>\n",
       "      <td>0.0</td>\n",
       "      <td>0.0</td>\n",
       "      <td>0.0</td>\n",
       "      <td>0.0</td>\n",
       "      <td>0.0</td>\n",
       "      <td>0.0</td>\n",
       "      <td>0.0</td>\n",
       "      <td>0.0</td>\n",
       "      <td>0.0</td>\n",
       "      <td>0.0</td>\n",
       "      <td>0.0</td>\n",
       "      <td>0.0</td>\n",
       "      <td>0.0</td>\n",
       "      <td>0.0</td>\n",
       "      <td>0.0</td>\n",
       "      <td>0.0</td>\n",
       "      <td>2.750</td>\n",
       "      <td>0.0</td>\n",
       "      <td>0.0</td>\n",
       "      <td>0.0</td>\n",
       "      <td>0.0</td>\n",
       "      <td>0.0</td>\n",
       "      <td>0.0</td>\n",
       "      <td>0.0</td>\n",
       "      <td>0.0</td>\n",
       "    </tr>\n",
       "    <tr>\n",
       "      <th>2</th>\n",
       "      <td>2003-07-30</td>\n",
       "      <td>100.0</td>\n",
       "      <td>0.0</td>\n",
       "      <td>0.0</td>\n",
       "      <td>0.0</td>\n",
       "      <td>0.0</td>\n",
       "      <td>0.000000</td>\n",
       "      <td>0.0</td>\n",
       "      <td>0.0</td>\n",
       "      <td>0.0</td>\n",
       "      <td>0.0</td>\n",
       "      <td>0.0</td>\n",
       "      <td>0.0</td>\n",
       "      <td>0.0</td>\n",
       "      <td>0.000000e+00</td>\n",
       "      <td>0.0</td>\n",
       "      <td>0.0</td>\n",
       "      <td>0.0</td>\n",
       "      <td>0.000000</td>\n",
       "      <td>0.0</td>\n",
       "      <td>0.0</td>\n",
       "      <td>0.0</td>\n",
       "      <td>0.0</td>\n",
       "      <td>0.0</td>\n",
       "      <td>0.0</td>\n",
       "      <td>0.0</td>\n",
       "      <td>0.0</td>\n",
       "      <td>0.0</td>\n",
       "      <td>0.0</td>\n",
       "      <td>0.0</td>\n",
       "      <td>0.0</td>\n",
       "      <td>0.0</td>\n",
       "      <td>0.0</td>\n",
       "      <td>0.0</td>\n",
       "      <td>0.0</td>\n",
       "      <td>0.0</td>\n",
       "      <td>0.0</td>\n",
       "      <td>0.0</td>\n",
       "      <td>0.0</td>\n",
       "      <td>0.0</td>\n",
       "      <td>0.0</td>\n",
       "      <td>0.0</td>\n",
       "      <td>0.0</td>\n",
       "      <td>0.0</td>\n",
       "      <td>0.0</td>\n",
       "      <td>0.0</td>\n",
       "      <td>3.125</td>\n",
       "      <td>0.0</td>\n",
       "      <td>0.0</td>\n",
       "      <td>0.0</td>\n",
       "      <td>0.0</td>\n",
       "      <td>0.0</td>\n",
       "      <td>0.0</td>\n",
       "      <td>0.0</td>\n",
       "      <td>0.0</td>\n",
       "    </tr>\n",
       "    <tr>\n",
       "      <th>3</th>\n",
       "      <td>2003-07-31</td>\n",
       "      <td>100.0</td>\n",
       "      <td>0.0</td>\n",
       "      <td>0.0</td>\n",
       "      <td>0.0</td>\n",
       "      <td>0.0</td>\n",
       "      <td>0.000000</td>\n",
       "      <td>0.0</td>\n",
       "      <td>0.0</td>\n",
       "      <td>0.0</td>\n",
       "      <td>0.0</td>\n",
       "      <td>0.0</td>\n",
       "      <td>0.0</td>\n",
       "      <td>0.0</td>\n",
       "      <td>0.000000e+00</td>\n",
       "      <td>0.0</td>\n",
       "      <td>0.0</td>\n",
       "      <td>0.0</td>\n",
       "      <td>0.000000</td>\n",
       "      <td>0.0</td>\n",
       "      <td>0.0</td>\n",
       "      <td>0.0</td>\n",
       "      <td>0.0</td>\n",
       "      <td>0.0</td>\n",
       "      <td>0.0</td>\n",
       "      <td>0.0</td>\n",
       "      <td>0.0</td>\n",
       "      <td>0.0</td>\n",
       "      <td>0.0</td>\n",
       "      <td>0.0</td>\n",
       "      <td>0.0</td>\n",
       "      <td>0.0</td>\n",
       "      <td>0.0</td>\n",
       "      <td>0.0</td>\n",
       "      <td>0.0</td>\n",
       "      <td>0.0</td>\n",
       "      <td>0.0</td>\n",
       "      <td>0.0</td>\n",
       "      <td>0.0</td>\n",
       "      <td>0.0</td>\n",
       "      <td>0.0</td>\n",
       "      <td>0.0</td>\n",
       "      <td>0.0</td>\n",
       "      <td>0.0</td>\n",
       "      <td>0.0</td>\n",
       "      <td>0.0</td>\n",
       "      <td>10.625</td>\n",
       "      <td>0.0</td>\n",
       "      <td>0.0</td>\n",
       "      <td>0.0</td>\n",
       "      <td>0.0</td>\n",
       "      <td>0.0</td>\n",
       "      <td>0.0</td>\n",
       "      <td>0.0</td>\n",
       "      <td>0.0</td>\n",
       "    </tr>\n",
       "    <tr>\n",
       "      <th>4</th>\n",
       "      <td>2003-08-01</td>\n",
       "      <td>100.0</td>\n",
       "      <td>0.0</td>\n",
       "      <td>0.0</td>\n",
       "      <td>0.0</td>\n",
       "      <td>3.0</td>\n",
       "      <td>41.088806</td>\n",
       "      <td>0.0</td>\n",
       "      <td>0.0</td>\n",
       "      <td>0.0</td>\n",
       "      <td>0.0</td>\n",
       "      <td>0.0</td>\n",
       "      <td>0.0</td>\n",
       "      <td>0.0</td>\n",
       "      <td>3.291079e+07</td>\n",
       "      <td>0.0</td>\n",
       "      <td>0.0</td>\n",
       "      <td>0.0</td>\n",
       "      <td>41.088806</td>\n",
       "      <td>0.0</td>\n",
       "      <td>0.0</td>\n",
       "      <td>0.0</td>\n",
       "      <td>0.0</td>\n",
       "      <td>0.0</td>\n",
       "      <td>0.0</td>\n",
       "      <td>0.0</td>\n",
       "      <td>0.0</td>\n",
       "      <td>0.0</td>\n",
       "      <td>0.0</td>\n",
       "      <td>0.0</td>\n",
       "      <td>0.0</td>\n",
       "      <td>0.0</td>\n",
       "      <td>0.0</td>\n",
       "      <td>0.0</td>\n",
       "      <td>0.0</td>\n",
       "      <td>0.0</td>\n",
       "      <td>0.0</td>\n",
       "      <td>0.0</td>\n",
       "      <td>0.0</td>\n",
       "      <td>0.0</td>\n",
       "      <td>0.0</td>\n",
       "      <td>0.0</td>\n",
       "      <td>0.0</td>\n",
       "      <td>0.0</td>\n",
       "      <td>0.0</td>\n",
       "      <td>0.0</td>\n",
       "      <td>13.125</td>\n",
       "      <td>0.0</td>\n",
       "      <td>0.0</td>\n",
       "      <td>0.0</td>\n",
       "      <td>0.0</td>\n",
       "      <td>0.0</td>\n",
       "      <td>0.0</td>\n",
       "      <td>0.0</td>\n",
       "      <td>0.0</td>\n",
       "    </tr>\n",
       "  </tbody>\n",
       "</table>\n",
       "</div>"
      ],
      "text/plain": [
       "         date  baseline   HV  HV_pred  HV_resid  sum_word        MA5  MA20  \\\n",
       "0  2003-07-28     100.0  NaN      0.0       NaN       0.0   0.000000   0.0   \n",
       "1  2003-07-29     100.0  0.0      0.0       0.0       0.0   0.000000   0.0   \n",
       "2  2003-07-30     100.0  0.0      0.0       0.0       0.0   0.000000   0.0   \n",
       "3  2003-07-31     100.0  0.0      0.0       0.0       0.0   0.000000   0.0   \n",
       "4  2003-08-01     100.0  0.0      0.0       0.0       3.0  41.088806   0.0   \n",
       "\n",
       "   MA60  MA120  MA5_gra  MA20_gra  MA60_gra  MA120_gra         V_MA5  V_MA20  \\\n",
       "0   0.0    0.0      0.0       0.0       0.0        0.0  0.000000e+00     0.0   \n",
       "1   0.0    0.0      0.0       0.0       0.0        0.0  0.000000e+00     0.0   \n",
       "2   0.0    0.0      0.0       0.0       0.0        0.0  0.000000e+00     0.0   \n",
       "3   0.0    0.0      0.0       0.0       0.0        0.0  0.000000e+00     0.0   \n",
       "4   0.0    0.0      0.0       0.0       0.0        0.0  3.291079e+07     0.0   \n",
       "\n",
       "   V_MA60  V_MA120       EMA5  EMA20  EMA60  EMA120  MACD  MACD_sig9  \\\n",
       "0     0.0      0.0   0.000000    0.0    0.0     0.0   0.0        0.0   \n",
       "1     0.0      0.0   0.000000    0.0    0.0     0.0   0.0        0.0   \n",
       "2     0.0      0.0   0.000000    0.0    0.0     0.0   0.0        0.0   \n",
       "3     0.0      0.0   0.000000    0.0    0.0     0.0   0.0        0.0   \n",
       "4     0.0      0.0  41.088806    0.0    0.0     0.0   0.0        0.0   \n",
       "\n",
       "   MACD_OSC  Fast%K  Fast%D  Slow%K  Slow%D  RSI14  RSI signal  CCI  A_Ratio  \\\n",
       "0       0.0     0.0     0.0     0.0     0.0    0.0         0.0  0.0      0.0   \n",
       "1       0.0     0.0     0.0     0.0     0.0    0.0         0.0  0.0      0.0   \n",
       "2       0.0     0.0     0.0     0.0     0.0    0.0         0.0  0.0      0.0   \n",
       "3       0.0     0.0     0.0     0.0     0.0    0.0         0.0  0.0      0.0   \n",
       "4       0.0     0.0     0.0     0.0     0.0    0.0         0.0  0.0      0.0   \n",
       "\n",
       "   B_Ratio  ATR  UpDI  DownDI  MFI  Momentum  Sonar  Sonar_sig5  STDEV  Sigma  \\\n",
       "0      0.0  0.0   0.0     0.0  0.0       0.0    0.0         0.0    0.0    0.0   \n",
       "1      0.0  0.0   0.0     0.0  0.0       0.0    0.0         0.0    0.0    0.0   \n",
       "2      0.0  0.0   0.0     0.0  0.0       0.0    0.0         0.0    0.0    0.0   \n",
       "3      0.0  0.0   0.0     0.0  0.0       0.0    0.0         0.0    0.0    0.0   \n",
       "4      0.0  0.0   0.0     0.0  0.0       0.0    0.0         0.0    0.0    0.0   \n",
       "\n",
       "   TRIX   VR  WILLR     Psy  Disparity20  Disparity60  ADX  ADOSC  Volume_OSC  \\\n",
       "0   0.0  0.0    0.0   0.000          0.0          0.0  0.0    0.0         0.0   \n",
       "1   0.0  0.0    0.0   2.750          0.0          0.0  0.0    0.0         0.0   \n",
       "2   0.0  0.0    0.0   3.125          0.0          0.0  0.0    0.0         0.0   \n",
       "3   0.0  0.0    0.0  10.625          0.0          0.0  0.0    0.0         0.0   \n",
       "4   0.0  0.0    0.0  13.125          0.0          0.0  0.0    0.0         0.0   \n",
       "\n",
       "   upperband  middleband  lowerband  \n",
       "0        0.0         0.0        0.0  \n",
       "1        0.0         0.0        0.0  \n",
       "2        0.0         0.0        0.0  \n",
       "3        0.0         0.0        0.0  \n",
       "4        0.0         0.0        0.0  "
      ]
     },
     "execution_count": 9,
     "metadata": {},
     "output_type": "execute_result"
    }
   ],
   "source": [
    "df.head()"
   ]
  },
  {
   "cell_type": "code",
   "execution_count": 10,
   "metadata": {},
   "outputs": [],
   "source": [
    "df.set_index('date', inplace=True)"
   ]
  },
  {
   "cell_type": "code",
   "execution_count": 11,
   "metadata": {},
   "outputs": [
    {
     "data": {
      "text/html": [
       "<div>\n",
       "<style scoped>\n",
       "    .dataframe tbody tr th:only-of-type {\n",
       "        vertical-align: middle;\n",
       "    }\n",
       "\n",
       "    .dataframe tbody tr th {\n",
       "        vertical-align: top;\n",
       "    }\n",
       "\n",
       "    .dataframe thead th {\n",
       "        text-align: right;\n",
       "    }\n",
       "</style>\n",
       "<table border=\"1\" class=\"dataframe\">\n",
       "  <thead>\n",
       "    <tr style=\"text-align: right;\">\n",
       "      <th></th>\n",
       "      <th>baseline</th>\n",
       "      <th>HV</th>\n",
       "      <th>HV_pred</th>\n",
       "      <th>HV_resid</th>\n",
       "      <th>sum_word</th>\n",
       "      <th>MA5</th>\n",
       "      <th>MA20</th>\n",
       "      <th>MA60</th>\n",
       "      <th>MA120</th>\n",
       "      <th>MA5_gra</th>\n",
       "      <th>MA20_gra</th>\n",
       "      <th>MA60_gra</th>\n",
       "      <th>MA120_gra</th>\n",
       "      <th>V_MA5</th>\n",
       "      <th>V_MA20</th>\n",
       "      <th>V_MA60</th>\n",
       "      <th>V_MA120</th>\n",
       "      <th>EMA5</th>\n",
       "      <th>EMA20</th>\n",
       "      <th>EMA60</th>\n",
       "      <th>EMA120</th>\n",
       "      <th>MACD</th>\n",
       "      <th>MACD_sig9</th>\n",
       "      <th>MACD_OSC</th>\n",
       "      <th>Fast%K</th>\n",
       "      <th>Fast%D</th>\n",
       "      <th>Slow%K</th>\n",
       "      <th>Slow%D</th>\n",
       "      <th>RSI14</th>\n",
       "      <th>RSI signal</th>\n",
       "      <th>CCI</th>\n",
       "      <th>A_Ratio</th>\n",
       "      <th>B_Ratio</th>\n",
       "      <th>ATR</th>\n",
       "      <th>UpDI</th>\n",
       "      <th>DownDI</th>\n",
       "      <th>MFI</th>\n",
       "      <th>Momentum</th>\n",
       "      <th>Sonar</th>\n",
       "      <th>Sonar_sig5</th>\n",
       "      <th>STDEV</th>\n",
       "      <th>Sigma</th>\n",
       "      <th>TRIX</th>\n",
       "      <th>VR</th>\n",
       "      <th>WILLR</th>\n",
       "      <th>Psy</th>\n",
       "      <th>Disparity20</th>\n",
       "      <th>Disparity60</th>\n",
       "      <th>ADX</th>\n",
       "      <th>ADOSC</th>\n",
       "      <th>Volume_OSC</th>\n",
       "      <th>upperband</th>\n",
       "      <th>middleband</th>\n",
       "      <th>lowerband</th>\n",
       "    </tr>\n",
       "    <tr>\n",
       "      <th>date</th>\n",
       "      <th></th>\n",
       "      <th></th>\n",
       "      <th></th>\n",
       "      <th></th>\n",
       "      <th></th>\n",
       "      <th></th>\n",
       "      <th></th>\n",
       "      <th></th>\n",
       "      <th></th>\n",
       "      <th></th>\n",
       "      <th></th>\n",
       "      <th></th>\n",
       "      <th></th>\n",
       "      <th></th>\n",
       "      <th></th>\n",
       "      <th></th>\n",
       "      <th></th>\n",
       "      <th></th>\n",
       "      <th></th>\n",
       "      <th></th>\n",
       "      <th></th>\n",
       "      <th></th>\n",
       "      <th></th>\n",
       "      <th></th>\n",
       "      <th></th>\n",
       "      <th></th>\n",
       "      <th></th>\n",
       "      <th></th>\n",
       "      <th></th>\n",
       "      <th></th>\n",
       "      <th></th>\n",
       "      <th></th>\n",
       "      <th></th>\n",
       "      <th></th>\n",
       "      <th></th>\n",
       "      <th></th>\n",
       "      <th></th>\n",
       "      <th></th>\n",
       "      <th></th>\n",
       "      <th></th>\n",
       "      <th></th>\n",
       "      <th></th>\n",
       "      <th></th>\n",
       "      <th></th>\n",
       "      <th></th>\n",
       "      <th></th>\n",
       "      <th></th>\n",
       "      <th></th>\n",
       "      <th></th>\n",
       "      <th></th>\n",
       "      <th></th>\n",
       "      <th></th>\n",
       "      <th></th>\n",
       "      <th></th>\n",
       "    </tr>\n",
       "  </thead>\n",
       "  <tbody>\n",
       "    <tr>\n",
       "      <th>2003-07-28</th>\n",
       "      <td>100.0</td>\n",
       "      <td>NaN</td>\n",
       "      <td>0.0</td>\n",
       "      <td>NaN</td>\n",
       "      <td>0.0</td>\n",
       "      <td>0.000000</td>\n",
       "      <td>0.0</td>\n",
       "      <td>0.0</td>\n",
       "      <td>0.0</td>\n",
       "      <td>0.0</td>\n",
       "      <td>0.0</td>\n",
       "      <td>0.0</td>\n",
       "      <td>0.0</td>\n",
       "      <td>0.000000e+00</td>\n",
       "      <td>0.0</td>\n",
       "      <td>0.0</td>\n",
       "      <td>0.0</td>\n",
       "      <td>0.000000</td>\n",
       "      <td>0.0</td>\n",
       "      <td>0.0</td>\n",
       "      <td>0.0</td>\n",
       "      <td>0.0</td>\n",
       "      <td>0.0</td>\n",
       "      <td>0.0</td>\n",
       "      <td>0.0</td>\n",
       "      <td>0.0</td>\n",
       "      <td>0.0</td>\n",
       "      <td>0.0</td>\n",
       "      <td>0.0</td>\n",
       "      <td>0.0</td>\n",
       "      <td>0.0</td>\n",
       "      <td>0.0</td>\n",
       "      <td>0.0</td>\n",
       "      <td>0.0</td>\n",
       "      <td>0.0</td>\n",
       "      <td>0.0</td>\n",
       "      <td>0.0</td>\n",
       "      <td>0.0</td>\n",
       "      <td>0.0</td>\n",
       "      <td>0.0</td>\n",
       "      <td>0.0</td>\n",
       "      <td>0.0</td>\n",
       "      <td>0.0</td>\n",
       "      <td>0.0</td>\n",
       "      <td>0.0</td>\n",
       "      <td>0.000</td>\n",
       "      <td>0.0</td>\n",
       "      <td>0.0</td>\n",
       "      <td>0.0</td>\n",
       "      <td>0.0</td>\n",
       "      <td>0.0</td>\n",
       "      <td>0.0</td>\n",
       "      <td>0.0</td>\n",
       "      <td>0.0</td>\n",
       "    </tr>\n",
       "    <tr>\n",
       "      <th>2003-07-29</th>\n",
       "      <td>100.0</td>\n",
       "      <td>0.0</td>\n",
       "      <td>0.0</td>\n",
       "      <td>0.0</td>\n",
       "      <td>0.0</td>\n",
       "      <td>0.000000</td>\n",
       "      <td>0.0</td>\n",
       "      <td>0.0</td>\n",
       "      <td>0.0</td>\n",
       "      <td>0.0</td>\n",
       "      <td>0.0</td>\n",
       "      <td>0.0</td>\n",
       "      <td>0.0</td>\n",
       "      <td>0.000000e+00</td>\n",
       "      <td>0.0</td>\n",
       "      <td>0.0</td>\n",
       "      <td>0.0</td>\n",
       "      <td>0.000000</td>\n",
       "      <td>0.0</td>\n",
       "      <td>0.0</td>\n",
       "      <td>0.0</td>\n",
       "      <td>0.0</td>\n",
       "      <td>0.0</td>\n",
       "      <td>0.0</td>\n",
       "      <td>0.0</td>\n",
       "      <td>0.0</td>\n",
       "      <td>0.0</td>\n",
       "      <td>0.0</td>\n",
       "      <td>0.0</td>\n",
       "      <td>0.0</td>\n",
       "      <td>0.0</td>\n",
       "      <td>0.0</td>\n",
       "      <td>0.0</td>\n",
       "      <td>0.0</td>\n",
       "      <td>0.0</td>\n",
       "      <td>0.0</td>\n",
       "      <td>0.0</td>\n",
       "      <td>0.0</td>\n",
       "      <td>0.0</td>\n",
       "      <td>0.0</td>\n",
       "      <td>0.0</td>\n",
       "      <td>0.0</td>\n",
       "      <td>0.0</td>\n",
       "      <td>0.0</td>\n",
       "      <td>0.0</td>\n",
       "      <td>2.750</td>\n",
       "      <td>0.0</td>\n",
       "      <td>0.0</td>\n",
       "      <td>0.0</td>\n",
       "      <td>0.0</td>\n",
       "      <td>0.0</td>\n",
       "      <td>0.0</td>\n",
       "      <td>0.0</td>\n",
       "      <td>0.0</td>\n",
       "    </tr>\n",
       "    <tr>\n",
       "      <th>2003-07-30</th>\n",
       "      <td>100.0</td>\n",
       "      <td>0.0</td>\n",
       "      <td>0.0</td>\n",
       "      <td>0.0</td>\n",
       "      <td>0.0</td>\n",
       "      <td>0.000000</td>\n",
       "      <td>0.0</td>\n",
       "      <td>0.0</td>\n",
       "      <td>0.0</td>\n",
       "      <td>0.0</td>\n",
       "      <td>0.0</td>\n",
       "      <td>0.0</td>\n",
       "      <td>0.0</td>\n",
       "      <td>0.000000e+00</td>\n",
       "      <td>0.0</td>\n",
       "      <td>0.0</td>\n",
       "      <td>0.0</td>\n",
       "      <td>0.000000</td>\n",
       "      <td>0.0</td>\n",
       "      <td>0.0</td>\n",
       "      <td>0.0</td>\n",
       "      <td>0.0</td>\n",
       "      <td>0.0</td>\n",
       "      <td>0.0</td>\n",
       "      <td>0.0</td>\n",
       "      <td>0.0</td>\n",
       "      <td>0.0</td>\n",
       "      <td>0.0</td>\n",
       "      <td>0.0</td>\n",
       "      <td>0.0</td>\n",
       "      <td>0.0</td>\n",
       "      <td>0.0</td>\n",
       "      <td>0.0</td>\n",
       "      <td>0.0</td>\n",
       "      <td>0.0</td>\n",
       "      <td>0.0</td>\n",
       "      <td>0.0</td>\n",
       "      <td>0.0</td>\n",
       "      <td>0.0</td>\n",
       "      <td>0.0</td>\n",
       "      <td>0.0</td>\n",
       "      <td>0.0</td>\n",
       "      <td>0.0</td>\n",
       "      <td>0.0</td>\n",
       "      <td>0.0</td>\n",
       "      <td>3.125</td>\n",
       "      <td>0.0</td>\n",
       "      <td>0.0</td>\n",
       "      <td>0.0</td>\n",
       "      <td>0.0</td>\n",
       "      <td>0.0</td>\n",
       "      <td>0.0</td>\n",
       "      <td>0.0</td>\n",
       "      <td>0.0</td>\n",
       "    </tr>\n",
       "    <tr>\n",
       "      <th>2003-07-31</th>\n",
       "      <td>100.0</td>\n",
       "      <td>0.0</td>\n",
       "      <td>0.0</td>\n",
       "      <td>0.0</td>\n",
       "      <td>0.0</td>\n",
       "      <td>0.000000</td>\n",
       "      <td>0.0</td>\n",
       "      <td>0.0</td>\n",
       "      <td>0.0</td>\n",
       "      <td>0.0</td>\n",
       "      <td>0.0</td>\n",
       "      <td>0.0</td>\n",
       "      <td>0.0</td>\n",
       "      <td>0.000000e+00</td>\n",
       "      <td>0.0</td>\n",
       "      <td>0.0</td>\n",
       "      <td>0.0</td>\n",
       "      <td>0.000000</td>\n",
       "      <td>0.0</td>\n",
       "      <td>0.0</td>\n",
       "      <td>0.0</td>\n",
       "      <td>0.0</td>\n",
       "      <td>0.0</td>\n",
       "      <td>0.0</td>\n",
       "      <td>0.0</td>\n",
       "      <td>0.0</td>\n",
       "      <td>0.0</td>\n",
       "      <td>0.0</td>\n",
       "      <td>0.0</td>\n",
       "      <td>0.0</td>\n",
       "      <td>0.0</td>\n",
       "      <td>0.0</td>\n",
       "      <td>0.0</td>\n",
       "      <td>0.0</td>\n",
       "      <td>0.0</td>\n",
       "      <td>0.0</td>\n",
       "      <td>0.0</td>\n",
       "      <td>0.0</td>\n",
       "      <td>0.0</td>\n",
       "      <td>0.0</td>\n",
       "      <td>0.0</td>\n",
       "      <td>0.0</td>\n",
       "      <td>0.0</td>\n",
       "      <td>0.0</td>\n",
       "      <td>0.0</td>\n",
       "      <td>10.625</td>\n",
       "      <td>0.0</td>\n",
       "      <td>0.0</td>\n",
       "      <td>0.0</td>\n",
       "      <td>0.0</td>\n",
       "      <td>0.0</td>\n",
       "      <td>0.0</td>\n",
       "      <td>0.0</td>\n",
       "      <td>0.0</td>\n",
       "    </tr>\n",
       "    <tr>\n",
       "      <th>2003-08-01</th>\n",
       "      <td>100.0</td>\n",
       "      <td>0.0</td>\n",
       "      <td>0.0</td>\n",
       "      <td>0.0</td>\n",
       "      <td>3.0</td>\n",
       "      <td>41.088806</td>\n",
       "      <td>0.0</td>\n",
       "      <td>0.0</td>\n",
       "      <td>0.0</td>\n",
       "      <td>0.0</td>\n",
       "      <td>0.0</td>\n",
       "      <td>0.0</td>\n",
       "      <td>0.0</td>\n",
       "      <td>3.291079e+07</td>\n",
       "      <td>0.0</td>\n",
       "      <td>0.0</td>\n",
       "      <td>0.0</td>\n",
       "      <td>41.088806</td>\n",
       "      <td>0.0</td>\n",
       "      <td>0.0</td>\n",
       "      <td>0.0</td>\n",
       "      <td>0.0</td>\n",
       "      <td>0.0</td>\n",
       "      <td>0.0</td>\n",
       "      <td>0.0</td>\n",
       "      <td>0.0</td>\n",
       "      <td>0.0</td>\n",
       "      <td>0.0</td>\n",
       "      <td>0.0</td>\n",
       "      <td>0.0</td>\n",
       "      <td>0.0</td>\n",
       "      <td>0.0</td>\n",
       "      <td>0.0</td>\n",
       "      <td>0.0</td>\n",
       "      <td>0.0</td>\n",
       "      <td>0.0</td>\n",
       "      <td>0.0</td>\n",
       "      <td>0.0</td>\n",
       "      <td>0.0</td>\n",
       "      <td>0.0</td>\n",
       "      <td>0.0</td>\n",
       "      <td>0.0</td>\n",
       "      <td>0.0</td>\n",
       "      <td>0.0</td>\n",
       "      <td>0.0</td>\n",
       "      <td>13.125</td>\n",
       "      <td>0.0</td>\n",
       "      <td>0.0</td>\n",
       "      <td>0.0</td>\n",
       "      <td>0.0</td>\n",
       "      <td>0.0</td>\n",
       "      <td>0.0</td>\n",
       "      <td>0.0</td>\n",
       "      <td>0.0</td>\n",
       "    </tr>\n",
       "  </tbody>\n",
       "</table>\n",
       "</div>"
      ],
      "text/plain": [
       "            baseline   HV  HV_pred  HV_resid  sum_word        MA5  MA20  MA60  \\\n",
       "date                                                                            \n",
       "2003-07-28     100.0  NaN      0.0       NaN       0.0   0.000000   0.0   0.0   \n",
       "2003-07-29     100.0  0.0      0.0       0.0       0.0   0.000000   0.0   0.0   \n",
       "2003-07-30     100.0  0.0      0.0       0.0       0.0   0.000000   0.0   0.0   \n",
       "2003-07-31     100.0  0.0      0.0       0.0       0.0   0.000000   0.0   0.0   \n",
       "2003-08-01     100.0  0.0      0.0       0.0       3.0  41.088806   0.0   0.0   \n",
       "\n",
       "            MA120  MA5_gra  MA20_gra  MA60_gra  MA120_gra         V_MA5  \\\n",
       "date                                                                      \n",
       "2003-07-28    0.0      0.0       0.0       0.0        0.0  0.000000e+00   \n",
       "2003-07-29    0.0      0.0       0.0       0.0        0.0  0.000000e+00   \n",
       "2003-07-30    0.0      0.0       0.0       0.0        0.0  0.000000e+00   \n",
       "2003-07-31    0.0      0.0       0.0       0.0        0.0  0.000000e+00   \n",
       "2003-08-01    0.0      0.0       0.0       0.0        0.0  3.291079e+07   \n",
       "\n",
       "            V_MA20  V_MA60  V_MA120       EMA5  EMA20  EMA60  EMA120  MACD  \\\n",
       "date                                                                         \n",
       "2003-07-28     0.0     0.0      0.0   0.000000    0.0    0.0     0.0   0.0   \n",
       "2003-07-29     0.0     0.0      0.0   0.000000    0.0    0.0     0.0   0.0   \n",
       "2003-07-30     0.0     0.0      0.0   0.000000    0.0    0.0     0.0   0.0   \n",
       "2003-07-31     0.0     0.0      0.0   0.000000    0.0    0.0     0.0   0.0   \n",
       "2003-08-01     0.0     0.0      0.0  41.088806    0.0    0.0     0.0   0.0   \n",
       "\n",
       "            MACD_sig9  MACD_OSC  Fast%K  Fast%D  Slow%K  Slow%D  RSI14  \\\n",
       "date                                                                     \n",
       "2003-07-28        0.0       0.0     0.0     0.0     0.0     0.0    0.0   \n",
       "2003-07-29        0.0       0.0     0.0     0.0     0.0     0.0    0.0   \n",
       "2003-07-30        0.0       0.0     0.0     0.0     0.0     0.0    0.0   \n",
       "2003-07-31        0.0       0.0     0.0     0.0     0.0     0.0    0.0   \n",
       "2003-08-01        0.0       0.0     0.0     0.0     0.0     0.0    0.0   \n",
       "\n",
       "            RSI signal  CCI  A_Ratio  B_Ratio  ATR  UpDI  DownDI  MFI  \\\n",
       "date                                                                    \n",
       "2003-07-28         0.0  0.0      0.0      0.0  0.0   0.0     0.0  0.0   \n",
       "2003-07-29         0.0  0.0      0.0      0.0  0.0   0.0     0.0  0.0   \n",
       "2003-07-30         0.0  0.0      0.0      0.0  0.0   0.0     0.0  0.0   \n",
       "2003-07-31         0.0  0.0      0.0      0.0  0.0   0.0     0.0  0.0   \n",
       "2003-08-01         0.0  0.0      0.0      0.0  0.0   0.0     0.0  0.0   \n",
       "\n",
       "            Momentum  Sonar  Sonar_sig5  STDEV  Sigma  TRIX   VR  WILLR  \\\n",
       "date                                                                      \n",
       "2003-07-28       0.0    0.0         0.0    0.0    0.0   0.0  0.0    0.0   \n",
       "2003-07-29       0.0    0.0         0.0    0.0    0.0   0.0  0.0    0.0   \n",
       "2003-07-30       0.0    0.0         0.0    0.0    0.0   0.0  0.0    0.0   \n",
       "2003-07-31       0.0    0.0         0.0    0.0    0.0   0.0  0.0    0.0   \n",
       "2003-08-01       0.0    0.0         0.0    0.0    0.0   0.0  0.0    0.0   \n",
       "\n",
       "               Psy  Disparity20  Disparity60  ADX  ADOSC  Volume_OSC  \\\n",
       "date                                                                   \n",
       "2003-07-28   0.000          0.0          0.0  0.0    0.0         0.0   \n",
       "2003-07-29   2.750          0.0          0.0  0.0    0.0         0.0   \n",
       "2003-07-30   3.125          0.0          0.0  0.0    0.0         0.0   \n",
       "2003-07-31  10.625          0.0          0.0  0.0    0.0         0.0   \n",
       "2003-08-01  13.125          0.0          0.0  0.0    0.0         0.0   \n",
       "\n",
       "            upperband  middleband  lowerband  \n",
       "date                                          \n",
       "2003-07-28        0.0         0.0        0.0  \n",
       "2003-07-29        0.0         0.0        0.0  \n",
       "2003-07-30        0.0         0.0        0.0  \n",
       "2003-07-31        0.0         0.0        0.0  \n",
       "2003-08-01        0.0         0.0        0.0  "
      ]
     },
     "execution_count": 11,
     "metadata": {},
     "output_type": "execute_result"
    }
   ],
   "source": [
    "df.head()"
   ]
  },
  {
   "cell_type": "code",
   "execution_count": 12,
   "metadata": {},
   "outputs": [
    {
     "data": {
      "text/plain": [
       "(4598, 54)"
      ]
     },
     "execution_count": 12,
     "metadata": {},
     "output_type": "execute_result"
    }
   ],
   "source": [
    "df.shape"
   ]
  },
  {
   "cell_type": "code",
   "execution_count": 13,
   "metadata": {},
   "outputs": [
    {
     "data": {
      "text/plain": [
       "['HV', 'sum_word', 'MA5_gra', 'Volume_OSC', 'Sigma', 'Disparity20']"
      ]
     },
     "execution_count": 13,
     "metadata": {},
     "output_type": "execute_result"
    }
   ],
   "source": [
    "cols = ['HV', 'sum_word','MA5_gra','Volume_OSC','Sigma','Disparity20']#, 'MACD_OSC', 'Sonar', 'Sigma', 'Momentum', 'Volume_OSC',  'ATR','RSI signal','RSI14',  'ADOSC']\n",
    "cols\n"
   ]
  },
  {
   "cell_type": "code",
   "execution_count": 14,
   "metadata": {},
   "outputs": [],
   "source": [
    "df = df[cols]"
   ]
  },
  {
   "cell_type": "code",
   "execution_count": 15,
   "metadata": {},
   "outputs": [
    {
     "data": {
      "text/plain": [
       "Index(['2003-07-28', '2003-07-29', '2003-07-30', '2003-07-31', '2003-08-01',\n",
       "       '2003-08-04', '2003-08-05', '2003-08-06', '2003-08-07', '2003-08-08',\n",
       "       ...\n",
       "       '2021-10-15', '2021-10-18', '2021-10-19', '2021-10-20', '2021-10-21',\n",
       "       '2021-10-22', '2021-10-25', '2021-10-26', '2021-10-27', '2021-10-28'],\n",
       "      dtype='object', name='date', length=4598)"
      ]
     },
     "execution_count": 15,
     "metadata": {},
     "output_type": "execute_result"
    }
   ],
   "source": [
    "df.index"
   ]
  },
  {
   "cell_type": "code",
   "execution_count": 16,
   "metadata": {},
   "outputs": [
    {
     "data": {
      "text/html": [
       "<div>\n",
       "<style scoped>\n",
       "    .dataframe tbody tr th:only-of-type {\n",
       "        vertical-align: middle;\n",
       "    }\n",
       "\n",
       "    .dataframe tbody tr th {\n",
       "        vertical-align: top;\n",
       "    }\n",
       "\n",
       "    .dataframe thead th {\n",
       "        text-align: right;\n",
       "    }\n",
       "</style>\n",
       "<table border=\"1\" class=\"dataframe\">\n",
       "  <thead>\n",
       "    <tr style=\"text-align: right;\">\n",
       "      <th></th>\n",
       "      <th>HV</th>\n",
       "      <th>sum_word</th>\n",
       "      <th>MA5_gra</th>\n",
       "      <th>Volume_OSC</th>\n",
       "      <th>Sigma</th>\n",
       "      <th>Disparity20</th>\n",
       "    </tr>\n",
       "    <tr>\n",
       "      <th>date</th>\n",
       "      <th></th>\n",
       "      <th></th>\n",
       "      <th></th>\n",
       "      <th></th>\n",
       "      <th></th>\n",
       "      <th></th>\n",
       "    </tr>\n",
       "  </thead>\n",
       "  <tbody>\n",
       "    <tr>\n",
       "      <th>2003-07-28</th>\n",
       "      <td>NaN</td>\n",
       "      <td>0.0</td>\n",
       "      <td>0.0</td>\n",
       "      <td>0.0</td>\n",
       "      <td>0.0</td>\n",
       "      <td>0.0</td>\n",
       "    </tr>\n",
       "    <tr>\n",
       "      <th>2003-07-29</th>\n",
       "      <td>0.0</td>\n",
       "      <td>0.0</td>\n",
       "      <td>0.0</td>\n",
       "      <td>0.0</td>\n",
       "      <td>0.0</td>\n",
       "      <td>0.0</td>\n",
       "    </tr>\n",
       "    <tr>\n",
       "      <th>2003-07-30</th>\n",
       "      <td>0.0</td>\n",
       "      <td>0.0</td>\n",
       "      <td>0.0</td>\n",
       "      <td>0.0</td>\n",
       "      <td>0.0</td>\n",
       "      <td>0.0</td>\n",
       "    </tr>\n",
       "    <tr>\n",
       "      <th>2003-07-31</th>\n",
       "      <td>0.0</td>\n",
       "      <td>0.0</td>\n",
       "      <td>0.0</td>\n",
       "      <td>0.0</td>\n",
       "      <td>0.0</td>\n",
       "      <td>0.0</td>\n",
       "    </tr>\n",
       "    <tr>\n",
       "      <th>2003-08-01</th>\n",
       "      <td>0.0</td>\n",
       "      <td>3.0</td>\n",
       "      <td>0.0</td>\n",
       "      <td>0.0</td>\n",
       "      <td>0.0</td>\n",
       "      <td>0.0</td>\n",
       "    </tr>\n",
       "  </tbody>\n",
       "</table>\n",
       "</div>"
      ],
      "text/plain": [
       "             HV  sum_word  MA5_gra  Volume_OSC  Sigma  Disparity20\n",
       "date                                                              \n",
       "2003-07-28  NaN       0.0      0.0         0.0    0.0          0.0\n",
       "2003-07-29  0.0       0.0      0.0         0.0    0.0          0.0\n",
       "2003-07-30  0.0       0.0      0.0         0.0    0.0          0.0\n",
       "2003-07-31  0.0       0.0      0.0         0.0    0.0          0.0\n",
       "2003-08-01  0.0       3.0      0.0         0.0    0.0          0.0"
      ]
     },
     "execution_count": 16,
     "metadata": {},
     "output_type": "execute_result"
    }
   ],
   "source": [
    "df.head()"
   ]
  },
  {
   "cell_type": "code",
   "execution_count": 17,
   "metadata": {},
   "outputs": [
    {
     "data": {
      "text/plain": [
       "(4598, 6)"
      ]
     },
     "execution_count": 17,
     "metadata": {},
     "output_type": "execute_result"
    }
   ],
   "source": [
    "df.shape"
   ]
  },
  {
   "cell_type": "code",
   "execution_count": 18,
   "metadata": {},
   "outputs": [
    {
     "name": "stdout",
     "output_type": "stream",
     "text": [
      "(4554, 6)\n"
     ]
    },
    {
     "data": {
      "text/html": [
       "<div>\n",
       "<style scoped>\n",
       "    .dataframe tbody tr th:only-of-type {\n",
       "        vertical-align: middle;\n",
       "    }\n",
       "\n",
       "    .dataframe tbody tr th {\n",
       "        vertical-align: top;\n",
       "    }\n",
       "\n",
       "    .dataframe thead th {\n",
       "        text-align: right;\n",
       "    }\n",
       "</style>\n",
       "<table border=\"1\" class=\"dataframe\">\n",
       "  <thead>\n",
       "    <tr style=\"text-align: right;\">\n",
       "      <th></th>\n",
       "      <th>HV</th>\n",
       "      <th>sum_word</th>\n",
       "      <th>MA5_gra</th>\n",
       "      <th>Volume_OSC</th>\n",
       "      <th>Sigma</th>\n",
       "      <th>Disparity20</th>\n",
       "    </tr>\n",
       "    <tr>\n",
       "      <th>date</th>\n",
       "      <th></th>\n",
       "      <th></th>\n",
       "      <th></th>\n",
       "      <th></th>\n",
       "      <th></th>\n",
       "      <th></th>\n",
       "    </tr>\n",
       "  </thead>\n",
       "  <tbody>\n",
       "    <tr>\n",
       "      <th>2003-09-29</th>\n",
       "      <td>0.000000</td>\n",
       "      <td>0.0</td>\n",
       "      <td>-0.003142</td>\n",
       "      <td>0.484744</td>\n",
       "      <td>-1.225259</td>\n",
       "      <td>97.591753</td>\n",
       "    </tr>\n",
       "    <tr>\n",
       "      <th>2003-09-30</th>\n",
       "      <td>0.046147</td>\n",
       "      <td>0.0</td>\n",
       "      <td>-0.007730</td>\n",
       "      <td>4.466314</td>\n",
       "      <td>-1.742624</td>\n",
       "      <td>96.506024</td>\n",
       "    </tr>\n",
       "    <tr>\n",
       "      <th>2003-10-01</th>\n",
       "      <td>0.111621</td>\n",
       "      <td>0.0</td>\n",
       "      <td>0.002179</td>\n",
       "      <td>8.823151</td>\n",
       "      <td>-0.226977</td>\n",
       "      <td>99.353199</td>\n",
       "    </tr>\n",
       "    <tr>\n",
       "      <th>2003-10-02</th>\n",
       "      <td>0.113955</td>\n",
       "      <td>0.0</td>\n",
       "      <td>0.005389</td>\n",
       "      <td>8.880720</td>\n",
       "      <td>0.099223</td>\n",
       "      <td>100.166147</td>\n",
       "    </tr>\n",
       "    <tr>\n",
       "      <th>2003-10-03</th>\n",
       "      <td>0.127419</td>\n",
       "      <td>0.0</td>\n",
       "      <td>0.009944</td>\n",
       "      <td>9.854309</td>\n",
       "      <td>0.955635</td>\n",
       "      <td>101.891182</td>\n",
       "    </tr>\n",
       "  </tbody>\n",
       "</table>\n",
       "</div>"
      ],
      "text/plain": [
       "                  HV  sum_word   MA5_gra  Volume_OSC     Sigma  Disparity20\n",
       "date                                                                       \n",
       "2003-09-29  0.000000       0.0 -0.003142    0.484744 -1.225259    97.591753\n",
       "2003-09-30  0.046147       0.0 -0.007730    4.466314 -1.742624    96.506024\n",
       "2003-10-01  0.111621       0.0  0.002179    8.823151 -0.226977    99.353199\n",
       "2003-10-02  0.113955       0.0  0.005389    8.880720  0.099223   100.166147\n",
       "2003-10-03  0.127419       0.0  0.009944    9.854309  0.955635   101.891182"
      ]
     },
     "execution_count": 18,
     "metadata": {},
     "output_type": "execute_result"
    }
   ],
   "source": [
    "feature_df = df.loc['2003-09-29':'2021-10-28', 'HV':'Disparity20']\n",
    "print(feature_df.shape)\n",
    "feature_df.head()"
   ]
  },
  {
   "cell_type": "code",
   "execution_count": 19,
   "metadata": {},
   "outputs": [
    {
     "name": "stdout",
     "output_type": "stream",
     "text": [
      "(4554,)\n"
     ]
    },
    {
     "data": {
      "text/plain": [
       "date\n",
       "2003-09-29    0.000000\n",
       "2003-09-30    0.046147\n",
       "2003-10-01    0.111621\n",
       "2003-10-02    0.113955\n",
       "2003-10-03    0.127419\n",
       "Name: HV, dtype: float64"
      ]
     },
     "execution_count": 19,
     "metadata": {},
     "output_type": "execute_result"
    }
   ],
   "source": [
    "label_df = df.loc['2003-09-29':'2021-10-28', 'HV']\n",
    "print(label_df.shape)\n",
    "label_df.head()"
   ]
  },
  {
   "cell_type": "markdown",
   "metadata": {},
   "source": [
    "# TRAIN, TEST 분리\n",
    "- 1차 : 2003 ~ 2011 학습 / 2012 ~ 2016 예측\n",
    "- 2차 : 2003 ~ 2016 학습 / 2017~ 2021 예측"
   ]
  },
  {
   "cell_type": "markdown",
   "metadata": {},
   "source": [
    "## 1차 train_test 분리"
   ]
  },
  {
   "cell_type": "code",
   "execution_count": 20,
   "metadata": {},
   "outputs": [
    {
     "name": "stdout",
     "output_type": "stream",
     "text": [
      "(2016, 6)\n"
     ]
    },
    {
     "data": {
      "text/html": [
       "<div>\n",
       "<style scoped>\n",
       "    .dataframe tbody tr th:only-of-type {\n",
       "        vertical-align: middle;\n",
       "    }\n",
       "\n",
       "    .dataframe tbody tr th {\n",
       "        vertical-align: top;\n",
       "    }\n",
       "\n",
       "    .dataframe thead th {\n",
       "        text-align: right;\n",
       "    }\n",
       "</style>\n",
       "<table border=\"1\" class=\"dataframe\">\n",
       "  <thead>\n",
       "    <tr style=\"text-align: right;\">\n",
       "      <th></th>\n",
       "      <th>HV</th>\n",
       "      <th>sum_word</th>\n",
       "      <th>MA5_gra</th>\n",
       "      <th>Volume_OSC</th>\n",
       "      <th>Sigma</th>\n",
       "      <th>Disparity20</th>\n",
       "    </tr>\n",
       "    <tr>\n",
       "      <th>date</th>\n",
       "      <th></th>\n",
       "      <th></th>\n",
       "      <th></th>\n",
       "      <th></th>\n",
       "      <th></th>\n",
       "      <th></th>\n",
       "    </tr>\n",
       "  </thead>\n",
       "  <tbody>\n",
       "    <tr>\n",
       "      <th>2003-09-29</th>\n",
       "      <td>0.000000</td>\n",
       "      <td>0.0</td>\n",
       "      <td>-0.003142</td>\n",
       "      <td>0.484744</td>\n",
       "      <td>-1.225259</td>\n",
       "      <td>97.591753</td>\n",
       "    </tr>\n",
       "    <tr>\n",
       "      <th>2003-09-30</th>\n",
       "      <td>0.046147</td>\n",
       "      <td>0.0</td>\n",
       "      <td>-0.007730</td>\n",
       "      <td>4.466314</td>\n",
       "      <td>-1.742624</td>\n",
       "      <td>96.506024</td>\n",
       "    </tr>\n",
       "    <tr>\n",
       "      <th>2003-10-01</th>\n",
       "      <td>0.111621</td>\n",
       "      <td>0.0</td>\n",
       "      <td>0.002179</td>\n",
       "      <td>8.823151</td>\n",
       "      <td>-0.226977</td>\n",
       "      <td>99.353199</td>\n",
       "    </tr>\n",
       "    <tr>\n",
       "      <th>2003-10-02</th>\n",
       "      <td>0.113955</td>\n",
       "      <td>0.0</td>\n",
       "      <td>0.005389</td>\n",
       "      <td>8.880720</td>\n",
       "      <td>0.099223</td>\n",
       "      <td>100.166147</td>\n",
       "    </tr>\n",
       "    <tr>\n",
       "      <th>2003-10-03</th>\n",
       "      <td>0.127419</td>\n",
       "      <td>0.0</td>\n",
       "      <td>0.009944</td>\n",
       "      <td>9.854309</td>\n",
       "      <td>0.955635</td>\n",
       "      <td>101.891182</td>\n",
       "    </tr>\n",
       "  </tbody>\n",
       "</table>\n",
       "</div>"
      ],
      "text/plain": [
       "                  HV  sum_word   MA5_gra  Volume_OSC     Sigma  Disparity20\n",
       "date                                                                       \n",
       "2003-09-29  0.000000       0.0 -0.003142    0.484744 -1.225259    97.591753\n",
       "2003-09-30  0.046147       0.0 -0.007730    4.466314 -1.742624    96.506024\n",
       "2003-10-01  0.111621       0.0  0.002179    8.823151 -0.226977    99.353199\n",
       "2003-10-02  0.113955       0.0  0.005389    8.880720  0.099223   100.166147\n",
       "2003-10-03  0.127419       0.0  0.009944    9.854309  0.955635   101.891182"
      ]
     },
     "execution_count": 20,
     "metadata": {},
     "output_type": "execute_result"
    }
   ],
   "source": [
    "X_train_1st = feature_df.loc['2003-09-29':'2011-09-28']\n",
    "print(X_train_1st.shape)\n",
    "X_train_1st.head()"
   ]
  },
  {
   "cell_type": "code",
   "execution_count": 21,
   "metadata": {},
   "outputs": [
    {
     "name": "stdout",
     "output_type": "stream",
     "text": [
      "(2016,)\n"
     ]
    },
    {
     "data": {
      "text/plain": [
       "date\n",
       "2003-09-29    0.000000\n",
       "2003-09-30    0.046147\n",
       "2003-10-01    0.111621\n",
       "2003-10-02    0.113955\n",
       "2003-10-03    0.127419\n",
       "Name: HV, dtype: float64"
      ]
     },
     "execution_count": 21,
     "metadata": {},
     "output_type": "execute_result"
    }
   ],
   "source": [
    "y_train_1st = label_df.loc['2003-09-29':'2011-09-28']\n",
    "print(y_train_1st.shape)\n",
    "y_train_1st.head()"
   ]
  },
  {
   "cell_type": "markdown",
   "metadata": {},
   "source": [
    "### test"
   ]
  },
  {
   "cell_type": "code",
   "execution_count": 22,
   "metadata": {},
   "outputs": [
    {
     "name": "stdout",
     "output_type": "stream",
     "text": [
      "(2538, 6)\n"
     ]
    },
    {
     "data": {
      "text/html": [
       "<div>\n",
       "<style scoped>\n",
       "    .dataframe tbody tr th:only-of-type {\n",
       "        vertical-align: middle;\n",
       "    }\n",
       "\n",
       "    .dataframe tbody tr th {\n",
       "        vertical-align: top;\n",
       "    }\n",
       "\n",
       "    .dataframe thead th {\n",
       "        text-align: right;\n",
       "    }\n",
       "</style>\n",
       "<table border=\"1\" class=\"dataframe\">\n",
       "  <thead>\n",
       "    <tr style=\"text-align: right;\">\n",
       "      <th></th>\n",
       "      <th>HV</th>\n",
       "      <th>sum_word</th>\n",
       "      <th>MA5_gra</th>\n",
       "      <th>Volume_OSC</th>\n",
       "      <th>Sigma</th>\n",
       "      <th>Disparity20</th>\n",
       "    </tr>\n",
       "    <tr>\n",
       "      <th>date</th>\n",
       "      <th></th>\n",
       "      <th></th>\n",
       "      <th></th>\n",
       "      <th></th>\n",
       "      <th></th>\n",
       "      <th></th>\n",
       "    </tr>\n",
       "  </thead>\n",
       "  <tbody>\n",
       "    <tr>\n",
       "      <th>2011-09-29</th>\n",
       "      <td>0.311156</td>\n",
       "      <td>24.0</td>\n",
       "      <td>0.007127</td>\n",
       "      <td>7.613165</td>\n",
       "      <td>-0.607309</td>\n",
       "      <td>97.759248</td>\n",
       "    </tr>\n",
       "    <tr>\n",
       "      <th>2011-09-30</th>\n",
       "      <td>0.324805</td>\n",
       "      <td>12.0</td>\n",
       "      <td>-0.001436</td>\n",
       "      <td>6.637214</td>\n",
       "      <td>-1.508087</td>\n",
       "      <td>95.174749</td>\n",
       "    </tr>\n",
       "    <tr>\n",
       "      <th>2011-10-03</th>\n",
       "      <td>0.327470</td>\n",
       "      <td>10.5</td>\n",
       "      <td>-0.010362</td>\n",
       "      <td>7.614666</td>\n",
       "      <td>-2.099935</td>\n",
       "      <td>92.930028</td>\n",
       "    </tr>\n",
       "    <tr>\n",
       "      <th>2011-10-04</th>\n",
       "      <td>0.340938</td>\n",
       "      <td>42.0</td>\n",
       "      <td>-0.010086</td>\n",
       "      <td>13.034524</td>\n",
       "      <td>-1.284014</td>\n",
       "      <td>95.421343</td>\n",
       "    </tr>\n",
       "    <tr>\n",
       "      <th>2011-10-05</th>\n",
       "      <td>0.327492</td>\n",
       "      <td>21.0</td>\n",
       "      <td>-0.002000</td>\n",
       "      <td>12.029998</td>\n",
       "      <td>-0.667012</td>\n",
       "      <td>97.453557</td>\n",
       "    </tr>\n",
       "  </tbody>\n",
       "</table>\n",
       "</div>"
      ],
      "text/plain": [
       "                  HV  sum_word   MA5_gra  Volume_OSC     Sigma  Disparity20\n",
       "date                                                                       \n",
       "2011-09-29  0.311156      24.0  0.007127    7.613165 -0.607309    97.759248\n",
       "2011-09-30  0.324805      12.0 -0.001436    6.637214 -1.508087    95.174749\n",
       "2011-10-03  0.327470      10.5 -0.010362    7.614666 -2.099935    92.930028\n",
       "2011-10-04  0.340938      42.0 -0.010086   13.034524 -1.284014    95.421343\n",
       "2011-10-05  0.327492      21.0 -0.002000   12.029998 -0.667012    97.453557"
      ]
     },
     "execution_count": 22,
     "metadata": {},
     "output_type": "execute_result"
    }
   ],
   "source": [
    "X_test_1st = feature_df.loc['2011-09-29':'2021-10-28']\n",
    "print(X_test_1st.shape)\n",
    "X_test_1st.head()"
   ]
  },
  {
   "cell_type": "code",
   "execution_count": 23,
   "metadata": {},
   "outputs": [
    {
     "name": "stdout",
     "output_type": "stream",
     "text": [
      "(2538,)\n"
     ]
    },
    {
     "data": {
      "text/plain": [
       "date\n",
       "2011-09-29    0.311156\n",
       "2011-09-30    0.324805\n",
       "2011-10-03    0.327470\n",
       "2011-10-04    0.340938\n",
       "2011-10-05    0.327492\n",
       "Name: HV, dtype: float64"
      ]
     },
     "execution_count": 23,
     "metadata": {},
     "output_type": "execute_result"
    }
   ],
   "source": [
    "y_test_1st = label_df.loc['2011-09-29':'2021-10-28']\n",
    "print(y_test_1st.shape)\n",
    "y_test_1st.head()"
   ]
  },
  {
   "cell_type": "code",
   "execution_count": 24,
   "metadata": {},
   "outputs": [
    {
     "name": "stdout",
     "output_type": "stream",
     "text": [
      "(2016, 6) (2016,)\n",
      "(2538, 6) (2538,)\n"
     ]
    }
   ],
   "source": [
    "print(X_train_1st.shape, y_train_1st.shape)\n",
    "print(X_test_1st.shape, y_test_1st.shape)"
   ]
  },
  {
   "cell_type": "markdown",
   "metadata": {},
   "source": [
    "## scaling\n",
    "X와 y를 각각 scaling 해주어야한다."
   ]
  },
  {
   "cell_type": "code",
   "execution_count": 25,
   "metadata": {},
   "outputs": [],
   "source": [
    "from sklearn.preprocessing import StandardScaler, MinMaxScaler, RobustScaler\n",
    "\n",
    "# Standardization 평균 0 / 분산 1\n",
    "X_scaler = MinMaxScaler()\n",
    "\n",
    "# 교차검증시\n",
    "X_scaler.fit(X_train_1st)\n",
    "X_train_1st_sc = X_scaler.transform(X_train_1st)\n",
    "X_test_1st_sc = X_scaler.transform(X_test_1st)"
   ]
  },
  {
   "cell_type": "code",
   "execution_count": 26,
   "metadata": {},
   "outputs": [],
   "source": [
    "# from sklearn.preprocessing import StandardScaler\n",
    "\n",
    "# Standardization 평균 0 / 분산 1\n",
    "y_scaler = MinMaxScaler()   \n",
    "\n",
    "# 교차검증시\n",
    "y_scaler.fit(np.array(y_train_1st).reshape(-1,1))\n",
    "y_train_1st_sc = y_scaler.transform(np.array(y_train_1st).reshape(-1,1))\n",
    "y_test_1st_sc = y_scaler.transform(np.array(y_test_1st).reshape(-1,1))"
   ]
  },
  {
   "cell_type": "code",
   "execution_count": 27,
   "metadata": {},
   "outputs": [
    {
     "data": {
      "text/plain": [
       "((2016, 6), (2538, 6), (2016,), (2538,))"
      ]
     },
     "execution_count": 27,
     "metadata": {},
     "output_type": "execute_result"
    }
   ],
   "source": [
    "X_train_1st_sc.shape, X_test_1st_sc.shape, y_train_1st.shape, y_test_1st.shape"
   ]
  },
  {
   "cell_type": "code",
   "execution_count": 28,
   "metadata": {},
   "outputs": [
    {
     "data": {
      "text/plain": [
       "array([[0.        ],\n",
       "       [0.04309432],\n",
       "       [0.1042375 ],\n",
       "       [0.10641735],\n",
       "       [0.11899137]])"
      ]
     },
     "execution_count": 28,
     "metadata": {},
     "output_type": "execute_result"
    }
   ],
   "source": [
    "y_train_1st_sc[:5]"
   ]
  },
  {
   "cell_type": "code",
   "execution_count": 30,
   "metadata": {},
   "outputs": [
    {
     "name": "stdout",
     "output_type": "stream",
     "text": [
      "(1996, 20, 6) (1996, 1) (2518, 20, 6) (2518, 1)\n"
     ]
    }
   ],
   "source": [
    "# 입력 파라미터 feature, label -> numpy type\n",
    "def make_sequence_dataset(feature, label, window_size):\n",
    "    feature_list = [] # 생성될 feature list\n",
    "    label_list = []  # 생성될 label list\n",
    "    \n",
    "    for i in range(len(feature)-window_size):\n",
    "        feature_list.append(feature[i:i+window_size])\n",
    "        label_list.append(label[i+window_size])\n",
    "    return np.array(feature_list), np.array(label_list) # 3차원으로 만들어줌\n",
    "\n",
    "\n",
    "\n",
    "window_size = 20\n",
    "X_train_1st, y_train_1st = make_sequence_dataset(X_train_1st_sc, y_train_1st_sc, window_size)\n",
    "X_test_1st, y_test_1st = make_sequence_dataset(X_test_1st_sc, y_test_1st_sc, window_size)\n",
    "print(X_train_1st.shape, y_train_1st.shape, X_test_1st.shape, y_test_1st.shape) # (batch size, time steps, input dims)"
   ]
  },
  {
   "cell_type": "code",
   "execution_count": 31,
   "metadata": {},
   "outputs": [
    {
     "data": {
      "text/plain": [
       "array([[0.29057482],\n",
       "       [0.30332099],\n",
       "       [0.30580974],\n",
       "       [0.31838696],\n",
       "       [0.30583013]])"
      ]
     },
     "execution_count": 31,
     "metadata": {},
     "output_type": "execute_result"
    }
   ],
   "source": [
    "y_test_1st_sc[:5]"
   ]
  },
  {
   "cell_type": "code",
   "execution_count": 32,
   "metadata": {},
   "outputs": [
    {
     "data": {
      "text/plain": [
       "array([[0.17201254],\n",
       "       [0.17161509],\n",
       "       [0.1493148 ],\n",
       "       [0.1485221 ],\n",
       "       [0.14009609]])"
      ]
     },
     "execution_count": 32,
     "metadata": {},
     "output_type": "execute_result"
    }
   ],
   "source": [
    "y_train_1st[:5]"
   ]
  },
  {
   "cell_type": "code",
   "execution_count": 33,
   "metadata": {},
   "outputs": [
    {
     "data": {
      "text/plain": [
       "array([[0.3077117 ],\n",
       "       [0.28268843],\n",
       "       [0.28485148],\n",
       "       [0.29732126],\n",
       "       [0.2969859 ]])"
      ]
     },
     "execution_count": 33,
     "metadata": {},
     "output_type": "execute_result"
    }
   ],
   "source": [
    "y_test_1st[:5]"
   ]
  },
  {
   "cell_type": "code",
   "execution_count": 34,
   "metadata": {},
   "outputs": [],
   "source": [
    "# 입력 파라미터 feature, label -> numpy type\n",
    "def make_sequence_dataset(feature, label, window_size):\n",
    "    feature_list = [] # 생성될 feature list\n",
    "    label_list = []  # 생성될 label list\n",
    "    \n",
    "    for i in range(len(feature)-window_size):\n",
    "        feature_list.append(feature[i:i+window_size])\n",
    "        label_list.append(label[i+window_size])\n",
    "    return np.array(feature_list), np.array(label_list) # 3차원으로 만들어줌"
   ]
  },
  {
   "cell_type": "markdown",
   "metadata": {},
   "source": [
    "# TRAIN, TEST 분리"
   ]
  },
  {
   "cell_type": "code",
   "execution_count": 35,
   "metadata": {},
   "outputs": [
    {
     "data": {
      "text/plain": [
       "(20, 6)"
      ]
     },
     "execution_count": 35,
     "metadata": {},
     "output_type": "execute_result"
    }
   ],
   "source": [
    "# input_shape\n",
    "X_train_1st[0].shape"
   ]
  },
  {
   "cell_type": "markdown",
   "metadata": {},
   "source": [
    "# tuning"
   ]
  },
  {
   "cell_type": "code",
   "execution_count": 36,
   "metadata": {},
   "outputs": [],
   "source": [
    "# Use scikit-learn to grid search the batch size and epochs\n",
    "import numpy\n",
    "import pandas as pd\n",
    "from sklearn.model_selection import GridSearchCV\n",
    "from keras.models import Sequential\n",
    "from keras.layers import Dense\n",
    "# from keras.wrappers.scikit_learn import KerasClassifier\n",
    "from keras.wrappers.scikit_learn import KerasRegressor"
   ]
  },
  {
   "cell_type": "markdown",
   "metadata": {
    "tags": []
   },
   "source": [
    "# 1. batch_size, epochs tuning"
   ]
  },
  {
   "cell_type": "code",
   "execution_count": 37,
   "metadata": {},
   "outputs": [],
   "source": [
    "# Function to create model, required for KerasClassifier\n",
    "def create_model():\n",
    "    # create model\n",
    "    model = Sequential()\n",
    "    model.add(LSTM(80, activation = 'relu', input_shape = X_train_1st[0].shape)) \n",
    "    model.add(Dense(1))\n",
    "    model.summary()\n",
    "\n",
    "    # Compile model\n",
    "    model.compile(loss = 'mse', optimizer = 'adam')\n",
    "#     early_stop = EarlyStopping(monitor = 'val_loss', patience = 5)\n",
    "#     history = model.fit(X_train, y_train, validation_data = (X_test, y_test), epochs=epochs, \n",
    "#           batch_size=batch_size, callbacks = [early_stop])\n",
    "    return model"
   ]
  },
  {
   "cell_type": "code",
   "execution_count": 38,
   "metadata": {},
   "outputs": [],
   "source": [
    "# create model\n",
    "# https://keras.io/ko/scikit-learn-api/\n",
    "model = KerasRegressor(build_fn=create_model, verbose=0)"
   ]
  },
  {
   "cell_type": "code",
   "execution_count": 39,
   "metadata": {},
   "outputs": [],
   "source": [
    "# # define the grid search parameters\n",
    "batch_size = [10, 15, 20, 40]\n",
    "epochs = [10, 50, 100]\n",
    "param_grid = dict(batch_size=batch_size, epochs=epochs)\n",
    "grid = GridSearchCV(estimator=model, param_grid=param_grid, n_jobs=-1, cv=3)"
   ]
  },
  {
   "cell_type": "code",
   "execution_count": 40,
   "metadata": {},
   "outputs": [
    {
     "name": "stdout",
     "output_type": "stream",
     "text": [
      "Model: \"sequential\"\n",
      "_________________________________________________________________\n",
      "Layer (type)                 Output Shape              Param #   \n",
      "=================================================================\n",
      "lstm (LSTM)                  (None, 80)                27840     \n",
      "_________________________________________________________________\n",
      "dense (Dense)                (None, 1)                 81        \n",
      "=================================================================\n",
      "Total params: 27,921\n",
      "Trainable params: 27,921\n",
      "Non-trainable params: 0\n",
      "_________________________________________________________________\n"
     ]
    }
   ],
   "source": [
    "grid_result = grid.fit(X_train_1st, y_train_1st)"
   ]
  },
  {
   "cell_type": "code",
   "execution_count": 41,
   "metadata": {},
   "outputs": [
    {
     "name": "stdout",
     "output_type": "stream",
     "text": [
      "Best: -0.000301 using {'batch_size': 15, 'epochs': 100}\n"
     ]
    }
   ],
   "source": [
    "# summarize results\n",
    "print(\"Best: %f using %s\" % (grid_result.best_score_, grid_result.best_params_))"
   ]
  },
  {
   "cell_type": "code",
   "execution_count": 42,
   "metadata": {},
   "outputs": [
    {
     "name": "stdout",
     "output_type": "stream",
     "text": [
      "-0.000600 (0.000337) with: {'batch_size': 10, 'epochs': 10}\n",
      "-0.000330 (0.000166) with: {'batch_size': 10, 'epochs': 50}\n",
      "-0.000315 (0.000166) with: {'batch_size': 10, 'epochs': 100}\n",
      "-0.000607 (0.000338) with: {'batch_size': 15, 'epochs': 10}\n",
      "-0.000327 (0.000155) with: {'batch_size': 15, 'epochs': 50}\n",
      "-0.000301 (0.000156) with: {'batch_size': 15, 'epochs': 100}\n",
      "-0.001167 (0.000808) with: {'batch_size': 20, 'epochs': 10}\n",
      "-0.000488 (0.000339) with: {'batch_size': 20, 'epochs': 50}\n",
      "-0.000850 (0.000612) with: {'batch_size': 20, 'epochs': 100}\n",
      "-0.001157 (0.000834) with: {'batch_size': 40, 'epochs': 10}\n",
      "-0.000469 (0.000266) with: {'batch_size': 40, 'epochs': 50}\n",
      "-0.000515 (0.000263) with: {'batch_size': 40, 'epochs': 100}\n"
     ]
    }
   ],
   "source": [
    "means = grid_result.cv_results_['mean_test_score']\n",
    "stds = grid_result.cv_results_['std_test_score']\n",
    "params = grid_result.cv_results_['params']\n",
    "for mean, stdev, param in zip(means, stds, params):\n",
    "    print(\"%f (%f) with: %r\" % (mean, stdev, param))"
   ]
  },
  {
   "cell_type": "markdown",
   "metadata": {
    "tags": []
   },
   "source": [
    "# 2. Optimization tuning"
   ]
  },
  {
   "cell_type": "code",
   "execution_count": 43,
   "metadata": {},
   "outputs": [],
   "source": [
    "def create_model(optimizer='adam'):\n",
    "    # create model\n",
    "    model = Sequential()\n",
    "    model.add(LSTM(80, activation = 'relu', input_shape = X_train_1st[0].shape)) \n",
    "    model.add(Dense(1))\n",
    "    model.summary()\n",
    "\n",
    "    # Compile model\n",
    "    model.compile(loss = 'mse', optimizer = optimizer)\n",
    "#     early_stop = EarlyStopping(monitor = 'val_loss', patience = 5)\n",
    "#     history = model.fit(X_train, y_train, validation_data = (X_test, y_test), epochs=epochs, \n",
    "#           batch_size=batch_size, callbacks = [early_stop])\n",
    "    return model"
   ]
  },
  {
   "cell_type": "code",
   "execution_count": 44,
   "metadata": {},
   "outputs": [],
   "source": [
    "# create model\n",
    "# https://keras.io/ko/scikit-learn-api/\n",
    "model = KerasRegressor(build_fn=create_model, epochs=50, batch_size=10, verbose=0)"
   ]
  },
  {
   "cell_type": "code",
   "execution_count": 45,
   "metadata": {},
   "outputs": [],
   "source": [
    "# define the grid search parameters\n",
    "optimizer = ['SGD', 'RMSprop', 'Adagrad', 'Adadelta', 'Adam', 'Adamax', 'Nadam']\n",
    "param_grid = dict(optimizer=optimizer)\n",
    "grid = GridSearchCV(estimator=model, param_grid=param_grid, n_jobs=-1, cv=3)"
   ]
  },
  {
   "cell_type": "code",
   "execution_count": 46,
   "metadata": {},
   "outputs": [
    {
     "name": "stdout",
     "output_type": "stream",
     "text": [
      "Model: \"sequential_1\"\n",
      "_________________________________________________________________\n",
      "Layer (type)                 Output Shape              Param #   \n",
      "=================================================================\n",
      "lstm_1 (LSTM)                (None, 80)                27840     \n",
      "_________________________________________________________________\n",
      "dense_1 (Dense)              (None, 1)                 81        \n",
      "=================================================================\n",
      "Total params: 27,921\n",
      "Trainable params: 27,921\n",
      "Non-trainable params: 0\n",
      "_________________________________________________________________\n"
     ]
    }
   ],
   "source": [
    "grid_result = grid.fit(X_train_1st, y_train_1st)"
   ]
  },
  {
   "cell_type": "code",
   "execution_count": 47,
   "metadata": {},
   "outputs": [
    {
     "name": "stdout",
     "output_type": "stream",
     "text": [
      "Best: -0.000296 using {'optimizer': 'Adam'}\n"
     ]
    }
   ],
   "source": [
    "# summarize results\n",
    "print(\"Best: %f using %s\" % (grid_result.best_score_, grid_result.best_params_))"
   ]
  },
  {
   "cell_type": "code",
   "execution_count": 48,
   "metadata": {},
   "outputs": [
    {
     "name": "stdout",
     "output_type": "stream",
     "text": [
      "-0.001465 (0.001575) with: {'optimizer': 'SGD'}\n",
      "-0.000451 (0.000261) with: {'optimizer': 'RMSprop'}\n",
      "-0.007646 (0.009795) with: {'optimizer': 'Adagrad'}\n",
      "-0.018120 (0.016195) with: {'optimizer': 'Adadelta'}\n",
      "-0.000296 (0.000160) with: {'optimizer': 'Adam'}\n",
      "-0.000480 (0.000057) with: {'optimizer': 'Adamax'}\n",
      "-0.000525 (0.000441) with: {'optimizer': 'Nadam'}\n"
     ]
    }
   ],
   "source": [
    "means = grid_result.cv_results_['mean_test_score']\n",
    "stds = grid_result.cv_results_['std_test_score']\n",
    "params = grid_result.cv_results_['params']\n",
    "for mean, stdev, param in zip(means, stds, params):\n",
    "    print(\"%f (%f) with: %r\" % (mean, stdev, param))"
   ]
  },
  {
   "cell_type": "markdown",
   "metadata": {
    "tags": []
   },
   "source": [
    "# 3. Tune Learning Rate and Momentum"
   ]
  },
  {
   "cell_type": "code",
   "execution_count": 49,
   "metadata": {},
   "outputs": [],
   "source": [
    "from tensorflow.keras import optimizers"
   ]
  },
  {
   "cell_type": "code",
   "execution_count": 50,
   "metadata": {},
   "outputs": [],
   "source": [
    "\n",
    "# Function to create model, required for KerasClassifier\n",
    "def create_model(learn_rate=0.01, momentum=0):\n",
    "    # create model\n",
    "    model = Sequential()\n",
    "    model.add(LSTM(80, activation = 'relu', input_shape = X_train_1st[0].shape)) \n",
    "    model.add(Dense(1))\n",
    "    model.summary()\n",
    "    \n",
    "    # Compile model\n",
    "    optimizer = optimizers.SGD(lr=learn_rate, momentum=momentum)\n",
    "    model.compile(loss='mse', optimizer='adam')\n",
    "    return model"
   ]
  },
  {
   "cell_type": "code",
   "execution_count": 51,
   "metadata": {},
   "outputs": [],
   "source": [
    "# create model\n",
    "# https://keras.io/ko/scikit-learn-api/\n",
    "model = KerasRegressor(build_fn=create_model, epochs=50, batch_size=10, verbose=0)"
   ]
  },
  {
   "cell_type": "code",
   "execution_count": 52,
   "metadata": {},
   "outputs": [],
   "source": [
    "# define the grid search parameters\n",
    "learn_rate = [0.001, 0.01, 0.1, 0.2, 0.3]\n",
    "momentum = [0.0, 0.2, 0.4, 0.6, 0.8, 0.9]\n",
    "param_grid = dict(learn_rate=learn_rate, momentum=momentum)\n",
    "grid = GridSearchCV(estimator=model, param_grid=param_grid, n_jobs=-1, cv=3)\n",
    "\n"
   ]
  },
  {
   "cell_type": "code",
   "execution_count": 53,
   "metadata": {},
   "outputs": [
    {
     "name": "stdout",
     "output_type": "stream",
     "text": [
      "Model: \"sequential_2\"\n",
      "_________________________________________________________________\n",
      "Layer (type)                 Output Shape              Param #   \n",
      "=================================================================\n",
      "lstm_2 (LSTM)                (None, 80)                27840     \n",
      "_________________________________________________________________\n",
      "dense_2 (Dense)              (None, 1)                 81        \n",
      "=================================================================\n",
      "Total params: 27,921\n",
      "Trainable params: 27,921\n",
      "Non-trainable params: 0\n",
      "_________________________________________________________________\n"
     ]
    }
   ],
   "source": [
    "grid_result = grid.fit(X_train_1st, y_train_1st)"
   ]
  },
  {
   "cell_type": "code",
   "execution_count": 54,
   "metadata": {},
   "outputs": [
    {
     "name": "stdout",
     "output_type": "stream",
     "text": [
      "Best: -0.000254 using {'learn_rate': 0.01, 'momentum': 0.8}\n",
      "-0.000378 (0.000239) with: {'learn_rate': 0.001, 'momentum': 0.0}\n",
      "-0.000390 (0.000221) with: {'learn_rate': 0.001, 'momentum': 0.2}\n",
      "-0.000304 (0.000178) with: {'learn_rate': 0.001, 'momentum': 0.4}\n",
      "-0.000371 (0.000290) with: {'learn_rate': 0.001, 'momentum': 0.6}\n",
      "-0.000263 (0.000164) with: {'learn_rate': 0.001, 'momentum': 0.8}\n",
      "-0.000360 (0.000213) with: {'learn_rate': 0.001, 'momentum': 0.9}\n",
      "-0.000397 (0.000226) with: {'learn_rate': 0.01, 'momentum': 0.0}\n",
      "-0.000351 (0.000198) with: {'learn_rate': 0.01, 'momentum': 0.2}\n",
      "-0.000303 (0.000156) with: {'learn_rate': 0.01, 'momentum': 0.4}\n",
      "-0.000392 (0.000164) with: {'learn_rate': 0.01, 'momentum': 0.6}\n",
      "-0.000254 (0.000138) with: {'learn_rate': 0.01, 'momentum': 0.8}\n",
      "-0.000365 (0.000271) with: {'learn_rate': 0.01, 'momentum': 0.9}\n",
      "-0.000494 (0.000302) with: {'learn_rate': 0.1, 'momentum': 0.0}\n",
      "-0.000340 (0.000202) with: {'learn_rate': 0.1, 'momentum': 0.2}\n",
      "-0.000373 (0.000217) with: {'learn_rate': 0.1, 'momentum': 0.4}\n",
      "-0.000454 (0.000254) with: {'learn_rate': 0.1, 'momentum': 0.6}\n",
      "-0.000311 (0.000189) with: {'learn_rate': 0.1, 'momentum': 0.8}\n",
      "-0.000406 (0.000257) with: {'learn_rate': 0.1, 'momentum': 0.9}\n",
      "-0.000525 (0.000395) with: {'learn_rate': 0.2, 'momentum': 0.0}\n",
      "-0.000314 (0.000140) with: {'learn_rate': 0.2, 'momentum': 0.2}\n",
      "-0.000470 (0.000316) with: {'learn_rate': 0.2, 'momentum': 0.4}\n",
      "-0.000383 (0.000216) with: {'learn_rate': 0.2, 'momentum': 0.6}\n",
      "-0.000488 (0.000299) with: {'learn_rate': 0.2, 'momentum': 0.8}\n",
      "-0.000390 (0.000151) with: {'learn_rate': 0.2, 'momentum': 0.9}\n",
      "-0.000386 (0.000247) with: {'learn_rate': 0.3, 'momentum': 0.0}\n",
      "-0.000312 (0.000152) with: {'learn_rate': 0.3, 'momentum': 0.2}\n",
      "-0.000310 (0.000187) with: {'learn_rate': 0.3, 'momentum': 0.4}\n",
      "-0.000335 (0.000141) with: {'learn_rate': 0.3, 'momentum': 0.6}\n",
      "-0.000281 (0.000147) with: {'learn_rate': 0.3, 'momentum': 0.8}\n",
      "-0.000334 (0.000156) with: {'learn_rate': 0.3, 'momentum': 0.9}\n"
     ]
    }
   ],
   "source": [
    "# summarize results\n",
    "print(\"Best: %f using %s\" % (grid_result.best_score_, grid_result.best_params_))\n",
    "means = grid_result.cv_results_['mean_test_score']\n",
    "stds = grid_result.cv_results_['std_test_score']\n",
    "params = grid_result.cv_results_['params']\n",
    "for mean, stdev, param in zip(means, stds, params):\n",
    "    print(\"%f (%f) with: %r\" % (mean, stdev, param))"
   ]
  },
  {
   "cell_type": "markdown",
   "metadata": {},
   "source": [
    "# 4. Tune Network Weight Initialization"
   ]
  },
  {
   "cell_type": "code",
   "execution_count": 55,
   "metadata": {},
   "outputs": [],
   "source": [
    "def create_model(init_mode='uniform'):\n",
    "# create model\n",
    "    model = Sequential()\n",
    "    model.add(LSTM(80, activation = 'relu', kernel_initializer=init_mode, input_shape = X_train_1st[0].shape)) \n",
    "    model.add(Dense(1, kernel_initializer=init_mode))\n",
    "    model.summary()\n",
    "    \n",
    "    # Compile model\n",
    "    model.compile(loss = 'mse', optimizer = 'Adam')\n",
    "#     early_stop = EarlyStopping(monitor = 'val_loss', patience = 5)\n",
    "#     history = model.fit(X_train, y_train, validation_data = (X_test, y_test), epochs=epochs, \n",
    "#           batch_size=batch_size, callbacks = [early_stop])\n",
    "    return model"
   ]
  },
  {
   "cell_type": "code",
   "execution_count": 56,
   "metadata": {},
   "outputs": [],
   "source": [
    "# create model\n",
    "# https://keras.io/ko/scikit-learn-api/\n",
    "model = KerasRegressor(build_fn=create_model, epochs=50, batch_size=10, verbose=0)"
   ]
  },
  {
   "cell_type": "code",
   "execution_count": 57,
   "metadata": {},
   "outputs": [],
   "source": [
    "# define the grid search parameters\n",
    "init_mode = ['uniform', 'lecun_uniform', 'normal', 'zero', 'glorot_normal', 'glorot_uniform', 'he_normal', 'he_uniform']\n",
    "param_grid = dict(init_mode=init_mode)\n",
    "grid = GridSearchCV(estimator=model, param_grid=param_grid, n_jobs=-1, cv=3)"
   ]
  },
  {
   "cell_type": "code",
   "execution_count": 58,
   "metadata": {},
   "outputs": [
    {
     "name": "stdout",
     "output_type": "stream",
     "text": [
      "Model: \"sequential_3\"\n",
      "_________________________________________________________________\n",
      "Layer (type)                 Output Shape              Param #   \n",
      "=================================================================\n",
      "lstm_3 (LSTM)                (None, 80)                27840     \n",
      "_________________________________________________________________\n",
      "dense_3 (Dense)              (None, 1)                 81        \n",
      "=================================================================\n",
      "Total params: 27,921\n",
      "Trainable params: 27,921\n",
      "Non-trainable params: 0\n",
      "_________________________________________________________________\n"
     ]
    }
   ],
   "source": [
    "grid_result = grid.fit(X_train_1st, y_train_1st)"
   ]
  },
  {
   "cell_type": "code",
   "execution_count": 59,
   "metadata": {},
   "outputs": [
    {
     "name": "stdout",
     "output_type": "stream",
     "text": [
      "Best: -0.000330 using {'init_mode': 'glorot_normal'}\n",
      "-0.000347 (0.000067) with: {'init_mode': 'uniform'}\n",
      "-0.000458 (0.000252) with: {'init_mode': 'lecun_uniform'}\n",
      "-0.000530 (0.000425) with: {'init_mode': 'normal'}\n",
      "-0.019214 (0.013452) with: {'init_mode': 'zero'}\n",
      "-0.000330 (0.000182) with: {'init_mode': 'glorot_normal'}\n",
      "-0.000370 (0.000197) with: {'init_mode': 'glorot_uniform'}\n",
      "-0.000607 (0.000610) with: {'init_mode': 'he_normal'}\n",
      "-0.000883 (0.000765) with: {'init_mode': 'he_uniform'}\n"
     ]
    }
   ],
   "source": [
    "# summarize results\n",
    "print(\"Best: %f using %s\" % (grid_result.best_score_, grid_result.best_params_))\n",
    "means = grid_result.cv_results_['mean_test_score']\n",
    "stds = grid_result.cv_results_['std_test_score']\n",
    "params = grid_result.cv_results_['params']\n",
    "for mean, stdev, param in zip(means, stds, params):\n",
    "    print(\"%f (%f) with: %r\" % (mean, stdev, param))"
   ]
  },
  {
   "cell_type": "markdown",
   "metadata": {},
   "source": [
    "# 5. Tune the Neuron Activation Function"
   ]
  },
  {
   "cell_type": "code",
   "execution_count": 60,
   "metadata": {},
   "outputs": [],
   "source": [
    "def create_model(activation='relu'):\n",
    "# create model\n",
    "    model = Sequential()\n",
    "    model.add(LSTM(80, kernel_initializer='uniform', activation=activation, input_shape = X_train_1st[0].shape)) \n",
    "    model.add(Dense(1, kernel_initializer='uniform'))\n",
    "    model.summary()\n",
    "    \n",
    "    # Compile model\n",
    "    model.compile(loss = 'mse', optimizer = 'Adam')\n",
    "#     early_stop = EarlyStopping(monitor = 'val_loss', patience = 5)\n",
    "#     history = model.fit(X_train, y_train, validation_data = (X_test, y_test), epochs=epochs, \n",
    "#           batch_size=batch_size, callbacks = [early_stop])\n",
    "    return model"
   ]
  },
  {
   "cell_type": "code",
   "execution_count": 61,
   "metadata": {},
   "outputs": [],
   "source": [
    "# create model\n",
    "# https://keras.io/ko/scikit-learn-api/\n",
    "model = KerasRegressor(build_fn=create_model, epochs=50, batch_size=10, verbose=0)"
   ]
  },
  {
   "cell_type": "code",
   "execution_count": 62,
   "metadata": {},
   "outputs": [],
   "source": [
    "# define the grid search parameters\n",
    "activation = ['softmax', 'softplus', 'softsign', 'relu', 'tanh', 'sigmoid', 'hard_sigmoid', 'linear']\n",
    "param_grid = dict(activation=activation)\n",
    "grid = GridSearchCV(estimator=model, param_grid=param_grid, n_jobs=-1, cv=3)\n"
   ]
  },
  {
   "cell_type": "code",
   "execution_count": 63,
   "metadata": {},
   "outputs": [
    {
     "name": "stdout",
     "output_type": "stream",
     "text": [
      "Model: \"sequential_4\"\n",
      "_________________________________________________________________\n",
      "Layer (type)                 Output Shape              Param #   \n",
      "=================================================================\n",
      "lstm_4 (LSTM)                (None, 80)                27840     \n",
      "_________________________________________________________________\n",
      "dense_4 (Dense)              (None, 1)                 81        \n",
      "=================================================================\n",
      "Total params: 27,921\n",
      "Trainable params: 27,921\n",
      "Non-trainable params: 0\n",
      "_________________________________________________________________\n"
     ]
    }
   ],
   "source": [
    "grid_result = grid.fit(X_train_1st, y_train_1st)"
   ]
  },
  {
   "cell_type": "code",
   "execution_count": 64,
   "metadata": {},
   "outputs": [
    {
     "name": "stdout",
     "output_type": "stream",
     "text": [
      "Best: -0.000220 using {'activation': 'softsign'}\n"
     ]
    }
   ],
   "source": [
    "# summarize results\n",
    "print(\"Best: %f using %s\" % (grid_result.best_score_, grid_result.best_params_))"
   ]
  },
  {
   "cell_type": "code",
   "execution_count": 65,
   "metadata": {},
   "outputs": [
    {
     "name": "stdout",
     "output_type": "stream",
     "text": [
      "-0.002389 (0.002570) with: {'activation': 'softmax'}\n",
      "-0.000372 (0.000223) with: {'activation': 'softplus'}\n",
      "-0.000220 (0.000143) with: {'activation': 'softsign'}\n",
      "-0.000351 (0.000133) with: {'activation': 'relu'}\n",
      "-0.000240 (0.000150) with: {'activation': 'tanh'}\n",
      "-0.000295 (0.000164) with: {'activation': 'sigmoid'}\n",
      "-0.000369 (0.000238) with: {'activation': 'hard_sigmoid'}\n",
      "-0.000267 (0.000148) with: {'activation': 'linear'}\n"
     ]
    }
   ],
   "source": [
    "means = grid_result.cv_results_['mean_test_score']\n",
    "stds = grid_result.cv_results_['std_test_score']\n",
    "params = grid_result.cv_results_['params']\n",
    "for mean, stdev, param in zip(means, stds, params):\n",
    "    print(\"%f (%f) with: %r\" % (mean, stdev, param))"
   ]
  },
  {
   "cell_type": "markdown",
   "metadata": {},
   "source": [
    "## 여기부터 시작"
   ]
  },
  {
   "cell_type": "markdown",
   "metadata": {},
   "source": [
    "# 6. Tune Dropout Regularization"
   ]
  },
  {
   "cell_type": "code",
   "execution_count": 66,
   "metadata": {},
   "outputs": [],
   "source": [
    "from keras.layers import Dropout\n",
    "from keras.constraints import maxnorm"
   ]
  },
  {
   "cell_type": "code",
   "execution_count": 78,
   "metadata": {},
   "outputs": [],
   "source": [
    "# Function to create model, required for KerasClassifier\n",
    "def create_model(dropout_rate=0.0, weight_constraint=0):\n",
    "    # create model\n",
    "    model = Sequential()\n",
    "    model.add(Dense(80, input_shape = X_train_1st[0].shape, kernel_initializer='uniform', activation='relu', kernel_constraint=maxnorm(weight_constraint)))\n",
    "    model.add(Dropout(dropout_rate))\n",
    "    model.add(Dense(1, kernel_initializer='uniform'))\n",
    "     # Compile model\n",
    "    model.compile(loss = 'mse', optimizer = 'Adam')\n",
    "    return model\n"
   ]
  },
  {
   "cell_type": "code",
   "execution_count": 79,
   "metadata": {},
   "outputs": [],
   "source": [
    "# create model\n",
    "# https://keras.io/ko/scikit-learn-api/\n",
    "model = KerasRegressor(build_fn=create_model, epochs=50, batch_size=10, verbose=0)"
   ]
  },
  {
   "cell_type": "code",
   "execution_count": 80,
   "metadata": {},
   "outputs": [],
   "source": [
    "# define the grid search parameters\n",
    "weight_constraint = [1, 2, 3, 4, 5]\n",
    "dropout_rate = [0.0, 0.1, 0.2, 0.3, 0.4, 0.5, 0.6, 0.7, 0.8, 0.9]\n",
    "param_grid = dict(dropout_rate=dropout_rate, weight_constraint=weight_constraint)\n",
    "grid = GridSearchCV(estimator=model, param_grid=param_grid, n_jobs=-1, cv=3)\n",
    "\n"
   ]
  },
  {
   "cell_type": "code",
   "execution_count": 81,
   "metadata": {},
   "outputs": [],
   "source": [
    "grid_result = grid.fit(X_train_1st, y_train_1st)"
   ]
  },
  {
   "cell_type": "code",
   "execution_count": 82,
   "metadata": {},
   "outputs": [
    {
     "name": "stdout",
     "output_type": "stream",
     "text": [
      "Best: -0.003203 using {'dropout_rate': 0.0, 'weight_constraint': 2}\n"
     ]
    }
   ],
   "source": [
    "# summarize results\n",
    "print(\"Best: %f using %s\" % (grid_result.best_score_, grid_result.best_params_))"
   ]
  },
  {
   "cell_type": "code",
   "execution_count": 83,
   "metadata": {
    "tags": []
   },
   "outputs": [
    {
     "name": "stdout",
     "output_type": "stream",
     "text": [
      "-0.003537 (0.001880) with: {'dropout_rate': 0.0, 'weight_constraint': 1}\n",
      "-0.003203 (0.002164) with: {'dropout_rate': 0.0, 'weight_constraint': 2}\n",
      "-0.003310 (0.002277) with: {'dropout_rate': 0.0, 'weight_constraint': 3}\n",
      "-0.003333 (0.002319) with: {'dropout_rate': 0.0, 'weight_constraint': 4}\n",
      "-0.003323 (0.002191) with: {'dropout_rate': 0.0, 'weight_constraint': 5}\n",
      "-0.003468 (0.001995) with: {'dropout_rate': 0.1, 'weight_constraint': 1}\n",
      "-0.003441 (0.002198) with: {'dropout_rate': 0.1, 'weight_constraint': 2}\n",
      "-0.003337 (0.002243) with: {'dropout_rate': 0.1, 'weight_constraint': 3}\n",
      "-0.003352 (0.002198) with: {'dropout_rate': 0.1, 'weight_constraint': 4}\n",
      "-0.003415 (0.002102) with: {'dropout_rate': 0.1, 'weight_constraint': 5}\n",
      "-0.003380 (0.002162) with: {'dropout_rate': 0.2, 'weight_constraint': 1}\n",
      "-0.003316 (0.002277) with: {'dropout_rate': 0.2, 'weight_constraint': 2}\n",
      "-0.003435 (0.002250) with: {'dropout_rate': 0.2, 'weight_constraint': 3}\n",
      "-0.003296 (0.002237) with: {'dropout_rate': 0.2, 'weight_constraint': 4}\n",
      "-0.003288 (0.002292) with: {'dropout_rate': 0.2, 'weight_constraint': 5}\n",
      "-0.003336 (0.002180) with: {'dropout_rate': 0.3, 'weight_constraint': 1}\n",
      "-0.003297 (0.002133) with: {'dropout_rate': 0.3, 'weight_constraint': 2}\n",
      "-0.003267 (0.002197) with: {'dropout_rate': 0.3, 'weight_constraint': 3}\n",
      "-0.003319 (0.002205) with: {'dropout_rate': 0.3, 'weight_constraint': 4}\n",
      "-0.003374 (0.002163) with: {'dropout_rate': 0.3, 'weight_constraint': 5}\n",
      "-0.003519 (0.002110) with: {'dropout_rate': 0.4, 'weight_constraint': 1}\n",
      "-0.003243 (0.002094) with: {'dropout_rate': 0.4, 'weight_constraint': 2}\n",
      "-0.003253 (0.002197) with: {'dropout_rate': 0.4, 'weight_constraint': 3}\n",
      "-0.003340 (0.002070) with: {'dropout_rate': 0.4, 'weight_constraint': 4}\n",
      "-0.003455 (0.002157) with: {'dropout_rate': 0.4, 'weight_constraint': 5}\n",
      "-0.003331 (0.002120) with: {'dropout_rate': 0.5, 'weight_constraint': 1}\n",
      "-0.003367 (0.002113) with: {'dropout_rate': 0.5, 'weight_constraint': 2}\n",
      "-0.003400 (0.002265) with: {'dropout_rate': 0.5, 'weight_constraint': 3}\n",
      "-0.003330 (0.002264) with: {'dropout_rate': 0.5, 'weight_constraint': 4}\n",
      "-0.003453 (0.002232) with: {'dropout_rate': 0.5, 'weight_constraint': 5}\n",
      "-0.003662 (0.002124) with: {'dropout_rate': 0.6, 'weight_constraint': 1}\n",
      "-0.003450 (0.002191) with: {'dropout_rate': 0.6, 'weight_constraint': 2}\n",
      "-0.003428 (0.002151) with: {'dropout_rate': 0.6, 'weight_constraint': 3}\n",
      "-0.003406 (0.002193) with: {'dropout_rate': 0.6, 'weight_constraint': 4}\n",
      "-0.003446 (0.002142) with: {'dropout_rate': 0.6, 'weight_constraint': 5}\n",
      "-0.003514 (0.002178) with: {'dropout_rate': 0.7, 'weight_constraint': 1}\n",
      "-0.003424 (0.002126) with: {'dropout_rate': 0.7, 'weight_constraint': 2}\n",
      "-0.003439 (0.002115) with: {'dropout_rate': 0.7, 'weight_constraint': 3}\n",
      "-0.003549 (0.001895) with: {'dropout_rate': 0.7, 'weight_constraint': 4}\n",
      "-0.003353 (0.002244) with: {'dropout_rate': 0.7, 'weight_constraint': 5}\n",
      "-0.003841 (0.002132) with: {'dropout_rate': 0.8, 'weight_constraint': 1}\n",
      "-0.003647 (0.001933) with: {'dropout_rate': 0.8, 'weight_constraint': 2}\n",
      "-0.003841 (0.002163) with: {'dropout_rate': 0.8, 'weight_constraint': 3}\n",
      "-0.003598 (0.001991) with: {'dropout_rate': 0.8, 'weight_constraint': 4}\n",
      "-0.003776 (0.002090) with: {'dropout_rate': 0.8, 'weight_constraint': 5}\n",
      "-0.004558 (0.002271) with: {'dropout_rate': 0.9, 'weight_constraint': 1}\n",
      "-0.004522 (0.002130) with: {'dropout_rate': 0.9, 'weight_constraint': 2}\n",
      "-0.004238 (0.002191) with: {'dropout_rate': 0.9, 'weight_constraint': 3}\n",
      "-0.004639 (0.002594) with: {'dropout_rate': 0.9, 'weight_constraint': 4}\n",
      "-0.004601 (0.002255) with: {'dropout_rate': 0.9, 'weight_constraint': 5}\n"
     ]
    }
   ],
   "source": [
    "means = grid_result.cv_results_['mean_test_score']\n",
    "stds = grid_result.cv_results_['std_test_score']\n",
    "params = grid_result.cv_results_['params']\n",
    "for mean, stdev, param in zip(means, stds, params):\n",
    "    print(\"%f (%f) with: %r\" % (mean, stdev, param))"
   ]
  },
  {
   "cell_type": "markdown",
   "metadata": {},
   "source": [
    "# 7. Tune the Number of Neurons in the Hidden Layer"
   ]
  },
  {
   "cell_type": "code",
   "execution_count": 72,
   "metadata": {},
   "outputs": [],
   "source": [
    "# Function to create model, required for KerasClassifier\n",
    "def create_model(neurons=1):\n",
    "    # create model\n",
    "    model = Sequential()\n",
    "    model.add(Dense(neurons, input_shape = X_train_1st[0].shape, kernel_initializer='uniform', activation='relu', kernel_constraint=maxnorm(5)))\n",
    "    model.add(Dropout(0.0))\n",
    "    model.add(Dense(1, kernel_initializer='uniform', activation='linear'))\n",
    "    \n",
    "     # Compile model\n",
    "    model.compile(loss = 'mse', optimizer = 'Adamax')\n",
    "    return model"
   ]
  },
  {
   "cell_type": "code",
   "execution_count": 73,
   "metadata": {},
   "outputs": [],
   "source": [
    "# create model\n",
    "# https://keras.io/ko/scikit-learn-api/\n",
    "model = KerasRegressor(build_fn=create_model, epochs=50, batch_size=10, verbose=0)"
   ]
  },
  {
   "cell_type": "code",
   "execution_count": 74,
   "metadata": {},
   "outputs": [],
   "source": [
    "# define the grid search parameters\n",
    "neurons = [1, 5, 10, 15, 20, 25, 30]\n",
    "param_grid = dict(neurons=neurons)\n",
    "grid = GridSearchCV(estimator=model, param_grid=param_grid, n_jobs=-1, cv=3)\n",
    "\n"
   ]
  },
  {
   "cell_type": "code",
   "execution_count": 75,
   "metadata": {},
   "outputs": [],
   "source": [
    "grid_result = grid.fit(X_train_1st, y_train_1st)"
   ]
  },
  {
   "cell_type": "code",
   "execution_count": 76,
   "metadata": {},
   "outputs": [
    {
     "name": "stdout",
     "output_type": "stream",
     "text": [
      "Best: -0.003156 using {'neurons': 30}\n",
      "-0.019271 (0.013950) with: {'neurons': 1}\n",
      "-0.003678 (0.002489) with: {'neurons': 5}\n",
      "-0.003493 (0.002096) with: {'neurons': 10}\n",
      "-0.003240 (0.002045) with: {'neurons': 15}\n",
      "-0.003258 (0.002068) with: {'neurons': 20}\n",
      "-0.003222 (0.002028) with: {'neurons': 25}\n",
      "-0.003156 (0.001971) with: {'neurons': 30}\n"
     ]
    }
   ],
   "source": [
    "# summarize results\n",
    "print(\"Best: %f using %s\" % (grid_result.best_score_, grid_result.best_params_))\n",
    "means = grid_result.cv_results_['mean_test_score']\n",
    "stds = grid_result.cv_results_['std_test_score']\n",
    "params = grid_result.cv_results_['params']\n",
    "for mean, stdev, param in zip(means, stds, params):\n",
    "    print(\"%f (%f) with: %r\" % (mean, stdev, param))"
   ]
  },
  {
   "cell_type": "code",
   "execution_count": 77,
   "metadata": {},
   "outputs": [],
   "source": [
    "grid_result = grid.fit(X_train_1st, y_train_1st)"
   ]
  },
  {
   "cell_type": "code",
   "execution_count": null,
   "metadata": {},
   "outputs": [],
   "source": []
  },
  {
   "cell_type": "code",
   "execution_count": null,
   "metadata": {},
   "outputs": [],
   "source": []
  },
  {
   "cell_type": "code",
   "execution_count": null,
   "metadata": {},
   "outputs": [],
   "source": []
  },
  {
   "cell_type": "code",
   "execution_count": null,
   "metadata": {},
   "outputs": [],
   "source": []
  }
 ],
 "metadata": {
  "interpreter": {
   "hash": "17164ff5f922defefa3fdd6afe0c064ec3948eda8922a4bbab17a59b9b0232dc"
  },
  "kernelspec": {
   "display_name": "Python 3 (ipykernel)",
   "language": "python",
   "name": "python3"
  },
  "language_info": {
   "codemirror_mode": {
    "name": "ipython",
    "version": 3
   },
   "file_extension": ".py",
   "mimetype": "text/x-python",
   "name": "python",
   "nbconvert_exporter": "python",
   "pygments_lexer": "ipython3",
   "version": "3.8.8"
  }
 },
 "nbformat": 4,
 "nbformat_minor": 4
}
