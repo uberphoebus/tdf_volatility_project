{
 "cells": [
  {
   "cell_type": "code",
   "execution_count": 1,
   "metadata": {},
   "outputs": [],
   "source": [
    "import pandas as pd"
   ]
  },
  {
   "cell_type": "code",
   "execution_count": 2,
   "metadata": {},
   "outputs": [],
   "source": [
    "\n",
    "cols = [\n",
    "         'MA5', 'MA20',\n",
    "       'MA60', 'MA120', 'MA5_gra', 'MA20_gra', 'MA60_gra', 'MA120_gra',\n",
    "       'V_MA5', 'V_MA20', 'V_MA60', 'V_MA120', 'EMA5', 'EMA20', 'EMA60',\n",
    "       'EMA120', 'MACD', 'MACD_sig9', 'MACD_OSC', 'Fast%K', 'Fast%D', 'Slow%K',\n",
    "       'Slow%D', 'RSI14', 'RSI signal', 'CCI', 'A_Ratio', 'B_Ratio', 'ATR',\n",
    "       'UpDI', 'DownDI', 'MFI', 'Momentum', 'Sonar', 'Sonar_sig5', 'STDEV',\n",
    "       'Sigma', 'TRIX', 'VR', 'WILLR', 'Psy', 'Disparity20', 'Disparity60',\n",
    "       'ADX', 'ADOSC', 'Volume_OSC', 'upperband', 'middleband', 'lowerband'\n",
    "         ]"
   ]
  },
  {
   "cell_type": "code",
   "execution_count": 3,
   "metadata": {},
   "outputs": [
    {
     "data": {
      "text/plain": [
       "49"
      ]
     },
     "execution_count": 3,
     "metadata": {},
     "output_type": "execute_result"
    }
   ],
   "source": [
    "len(cols)"
   ]
  },
  {
   "cell_type": "code",
   "execution_count": null,
   "metadata": {},
   "outputs": [],
   "source": []
  }
 ],
 "metadata": {
  "interpreter": {
   "hash": "2c70d6669d5b951e5920b64ece578749afb8dd8b0bff5f328426208cef376197"
  },
  "kernelspec": {
   "display_name": "Python 3.8.8 64-bit ('venv': venv)",
   "language": "python",
   "name": "python3"
  },
  "language_info": {
   "codemirror_mode": {
    "name": "ipython",
    "version": 3
   },
   "file_extension": ".py",
   "mimetype": "text/x-python",
   "name": "python",
   "nbconvert_exporter": "python",
   "pygments_lexer": "ipython3",
   "version": "3.8.8"
  },
  "orig_nbformat": 4
 },
 "nbformat": 4,
 "nbformat_minor": 2
}
