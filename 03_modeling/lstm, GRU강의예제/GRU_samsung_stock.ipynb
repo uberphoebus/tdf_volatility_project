{
 "cells": [
  {
   "cell_type": "code",
   "execution_count": 1,
   "id": "768b468f-cf8e-4cc9-8ed8-6d41fcf4916d",
   "metadata": {},
   "outputs": [],
   "source": [
    "# https://www.youtube.com/watch?v=Rxqp_sLSKAE"
   ]
  },
  {
   "cell_type": "code",
   "execution_count": 2,
   "id": "9fbc287b-44f1-44d1-9fbc-4cad1b0dc654",
   "metadata": {
    "tags": []
   },
   "outputs": [],
   "source": [
    "import tensorflow as tf\n",
    "import numpy as np\n",
    "import pandas as pd\n",
    "import matplotlib.pyplot as plt\n",
    "from tensorflow.keras.models import Sequential\n",
    "from tensorflow.keras.layers import LSTM, Dense, Dropout"
   ]
  },
  {
   "cell_type": "code",
   "execution_count": 3,
   "id": "85894984-91aa-4280-88ce-f0eeec06d6fc",
   "metadata": {},
   "outputs": [
    {
     "data": {
      "text/html": [
       "<div>\n",
       "<style scoped>\n",
       "    .dataframe tbody tr th:only-of-type {\n",
       "        vertical-align: middle;\n",
       "    }\n",
       "\n",
       "    .dataframe tbody tr th {\n",
       "        vertical-align: top;\n",
       "    }\n",
       "\n",
       "    .dataframe thead th {\n",
       "        text-align: right;\n",
       "    }\n",
       "</style>\n",
       "<table border=\"1\" class=\"dataframe\">\n",
       "  <thead>\n",
       "    <tr style=\"text-align: right;\">\n",
       "      <th></th>\n",
       "      <th>Date</th>\n",
       "      <th>Open</th>\n",
       "      <th>High</th>\n",
       "      <th>Low</th>\n",
       "      <th>Close</th>\n",
       "      <th>Adj Close</th>\n",
       "      <th>Volume</th>\n",
       "    </tr>\n",
       "  </thead>\n",
       "  <tbody>\n",
       "    <tr>\n",
       "      <th>0</th>\n",
       "      <td>2000-01-04</td>\n",
       "      <td>6000.0</td>\n",
       "      <td>6110.0</td>\n",
       "      <td>5660.0</td>\n",
       "      <td>6110.0</td>\n",
       "      <td>4696.898438</td>\n",
       "      <td>74195000.0</td>\n",
       "    </tr>\n",
       "    <tr>\n",
       "      <th>1</th>\n",
       "      <td>2000-01-05</td>\n",
       "      <td>5800.0</td>\n",
       "      <td>6060.0</td>\n",
       "      <td>5520.0</td>\n",
       "      <td>5580.0</td>\n",
       "      <td>4289.475098</td>\n",
       "      <td>74680000.0</td>\n",
       "    </tr>\n",
       "    <tr>\n",
       "      <th>2</th>\n",
       "      <td>2000-01-06</td>\n",
       "      <td>5750.0</td>\n",
       "      <td>5780.0</td>\n",
       "      <td>5580.0</td>\n",
       "      <td>5620.0</td>\n",
       "      <td>4320.223633</td>\n",
       "      <td>54390000.0</td>\n",
       "    </tr>\n",
       "    <tr>\n",
       "      <th>3</th>\n",
       "      <td>2000-01-07</td>\n",
       "      <td>5560.0</td>\n",
       "      <td>5670.0</td>\n",
       "      <td>5360.0</td>\n",
       "      <td>5540.0</td>\n",
       "      <td>4258.725586</td>\n",
       "      <td>40305000.0</td>\n",
       "    </tr>\n",
       "    <tr>\n",
       "      <th>4</th>\n",
       "      <td>2000-01-10</td>\n",
       "      <td>5600.0</td>\n",
       "      <td>5770.0</td>\n",
       "      <td>5580.0</td>\n",
       "      <td>5770.0</td>\n",
       "      <td>4435.533691</td>\n",
       "      <td>46880000.0</td>\n",
       "    </tr>\n",
       "  </tbody>\n",
       "</table>\n",
       "</div>"
      ],
      "text/plain": [
       "         Date    Open    High     Low   Close    Adj Close      Volume\n",
       "0  2000-01-04  6000.0  6110.0  5660.0  6110.0  4696.898438  74195000.0\n",
       "1  2000-01-05  5800.0  6060.0  5520.0  5580.0  4289.475098  74680000.0\n",
       "2  2000-01-06  5750.0  5780.0  5580.0  5620.0  4320.223633  54390000.0\n",
       "3  2000-01-07  5560.0  5670.0  5360.0  5540.0  4258.725586  40305000.0\n",
       "4  2000-01-10  5600.0  5770.0  5580.0  5770.0  4435.533691  46880000.0"
      ]
     },
     "execution_count": 3,
     "metadata": {},
     "output_type": "execute_result"
    }
   ],
   "source": [
    "raw_df = pd.read_csv(\"./005930.KS.csv\")\n",
    "raw_df.head()"
   ]
  },
  {
   "cell_type": "code",
   "execution_count": 4,
   "id": "511119ad-4774-47f3-b6f0-184512833496",
   "metadata": {},
   "outputs": [
    {
     "data": {
      "text/html": [
       "<div>\n",
       "<style scoped>\n",
       "    .dataframe tbody tr th:only-of-type {\n",
       "        vertical-align: middle;\n",
       "    }\n",
       "\n",
       "    .dataframe tbody tr th {\n",
       "        vertical-align: top;\n",
       "    }\n",
       "\n",
       "    .dataframe thead th {\n",
       "        text-align: right;\n",
       "    }\n",
       "</style>\n",
       "<table border=\"1\" class=\"dataframe\">\n",
       "  <thead>\n",
       "    <tr style=\"text-align: right;\">\n",
       "      <th></th>\n",
       "      <th>Date</th>\n",
       "      <th>Open</th>\n",
       "      <th>High</th>\n",
       "      <th>Low</th>\n",
       "      <th>Close</th>\n",
       "      <th>Adj Close</th>\n",
       "      <th>Volume</th>\n",
       "      <th>3MA</th>\n",
       "      <th>5MA</th>\n",
       "    </tr>\n",
       "  </thead>\n",
       "  <tbody>\n",
       "    <tr>\n",
       "      <th>0</th>\n",
       "      <td>2000-01-04</td>\n",
       "      <td>6000.0</td>\n",
       "      <td>6110.0</td>\n",
       "      <td>5660.0</td>\n",
       "      <td>6110.0</td>\n",
       "      <td>4696.898438</td>\n",
       "      <td>74195000.0</td>\n",
       "      <td>NaN</td>\n",
       "      <td>NaN</td>\n",
       "    </tr>\n",
       "    <tr>\n",
       "      <th>1</th>\n",
       "      <td>2000-01-05</td>\n",
       "      <td>5800.0</td>\n",
       "      <td>6060.0</td>\n",
       "      <td>5520.0</td>\n",
       "      <td>5580.0</td>\n",
       "      <td>4289.475098</td>\n",
       "      <td>74680000.0</td>\n",
       "      <td>NaN</td>\n",
       "      <td>NaN</td>\n",
       "    </tr>\n",
       "    <tr>\n",
       "      <th>2</th>\n",
       "      <td>2000-01-06</td>\n",
       "      <td>5750.0</td>\n",
       "      <td>5780.0</td>\n",
       "      <td>5580.0</td>\n",
       "      <td>5620.0</td>\n",
       "      <td>4320.223633</td>\n",
       "      <td>54390000.0</td>\n",
       "      <td>NaN</td>\n",
       "      <td>NaN</td>\n",
       "    </tr>\n",
       "    <tr>\n",
       "      <th>3</th>\n",
       "      <td>2000-01-07</td>\n",
       "      <td>5560.0</td>\n",
       "      <td>5670.0</td>\n",
       "      <td>5360.0</td>\n",
       "      <td>5540.0</td>\n",
       "      <td>4258.725586</td>\n",
       "      <td>40305000.0</td>\n",
       "      <td>-0.09329</td>\n",
       "      <td>NaN</td>\n",
       "    </tr>\n",
       "    <tr>\n",
       "      <th>4</th>\n",
       "      <td>2000-01-10</td>\n",
       "      <td>5600.0</td>\n",
       "      <td>5770.0</td>\n",
       "      <td>5580.0</td>\n",
       "      <td>5770.0</td>\n",
       "      <td>4435.533691</td>\n",
       "      <td>46880000.0</td>\n",
       "      <td>0.03405</td>\n",
       "      <td>NaN</td>\n",
       "    </tr>\n",
       "  </tbody>\n",
       "</table>\n",
       "</div>"
      ],
      "text/plain": [
       "         Date    Open    High     Low   Close    Adj Close      Volume  \\\n",
       "0  2000-01-04  6000.0  6110.0  5660.0  6110.0  4696.898438  74195000.0   \n",
       "1  2000-01-05  5800.0  6060.0  5520.0  5580.0  4289.475098  74680000.0   \n",
       "2  2000-01-06  5750.0  5780.0  5580.0  5620.0  4320.223633  54390000.0   \n",
       "3  2000-01-07  5560.0  5670.0  5360.0  5540.0  4258.725586  40305000.0   \n",
       "4  2000-01-10  5600.0  5770.0  5580.0  5770.0  4435.533691  46880000.0   \n",
       "\n",
       "       3MA  5MA  \n",
       "0      NaN  NaN  \n",
       "1      NaN  NaN  \n",
       "2      NaN  NaN  \n",
       "3 -0.09329  NaN  \n",
       "4  0.03405  NaN  "
      ]
     },
     "execution_count": 4,
     "metadata": {},
     "output_type": "execute_result"
    }
   ],
   "source": [
    "raw_df['3MA']    = raw_df['Close'].pct_change(3)\n",
    "raw_df['5MA']    = raw_df['Close'].pct_change(5)\n",
    "raw_df.head()"
   ]
  },
  {
   "cell_type": "code",
   "execution_count": 5,
   "id": "29105478-8163-465c-acab-b228a3b949ab",
   "metadata": {},
   "outputs": [
    {
     "data": {
      "text/plain": [
       "(5500, 9)"
      ]
     },
     "execution_count": 5,
     "metadata": {},
     "output_type": "execute_result"
    }
   ],
   "source": [
    "raw_df.shape"
   ]
  },
  {
   "cell_type": "code",
   "execution_count": null,
   "id": "d9caae6b-f9a7-438f-a4b8-a71e8813fad5",
   "metadata": {},
   "outputs": [],
   "source": []
  },
  {
   "cell_type": "code",
   "execution_count": 6,
   "id": "00c99211-27a0-4d0c-b90a-9958f43c62a9",
   "metadata": {},
   "outputs": [
    {
     "data": {
      "image/png": "[encoded data removed]",
      "text/plain": [
       "<Figure size 504x288 with 1 Axes>"
      ]
     },
     "metadata": {
      "needs_background": "light"
     },
     "output_type": "display_data"
    }
   ],
   "source": [
    "plt.figure(figsize=(7,4))\n",
    "\n",
    "plt.title(\"SAMSUNG ELECTRONIC STOCK PRICE\")\n",
    "plt.ylabel(\"price(won)\")\n",
    "plt.xlabel(\"period(day)\")\n",
    "plt.grid()\n",
    "plt.plot(raw_df['Adj Close'], label='Adj Close', color='b')\n",
    "plt.legend(loc='best')\n",
    "\n",
    "plt.show() #LSTM 이용하여 20년간의 주가데이터 학습"
   ]
  },
  {
   "cell_type": "code",
   "execution_count": 7,
   "id": "7293401f-8d17-48d9-9a6e-72aa73c4c81a",
   "metadata": {},
   "outputs": [
    {
     "data": {
      "text/plain": [
       "Date         0\n",
       "Open         6\n",
       "High         6\n",
       "Low          6\n",
       "Close        6\n",
       "Adj Close    6\n",
       "Volume       6\n",
       "3MA          3\n",
       "5MA          5\n",
       "dtype: int64"
      ]
     },
     "execution_count": 7,
     "metadata": {},
     "output_type": "execute_result"
    }
   ],
   "source": [
    "raw_df.isna().sum()"
   ]
  },
  {
   "cell_type": "code",
   "execution_count": 8,
   "id": "40c1251d-703a-4ad3-8b6b-f1199787a297",
   "metadata": {
    "tags": []
   },
   "outputs": [
    {
     "data": {
      "text/html": [
       "<div>\n",
       "<style scoped>\n",
       "    .dataframe tbody tr th:only-of-type {\n",
       "        vertical-align: middle;\n",
       "    }\n",
       "\n",
       "    .dataframe tbody tr th {\n",
       "        vertical-align: top;\n",
       "    }\n",
       "\n",
       "    .dataframe thead th {\n",
       "        text-align: right;\n",
       "    }\n",
       "</style>\n",
       "<table border=\"1\" class=\"dataframe\">\n",
       "  <thead>\n",
       "    <tr style=\"text-align: right;\">\n",
       "      <th></th>\n",
       "      <th>Date</th>\n",
       "      <th>Open</th>\n",
       "      <th>High</th>\n",
       "      <th>Low</th>\n",
       "      <th>Close</th>\n",
       "      <th>Adj Close</th>\n",
       "      <th>Volume</th>\n",
       "      <th>3MA</th>\n",
       "      <th>5MA</th>\n",
       "    </tr>\n",
       "  </thead>\n",
       "  <tbody>\n",
       "    <tr>\n",
       "      <th>1304</th>\n",
       "      <td>2005-01-03</td>\n",
       "      <td>NaN</td>\n",
       "      <td>NaN</td>\n",
       "      <td>NaN</td>\n",
       "      <td>NaN</td>\n",
       "      <td>NaN</td>\n",
       "      <td>NaN</td>\n",
       "      <td>0.013498</td>\n",
       "      <td>0.029714</td>\n",
       "    </tr>\n",
       "    <tr>\n",
       "      <th>4513</th>\n",
       "      <td>2017-11-16</td>\n",
       "      <td>NaN</td>\n",
       "      <td>NaN</td>\n",
       "      <td>NaN</td>\n",
       "      <td>NaN</td>\n",
       "      <td>NaN</td>\n",
       "      <td>NaN</td>\n",
       "      <td>-0.018446</td>\n",
       "      <td>-0.017749</td>\n",
       "    </tr>\n",
       "    <tr>\n",
       "      <th>4518</th>\n",
       "      <td>2017-11-23</td>\n",
       "      <td>NaN</td>\n",
       "      <td>NaN</td>\n",
       "      <td>NaN</td>\n",
       "      <td>NaN</td>\n",
       "      <td>NaN</td>\n",
       "      <td>NaN</td>\n",
       "      <td>0.013768</td>\n",
       "      <td>0.011203</td>\n",
       "    </tr>\n",
       "    <tr>\n",
       "      <th>4542</th>\n",
       "      <td>2018-01-02</td>\n",
       "      <td>NaN</td>\n",
       "      <td>NaN</td>\n",
       "      <td>NaN</td>\n",
       "      <td>NaN</td>\n",
       "      <td>NaN</td>\n",
       "      <td>NaN</td>\n",
       "      <td>0.057261</td>\n",
       "      <td>0.037037</td>\n",
       "    </tr>\n",
       "    <tr>\n",
       "      <th>4755</th>\n",
       "      <td>2018-11-15</td>\n",
       "      <td>NaN</td>\n",
       "      <td>NaN</td>\n",
       "      <td>NaN</td>\n",
       "      <td>NaN</td>\n",
       "      <td>NaN</td>\n",
       "      <td>NaN</td>\n",
       "      <td>-0.024336</td>\n",
       "      <td>0.001135</td>\n",
       "    </tr>\n",
       "    <tr>\n",
       "      <th>5000</th>\n",
       "      <td>2019-11-14</td>\n",
       "      <td>NaN</td>\n",
       "      <td>NaN</td>\n",
       "      <td>NaN</td>\n",
       "      <td>NaN</td>\n",
       "      <td>NaN</td>\n",
       "      <td>NaN</td>\n",
       "      <td>0.017442</td>\n",
       "      <td>-0.007561</td>\n",
       "    </tr>\n",
       "  </tbody>\n",
       "</table>\n",
       "</div>"
      ],
      "text/plain": [
       "            Date  Open  High  Low  Close  Adj Close  Volume       3MA  \\\n",
       "1304  2005-01-03   NaN   NaN  NaN    NaN        NaN     NaN  0.013498   \n",
       "4513  2017-11-16   NaN   NaN  NaN    NaN        NaN     NaN -0.018446   \n",
       "4518  2017-11-23   NaN   NaN  NaN    NaN        NaN     NaN  0.013768   \n",
       "4542  2018-01-02   NaN   NaN  NaN    NaN        NaN     NaN  0.057261   \n",
       "4755  2018-11-15   NaN   NaN  NaN    NaN        NaN     NaN -0.024336   \n",
       "5000  2019-11-14   NaN   NaN  NaN    NaN        NaN     NaN  0.017442   \n",
       "\n",
       "           5MA  \n",
       "1304  0.029714  \n",
       "4513 -0.017749  \n",
       "4518  0.011203  \n",
       "4542  0.037037  \n",
       "4755  0.001135  \n",
       "5000 -0.007561  "
      ]
     },
     "execution_count": 8,
     "metadata": {},
     "output_type": "execute_result"
    }
   ],
   "source": [
    "raw_df.loc[raw_df[\"Open\"].isna()]"
   ]
  },
  {
   "cell_type": "code",
   "execution_count": 9,
   "id": "175bd36b-2183-403e-bb19-1ad253e0f549",
   "metadata": {
    "tags": []
   },
   "outputs": [
    {
     "name": "stdout",
     "output_type": "stream",
     "text": [
      "Date: 0\n",
      "Open: 0\n",
      "High: 0\n",
      "Low: 0\n",
      "Close: 0\n",
      "Adj Close: 0\n",
      "Volume: 0\n",
      "3MA: 90\n",
      "5MA: 57\n"
     ]
    }
   ],
   "source": [
    "#Volume값0을 NAN으로 모두 대체(replace)\n",
    "raw_df['Volume'] = raw_df[\"Volume\"].replace(0, np.nan)\n",
    "#0을 nan처리하여 outlier도 missing value로 인식하도록 처리\n",
    "\n",
    "#각 columns에 0개수 확인\n",
    "for col in raw_df.columns:\n",
    "    missing_rows = raw_df.loc[raw_df[col]==0].shape[0]\n",
    "    print(col + ': ' + str(missing_rows))"
   ]
  },
  {
   "cell_type": "code",
   "execution_count": 10,
   "id": "d5d24be3-2393-4c76-8ee9-052a43c9613b",
   "metadata": {},
   "outputs": [
    {
     "data": {
      "text/plain": [
       "Date         0\n",
       "Open         0\n",
       "High         0\n",
       "Low          0\n",
       "Close        0\n",
       "Adj Close    0\n",
       "Volume       0\n",
       "3MA          0\n",
       "5MA          0\n",
       "dtype: int64"
      ]
     },
     "execution_count": 10,
     "metadata": {},
     "output_type": "execute_result"
    }
   ],
   "source": [
    "raw_df = raw_df.dropna()\n",
    "raw_df.isna().sum()\n",
    "#dropna로 missingvalue도 삭제\n",
    "# 데이터에는 아웃라이어나 미싱밸류 모두 정리"
   ]
  },
  {
   "cell_type": "code",
   "execution_count": 11,
   "id": "17ab0d1c-a091-4ffa-95be-e17ec9b0fdd1",
   "metadata": {
    "tags": []
   },
   "outputs": [],
   "source": [
    "# 날짜를 나타내는 Date항목을 제외한 숫자로 표현되는 모든 column에 대해 0~1값으로 정규화 수행"
   ]
  },
  {
   "cell_type": "code",
   "execution_count": 12,
   "id": "5720da34-a0b5-43a9-b556-a2e653a06e2a",
   "metadata": {
    "tags": []
   },
   "outputs": [
    {
     "name": "stdout",
     "output_type": "stream",
     "text": [
      "<class 'numpy.ndarray'> \n",
      "\n",
      "          Open      High       Low     Close  Adj Close    Volume       3MA  \\\n",
      "0     0.037375  0.035517  0.038470  0.034440   0.026655  0.363715  0.550438   \n",
      "1     0.034982  0.031689  0.036518  0.033873   0.026217  0.177799  0.563102   \n",
      "2     0.034868  0.031689  0.036059  0.033760   0.026129  0.250704  0.469465   \n",
      "3     0.036235  0.033177  0.037437  0.035120   0.027181  0.300555  0.514870   \n",
      "4     0.039426  0.036368  0.040193  0.038178   0.029549  0.386615  0.637206   \n",
      "...        ...       ...       ...       ...        ...       ...       ...   \n",
      "5368  0.785779  0.736282  0.790997  0.776821   0.789315  0.066336  0.535894   \n",
      "5369  0.783500  0.732029  0.782958  0.770024   0.782471  0.066996  0.495260   \n",
      "5370  0.776664  0.725649  0.778365  0.764359   0.776768  0.061621  0.455475   \n",
      "5371  0.773245  0.729902  0.777216  0.775688   0.788174  0.072643  0.489106   \n",
      "5372  0.806290  0.768184  0.810519  0.817605   0.830377  0.117335  0.621863   \n",
      "\n",
      "           5MA  \n",
      "0     0.348063  \n",
      "1     0.491642  \n",
      "2     0.475502  \n",
      "3     0.540115  \n",
      "4     0.548732  \n",
      "...        ...  \n",
      "5368  0.467203  \n",
      "5369  0.459689  \n",
      "5370  0.454655  \n",
      "5371  0.462137  \n",
      "5372  0.534198  \n",
      "\n",
      "[5373 rows x 8 columns]\n"
     ]
    }
   ],
   "source": [
    "from sklearn.preprocessing import MinMaxScaler\n",
    "scaler = MinMaxScaler()\n",
    "\n",
    "#정규화대상 column 정의\n",
    "scale_cols = ['Open','High','Low','Close','Adj Close','Volume','3MA','5MA']\n",
    "\n",
    "#정규화 수행\n",
    "scaled_df = scaler.fit_transform(raw_df[scale_cols])\n",
    "\n",
    "print(type(scaled_df), '\\n') #리턴값은 넘파이\n",
    "\n",
    "#정규화된 새로운 DataFrame 생성\n",
    "scaled_df = pd.DataFrame(scaled_df, columns = scale_cols)\n",
    "print(scaled_df)\n"
   ]
  },
  {
   "cell_type": "code",
   "execution_count": 13,
   "id": "3f4abcde-af7b-458a-9025-8d20d8467c44",
   "metadata": {},
   "outputs": [
    {
     "data": {
      "text/html": [
       "<div>\n",
       "<style scoped>\n",
       "    .dataframe tbody tr th:only-of-type {\n",
       "        vertical-align: middle;\n",
       "    }\n",
       "\n",
       "    .dataframe tbody tr th {\n",
       "        vertical-align: top;\n",
       "    }\n",
       "\n",
       "    .dataframe thead th {\n",
       "        text-align: right;\n",
       "    }\n",
       "</style>\n",
       "<table border=\"1\" class=\"dataframe\">\n",
       "  <thead>\n",
       "    <tr style=\"text-align: right;\">\n",
       "      <th></th>\n",
       "      <th>Open</th>\n",
       "      <th>High</th>\n",
       "      <th>Low</th>\n",
       "      <th>Close</th>\n",
       "      <th>Adj Close</th>\n",
       "      <th>Volume</th>\n",
       "      <th>3MA</th>\n",
       "      <th>5MA</th>\n",
       "    </tr>\n",
       "  </thead>\n",
       "  <tbody>\n",
       "    <tr>\n",
       "      <th>0</th>\n",
       "      <td>0.037375</td>\n",
       "      <td>0.035517</td>\n",
       "      <td>0.038470</td>\n",
       "      <td>0.034440</td>\n",
       "      <td>0.026655</td>\n",
       "      <td>0.363715</td>\n",
       "      <td>0.550438</td>\n",
       "      <td>0.348063</td>\n",
       "    </tr>\n",
       "    <tr>\n",
       "      <th>1</th>\n",
       "      <td>0.034982</td>\n",
       "      <td>0.031689</td>\n",
       "      <td>0.036518</td>\n",
       "      <td>0.033873</td>\n",
       "      <td>0.026217</td>\n",
       "      <td>0.177799</td>\n",
       "      <td>0.563102</td>\n",
       "      <td>0.491642</td>\n",
       "    </tr>\n",
       "    <tr>\n",
       "      <th>2</th>\n",
       "      <td>0.034868</td>\n",
       "      <td>0.031689</td>\n",
       "      <td>0.036059</td>\n",
       "      <td>0.033760</td>\n",
       "      <td>0.026129</td>\n",
       "      <td>0.250704</td>\n",
       "      <td>0.469465</td>\n",
       "      <td>0.475502</td>\n",
       "    </tr>\n",
       "    <tr>\n",
       "      <th>3</th>\n",
       "      <td>0.036235</td>\n",
       "      <td>0.033177</td>\n",
       "      <td>0.037437</td>\n",
       "      <td>0.035120</td>\n",
       "      <td>0.027181</td>\n",
       "      <td>0.300555</td>\n",
       "      <td>0.514870</td>\n",
       "      <td>0.540115</td>\n",
       "    </tr>\n",
       "    <tr>\n",
       "      <th>4</th>\n",
       "      <td>0.039426</td>\n",
       "      <td>0.036368</td>\n",
       "      <td>0.040193</td>\n",
       "      <td>0.038178</td>\n",
       "      <td>0.029549</td>\n",
       "      <td>0.386615</td>\n",
       "      <td>0.637206</td>\n",
       "      <td>0.548732</td>\n",
       "    </tr>\n",
       "  </tbody>\n",
       "</table>\n",
       "</div>"
      ],
      "text/plain": [
       "       Open      High       Low     Close  Adj Close    Volume       3MA  \\\n",
       "0  0.037375  0.035517  0.038470  0.034440   0.026655  0.363715  0.550438   \n",
       "1  0.034982  0.031689  0.036518  0.033873   0.026217  0.177799  0.563102   \n",
       "2  0.034868  0.031689  0.036059  0.033760   0.026129  0.250704  0.469465   \n",
       "3  0.036235  0.033177  0.037437  0.035120   0.027181  0.300555  0.514870   \n",
       "4  0.039426  0.036368  0.040193  0.038178   0.029549  0.386615  0.637206   \n",
       "\n",
       "        5MA  \n",
       "0  0.348063  \n",
       "1  0.491642  \n",
       "2  0.475502  \n",
       "3  0.540115  \n",
       "4  0.548732  "
      ]
     },
     "execution_count": 13,
     "metadata": {},
     "output_type": "execute_result"
    }
   ],
   "source": [
    "# raw_df.head()\n",
    "scaled_df.head()"
   ]
  },
  {
   "cell_type": "code",
   "execution_count": 14,
   "id": "4271aa57-a0a0-4048-bb06-8c28457304ab",
   "metadata": {},
   "outputs": [],
   "source": [
    "#딥러닝 학습을 위한 입력데이터 feature column, \n",
    "#정답데이터 label column 정의 후 numpy로 변환하여 데이터 전처리 과정을 완료함"
   ]
  },
  {
   "cell_type": "code",
   "execution_count": 15,
   "id": "2d144620-e3dd-40aa-8b19-0ba4570183f4",
   "metadata": {
    "tags": []
   },
   "outputs": [
    {
     "name": "stdout",
     "output_type": "stream",
     "text": [
      "           3MA       5MA  Adj Close\n",
      "0     0.550438  0.348063   0.026655\n",
      "1     0.563102  0.491642   0.026217\n",
      "2     0.469465  0.475502   0.026129\n",
      "3     0.514870  0.540115   0.027181\n",
      "4     0.637206  0.548732   0.029549\n",
      "...        ...       ...        ...\n",
      "5368  0.535894  0.467203   0.789315\n",
      "5369  0.495260  0.459689   0.782471\n",
      "5370  0.455475  0.454655   0.776768\n",
      "5371  0.489106  0.462137   0.788174\n",
      "5372  0.621863  0.534198   0.830377\n",
      "\n",
      "[5373 rows x 3 columns]\n",
      "      Adj Close\n",
      "0      0.026655\n",
      "1      0.026217\n",
      "2      0.026129\n",
      "3      0.027181\n",
      "4      0.029549\n",
      "...         ...\n",
      "5368   0.789315\n",
      "5369   0.782471\n",
      "5370   0.776768\n",
      "5371   0.788174\n",
      "5372   0.830377\n",
      "\n",
      "[5373 rows x 1 columns]\n"
     ]
    }
   ],
   "source": [
    "feature_cols=['3MA','5MA','Adj Close'] #feature 정의(입력데이터)\n",
    "label_cols=['Adj Close'] #label 정의(정답데이터)\n",
    "\n",
    "label_df = pd.DataFrame(scaled_df, columns = label_cols)\n",
    "feature_df = pd.DataFrame(scaled_df, columns = feature_cols)\n",
    "\n",
    "print(feature_df)\n",
    "print(label_df)\n",
    "\n",
    "#딥러닝 학습을 위해 DataFrame -> numpy로 변환\n",
    "label_np = label_df.to_numpy()\n",
    "feature_np = feature_df.to_numpy()"
   ]
  },
  {
   "cell_type": "markdown",
   "id": "fdda9263-2dee-4348-9770-ab72148c7a1c",
   "metadata": {},
   "source": [
    "## 데이터 생성 - 입력데이터 feature / 정답 데이터 label"
   ]
  },
  {
   "cell_type": "markdown",
   "id": "55760b06-d645-4811-847f-ef49fa805fcf",
   "metadata": {},
   "source": [
    "* (1) 학습 데이터 X, Y 생성"
   ]
  },
  {
   "cell_type": "code",
   "execution_count": 16,
   "id": "adf30526-ed61-4d7f-bcd9-49b43ea48da9",
   "metadata": {},
   "outputs": [],
   "source": [
    "#입력 파라미터 feature, label -> numpy type\n",
    "\n",
    "def make_sequence_dataset(feature, label, window_size):\n",
    "    \n",
    "    feature_list = [] #생성될 feature list\n",
    "    label_list = [] #생성될 label list\n",
    "    \n",
    "    for i in range(len(feature)-window_size):\n",
    "        \n",
    "        feature_list.append(feature[i:i+window_size])\n",
    "        #feature[i:i+window_size] 슬라이싱 이용하여 \n",
    "        #[[..],[..]...]형상으로 입력데이터, \n",
    "        #즉 feature를 생성함\n",
    "        #2차원 행렬 형태\n",
    "        label_list.append(label[i+window_size])\n",
    "        \n",
    "    return np.array(feature_list), np.array(label_list)\n",
    "# feature_list = [[..],[..]...]이므로 \n",
    "# 리턴 값 np.array(feature_list)는 \n",
    "# (batch_size, time_steps, input_dims)형상 가짐\n",
    "\n",
    "#3차원 텐서 형태로 만들기"
   ]
  },
  {
   "cell_type": "code",
   "execution_count": 17,
   "id": "18c4ce4e-ee00-41e7-89b9-2d99d7148b6a",
   "metadata": {
    "tags": []
   },
   "outputs": [
    {
     "name": "stdout",
     "output_type": "stream",
     "text": [
      "(5333, 40, 3) (5333, 1)\n"
     ]
    }
   ],
   "source": [
    "window_size = 40\n",
    "X, Y = make_sequence_dataset(feature_np, label_np, window_size)\n",
    "# 넘파이로 주어지는 시계열 데이터 \n",
    "# feature_np, label_np로부터 \n",
    "# window_size에 맞게 RNN입력데이터 X, 정답 데이터Y 생성함.\n",
    "# 이때 리턴되는 입력데이터 X.shape = (batch_size, time_step, input_dims)\n",
    "\n",
    "print(X.shape, Y.shape)"
   ]
  },
  {
   "cell_type": "code",
   "execution_count": 18,
   "id": "d6e838fc-200b-47e9-9c41-ecb5b1741538",
   "metadata": {},
   "outputs": [
    {
     "name": "stdout",
     "output_type": "stream",
     "text": [
      "(5133, 40, 3) (5133, 1)\n",
      "(200, 40, 3) (200, 1)\n"
     ]
    }
   ],
   "source": [
    "split = -200\n",
    "#최근 주식 데이터 200개를 test로 분리\n",
    "\n",
    "X_train = X[0:split]\n",
    "y_train = Y[0:split]\n",
    "\n",
    "X_test = X[split:]\n",
    "y_test = Y[split:]\n",
    "\n",
    "print(X_train.shape, y_train.shape)\n",
    "print(X_test.shape, y_test.shape)"
   ]
  },
  {
   "cell_type": "code",
   "execution_count": 20,
   "id": "3608bc1b-fae3-4261-ac11-3ed44304daf1",
   "metadata": {},
   "outputs": [
    {
     "name": "stdout",
     "output_type": "stream",
     "text": [
      "Model: \"sequential_1\"\n",
      "_________________________________________________________________\n",
      "Layer (type)                 Output Shape              Param #   \n",
      "=================================================================\n",
      "gru (GRU)                    (None, 256)               200448    \n",
      "_________________________________________________________________\n",
      "dense (Dense)                (None, 1)                 257       \n",
      "=================================================================\n",
      "Total params: 200,705\n",
      "Trainable params: 200,705\n",
      "Non-trainable params: 0\n",
      "_________________________________________________________________\n"
     ]
    }
   ],
   "source": [
    "from keras.layers import GRU\n",
    "\n",
    "model = Sequential()\n",
    "\n",
    "model.add(GRU(256, #256개의 노드를 가지는 GRU 레이어와\n",
    "              activation = 'tanh',#GRU계층에 tahn활성화 함수를 가지는 노드 수 256개\n",
    "              input_shape = X_train[0].shape)) #input_shape = (40,3)\n",
    "\n",
    "model.add(Dense(1, activation='linear'))#1개의 노드를 가지는 출력층으로 구성된 모델이 구축됨\n",
    "\n",
    "# 은닉층 개념인 GRU레이어에서 tanh를 활성화함수로 가지는 노드수가 256개 이며\n",
    "# 입력데이터는 40개의 데이터를 이용해서 미래값을 예측하는 문제이기 때문에\n",
    "# input_shape은 (40,3)형태로 넣어준다\n",
    "# 모델구축 완성\n",
    "\n",
    "\n",
    "model.summary()"
   ]
  },
  {
   "cell_type": "code",
   "execution_count": null,
   "id": "831c56b5-9f44-44c3-845f-1e97f6158e10",
   "metadata": {},
   "outputs": [],
   "source": []
  },
  {
   "cell_type": "code",
   "execution_count": 22,
   "id": "da0c99f4-0ac6-4dc1-b57e-e53862c2c36c",
   "metadata": {},
   "outputs": [
    {
     "name": "stdout",
     "output_type": "stream",
     "text": [
      "Epoch 1/100\n",
      "321/321 [==============================] - 8s 22ms/step - loss: 7.4003e-05 - mae: 0.0055 - val_loss: 2.9542e-04 - val_mae: 0.0147\n",
      "Epoch 2/100\n",
      "321/321 [==============================] - 7s 21ms/step - loss: 4.7633e-05 - mae: 0.0048 - val_loss: 1.2767e-04 - val_mae: 0.0086\n",
      "Epoch 3/100\n",
      "321/321 [==============================] - 7s 21ms/step - loss: 5.0998e-05 - mae: 0.0051 - val_loss: 2.7636e-04 - val_mae: 0.0137\n",
      "Epoch 4/100\n",
      "321/321 [==============================] - 7s 21ms/step - loss: 4.4581e-05 - mae: 0.0047 - val_loss: 1.4270e-04 - val_mae: 0.0089\n",
      "Epoch 5/100\n",
      "321/321 [==============================] - 7s 22ms/step - loss: 4.9985e-05 - mae: 0.0051 - val_loss: 1.3929e-04 - val_mae: 0.0092\n",
      "Epoch 6/100\n",
      "321/321 [==============================] - 7s 21ms/step - loss: 3.9486e-05 - mae: 0.0043 - val_loss: 1.1951e-04 - val_mae: 0.0082\n",
      "Epoch 7/100\n",
      "321/321 [==============================] - 7s 21ms/step - loss: 3.9654e-05 - mae: 0.0044 - val_loss: 3.5390e-04 - val_mae: 0.0166\n",
      "Epoch 8/100\n",
      "321/321 [==============================] - 6s 20ms/step - loss: 4.2957e-05 - mae: 0.0046 - val_loss: 1.8535e-04 - val_mae: 0.0111\n",
      "Epoch 9/100\n",
      "321/321 [==============================] - 6s 20ms/step - loss: 3.7729e-05 - mae: 0.0043 - val_loss: 3.4121e-04 - val_mae: 0.0157\n",
      "Epoch 10/100\n",
      "321/321 [==============================] - 7s 22ms/step - loss: 4.7668e-05 - mae: 0.0049 - val_loss: 1.5870e-04 - val_mae: 0.0101\n",
      "Epoch 11/100\n",
      "321/321 [==============================] - 7s 23ms/step - loss: 3.8870e-05 - mae: 0.0044 - val_loss: 1.2959e-04 - val_mae: 0.0088\n"
     ]
    },
    {
     "data": {
      "text/plain": [
       "<keras.callbacks.History at 0x19fa35f00d0>"
      ]
     },
     "execution_count": 22,
     "metadata": {},
     "output_type": "execute_result"
    }
   ],
   "source": [
    "from tensorflow.keras.callbacks import EarlyStopping\n",
    "model.compile(loss = 'mse', optimizer = 'adam', metrics = ['mae'])\n",
    "# 손실함수 loss는 mse , 옵티마이저는 adam, metrics는 오차 절대값을 나타내는 mae로 설정하고\n",
    "# 조기종료를 위해서 earlystopping 조건 설정 후 총 100번 반복해서 학습을 진행하면 손실함수값이 지속적으로 작아지다가 \n",
    "# 10번째 지점에서 더이상 손실함수값이 작아지지 않기에 설정해놓은 earlystopping에 의해 조기종료됨을 알 수 있음\n",
    "\n",
    "\n",
    "early_stop = EarlyStopping(monitor = 'val_loss', patience = 5)\n",
    "model.fit(X_train, y_train, validation_data = (X_test, y_test), epochs=100, batch_size=16, callbacks=[early_stop])"
   ]
  },
  {
   "cell_type": "code",
   "execution_count": null,
   "id": "0096f93c-0aed-4d24-86a5-e5825af0515c",
   "metadata": {},
   "outputs": [],
   "source": []
  },
  {
   "cell_type": "code",
   "execution_count": 30,
   "id": "d0861e8e-5cf7-4491-ba29-17136e4c328d",
   "metadata": {},
   "outputs": [
    {
     "data": {
      "image/png": "[encoded data removed]",
      "text/plain": [
       "<Figure size 864x432 with 1 Axes>"
      ]
     },
     "metadata": {
      "needs_background": "light"
     },
     "output_type": "display_data"
    }
   ],
   "source": [
    "pred = model.predict(X_test)\n",
    "#200개의 test데이터를 이용해서 예측\n",
    "\n",
    "plt.figure(figsize=(12,6))\n",
    "plt.title('3MA + 5MA + Adj Close, window_size=40')\n",
    "plt.ylabel('adh close')\n",
    "plt.xlabel('period')\n",
    "plt.plot(y_test, label='actual')\n",
    "plt.plot(pred, label='prediction')\n",
    "plt.grid()\n",
    "plt.legend(loc='best')\n",
    "\n",
    "plt.show()\n",
    "\n"
   ]
  },
  {
   "cell_type": "code",
   "execution_count": null,
   "id": "4b331a61-d973-43dd-bc41-7fab6eb56f56",
   "metadata": {},
   "outputs": [],
   "source": []
  },
  {
   "cell_type": "code",
   "execution_count": null,
   "id": "256608c7-e666-4e43-962d-0461200067e7",
   "metadata": {},
   "outputs": [],
   "source": []
  }
 ],
 "metadata": {
  "kernelspec": {
   "display_name": "Python 3 (ipykernel)",
   "language": "python",
   "name": "python3"
  },
  "language_info": {
   "codemirror_mode": {
    "name": "ipython",
    "version": 3
   },
   "file_extension": ".py",
   "mimetype": "text/x-python",
   "name": "python",
   "nbconvert_exporter": "python",
   "pygments_lexer": "ipython3",
   "version": "3.8.8"
  }
 },
 "nbformat": 4,
 "nbformat_minor": 5
}
