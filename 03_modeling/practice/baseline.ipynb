{
 "cells": [
  {
   "cell_type": "markdown",
   "metadata": {},
   "source": [
    "# imports"
   ]
  },
  {
   "cell_type": "code",
   "execution_count": 1,
   "metadata": {},
   "outputs": [],
   "source": [
    "import pandas as pd\n",
    "import numpy as np; np.random.seed(0)\n",
    "import matplotlib.pyplot as plt; plt.rcParams['font.family'] = 'Malgun Gothic'\n",
    "import seaborn as sns; sns.set_theme(font='Malgun Gothic')\n",
    "\n",
    "import warnings; warnings.filterwarnings(action='ignore')\n",
    "pd.set_option('display.max_rows', 100, 'display.max_columns', 100, 'max_colwidth', None)"
   ]
  },
  {
   "cell_type": "markdown",
   "metadata": {},
   "source": [
    "# read"
   ]
  },
  {
   "cell_type": "code",
   "execution_count": 127,
   "metadata": {},
   "outputs": [],
   "source": [
    "kospi  = pd.read_csv('./input/kospi.csv')  # 코스피지수\n",
    "nasdaq = pd.read_csv('./input/nasdaq.csv') # 나스닥지수\n",
    "sp500  = pd.read_csv('./input/sp500.csv')  # S&P500지수\n",
    "\n",
    "cd     = pd.read_csv('./input/cd.csv')     # 일별 CD금리\n",
    "exc    = pd.read_csv('./input/exc.csv')    # 일별 원-달러 환율\n",
    "agg    = pd.read_csv('./input/agg.csv')    # AGG 미 국채"
   ]
  },
  {
   "cell_type": "markdown",
   "metadata": {},
   "source": [
    "# 자산별 학습 데이터 가공"
   ]
  },
  {
   "cell_type": "code",
   "execution_count": 3,
   "metadata": {},
   "outputs": [],
   "source": [
    "def makeTrain(df):\n",
    "    \n",
    "    \"\"\"학습 데이터프레임 구성\"\"\"\n",
    "    \n",
    "    df = df[['Date', 'Close']]\n",
    "    \n",
    "    # '2003-07-28' 이후 데이터 학습\n",
    "    df = df[df['Date'] > '2003-07-28']\n",
    "    \n",
    "    # 30일 이동평균선\n",
    "    df['MA30'] = df['Close'].rolling(window=30).mean()\n",
    "    \n",
    "    # 30일 모멘텀\n",
    "    df['Mom30'] = df['Close'].diff(30)\n",
    "    \n",
    "    # 과거 30일 표준편차\n",
    "    df['STD30'] = df['Close'].rolling(window=30).std(ddof=0)\n",
    "    \n",
    "    # target : 30일 후 변동성\n",
    "    df['target_STD30'] = df['STD30'].shift(-30)\n",
    "    \n",
    "    # dropna\n",
    "    df.dropna(axis=0, how='any', inplace=True)\n",
    "    df.reset_index(drop=True, inplace=True)\n",
    "    \n",
    "    return df"
   ]
  },
  {
   "cell_type": "markdown",
   "metadata": {},
   "source": [
    "# create window"
   ]
  },
  {
   "cell_type": "code",
   "execution_count": 4,
   "metadata": {},
   "outputs": [],
   "source": [
    "def createWindow(data, seqeuence_length=30, seqeuence_stride=1):\n",
    "    \n",
    "    result = []\n",
    "    for index in range(len(data) - (seqeuence_length + seqeuence_stride)):\n",
    "        result.append(data[index: index + (seqeuence_length + seqeuence_stride)])\n",
    "    \n",
    "    return result"
   ]
  },
  {
   "cell_type": "markdown",
   "metadata": {},
   "source": [
    "# 정규화"
   ]
  },
  {
   "cell_type": "code",
   "execution_count": 5,
   "metadata": {},
   "outputs": [],
   "source": [
    "# 모든 컬럼에 적용해야 할지 몰라서 일단 보류\n",
    "\n",
    "def normalizeWindow(data):\n",
    "    \n",
    "    normalized_data = []\n",
    "    for window in data:\n",
    "        normalized_window = []\n",
    "        for i in window:\n",
    "            result = float(i) / float(window[0]) - 1\n",
    "            normalized_window.append(result)\n",
    "        normalized_data.append(normalized_window)\n",
    "    \n",
    "    return np.array(normalized_data)"
   ]
  },
  {
   "cell_type": "markdown",
   "metadata": {},
   "source": [
    "# 자산별 변동성"
   ]
  },
  {
   "cell_type": "code",
   "execution_count": 6,
   "metadata": {},
   "outputs": [],
   "source": [
    "from keras.models import Sequential\n",
    "from keras.layers import Dense, LSTM\n",
    "\n",
    "def fitSequence(data, train_size=3600):\n",
    "    \n",
    "    X_train = data[:train_size, :-1]\n",
    "    X_test  = data[train_size:, :-1]\n",
    "    y_train = data[:train_size, -1]\n",
    "    y_test  = data[train_size:, -1]\n",
    "    \n",
    "    model = Sequential()\n",
    "    \n",
    "    model.add(LSTM(units=30, return_sequences=True, input_shape=(30, 5)))\n",
    "    model.add(Dense(units=1))\n",
    "    \n",
    "    model.compile(loss='mse', optimizer='adam')\n",
    "    \n",
    "    history = model.fit(\n",
    "        X_train, y_train, \n",
    "        validation_data=(X_test, y_test), \n",
    "        batch_size=50, epochs=50\n",
    "    )\n",
    "    \n",
    "    return history"
   ]
  },
  {
   "cell_type": "markdown",
   "metadata": {},
   "source": [
    "# 벤치마크 포트폴리오"
   ]
  },
  {
   "cell_type": "code",
   "execution_count": 156,
   "metadata": {},
   "outputs": [
    {
     "data": {
      "text/html": [
       "<div>\n",
       "<style scoped>\n",
       "    .dataframe tbody tr th:only-of-type {\n",
       "        vertical-align: middle;\n",
       "    }\n",
       "\n",
       "    .dataframe tbody tr th {\n",
       "        vertical-align: top;\n",
       "    }\n",
       "\n",
       "    .dataframe thead th {\n",
       "        text-align: right;\n",
       "    }\n",
       "</style>\n",
       "<table border=\"1\" class=\"dataframe\">\n",
       "  <thead>\n",
       "    <tr style=\"text-align: right;\">\n",
       "      <th></th>\n",
       "      <th>Date</th>\n",
       "      <th>kospi</th>\n",
       "      <th>nasdaq</th>\n",
       "      <th>sp500</th>\n",
       "      <th>cd</th>\n",
       "      <th>kospi_change</th>\n",
       "      <th>nasdaq_change</th>\n",
       "      <th>sp500_change</th>\n",
       "      <th>cd_change</th>\n",
       "      <th>kospi_base</th>\n",
       "      <th>nasdaq_base</th>\n",
       "      <th>sp500_base</th>\n",
       "      <th>cd_base</th>\n",
       "      <th>benchmark_change</th>\n",
       "      <th>bench_cumprod</th>\n",
       "    </tr>\n",
       "  </thead>\n",
       "  <tbody>\n",
       "    <tr>\n",
       "      <th>0</th>\n",
       "      <td>2003-07-29</td>\n",
       "      <td>722.33</td>\n",
       "      <td>8.55</td>\n",
       "      <td>989.28</td>\n",
       "      <td>3.98</td>\n",
       "      <td>NaN</td>\n",
       "      <td>NaN</td>\n",
       "      <td>NaN</td>\n",
       "      <td>NaN</td>\n",
       "      <td>1000.000000</td>\n",
       "      <td>1000.000000</td>\n",
       "      <td>1000.000000</td>\n",
       "      <td>1000.000000</td>\n",
       "      <td>0.000000</td>\n",
       "      <td>1.000000</td>\n",
       "    </tr>\n",
       "    <tr>\n",
       "      <th>1</th>\n",
       "      <td>2003-07-30</td>\n",
       "      <td>714.15</td>\n",
       "      <td>8.60</td>\n",
       "      <td>987.49</td>\n",
       "      <td>3.97</td>\n",
       "      <td>-0.011324</td>\n",
       "      <td>0.005848</td>\n",
       "      <td>-0.001809</td>\n",
       "      <td>-0.002513</td>\n",
       "      <td>988.675536</td>\n",
       "      <td>1005.847953</td>\n",
       "      <td>998.190603</td>\n",
       "      <td>997.487437</td>\n",
       "      <td>-0.001508</td>\n",
       "      <td>0.998492</td>\n",
       "    </tr>\n",
       "    <tr>\n",
       "      <th>2</th>\n",
       "      <td>2003-07-31</td>\n",
       "      <td>713.52</td>\n",
       "      <td>8.60</td>\n",
       "      <td>990.31</td>\n",
       "      <td>3.96</td>\n",
       "      <td>-0.000882</td>\n",
       "      <td>0.000000</td>\n",
       "      <td>0.002856</td>\n",
       "      <td>-0.002519</td>\n",
       "      <td>987.803359</td>\n",
       "      <td>1005.847953</td>\n",
       "      <td>1001.041161</td>\n",
       "      <td>994.974874</td>\n",
       "      <td>0.000922</td>\n",
       "      <td>0.999412</td>\n",
       "    </tr>\n",
       "    <tr>\n",
       "      <th>3</th>\n",
       "      <td>2003-08-01</td>\n",
       "      <td>727.26</td>\n",
       "      <td>8.50</td>\n",
       "      <td>980.15</td>\n",
       "      <td>3.95</td>\n",
       "      <td>0.019257</td>\n",
       "      <td>-0.011628</td>\n",
       "      <td>-0.010259</td>\n",
       "      <td>-0.002525</td>\n",
       "      <td>1006.825135</td>\n",
       "      <td>994.152047</td>\n",
       "      <td>990.771066</td>\n",
       "      <td>992.462312</td>\n",
       "      <td>-0.003359</td>\n",
       "      <td>0.996055</td>\n",
       "    </tr>\n",
       "    <tr>\n",
       "      <th>6</th>\n",
       "      <td>2003-08-04</td>\n",
       "      <td>718.54</td>\n",
       "      <td>8.25</td>\n",
       "      <td>982.82</td>\n",
       "      <td>3.94</td>\n",
       "      <td>-0.011990</td>\n",
       "      <td>-0.029412</td>\n",
       "      <td>0.002724</td>\n",
       "      <td>-0.002532</td>\n",
       "      <td>994.753091</td>\n",
       "      <td>964.912281</td>\n",
       "      <td>993.469998</td>\n",
       "      <td>989.949749</td>\n",
       "      <td>-0.012202</td>\n",
       "      <td>0.983901</td>\n",
       "    </tr>\n",
       "    <tr>\n",
       "      <th>...</th>\n",
       "      <td>...</td>\n",
       "      <td>...</td>\n",
       "      <td>...</td>\n",
       "      <td>...</td>\n",
       "      <td>...</td>\n",
       "      <td>...</td>\n",
       "      <td>...</td>\n",
       "      <td>...</td>\n",
       "      <td>...</td>\n",
       "      <td>...</td>\n",
       "      <td>...</td>\n",
       "      <td>...</td>\n",
       "      <td>...</td>\n",
       "      <td>...</td>\n",
       "      <td>...</td>\n",
       "    </tr>\n",
       "    <tr>\n",
       "      <th>6670</th>\n",
       "      <td>2021-11-01</td>\n",
       "      <td>2978.94</td>\n",
       "      <td>209.90</td>\n",
       "      <td>4613.67</td>\n",
       "      <td>1.12</td>\n",
       "      <td>0.002781</td>\n",
       "      <td>0.000143</td>\n",
       "      <td>0.001800</td>\n",
       "      <td>0.000000</td>\n",
       "      <td>4124.070716</td>\n",
       "      <td>24549.707602</td>\n",
       "      <td>4663.664483</td>\n",
       "      <td>281.407035</td>\n",
       "      <td>0.001465</td>\n",
       "      <td>10.872104</td>\n",
       "    </tr>\n",
       "    <tr>\n",
       "      <th>6671</th>\n",
       "      <td>2021-11-02</td>\n",
       "      <td>3013.49</td>\n",
       "      <td>211.22</td>\n",
       "      <td>4630.65</td>\n",
       "      <td>1.12</td>\n",
       "      <td>0.011598</td>\n",
       "      <td>0.006289</td>\n",
       "      <td>0.003680</td>\n",
       "      <td>0.000000</td>\n",
       "      <td>4171.902039</td>\n",
       "      <td>24704.093567</td>\n",
       "      <td>4680.828481</td>\n",
       "      <td>281.407035</td>\n",
       "      <td>0.006573</td>\n",
       "      <td>10.943563</td>\n",
       "    </tr>\n",
       "    <tr>\n",
       "      <th>6672</th>\n",
       "      <td>2021-11-03</td>\n",
       "      <td>2975.71</td>\n",
       "      <td>209.48</td>\n",
       "      <td>4660.57</td>\n",
       "      <td>1.12</td>\n",
       "      <td>-0.012537</td>\n",
       "      <td>-0.008238</td>\n",
       "      <td>0.006461</td>\n",
       "      <td>0.000000</td>\n",
       "      <td>4119.599075</td>\n",
       "      <td>24500.584795</td>\n",
       "      <td>4711.072699</td>\n",
       "      <td>281.407035</td>\n",
       "      <td>-0.003433</td>\n",
       "      <td>10.905994</td>\n",
       "    </tr>\n",
       "    <tr>\n",
       "      <th>6673</th>\n",
       "      <td>2021-11-04</td>\n",
       "      <td>2983.22</td>\n",
       "      <td>212.27</td>\n",
       "      <td>4680.06</td>\n",
       "      <td>1.13</td>\n",
       "      <td>0.002524</td>\n",
       "      <td>0.013319</td>\n",
       "      <td>0.004182</td>\n",
       "      <td>0.008929</td>\n",
       "      <td>4129.995985</td>\n",
       "      <td>24826.900585</td>\n",
       "      <td>4730.773896</td>\n",
       "      <td>283.919598</td>\n",
       "      <td>0.006965</td>\n",
       "      <td>10.981957</td>\n",
       "    </tr>\n",
       "    <tr>\n",
       "      <th>6674</th>\n",
       "      <td>2021-11-05</td>\n",
       "      <td>2969.27</td>\n",
       "      <td>212.83</td>\n",
       "      <td>4697.53</td>\n",
       "      <td>1.13</td>\n",
       "      <td>-0.004676</td>\n",
       "      <td>0.002638</td>\n",
       "      <td>0.003733</td>\n",
       "      <td>0.000000</td>\n",
       "      <td>4110.683483</td>\n",
       "      <td>24892.397661</td>\n",
       "      <td>4748.433204</td>\n",
       "      <td>283.919598</td>\n",
       "      <td>0.001247</td>\n",
       "      <td>10.995656</td>\n",
       "    </tr>\n",
       "  </tbody>\n",
       "</table>\n",
       "<p>4375 rows × 15 columns</p>\n",
       "</div>"
      ],
      "text/plain": [
       "           Date    kospi  nasdaq    sp500    cd  kospi_change  nasdaq_change  \\\n",
       "0    2003-07-29   722.33    8.55   989.28  3.98           NaN            NaN   \n",
       "1    2003-07-30   714.15    8.60   987.49  3.97     -0.011324       0.005848   \n",
       "2    2003-07-31   713.52    8.60   990.31  3.96     -0.000882       0.000000   \n",
       "3    2003-08-01   727.26    8.50   980.15  3.95      0.019257      -0.011628   \n",
       "6    2003-08-04   718.54    8.25   982.82  3.94     -0.011990      -0.029412   \n",
       "...         ...      ...     ...      ...   ...           ...            ...   \n",
       "6670 2021-11-01  2978.94  209.90  4613.67  1.12      0.002781       0.000143   \n",
       "6671 2021-11-02  3013.49  211.22  4630.65  1.12      0.011598       0.006289   \n",
       "6672 2021-11-03  2975.71  209.48  4660.57  1.12     -0.012537      -0.008238   \n",
       "6673 2021-11-04  2983.22  212.27  4680.06  1.13      0.002524       0.013319   \n",
       "6674 2021-11-05  2969.27  212.83  4697.53  1.13     -0.004676       0.002638   \n",
       "\n",
       "      sp500_change  cd_change   kospi_base   nasdaq_base   sp500_base  \\\n",
       "0              NaN        NaN  1000.000000   1000.000000  1000.000000   \n",
       "1        -0.001809  -0.002513   988.675536   1005.847953   998.190603   \n",
       "2         0.002856  -0.002519   987.803359   1005.847953  1001.041161   \n",
       "3        -0.010259  -0.002525  1006.825135    994.152047   990.771066   \n",
       "6         0.002724  -0.002532   994.753091    964.912281   993.469998   \n",
       "...            ...        ...          ...           ...          ...   \n",
       "6670      0.001800   0.000000  4124.070716  24549.707602  4663.664483   \n",
       "6671      0.003680   0.000000  4171.902039  24704.093567  4680.828481   \n",
       "6672      0.006461   0.000000  4119.599075  24500.584795  4711.072699   \n",
       "6673      0.004182   0.008929  4129.995985  24826.900585  4730.773896   \n",
       "6674      0.003733   0.000000  4110.683483  24892.397661  4748.433204   \n",
       "\n",
       "          cd_base  benchmark_change  bench_cumprod  \n",
       "0     1000.000000          0.000000       1.000000  \n",
       "1      997.487437         -0.001508       0.998492  \n",
       "2      994.974874          0.000922       0.999412  \n",
       "3      992.462312         -0.003359       0.996055  \n",
       "6      989.949749         -0.012202       0.983901  \n",
       "...           ...               ...            ...  \n",
       "6670   281.407035          0.001465      10.872104  \n",
       "6671   281.407035          0.006573      10.943563  \n",
       "6672   281.407035         -0.003433      10.905994  \n",
       "6673   283.919598          0.006965      10.981957  \n",
       "6674   283.919598          0.001247      10.995656  \n",
       "\n",
       "[4375 rows x 15 columns]"
      ]
     },
     "execution_count": 156,
     "metadata": {},
     "output_type": "execute_result"
    }
   ],
   "source": [
    "kospi_weight  = .25\n",
    "nasdaq_weight = .35\n",
    "sp500_weight  = .40\n",
    "cd_weight     = .00\n",
    "\n",
    "for df in [kospi, nasdaq, sp500, cd]:\n",
    "    df['Date'] = pd.to_datetime(df['Date'])\n",
    "\n",
    "benchmark_portfolio = pd.DataFrame(\n",
    "    {'Date': pd.date_range(start='2003-07-29', end='2021-11-05')}\n",
    ")\n",
    "\n",
    "benchmark_portfolio = benchmark_portfolio.merge(kospi[['Date', 'Close']], how='left', on='Date')\n",
    "benchmark_portfolio = benchmark_portfolio.merge(nasdaq[['Date', 'Close']], how='left', on='Date')\n",
    "benchmark_portfolio = benchmark_portfolio.merge(sp500[['Date', 'Close']], how='left', on='Date')\n",
    "benchmark_portfolio = benchmark_portfolio.merge(cd[['Date', 'CD_interest']], how='left', on='Date')\n",
    "\n",
    "benchmark_portfolio.columns = ['Date', 'kospi', 'nasdaq', 'sp500', 'cd']\n",
    "benchmark_portfolio.dropna(axis=0, how='any', inplace=True)\n",
    "\n",
    "benchmark_portfolio['kospi_change']  = benchmark_portfolio['kospi'].pct_change()\n",
    "benchmark_portfolio['nasdaq_change'] = benchmark_portfolio['nasdaq'].pct_change()\n",
    "benchmark_portfolio['sp500_change']  = benchmark_portfolio['sp500'].pct_change()\n",
    "benchmark_portfolio['cd_change']     = benchmark_portfolio['cd'].pct_change()\n",
    "\n",
    "benchmark_portfolio['kospi_base']  = benchmark_portfolio['kospi'] / 722.33 * 1000\n",
    "benchmark_portfolio['nasdaq_base'] = benchmark_portfolio['nasdaq'] / 8.55 * 1000\n",
    "benchmark_portfolio['sp500_base']  = benchmark_portfolio['sp500'] / 989.28 * 1000\n",
    "benchmark_portfolio['cd_base']     = benchmark_portfolio['cd'] / 3.98 * 1000\n",
    "\n",
    "# (비중 * 변동률)의 합 = 전체 변동률\n",
    "benchmark_portfolio['benchmark_change'] = benchmark_portfolio['kospi_change'] * kospi_weight + benchmark_portfolio['nasdaq_change'] * nasdaq_weight + benchmark_portfolio['sp500_change'] * sp500_weight + benchmark_portfolio['cd_change'] * cd_weight\n",
    "benchmark_portfolio.loc[0, 'benchmark_change'] = 0\n",
    "\n",
    "benchmark_portfolio['bench_cumprod'] = (1 + benchmark_portfolio['benchmark_change']).cumprod()\n",
    "\n",
    "benchmark_portfolio"
   ]
  },
  {
   "cell_type": "code",
   "execution_count": null,
   "metadata": {},
   "outputs": [],
   "source": []
  },
  {
   "cell_type": "code",
   "execution_count": null,
   "metadata": {},
   "outputs": [],
   "source": []
  },
  {
   "cell_type": "code",
   "execution_count": null,
   "metadata": {},
   "outputs": [],
   "source": [
    "# 자산의 연도별 종가\n",
    "\n",
    "def getYearlyClose(df):\n",
    "    \n",
    "    result = pd.DataFrame(columns=['Date', 'Close', 'MA30', 'Mom30', 'STD30', 'target_STD30'])\n",
    "    for year in [str(i) for i in range(2008, 2018)]:\n",
    "        last_date = df[df['Date'] < year].tail(1)\n",
    "        result = pd.concat([result, last_date])\n",
    "    \n",
    "    result['pct_change'] = result['Close'].pct_change()\n",
    "    \n",
    "    return result"
   ]
  },
  {
   "cell_type": "code",
   "execution_count": null,
   "metadata": {},
   "outputs": [],
   "source": [
    "kospi_yearly_close  = getYearlyClose(kospi)\n",
    "nasdaq_yearly_close = getYearlyClose(nasdaq)\n",
    "sp500_yearly_close  = getYearlyClose(sp500)"
   ]
  },
  {
   "cell_type": "code",
   "execution_count": null,
   "metadata": {},
   "outputs": [],
   "source": [
    "kospi_weight  = .25\n",
    "nasdaq_weight = .40\n",
    "sp500_weight  = .35\n",
    "\n",
    "glide_path = pd.DataFrame(\n",
    "    {\n",
    "        'year': [str(year) for year in range(2008, 2018)], \n",
    "        'risk_weight': [1., 1., 1., .95, .88, .83, .75, .68, .61, .55], \n",
    "        'safe_weight': [0., 0., 0., .05, .12, .17, .25, .32, .39, .45], \n",
    "    }\n",
    ")\n",
    "\n",
    "glide_path['kospi_weigth']  = glide_path['risk_weight'] * kospi_weight\n",
    "glide_path['nasdaq_weigth'] = glide_path['risk_weight'] * nasdaq_weight\n",
    "glide_path['sp500_weigth']  = glide_path['risk_weight'] * sp500_weight"
   ]
  },
  {
   "cell_type": "code",
   "execution_count": null,
   "metadata": {},
   "outputs": [],
   "source": [
    "glide_path\n",
    "\n"
   ]
  },
  {
   "cell_type": "code",
   "execution_count": null,
   "metadata": {},
   "outputs": [],
   "source": [
    "gp = pd.DataFrame(\n",
    "    {\n",
    "        '연도': [str(i) for i in range(2008, 2018)], \n",
    "        '위험': [1., 1., 1., .95, .88, .83, .75, .68, .61, .55], \n",
    "        '비위험': [0, 0, 0, .05, .12, .17, .25, .32, .39, .45]\n",
    "    }\n",
    ")\n",
    "\n",
    "gp['kospi_weight']  = .25\n",
    "gp['nasdaq_weight'] = .40\n",
    "gp['sp500_weight']  = .35\n",
    "\n",
    "gp['kospi_asset'] = np.nan\n",
    "gp['nasdaq_asset'] = np.nan\n",
    "gp['sp500_asset'] = np.nan\n",
    "\n",
    "gp['kospi_last_asset'] = np.nan\n",
    "gp['nasdaq_last_asset'] = np.nan\n",
    "gp['sp500_last_asset'] = np.nan\n",
    "\n",
    "gp.loc[0, 'kospi_asset']  = 10000 * .25\n",
    "gp.loc[0, 'nasdaq_asset'] = 10000 * .40\n",
    "gp.loc[0, 'sp500_asset']  = 10000 * .35"
   ]
  },
  {
   "cell_type": "code",
   "execution_count": null,
   "metadata": {},
   "outputs": [],
   "source": [
    "gp"
   ]
  },
  {
   "cell_type": "code",
   "execution_count": null,
   "metadata": {},
   "outputs": [],
   "source": [
    "# 3, 6, 9, 12 : kospi weight 3/ asset 6/ last_asset 9/ pct 12\n",
    "for i in range(9):\n",
    "    \n",
    "    gp.loc[i + 1, 'kospi_last_asset'] = gp.loc[i, 'kospi_asset'] * (1 + gp.loc[i + 1, 'kospi_pct'])\n",
    "    gp.loc[i + 1, 'nasdaq_last_asset'] = gp.loc[i, 'nasdaq_asset'] * (1 + gp.loc[i + 1, 'nasdaq_pct'])\n",
    "    gp.loc[i + 1, 'sp500_last_asset'] = gp.loc[i, 'sp500_asset'] * (1 + gp.loc[i + 1, 'sp500_pct'])\n",
    "    \n",
    "    total = gp.loc[i + 1, 'kospi_last_asset'] + gp.loc[i + 1, 'nasdaq_last_asset'] + gp.loc[i + 1, 'sp500_last_asset'] \n",
    "    \n",
    "    gp.loc[i + 1, 'kospi_asset']  = total * gp.loc[i + 1, 'kospi_weight']\n",
    "    gp.loc[i + 1, 'nasdaq_asset'] = total * gp.loc[i + 1, 'nasdaq_weight']\n",
    "    gp.loc[i + 1, 'sp500_asset']  = total * gp.loc[i + 1, 'sp500_weight']"
   ]
  },
  {
   "cell_type": "code",
   "execution_count": null,
   "metadata": {},
   "outputs": [],
   "source": [
    "gp"
   ]
  },
  {
   "cell_type": "code",
   "execution_count": null,
   "metadata": {},
   "outputs": [],
   "source": [
    "kospi[kospi['Date'] < '2008'].tail(1)"
   ]
  },
  {
   "cell_type": "code",
   "execution_count": null,
   "metadata": {},
   "outputs": [],
   "source": [
    "cd.head(100)"
   ]
  },
  {
   "cell_type": "code",
   "execution_count": null,
   "metadata": {},
   "outputs": [],
   "source": [
    "window = 30\n",
    "\n",
    "result_kospi = []\n",
    "\n",
    "for index in range(kospi_temp.shape[0] - window - 1):\n",
    "    result_kospi.append(kospi_temp[index : index + window + 1])"
   ]
  },
  {
   "cell_type": "code",
   "execution_count": null,
   "metadata": {},
   "outputs": [],
   "source": [
    "window = 30\n",
    "\n",
    "result_sp500 = []\n",
    "\n",
    "for index in range(kospi_temp.shape[0] - window - 1):\n",
    "    result_sp500.append(kospi_temp[index : index + window + 1])"
   ]
  },
  {
   "cell_type": "code",
   "execution_count": null,
   "metadata": {},
   "outputs": [],
   "source": [
    "result_kospi[0].shape, result_sp500[0].shape, len(result_kospi)"
   ]
  },
  {
   "cell_type": "code",
   "execution_count": null,
   "metadata": {},
   "outputs": [],
   "source": [
    "normalize_kospi = []\n",
    "\n",
    "for window_kospi in result_kospi:\n",
    "    normalize_kospi.append([((float(p) / float(window_kospi[0])) - 1) for p in window_kospi])\n",
    "\n",
    "normalize_kospi = np.array(normalize_kospi)"
   ]
  },
  {
   "cell_type": "code",
   "execution_count": null,
   "metadata": {},
   "outputs": [],
   "source": [
    "normalize_kospi.shape, normalize_kospi[0].shape"
   ]
  },
  {
   "cell_type": "code",
   "execution_count": null,
   "metadata": {},
   "outputs": [],
   "source": [
    "normalize_sp500 = []\n",
    "\n",
    "for window_sp500 in result_sp500:\n",
    "    normalize_sp500.append([((float(p) / float(window_sp500[0])) - 1) for p in window_sp500])\n",
    "\n",
    "normalize_sp500 = np.array(normalize_sp500)"
   ]
  },
  {
   "cell_type": "code",
   "execution_count": null,
   "metadata": {},
   "outputs": [],
   "source": [
    "normalize_sp500.shape, normalize_sp500[0].shape"
   ]
  },
  {
   "cell_type": "code",
   "execution_count": null,
   "metadata": {},
   "outputs": [],
   "source": [
    "kospi_train = normalize_kospi[:552, :]\n",
    "np.random.shuffle(kospi_train)\n",
    "\n",
    "X_train = kospi_train[:, :-1]\n",
    "X_train.shape"
   ]
  },
  {
   "cell_type": "code",
   "execution_count": null,
   "metadata": {},
   "outputs": [],
   "source": [
    "X_train = np.reshape(X_train, (X_train.shape[0], X_train.shape[1], 1))\n",
    "X_train.shape"
   ]
  },
  {
   "cell_type": "code",
   "execution_count": null,
   "metadata": {},
   "outputs": [],
   "source": [
    "y_train = kospi_train[:, -1]"
   ]
  },
  {
   "cell_type": "code",
   "execution_count": null,
   "metadata": {},
   "outputs": [],
   "source": [
    "kospi_train = normalize_kospi[552:, :-1]\n",
    "\n",
    "X_test = kospi_train[:, :-1]\n",
    "X_test.shape"
   ]
  },
  {
   "cell_type": "code",
   "execution_count": null,
   "metadata": {},
   "outputs": [],
   "source": [
    "X_test = np.reshape(X_test, (X_test.shape[0], X_test.shape[1], 1))\n",
    "X_test.shape"
   ]
  },
  {
   "cell_type": "code",
   "execution_count": null,
   "metadata": {},
   "outputs": [],
   "source": [
    "y_test = normalize_kospi[552:, -1]\n",
    "y_test.shape"
   ]
  },
  {
   "cell_type": "code",
   "execution_count": null,
   "metadata": {},
   "outputs": [],
   "source": [
    "X_train.shape, X_test.shape"
   ]
  },
  {
   "cell_type": "code",
   "execution_count": null,
   "metadata": {},
   "outputs": [],
   "source": [
    "from keras.models import Sequential\n",
    "from keras.layers import *\n",
    "\n",
    "model = Sequential()\n",
    "\n",
    "model.add(LSTM(units=30, return_sequences=True, input_shape=(30, 1)))\n",
    "model.add(LSTM(units=15, return_sequences=False))\n",
    "model.add(Dense(units=1, activation='linear')) # relu보다 잘나오는데 이유 모름\n",
    "\n",
    "model.compile(loss='mse', optimizer='rmsprop') # adam이랑 비슷함\n",
    "model.summary()"
   ]
  },
  {
   "cell_type": "code",
   "execution_count": null,
   "metadata": {},
   "outputs": [],
   "source": [
    "history = model.fit(\n",
    "    X_train, y_train, \n",
    "    validation_data=(X_test, y_test), \n",
    "    batch_size=10, \n",
    "    epochs=50\n",
    ")"
   ]
  },
  {
   "cell_type": "code",
   "execution_count": null,
   "metadata": {},
   "outputs": [],
   "source": [
    "pred = model.predict(X_test)\n",
    "\n",
    "fig = plt.figure(facecolor='white', figsize=(20, 10))\n",
    "ax = fig.add_subplot(111)\n",
    "ax.plot(y_test, label='True')\n",
    "ax.plot(pred, label='Prediction')\n",
    "ax.legend()\n",
    "plt.show()"
   ]
  },
  {
   "cell_type": "code",
   "execution_count": null,
   "metadata": {},
   "outputs": [],
   "source": []
  },
  {
   "cell_type": "markdown",
   "metadata": {},
   "source": [
    "# 위험자산 포트폴리오 변동성"
   ]
  },
  {
   "cell_type": "code",
   "execution_count": null,
   "metadata": {},
   "outputs": [],
   "source": []
  },
  {
   "cell_type": "code",
   "execution_count": null,
   "metadata": {},
   "outputs": [],
   "source": []
  },
  {
   "cell_type": "code",
   "execution_count": null,
   "metadata": {},
   "outputs": [],
   "source": []
  }
 ],
 "metadata": {
  "interpreter": {
   "hash": "17164ff5f922defefa3fdd6afe0c064ec3948eda8922a4bbab17a59b9b0232dc"
  },
  "kernelspec": {
   "display_name": "Python 3.8.8 64-bit ('venv': venv)",
   "name": "python3"
  },
  "language_info": {
   "codemirror_mode": {
    "name": "ipython",
    "version": 3
   },
   "file_extension": ".py",
   "mimetype": "text/x-python",
   "name": "python",
   "nbconvert_exporter": "python",
   "pygments_lexer": "ipython3",
   "version": "3.8.8"
  },
  "orig_nbformat": 4
 },
 "nbformat": 4,
 "nbformat_minor": 2
}
