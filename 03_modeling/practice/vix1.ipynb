{
 "cells": [
  {
   "cell_type": "code",
   "execution_count": 8,
   "id": "1c9cedfd-9680-4c1b-bb96-86bace27b1e6",
   "metadata": {},
   "outputs": [
    {
     "name": "stdout",
     "output_type": "stream",
     "text": [
      "Populating the interactive namespace from numpy and matplotlib\n"
     ]
    },
    {
     "ename": "ModuleNotFoundError",
     "evalue": "No module named 'mysql'",
     "output_type": "error",
     "traceback": [
      "\u001b[1;31m---------------------------------------------------------------------------\u001b[0m",
      "\u001b[1;31mModuleNotFoundError\u001b[0m                       Traceback (most recent call last)",
      "\u001b[1;32m~\\AppData\\Local\\Temp/ipykernel_2344/305435784.py\u001b[0m in \u001b[0;36m<module>\u001b[1;34m\u001b[0m\n\u001b[0;32m     20\u001b[0m \u001b[1;32mimport\u001b[0m \u001b[0mseaborn\u001b[0m \u001b[1;32mas\u001b[0m \u001b[0msns\u001b[0m\u001b[1;33m\u001b[0m\u001b[1;33m\u001b[0m\u001b[0m\n\u001b[0;32m     21\u001b[0m \u001b[1;33m\u001b[0m\u001b[0m\n\u001b[1;32m---> 22\u001b[1;33m \u001b[1;32mimport\u001b[0m \u001b[0mmysql\u001b[0m\u001b[1;33m.\u001b[0m\u001b[0mconnector\u001b[0m\u001b[1;33m\u001b[0m\u001b[1;33m\u001b[0m\u001b[0m\n\u001b[0m",
      "\u001b[1;31mModuleNotFoundError\u001b[0m: No module named 'mysql'"
     ]
    }
   ],
   "source": [
    "%pylab inline\n",
    " \n",
    "import warnings\n",
    "warnings.filterwarnings(\"ignore\")\n",
    " \n",
    "import datetime, time\n",
    " \n",
    "import pytalib as ta\n",
    " \n",
    "import numpy as np\n",
    "import pandas as pd\n",
    "from pandas import DataFrame\n",
    "import pandas.io.sql as pdsql\n",
    " \n",
    "import matplotlib\n",
    "import matplotlib.pyplot as plt\n",
    "import matplotlib.ticker as ticker\n",
    "from matplotlib import dates\n",
    "import matplotlib.font_manager as font_manager\n",
    "import seaborn as sns\n",
    " \n",
    "import mysql.connector"
   ]
  },
  {
   "cell_type": "code",
   "execution_count": null,
   "id": "080ecaae-53d3-44e3-a5fc-29399dd0d608",
   "metadata": {},
   "outputs": [],
   "source": [
    "#맑은고딕체\n",
    "sns.set(style=\"whitegrid\", font=\"Malgun Gothic\", font_scale=1.5)\n",
    "fp = font_manager.FontProperties(fname=\"C:\\\\WINDOWS\\\\Fonts\\\\malgun.TTF\", size=15)\n",
    " \n",
    "def comma_volume(x, pos=None):\n",
    "    s = '{:0,d}K'.format(int(x/1000))\n",
    "    return s\n",
    " \n",
    "def comma_price(x, pos=None):\n",
    "    try:\n",
    "        s = '{:0,d}'.format(int(x))\n",
    "    except Exception as e:\n",
    "        s = 'NaN'\n",
    "    return s\n",
    " \n",
    "def comma_percent(x, pos=None):\n",
    "    s = '{:+.2f}'.format(x)\n",
    "    return s\n",
    " "
   ]
  },
  {
   "cell_type": "code",
   "execution_count": null,
   "id": "cab19ff4-5097-4b20-9ff2-567aabf905a2",
   "metadata": {},
   "outputs": [],
   "source": [
    "\n",
    "major_date_formatter = dates.DateFormatter('%Y-%m-%d')\n",
    "minor_date_formatter = dates.DateFormatter('%m')\n",
    "price_formatter = ticker.FuncFormatter(comma_price)\n",
    "volume_formatter = ticker.FuncFormatter(comma_volume)\n",
    "percent_formatter = ticker.FuncFormatter(comma_percent)\n",
    " \n",
    "MySQL_POOL_SIZE = 2\n",
    " \n",
    "데이타베이스_설정값 = {\n",
    "    'host': '127.0.0.1', \n",
    "    'database': 'mymoneybot', \n",
    "    'user': 'mymoneybot', \n",
    "    'password': 'mymoneybot', \n",
    "    'raise_on_warnings': True,\n",
    "}\n",
    " \n",
    "class NumpyMySQLConverter(mysql.connector.conversion.MySQLConverter):\n",
    "    \"\"\" A mysql.connector Converter that handles Numpy types \"\"\"\n",
    " \n",
    "    def _float32_to_mysql(self, value):\n",
    "        return float(value)\n",
    " \n",
    "    def _float64_to_mysql(self, value):\n",
    "        return float(value)\n",
    " \n",
    "    def _int32_to_mysql(self, value):\n",
    "        return int(value)\n",
    " \n",
    "    def _int64_to_mysql(self, value):\n",
    "        return int(value)\n",
    " \n",
    "    def _timestamp_to_mysql(self, value):\n",
    "        return value.to_datetime()\n",
    " \n",
    "def mysqlconn():    \n",
    "    conn = mysql.connector.connect(pool_name=\"stockpool\", pool_size=MySQL_POOL_SIZE, **데이타베이스_설정값)\n",
    "    conn.set_converter_class(NumpyMySQLConverter)\n",
    "    return conn\n",
    " "
   ]
  },
  {
   "cell_type": "code",
   "execution_count": 3,
   "id": "783de073-53b9-45a7-81ee-142fcd5e385e",
   "metadata": {},
   "outputs": [],
   "source": [
    "\n",
    "# 데이타를 기간에 맞게 잘라내는 함수\n",
    "def 기간(dataframe, 시작기간=None, 종료기간=None):\n",
    "    df = dataframe.copy()\n",
    " \n",
    "    if (시작기간 is None) and (종료기간 is None):\n",
    "        pass\n",
    "    elif (시작기간 is None) and not(종료기간 is None):\n",
    "        df = df[:종료기간]\n",
    "    elif not(시작기간 is None) and (종료기간 is None):\n",
    "        df = df[시작기간:]\n",
    "    elif not(시작기간 is None) and not(종료기간 is None):\n",
    "        df = df[시작기간:종료기간]\n",
    " \n",
    "    return df\n",
    " "
   ]
  },
  {
   "cell_type": "code",
   "execution_count": 4,
   "id": "09c045e7-1e36-4b1e-8a88-12d4977d5ef9",
   "metadata": {},
   "outputs": [],
   "source": [
    " \n",
    "def get_price(code, 시작일자=None, 종료일자=None):\n",
    "    \"\"\"지정한 종목의 가격/거래량 정보를 읽어 가공한다\"\"\"\n",
    "    \n",
    "    if 시작일자 == None and 종료일자 == None:\n",
    "        query = \"\"\"\n",
    "        SELECT 일자, 시가, 고가, 저가, 종가, 거래량\n",
    "        FROM 일별주가\n",
    "        WHERE 종목코드='%s'\n",
    "        ORDER BY 일자 ASC\n",
    "        \"\"\" % (code)\n",
    "    if 시작일자 != None and 종료일자 == None:\n",
    "        query = \"\"\"\n",
    "        SELECT 일자, 시가, 고가, 저가, 종가, 거래량\n",
    "        FROM 일별주가\n",
    "        WHERE 종목코드='%s' AND 일자 >= '%s'\n",
    "        ORDER BY 일자 ASC\n",
    "        \"\"\" % (code, 시작일자)\n",
    "    if 시작일자 == None and 종료일자 != None:\n",
    "        query = \"\"\"\n",
    "        SELECT 일자, 시가, 고가, 저가, 종가, 거래량\n",
    "        FROM 일별주가\n",
    "        WHERE 종목코드='%s' AND 일자 <= '%s'\n",
    "        ORDER BY 일자 ASC\n",
    "        \"\"\" % (code, 종료일자)\n",
    "    if 시작일자 != None and 종료일자 != None:\n",
    "        query = \"\"\"\n",
    "        SELECT 일자, 시가, 고가, 저가, 종가, 거래량\n",
    "        FROM 일별주가\n",
    "        WHERE 종목코드='%s' AND 일자 BETWEEN '%s' AND '%s'\n",
    "        ORDER BY 일자 ASC\n",
    "        \"\"\" % (code, 시작일자, 종료일자)\n",
    " \n",
    "    conn = mysqlconn()\n",
    "    df = pdsql.read_sql_query(query, con=conn)\n",
    "    conn.close()\n",
    "    \n",
    "    df.fillna(0, inplace=True)\n",
    "    df.set_index('일자', inplace=True)\n",
    "    "
   ]
  },
  {
   "cell_type": "code",
   "execution_count": 5,
   "id": "a770131e-a331-4799-8cf6-c2e7e33ae80f",
   "metadata": {},
   "outputs": [
    {
     "ename": "IndentationError",
     "evalue": "unexpected indent (Temp/ipykernel_2344/1741953321.py, line 4)",
     "output_type": "error",
     "traceback": [
      "\u001b[1;36m  File \u001b[1;32m\"C:\\Users\\goodb\\AppData\\Local\\Temp/ipykernel_2344/1741953321.py\"\u001b[1;36m, line \u001b[1;32m4\u001b[0m\n\u001b[1;33m    df['등락률'] = np.log(df['종가'] / df['종가'].shift(1)) # 어제 종가로 오늘종가를 나눈 것 얼마나 변동이 있었는지 알기 위해(오차가 심해져서 로그를 씌워서코드)\u001b[0m\n\u001b[1;37m    ^\u001b[0m\n\u001b[1;31mIndentationError\u001b[0m\u001b[1;31m:\u001b[0m unexpected indent\n"
     ]
    }
   ],
   "source": [
    "   #\n",
    "    # \n",
    "    \n",
    "    df['등락률'] = np.log(df['종가'] / df['종가'].shift(1)) # 어제 종가로 오늘종가를 나눈 것 얼마나 변동이 있었는지 알기 위해(오차가 심해져서 로그를 씌워서코드)\n",
    "    df['변동성'] = np.sqrt(df['등락률'].rolling(window=30).std()) * 100\n",
    " #등락률을 가지고 30일간의 표준편차에 루트를 씌운 것 (30일간의 변동성에 대한 것)\n",
    "    ###\n",
    "    \n",
    "    df.dropna(inplace=True)\n",
    "    return df\n",
    " \n",
    "시작일자='2015-01-01'\n",
    "종료일자='2017-12-31'\n",
    " \n",
    "df = get_price(code='069500', 시작일자=시작일자, 종료일자=종료일자) #code='069500' ==코덱스200(ETF)의 지수\n",
    "#단일종목에 한해 빅스지수를 만든 것  /  \n",
    " \n",
    "df['이동평균'] = df['종가'].rolling(window=30).mean()\n",
    "df['변동성이동평균'] = df['변동성'].rolling(window=30).mean()\n",
    "df['변동차'] = df['변동성'] - df['변동성이동평균']\n",
    " \n",
    "df['mean'] = df['변동차'].rolling(window=15).mean()\n",
    "df['std'] = df['변동차'].rolling(window=15).std()\n",
    "df['signal'] = (df['변동차'] - df['mean']) / df['std']\n",
    " \n",
    "df.dropna(inplace=True)\n",
    " \n",
    "fig, axes = plt.subplots(3, 1, figsize=(20,15), sharex=True)\n",
    "ax = df[['종가','이동평균']].plot(ax=axes[0], color=\"black\")\n",
    "ax.xaxis.set_major_formatter(major_date_formatter)\n",
    "ax.yaxis.set_major_formatter(price_formatter)\n",
    "ax.set_xlabel('', fontproperties=fp)\n",
    " \n",
    "ax = df[['변동성','변동성이동평균']].plot(ax=axes[1])\n",
    "ax.xaxis.set_major_formatter(major_date_formatter)"
   ]
  },
  {
   "cell_type": "code",
   "execution_count": null,
   "id": "8142f8a1-3085-41be-9da3-f554bda730a1",
   "metadata": {},
   "outputs": [],
   "source": [
    "# ax.yaxis.set_major_formatter(price_formatter)\n",
    "ax.set_xlabel('', fontproperties=fp)\n",
    " \n",
    "ax = df['signal'].plot(ax=axes[2])\n",
    "ax.xaxis.set_major_formatter(major_date_formatter)\n",
    "ax.yaxis.set_major_formatter(price_formatter)\n",
    "ax.axhline(2, linestyle='--', color='red')\n",
    "ax.axhline(-2, linestyle='--', color='blue')\n",
    "ax.set_xlabel('', fontproperties=fp)\n",
    "plt.show()\n"
   ]
  },
  {
   "cell_type": "code",
   "execution_count": null,
   "id": "1ad06041-3b39-4339-82e4-beea65e7cf90",
   "metadata": {},
   "outputs": [],
   "source": [
    "#그래프는 \n",
    "#첫번째 - 코덱스200의 지수와 이동평균\n",
    "#두번째 - 변동성과 변동성을 이동평균을 낸 것의 그래프 (돌파할때의 신호를 삼기 위해) - 변동성이 떨어지면 주가는 상승하는 형태를 보임\n",
    "#세번째 - 평균값에서 얼마나 벌어졌는지 알고싶은것(정규화) - 0을 기준으로 얼마나 벌어졌는지 - 변동성 여부 확인하는 지수"
   ]
  },
  {
   "cell_type": "code",
   "execution_count": null,
   "id": "55621041-1921-48d0-8df9-939ada5fae2b",
   "metadata": {},
   "outputs": [],
   "source": []
  },
  {
   "cell_type": "code",
   "execution_count": null,
   "id": "fa9cb038-4b36-4406-a78c-096880950130",
   "metadata": {},
   "outputs": [],
   "source": []
  },
  {
   "cell_type": "code",
   "execution_count": null,
   "id": "b026cebb-f324-441a-847d-e35b9e9f622e",
   "metadata": {},
   "outputs": [],
   "source": []
  },
  {
   "cell_type": "code",
   "execution_count": null,
   "id": "b2c0f075-27bb-4644-83b0-a0c458520e0e",
   "metadata": {},
   "outputs": [],
   "source": []
  }
 ],
 "metadata": {
  "kernelspec": {
   "display_name": "Python 3 (ipykernel)",
   "language": "python",
   "name": "python3"
  },
  "language_info": {
   "codemirror_mode": {
    "name": "ipython",
    "version": 3
   },
   "file_extension": ".py",
   "mimetype": "text/x-python",
   "name": "python",
   "nbconvert_exporter": "python",
   "pygments_lexer": "ipython3",
   "version": "3.8.8"
  }
 },
 "nbformat": 4,
 "nbformat_minor": 5
}
