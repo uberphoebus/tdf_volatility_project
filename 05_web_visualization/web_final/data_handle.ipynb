{
 "cells": [
  {
   "cell_type": "code",
   "execution_count": 1,
   "metadata": {},
   "outputs": [],
   "source": [
    "import pandas as pd"
   ]
  },
  {
   "cell_type": "code",
   "execution_count": 2,
   "metadata": {},
   "outputs": [
    {
     "data": {
      "text/html": [
       "<div>\n",
       "<style scoped>\n",
       "    .dataframe tbody tr th:only-of-type {\n",
       "        vertical-align: middle;\n",
       "    }\n",
       "\n",
       "    .dataframe tbody tr th {\n",
       "        vertical-align: top;\n",
       "    }\n",
       "\n",
       "    .dataframe thead th {\n",
       "        text-align: right;\n",
       "    }\n",
       "</style>\n",
       "<table border=\"1\" class=\"dataframe\">\n",
       "  <thead>\n",
       "    <tr style=\"text-align: right;\">\n",
       "      <th></th>\n",
       "      <th>Unnamed: 0</th>\n",
       "      <th>ind</th>\n",
       "      <th>bench_att</th>\n",
       "      <th>rb_att</th>\n",
       "      <th>bench_neu</th>\n",
       "      <th>rb_neu</th>\n",
       "      <th>bench_def</th>\n",
       "      <th>rb_def</th>\n",
       "    </tr>\n",
       "  </thead>\n",
       "  <tbody>\n",
       "    <tr>\n",
       "      <th>0</th>\n",
       "      <td>0</td>\n",
       "      <td>Total Return</td>\n",
       "      <td>2.282253</td>\n",
       "      <td>3.583897</td>\n",
       "      <td>1.768583</td>\n",
       "      <td>2.622435</td>\n",
       "      <td>1.438970</td>\n",
       "      <td>1.882824</td>\n",
       "    </tr>\n",
       "    <tr>\n",
       "      <th>1</th>\n",
       "      <td>1</td>\n",
       "      <td>CAGR</td>\n",
       "      <td>0.126186</td>\n",
       "      <td>0.166000</td>\n",
       "      <td>0.107184</td>\n",
       "      <td>0.138640</td>\n",
       "      <td>0.093240</td>\n",
       "      <td>0.112710</td>\n",
       "    </tr>\n",
       "    <tr>\n",
       "      <th>2</th>\n",
       "      <td>2</td>\n",
       "      <td>MDD</td>\n",
       "      <td>-0.235533</td>\n",
       "      <td>-0.118761</td>\n",
       "      <td>-0.209965</td>\n",
       "      <td>-0.095561</td>\n",
       "      <td>-0.163010</td>\n",
       "      <td>-0.129521</td>\n",
       "    </tr>\n",
       "    <tr>\n",
       "      <th>3</th>\n",
       "      <td>3</td>\n",
       "      <td>CALMR</td>\n",
       "      <td>0.535747</td>\n",
       "      <td>1.397766</td>\n",
       "      <td>0.510483</td>\n",
       "      <td>1.450802</td>\n",
       "      <td>0.571988</td>\n",
       "      <td>0.870204</td>\n",
       "    </tr>\n",
       "    <tr>\n",
       "      <th>4</th>\n",
       "      <td>4</td>\n",
       "      <td>Yearly Sharpe</td>\n",
       "      <td>1.124312</td>\n",
       "      <td>1.451537</td>\n",
       "      <td>1.169586</td>\n",
       "      <td>1.763555</td>\n",
       "      <td>1.213735</td>\n",
       "      <td>1.688490</td>\n",
       "    </tr>\n",
       "    <tr>\n",
       "      <th>5</th>\n",
       "      <td>5</td>\n",
       "      <td>Yearly Mean</td>\n",
       "      <td>0.124057</td>\n",
       "      <td>0.161685</td>\n",
       "      <td>0.104789</td>\n",
       "      <td>0.133744</td>\n",
       "      <td>0.090151</td>\n",
       "      <td>0.108994</td>\n",
       "    </tr>\n",
       "    <tr>\n",
       "      <th>6</th>\n",
       "      <td>6</td>\n",
       "      <td>Yearly Vol</td>\n",
       "      <td>0.110340</td>\n",
       "      <td>0.111389</td>\n",
       "      <td>0.089595</td>\n",
       "      <td>0.075838</td>\n",
       "      <td>0.074276</td>\n",
       "      <td>0.064551</td>\n",
       "    </tr>\n",
       "  </tbody>\n",
       "</table>\n",
       "</div>"
      ],
      "text/plain": [
       "   Unnamed: 0            ind  bench_att    rb_att  bench_neu    rb_neu  \\\n",
       "0           0   Total Return   2.282253  3.583897   1.768583  2.622435   \n",
       "1           1           CAGR   0.126186  0.166000   0.107184  0.138640   \n",
       "2           2            MDD  -0.235533 -0.118761  -0.209965 -0.095561   \n",
       "3           3          CALMR   0.535747  1.397766   0.510483  1.450802   \n",
       "4           4  Yearly Sharpe   1.124312  1.451537   1.169586  1.763555   \n",
       "5           5    Yearly Mean   0.124057  0.161685   0.104789  0.133744   \n",
       "6           6     Yearly Vol   0.110340  0.111389   0.089595  0.075838   \n",
       "\n",
       "   bench_def    rb_def  \n",
       "0   1.438970  1.882824  \n",
       "1   0.093240  0.112710  \n",
       "2  -0.163010 -0.129521  \n",
       "3   0.571988  0.870204  \n",
       "4   1.213735  1.688490  \n",
       "5   0.090151  0.108994  \n",
       "6   0.074276  0.064551  "
      ]
     },
     "execution_count": 2,
     "metadata": {},
     "output_type": "execute_result"
    }
   ],
   "source": [
    "df = pd.read_csv('./static/br_img/result.csv')\n",
    "df"
   ]
  },
  {
   "cell_type": "code",
   "execution_count": 3,
   "metadata": {},
   "outputs": [
    {
     "data": {
      "text/plain": [
       "array([['Total Return', 2.28225314146328, 3.5838972049388493],\n",
       "       ['CAGR', 0.1261860467970328, 0.1660004338640346],\n",
       "       ['MDD', -0.2355329143178778, -0.1187612700175495],\n",
       "       ['CALMR', 0.5357469768608677, 1.397765734902502],\n",
       "       ['Yearly Sharpe', 1.1243117905855935, 1.4515369996242096],\n",
       "       ['Yearly Mean', 0.1240568800906651, 0.1616853553784075],\n",
       "       ['Yearly Vol', 0.110340282054723, 0.1113890692557382]],\n",
       "      dtype=object)"
      ]
     },
     "execution_count": 3,
     "metadata": {},
     "output_type": "execute_result"
    }
   ],
   "source": [
    "df.iloc[:, [1, 2, 3]].values"
   ]
  },
  {
   "cell_type": "code",
   "execution_count": 4,
   "metadata": {},
   "outputs": [
    {
     "data": {
      "text/plain": [
       "array(['Total Return', 2.28225314146328, 3.5838972049388493], dtype=object)"
      ]
     },
     "execution_count": 4,
     "metadata": {},
     "output_type": "execute_result"
    }
   ],
   "source": [
    "df.iloc[:, [1, 2, 3]].values[0]"
   ]
  },
  {
   "cell_type": "code",
   "execution_count": 5,
   "metadata": {},
   "outputs": [
    {
     "name": "stdout",
     "output_type": "stream",
     "text": [
      "['Total Return' 2.28225314146328 3.5838972049388493]\n",
      "['CAGR' 0.1261860467970328 0.1660004338640346]\n",
      "['MDD' -0.2355329143178778 -0.1187612700175495]\n",
      "['CALMR' 0.5357469768608677 1.397765734902502]\n",
      "['Yearly Sharpe' 1.1243117905855935 1.4515369996242096]\n",
      "['Yearly Mean' 0.1240568800906651 0.1616853553784075]\n",
      "['Yearly Vol' 0.110340282054723 0.1113890692557382]\n"
     ]
    }
   ],
   "source": [
    "for i in df.iloc[:, [1, 2, 3]].values:\n",
    "    print(i)"
   ]
  },
  {
   "cell_type": "code",
   "execution_count": 6,
   "metadata": {},
   "outputs": [
    {
     "data": {
      "text/plain": [
       "Unnamed: 0               0\n",
       "ind           Total Return\n",
       "bench_att         2.282253\n",
       "rb_att            3.583897\n",
       "bench_neu         1.768583\n",
       "rb_neu            2.622435\n",
       "bench_def          1.43897\n",
       "rb_def            1.882824\n",
       "Name: 0, dtype: object"
      ]
     },
     "execution_count": 6,
     "metadata": {},
     "output_type": "execute_result"
    }
   ],
   "source": [
    "df.loc[0]"
   ]
  },
  {
   "cell_type": "code",
   "execution_count": null,
   "metadata": {},
   "outputs": [],
   "source": []
  },
  {
   "cell_type": "code",
   "execution_count": null,
   "metadata": {},
   "outputs": [],
   "source": []
  }
 ],
 "metadata": {
  "interpreter": {
   "hash": "c3102799280f1ed23787b1be8e33b065cea14d14e60df4daed798ef8bab0b32c"
  },
  "kernelspec": {
   "display_name": "Python 3.8.8 64-bit ('venv': venv)",
   "language": "python",
   "name": "python3"
  },
  "language_info": {
   "codemirror_mode": {
    "name": "ipython",
    "version": 3
   },
   "file_extension": ".py",
   "mimetype": "text/x-python",
   "name": "python",
   "nbconvert_exporter": "python",
   "pygments_lexer": "ipython3",
   "version": "3.8.8"
  },
  "orig_nbformat": 4
 },
 "nbformat": 4,
 "nbformat_minor": 2
}
