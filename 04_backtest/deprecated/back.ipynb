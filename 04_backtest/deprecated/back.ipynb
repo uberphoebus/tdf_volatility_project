{
 "cells": [
  {
   "cell_type": "code",
   "execution_count": 6,
   "id": "7fad180f-ca8f-4c9c-b4b8-ed9efc50087f",
   "metadata": {},
   "outputs": [],
   "source": [
    "import bt\n",
    "import pandas as pd"
   ]
  },
  {
   "cell_type": "code",
   "execution_count": null,
   "id": "3749cf17-950f-4fc9-bfc3-90d8467a6a4c",
   "metadata": {},
   "outputs": [],
   "source": [
    "# KOSPI(^KS11), NASDAQ(^IXIC), S&P 500(^GSPC)\n",
    "# 일본 nikkei(^N225), 중국 CSI300(000300.SS), 홍콩항셍(^HSI)\n",
    "# 독일(^GDAXI), 프랑스(^FCHI)"
   ]
  },
  {
   "cell_type": "code",
   "execution_count": null,
   "id": "5a966d20-90a0-41bf-b6ab-72f0be597a33",
   "metadata": {},
   "outputs": [],
   "source": []
  },
  {
   "cell_type": "code",
   "execution_count": null,
   "id": "c5f0222d-9140-4b43-8538-73db9af1fb59",
   "metadata": {},
   "outputs": [],
   "source": [
    "# 나스닥 vs QQQ"
   ]
  },
  {
   "cell_type": "code",
   "execution_count": 8,
   "id": "0e5b4545-9d7a-476d-916b-641ac8a227f9",
   "metadata": {},
   "outputs": [],
   "source": [
    "qqq = bt.get(\"QQQ\" , start='2003-01-01', end=\"2021-11-14\")"
   ]
  },
  {
   "cell_type": "code",
   "execution_count": 9,
   "id": "6f3139a2-b47c-4d95-adf7-f8bb04af62ac",
   "metadata": {},
   "outputs": [],
   "source": [
    "n = bt.get(\"^IXIC\" , start='2003-01-01', end=\"2021-11-14\")"
   ]
  },
  {
   "cell_type": "code",
   "execution_count": 10,
   "id": "6fb125ac-fd59-4458-9425-1da28cebf052",
   "metadata": {},
   "outputs": [
    {
     "data": {
      "text/html": [
       "<div>\n",
       "<style scoped>\n",
       "    .dataframe tbody tr th:only-of-type {\n",
       "        vertical-align: middle;\n",
       "    }\n",
       "\n",
       "    .dataframe tbody tr th {\n",
       "        vertical-align: top;\n",
       "    }\n",
       "\n",
       "    .dataframe thead th {\n",
       "        text-align: right;\n",
       "    }\n",
       "</style>\n",
       "<table border=\"1\" class=\"dataframe\">\n",
       "  <thead>\n",
       "    <tr style=\"text-align: right;\">\n",
       "      <th></th>\n",
       "      <th>qqq</th>\n",
       "      <th>ixic</th>\n",
       "    </tr>\n",
       "  </thead>\n",
       "  <tbody>\n",
       "    <tr>\n",
       "      <th>qqq</th>\n",
       "      <td>1.000000</td>\n",
       "      <td>0.998864</td>\n",
       "    </tr>\n",
       "    <tr>\n",
       "      <th>ixic</th>\n",
       "      <td>0.998864</td>\n",
       "      <td>1.000000</td>\n",
       "    </tr>\n",
       "  </tbody>\n",
       "</table>\n",
       "</div>"
      ],
      "text/plain": [
       "           qqq      ixic\n",
       "qqq   1.000000  0.998864\n",
       "ixic  0.998864  1.000000"
      ]
     },
     "execution_count": 10,
     "metadata": {},
     "output_type": "execute_result"
    }
   ],
   "source": [
    "pd.concat([qqq,n], axis=1).corr()"
   ]
  },
  {
   "cell_type": "code",
   "execution_count": null,
   "id": "1b4970e3-b27a-4b9f-a40c-39baefe8d99d",
   "metadata": {},
   "outputs": [],
   "source": [
    "# 0.998864"
   ]
  },
  {
   "cell_type": "code",
   "execution_count": null,
   "id": "fce1f613-1e98-4f98-9631-a3d778619121",
   "metadata": {},
   "outputs": [],
   "source": []
  },
  {
   "cell_type": "code",
   "execution_count": null,
   "id": "8d4f2356-cf13-466e-afb6-d9155d9a0d72",
   "metadata": {},
   "outputs": [],
   "source": [
    "# 코스피 vs EWY"
   ]
  },
  {
   "cell_type": "code",
   "execution_count": 11,
   "id": "b00f504b-7fb3-4226-8229-9215d8f17368",
   "metadata": {},
   "outputs": [],
   "source": [
    "ewy = bt.get(\"EWY\" , start='2003-01-01', end=\"2021-11-14\")"
   ]
  },
  {
   "cell_type": "code",
   "execution_count": 12,
   "id": "dc3f349c-57de-4e70-9572-7520da01aa79",
   "metadata": {},
   "outputs": [],
   "source": [
    "k = bt.get(\"^KS11\" , start='2003-01-01', end=\"2021-11-14\")"
   ]
  },
  {
   "cell_type": "code",
   "execution_count": 13,
   "id": "28aabc2d-623c-4bf0-afbf-f1f644b4e184",
   "metadata": {},
   "outputs": [
    {
     "data": {
      "text/html": [
       "<div>\n",
       "<style scoped>\n",
       "    .dataframe tbody tr th:only-of-type {\n",
       "        vertical-align: middle;\n",
       "    }\n",
       "\n",
       "    .dataframe tbody tr th {\n",
       "        vertical-align: top;\n",
       "    }\n",
       "\n",
       "    .dataframe thead th {\n",
       "        text-align: right;\n",
       "    }\n",
       "</style>\n",
       "<table border=\"1\" class=\"dataframe\">\n",
       "  <thead>\n",
       "    <tr style=\"text-align: right;\">\n",
       "      <th></th>\n",
       "      <th>ewy</th>\n",
       "      <th>ks11</th>\n",
       "    </tr>\n",
       "  </thead>\n",
       "  <tbody>\n",
       "    <tr>\n",
       "      <th>ewy</th>\n",
       "      <td>1.000000</td>\n",
       "      <td>0.980149</td>\n",
       "    </tr>\n",
       "    <tr>\n",
       "      <th>ks11</th>\n",
       "      <td>0.980149</td>\n",
       "      <td>1.000000</td>\n",
       "    </tr>\n",
       "  </tbody>\n",
       "</table>\n",
       "</div>"
      ],
      "text/plain": [
       "           ewy      ks11\n",
       "ewy   1.000000  0.980149\n",
       "ks11  0.980149  1.000000"
      ]
     },
     "execution_count": 13,
     "metadata": {},
     "output_type": "execute_result"
    }
   ],
   "source": [
    "pd.concat([ewy,k], axis=1).corr()\n",
    "# 0.980149"
   ]
  },
  {
   "cell_type": "code",
   "execution_count": null,
   "id": "81e9f9d3-fbab-4802-b8df-f4b9d9cb5f94",
   "metadata": {},
   "outputs": [],
   "source": []
  },
  {
   "cell_type": "code",
   "execution_count": null,
   "id": "019da9a9-7c8a-4dd8-9a69-8a4f57baa78b",
   "metadata": {},
   "outputs": [],
   "source": [
    "# 코스피 vs FLKR"
   ]
  },
  {
   "cell_type": "code",
   "execution_count": 14,
   "id": "469e13e0-2182-42ef-989c-faae09029de0",
   "metadata": {},
   "outputs": [],
   "source": [
    "FLKR = bt.get(\"FLKR\" , start='2003-01-01', end=\"2021-11-14\")"
   ]
  },
  {
   "cell_type": "code",
   "execution_count": 15,
   "id": "cb772519-212d-47a4-9a0c-5bfa234d4555",
   "metadata": {},
   "outputs": [
    {
     "data": {
      "text/html": [
       "<div>\n",
       "<style scoped>\n",
       "    .dataframe tbody tr th:only-of-type {\n",
       "        vertical-align: middle;\n",
       "    }\n",
       "\n",
       "    .dataframe tbody tr th {\n",
       "        vertical-align: top;\n",
       "    }\n",
       "\n",
       "    .dataframe thead th {\n",
       "        text-align: right;\n",
       "    }\n",
       "</style>\n",
       "<table border=\"1\" class=\"dataframe\">\n",
       "  <thead>\n",
       "    <tr style=\"text-align: right;\">\n",
       "      <th></th>\n",
       "      <th>flkr</th>\n",
       "      <th>ks11</th>\n",
       "    </tr>\n",
       "  </thead>\n",
       "  <tbody>\n",
       "    <tr>\n",
       "      <th>flkr</th>\n",
       "      <td>1.000000</td>\n",
       "      <td>0.988673</td>\n",
       "    </tr>\n",
       "    <tr>\n",
       "      <th>ks11</th>\n",
       "      <td>0.988673</td>\n",
       "      <td>1.000000</td>\n",
       "    </tr>\n",
       "  </tbody>\n",
       "</table>\n",
       "</div>"
      ],
      "text/plain": [
       "          flkr      ks11\n",
       "flkr  1.000000  0.988673\n",
       "ks11  0.988673  1.000000"
      ]
     },
     "execution_count": 15,
     "metadata": {},
     "output_type": "execute_result"
    }
   ],
   "source": [
    "pd.concat([FLKR,k], axis=1).corr()\n",
    "# 0.988673"
   ]
  },
  {
   "cell_type": "code",
   "execution_count": null,
   "id": "b3f4b598-cb69-4c1c-a0ec-4081cf6f5b08",
   "metadata": {},
   "outputs": [],
   "source": []
  },
  {
   "cell_type": "code",
   "execution_count": null,
   "id": "92de8b39-d9fb-4df2-8d08-6b78a1f9d718",
   "metadata": {},
   "outputs": [],
   "source": [
    "# S&P500 vs SPY"
   ]
  },
  {
   "cell_type": "code",
   "execution_count": 19,
   "id": "005fb864-ea09-4159-8333-c1f49d94e0b6",
   "metadata": {},
   "outputs": [],
   "source": [
    "SP500 = bt.get(\"^GSPC\" , start='2003-01-01', end=\"2021-11-14\")"
   ]
  },
  {
   "cell_type": "code",
   "execution_count": 20,
   "id": "98655721-baa0-4e1a-bab3-5c9817447191",
   "metadata": {},
   "outputs": [],
   "source": [
    "SPY = bt.get(\"SPY\" , start='2003-01-01', end=\"2021-11-14\")"
   ]
  },
  {
   "cell_type": "code",
   "execution_count": 21,
   "id": "b4a475c2-9333-44bb-88b3-f0439bdd6477",
   "metadata": {},
   "outputs": [
    {
     "data": {
      "text/html": [
       "<div>\n",
       "<style scoped>\n",
       "    .dataframe tbody tr th:only-of-type {\n",
       "        vertical-align: middle;\n",
       "    }\n",
       "\n",
       "    .dataframe tbody tr th {\n",
       "        vertical-align: top;\n",
       "    }\n",
       "\n",
       "    .dataframe thead th {\n",
       "        text-align: right;\n",
       "    }\n",
       "</style>\n",
       "<table border=\"1\" class=\"dataframe\">\n",
       "  <thead>\n",
       "    <tr style=\"text-align: right;\">\n",
       "      <th></th>\n",
       "      <th>gspc</th>\n",
       "      <th>spy</th>\n",
       "    </tr>\n",
       "  </thead>\n",
       "  <tbody>\n",
       "    <tr>\n",
       "      <th>gspc</th>\n",
       "      <td>1.000000</td>\n",
       "      <td>0.998398</td>\n",
       "    </tr>\n",
       "    <tr>\n",
       "      <th>spy</th>\n",
       "      <td>0.998398</td>\n",
       "      <td>1.000000</td>\n",
       "    </tr>\n",
       "  </tbody>\n",
       "</table>\n",
       "</div>"
      ],
      "text/plain": [
       "          gspc       spy\n",
       "gspc  1.000000  0.998398\n",
       "spy   0.998398  1.000000"
      ]
     },
     "execution_count": 21,
     "metadata": {},
     "output_type": "execute_result"
    }
   ],
   "source": [
    "pd.concat([SP500,SPY], axis=1).corr()\n",
    "# 0.998398"
   ]
  },
  {
   "cell_type": "code",
   "execution_count": null,
   "id": "7ef7c8f0-98e6-43fc-9278-60b4caa2a33e",
   "metadata": {},
   "outputs": [],
   "source": []
  },
  {
   "cell_type": "code",
   "execution_count": null,
   "id": "3fe60b10-c02a-45cf-b691-5d99ece108c6",
   "metadata": {},
   "outputs": [],
   "source": [
    "# S&P500 vs IVV"
   ]
  },
  {
   "cell_type": "code",
   "execution_count": 22,
   "id": "4fbe1dd0-b04f-4209-95f8-524a130ad251",
   "metadata": {},
   "outputs": [],
   "source": [
    "IVV = bt.get(\"IVV\" , start='2003-01-01', end=\"2021-11-14\")"
   ]
  },
  {
   "cell_type": "code",
   "execution_count": 23,
   "id": "f086a25d-bbd9-466e-83c7-cd0c1ea0cdaf",
   "metadata": {},
   "outputs": [
    {
     "data": {
      "text/html": [
       "<div>\n",
       "<style scoped>\n",
       "    .dataframe tbody tr th:only-of-type {\n",
       "        vertical-align: middle;\n",
       "    }\n",
       "\n",
       "    .dataframe tbody tr th {\n",
       "        vertical-align: top;\n",
       "    }\n",
       "\n",
       "    .dataframe thead th {\n",
       "        text-align: right;\n",
       "    }\n",
       "</style>\n",
       "<table border=\"1\" class=\"dataframe\">\n",
       "  <thead>\n",
       "    <tr style=\"text-align: right;\">\n",
       "      <th></th>\n",
       "      <th>gspc</th>\n",
       "      <th>ivv</th>\n",
       "    </tr>\n",
       "  </thead>\n",
       "  <tbody>\n",
       "    <tr>\n",
       "      <th>gspc</th>\n",
       "      <td>1.000000</td>\n",
       "      <td>0.998404</td>\n",
       "    </tr>\n",
       "    <tr>\n",
       "      <th>ivv</th>\n",
       "      <td>0.998404</td>\n",
       "      <td>1.000000</td>\n",
       "    </tr>\n",
       "  </tbody>\n",
       "</table>\n",
       "</div>"
      ],
      "text/plain": [
       "          gspc       ivv\n",
       "gspc  1.000000  0.998404\n",
       "ivv   0.998404  1.000000"
      ]
     },
     "execution_count": 23,
     "metadata": {},
     "output_type": "execute_result"
    }
   ],
   "source": [
    "pd.concat([SP500,IVV], axis=1).corr()\n",
    "# 0.998404"
   ]
  },
  {
   "cell_type": "code",
   "execution_count": null,
   "id": "8055ee9f-c22c-4429-ada1-e94849b10528",
   "metadata": {},
   "outputs": [],
   "source": []
  },
  {
   "cell_type": "code",
   "execution_count": null,
   "id": "469580e0-2516-4f19-a701-1400bf65a948",
   "metadata": {},
   "outputs": [],
   "source": [
    "# nikkei(^N225) vs EWJ"
   ]
  },
  {
   "cell_type": "code",
   "execution_count": 24,
   "id": "0b129e6c-84e6-4b15-9887-bfb6d57ea950",
   "metadata": {},
   "outputs": [],
   "source": [
    "nikkei = bt.get(\"^N225\" , start='2003-01-01', end=\"2021-11-14\")"
   ]
  },
  {
   "cell_type": "code",
   "execution_count": 29,
   "id": "7f14c18b-4276-4e62-a652-51748e80be4c",
   "metadata": {},
   "outputs": [],
   "source": [
    "EWJ = bt.get(\"EWJ\" , start='2003-01-01', end=\"2021-11-14\")"
   ]
  },
  {
   "cell_type": "code",
   "execution_count": 30,
   "id": "e798862a-f72d-4f3b-9014-382b3df68b2a",
   "metadata": {},
   "outputs": [
    {
     "data": {
      "text/html": [
       "<div>\n",
       "<style scoped>\n",
       "    .dataframe tbody tr th:only-of-type {\n",
       "        vertical-align: middle;\n",
       "    }\n",
       "\n",
       "    .dataframe tbody tr th {\n",
       "        vertical-align: top;\n",
       "    }\n",
       "\n",
       "    .dataframe thead th {\n",
       "        text-align: right;\n",
       "    }\n",
       "</style>\n",
       "<table border=\"1\" class=\"dataframe\">\n",
       "  <thead>\n",
       "    <tr style=\"text-align: right;\">\n",
       "      <th></th>\n",
       "      <th>n225</th>\n",
       "      <th>ewj</th>\n",
       "    </tr>\n",
       "  </thead>\n",
       "  <tbody>\n",
       "    <tr>\n",
       "      <th>n225</th>\n",
       "      <td>1.000000</td>\n",
       "      <td>0.972656</td>\n",
       "    </tr>\n",
       "    <tr>\n",
       "      <th>ewj</th>\n",
       "      <td>0.972656</td>\n",
       "      <td>1.000000</td>\n",
       "    </tr>\n",
       "  </tbody>\n",
       "</table>\n",
       "</div>"
      ],
      "text/plain": [
       "          n225       ewj\n",
       "n225  1.000000  0.972656\n",
       "ewj   0.972656  1.000000"
      ]
     },
     "execution_count": 30,
     "metadata": {},
     "output_type": "execute_result"
    }
   ],
   "source": [
    "pd.concat([nikkei, EWJ], axis=1).corr()\n",
    "# 0.972656"
   ]
  },
  {
   "cell_type": "code",
   "execution_count": 31,
   "id": "4dab10b5-759d-4306-b974-a8b8fb82bef1",
   "metadata": {},
   "outputs": [],
   "source": [
    "BBJP = bt.get(\"BBJP\" , start='2003-01-01', end=\"2021-11-14\")"
   ]
  },
  {
   "cell_type": "code",
   "execution_count": 33,
   "id": "68706bcd-3e61-4103-856b-d6f4b6ddd6d4",
   "metadata": {},
   "outputs": [
    {
     "data": {
      "text/html": [
       "<div>\n",
       "<style scoped>\n",
       "    .dataframe tbody tr th:only-of-type {\n",
       "        vertical-align: middle;\n",
       "    }\n",
       "\n",
       "    .dataframe tbody tr th {\n",
       "        vertical-align: top;\n",
       "    }\n",
       "\n",
       "    .dataframe thead th {\n",
       "        text-align: right;\n",
       "    }\n",
       "</style>\n",
       "<table border=\"1\" class=\"dataframe\">\n",
       "  <thead>\n",
       "    <tr style=\"text-align: right;\">\n",
       "      <th></th>\n",
       "      <th>n225</th>\n",
       "      <th>bbjp</th>\n",
       "    </tr>\n",
       "  </thead>\n",
       "  <tbody>\n",
       "    <tr>\n",
       "      <th>n225</th>\n",
       "      <td>1.000000</td>\n",
       "      <td>0.987652</td>\n",
       "    </tr>\n",
       "    <tr>\n",
       "      <th>bbjp</th>\n",
       "      <td>0.987652</td>\n",
       "      <td>1.000000</td>\n",
       "    </tr>\n",
       "  </tbody>\n",
       "</table>\n",
       "</div>"
      ],
      "text/plain": [
       "          n225      bbjp\n",
       "n225  1.000000  0.987652\n",
       "bbjp  0.987652  1.000000"
      ]
     },
     "execution_count": 33,
     "metadata": {},
     "output_type": "execute_result"
    }
   ],
   "source": [
    "pd.concat([nikkei, BBJP], axis=1).corr()\n",
    "# 0.987652"
   ]
  },
  {
   "cell_type": "code",
   "execution_count": null,
   "id": "43a81443-4347-429c-8d83-3de7b465296d",
   "metadata": {},
   "outputs": [],
   "source": []
  },
  {
   "cell_type": "code",
   "execution_count": null,
   "id": "efd03e42-4d42-4603-b807-d3e5cc75e8d8",
   "metadata": {},
   "outputs": [],
   "source": [
    "# 중국 CSI300(000300.SS)"
   ]
  },
  {
   "cell_type": "code",
   "execution_count": 49,
   "id": "fe208534-9174-46db-95a8-fc96e5962090",
   "metadata": {},
   "outputs": [
    {
     "data": {
      "text/html": [
       "<div>\n",
       "<style scoped>\n",
       "    .dataframe tbody tr th:only-of-type {\n",
       "        vertical-align: middle;\n",
       "    }\n",
       "\n",
       "    .dataframe tbody tr th {\n",
       "        vertical-align: top;\n",
       "    }\n",
       "\n",
       "    .dataframe thead th {\n",
       "        text-align: right;\n",
       "    }\n",
       "</style>\n",
       "<table border=\"1\" class=\"dataframe\">\n",
       "  <thead>\n",
       "    <tr style=\"text-align: right;\">\n",
       "      <th></th>\n",
       "      <th>000001ss</th>\n",
       "    </tr>\n",
       "    <tr>\n",
       "      <th>Date</th>\n",
       "      <th></th>\n",
       "    </tr>\n",
       "  </thead>\n",
       "  <tbody>\n",
       "    <tr>\n",
       "      <th>2003-01-02</th>\n",
       "      <td>1320.630005</td>\n",
       "    </tr>\n",
       "    <tr>\n",
       "      <th>2003-01-03</th>\n",
       "      <td>1319.868042</td>\n",
       "    </tr>\n",
       "    <tr>\n",
       "      <th>2003-01-06</th>\n",
       "      <td>1334.678955</td>\n",
       "    </tr>\n",
       "    <tr>\n",
       "      <th>2003-01-07</th>\n",
       "      <td>1332.061035</td>\n",
       "    </tr>\n",
       "    <tr>\n",
       "      <th>2003-01-08</th>\n",
       "      <td>1372.067017</td>\n",
       "    </tr>\n",
       "  </tbody>\n",
       "</table>\n",
       "</div>"
      ],
      "text/plain": [
       "               000001ss\n",
       "Date                   \n",
       "2003-01-02  1320.630005\n",
       "2003-01-03  1319.868042\n",
       "2003-01-06  1334.678955\n",
       "2003-01-07  1332.061035\n",
       "2003-01-08  1372.067017"
      ]
     },
     "execution_count": 49,
     "metadata": {},
     "output_type": "execute_result"
    }
   ],
   "source": [
    "CHINA = bt.get(\"000001.SS\" , start='2003-01-01', end=\"2021-11-14\")\n",
    "CHINA.head()"
   ]
  },
  {
   "cell_type": "code",
   "execution_count": 50,
   "id": "76c880ba-e1d7-450e-b6c2-6396785548ed",
   "metadata": {},
   "outputs": [
    {
     "data": {
      "text/html": [
       "<div>\n",
       "<style scoped>\n",
       "    .dataframe tbody tr th:only-of-type {\n",
       "        vertical-align: middle;\n",
       "    }\n",
       "\n",
       "    .dataframe tbody tr th {\n",
       "        vertical-align: top;\n",
       "    }\n",
       "\n",
       "    .dataframe thead th {\n",
       "        text-align: right;\n",
       "    }\n",
       "</style>\n",
       "<table border=\"1\" class=\"dataframe\">\n",
       "  <thead>\n",
       "    <tr style=\"text-align: right;\">\n",
       "      <th></th>\n",
       "      <th>kweb</th>\n",
       "    </tr>\n",
       "    <tr>\n",
       "      <th>Date</th>\n",
       "      <th></th>\n",
       "    </tr>\n",
       "  </thead>\n",
       "  <tbody>\n",
       "    <tr>\n",
       "      <th>2013-08-01</th>\n",
       "      <td>24.471979</td>\n",
       "    </tr>\n",
       "    <tr>\n",
       "      <th>2013-08-02</th>\n",
       "      <td>24.499916</td>\n",
       "    </tr>\n",
       "    <tr>\n",
       "      <th>2013-08-05</th>\n",
       "      <td>24.499916</td>\n",
       "    </tr>\n",
       "    <tr>\n",
       "      <th>2013-08-06</th>\n",
       "      <td>24.555792</td>\n",
       "    </tr>\n",
       "    <tr>\n",
       "      <th>2013-08-07</th>\n",
       "      <td>24.122784</td>\n",
       "    </tr>\n",
       "  </tbody>\n",
       "</table>\n",
       "</div>"
      ],
      "text/plain": [
       "                 kweb\n",
       "Date                 \n",
       "2013-08-01  24.471979\n",
       "2013-08-02  24.499916\n",
       "2013-08-05  24.499916\n",
       "2013-08-06  24.555792\n",
       "2013-08-07  24.122784"
      ]
     },
     "execution_count": 50,
     "metadata": {},
     "output_type": "execute_result"
    }
   ],
   "source": [
    "KWEB = bt.get(\"KWEB\" , start='2003-01-01', end=\"2021-11-14\")\n",
    "KWEB.head()"
   ]
  },
  {
   "cell_type": "code",
   "execution_count": 45,
   "id": "235a94da-3104-45a4-8759-12ebe0eba51a",
   "metadata": {},
   "outputs": [
    {
     "data": {
      "text/html": [
       "<div>\n",
       "<style scoped>\n",
       "    .dataframe tbody tr th:only-of-type {\n",
       "        vertical-align: middle;\n",
       "    }\n",
       "\n",
       "    .dataframe tbody tr th {\n",
       "        vertical-align: top;\n",
       "    }\n",
       "\n",
       "    .dataframe thead th {\n",
       "        text-align: right;\n",
       "    }\n",
       "</style>\n",
       "<table border=\"1\" class=\"dataframe\">\n",
       "  <thead>\n",
       "    <tr style=\"text-align: right;\">\n",
       "      <th></th>\n",
       "      <th>000001ss</th>\n",
       "      <th>kweb</th>\n",
       "    </tr>\n",
       "  </thead>\n",
       "  <tbody>\n",
       "    <tr>\n",
       "      <th>000001ss</th>\n",
       "      <td>1.000000</td>\n",
       "      <td>0.418076</td>\n",
       "    </tr>\n",
       "    <tr>\n",
       "      <th>kweb</th>\n",
       "      <td>0.418076</td>\n",
       "      <td>1.000000</td>\n",
       "    </tr>\n",
       "  </tbody>\n",
       "</table>\n",
       "</div>"
      ],
      "text/plain": [
       "          000001ss      kweb\n",
       "000001ss  1.000000  0.418076\n",
       "kweb      0.418076  1.000000"
      ]
     },
     "execution_count": 45,
     "metadata": {},
     "output_type": "execute_result"
    }
   ],
   "source": [
    "pd.concat([CHINA, KWEB], axis=1).corr()"
   ]
  },
  {
   "cell_type": "code",
   "execution_count": 51,
   "id": "c9aab656-cd09-49ff-a544-72c7f5ab35c8",
   "metadata": {},
   "outputs": [
    {
     "data": {
      "text/html": [
       "<div>\n",
       "<style scoped>\n",
       "    .dataframe tbody tr th:only-of-type {\n",
       "        vertical-align: middle;\n",
       "    }\n",
       "\n",
       "    .dataframe tbody tr th {\n",
       "        vertical-align: top;\n",
       "    }\n",
       "\n",
       "    .dataframe thead th {\n",
       "        text-align: right;\n",
       "    }\n",
       "</style>\n",
       "<table border=\"1\" class=\"dataframe\">\n",
       "  <thead>\n",
       "    <tr style=\"text-align: right;\">\n",
       "      <th></th>\n",
       "      <th>mchi</th>\n",
       "    </tr>\n",
       "    <tr>\n",
       "      <th>Date</th>\n",
       "      <th></th>\n",
       "    </tr>\n",
       "  </thead>\n",
       "  <tbody>\n",
       "    <tr>\n",
       "      <th>2011-03-31</th>\n",
       "      <td>42.605255</td>\n",
       "    </tr>\n",
       "    <tr>\n",
       "      <th>2011-04-01</th>\n",
       "      <td>43.196304</td>\n",
       "    </tr>\n",
       "    <tr>\n",
       "      <th>2011-04-04</th>\n",
       "      <td>44.115723</td>\n",
       "    </tr>\n",
       "    <tr>\n",
       "      <th>2011-04-05</th>\n",
       "      <td>43.853027</td>\n",
       "    </tr>\n",
       "    <tr>\n",
       "      <th>2011-04-06</th>\n",
       "      <td>44.074677</td>\n",
       "    </tr>\n",
       "  </tbody>\n",
       "</table>\n",
       "</div>"
      ],
      "text/plain": [
       "                 mchi\n",
       "Date                 \n",
       "2011-03-31  42.605255\n",
       "2011-04-01  43.196304\n",
       "2011-04-04  44.115723\n",
       "2011-04-05  43.853027\n",
       "2011-04-06  44.074677"
      ]
     },
     "execution_count": 51,
     "metadata": {},
     "output_type": "execute_result"
    }
   ],
   "source": [
    "MCHI = bt.get(\"MCHI\" , start='2003-01-01', end=\"2021-11-14\")\n",
    "MCHI.head()"
   ]
  },
  {
   "cell_type": "code",
   "execution_count": 52,
   "id": "73acf699-9cc7-480e-91ba-e820b6f35bb4",
   "metadata": {},
   "outputs": [
    {
     "data": {
      "text/html": [
       "<div>\n",
       "<style scoped>\n",
       "    .dataframe tbody tr th:only-of-type {\n",
       "        vertical-align: middle;\n",
       "    }\n",
       "\n",
       "    .dataframe tbody tr th {\n",
       "        vertical-align: top;\n",
       "    }\n",
       "\n",
       "    .dataframe thead th {\n",
       "        text-align: right;\n",
       "    }\n",
       "</style>\n",
       "<table border=\"1\" class=\"dataframe\">\n",
       "  <thead>\n",
       "    <tr style=\"text-align: right;\">\n",
       "      <th></th>\n",
       "      <th>000001ss</th>\n",
       "      <th>mchi</th>\n",
       "    </tr>\n",
       "  </thead>\n",
       "  <tbody>\n",
       "    <tr>\n",
       "      <th>000001ss</th>\n",
       "      <td>1.000000</td>\n",
       "      <td>0.614114</td>\n",
       "    </tr>\n",
       "    <tr>\n",
       "      <th>mchi</th>\n",
       "      <td>0.614114</td>\n",
       "      <td>1.000000</td>\n",
       "    </tr>\n",
       "  </tbody>\n",
       "</table>\n",
       "</div>"
      ],
      "text/plain": [
       "          000001ss      mchi\n",
       "000001ss  1.000000  0.614114\n",
       "mchi      0.614114  1.000000"
      ]
     },
     "execution_count": 52,
     "metadata": {},
     "output_type": "execute_result"
    }
   ],
   "source": [
    "pd.concat([CHINA, MCHI], axis=1).corr()"
   ]
  },
  {
   "cell_type": "code",
   "execution_count": 53,
   "id": "826b2bb7-61a6-4db2-a6c5-7df84cd079a8",
   "metadata": {},
   "outputs": [
    {
     "data": {
      "text/html": [
       "<div>\n",
       "<style scoped>\n",
       "    .dataframe tbody tr th:only-of-type {\n",
       "        vertical-align: middle;\n",
       "    }\n",
       "\n",
       "    .dataframe tbody tr th {\n",
       "        vertical-align: top;\n",
       "    }\n",
       "\n",
       "    .dataframe thead th {\n",
       "        text-align: right;\n",
       "    }\n",
       "</style>\n",
       "<table border=\"1\" class=\"dataframe\">\n",
       "  <thead>\n",
       "    <tr style=\"text-align: right;\">\n",
       "      <th></th>\n",
       "      <th>ashr</th>\n",
       "    </tr>\n",
       "    <tr>\n",
       "      <th>Date</th>\n",
       "      <th></th>\n",
       "    </tr>\n",
       "  </thead>\n",
       "  <tbody>\n",
       "    <tr>\n",
       "      <th>2013-11-06</th>\n",
       "      <td>18.123566</td>\n",
       "    </tr>\n",
       "    <tr>\n",
       "      <th>2013-11-07</th>\n",
       "      <td>17.940866</td>\n",
       "    </tr>\n",
       "    <tr>\n",
       "      <th>2013-11-08</th>\n",
       "      <td>17.867788</td>\n",
       "    </tr>\n",
       "    <tr>\n",
       "      <th>2013-11-11</th>\n",
       "      <td>17.904325</td>\n",
       "    </tr>\n",
       "    <tr>\n",
       "      <th>2013-11-12</th>\n",
       "      <td>17.860479</td>\n",
       "    </tr>\n",
       "  </tbody>\n",
       "</table>\n",
       "</div>"
      ],
      "text/plain": [
       "                 ashr\n",
       "Date                 \n",
       "2013-11-06  18.123566\n",
       "2013-11-07  17.940866\n",
       "2013-11-08  17.867788\n",
       "2013-11-11  17.904325\n",
       "2013-11-12  17.860479"
      ]
     },
     "execution_count": 53,
     "metadata": {},
     "output_type": "execute_result"
    }
   ],
   "source": [
    "ASHR = bt.get(\"ASHR\" , start='2003-01-01', end=\"2021-11-14\")\n",
    "ASHR.head()"
   ]
  },
  {
   "cell_type": "code",
   "execution_count": 54,
   "id": "8146cf2d-6532-4586-9b04-846f662ab4a3",
   "metadata": {},
   "outputs": [
    {
     "data": {
      "text/html": [
       "<div>\n",
       "<style scoped>\n",
       "    .dataframe tbody tr th:only-of-type {\n",
       "        vertical-align: middle;\n",
       "    }\n",
       "\n",
       "    .dataframe tbody tr th {\n",
       "        vertical-align: top;\n",
       "    }\n",
       "\n",
       "    .dataframe thead th {\n",
       "        text-align: right;\n",
       "    }\n",
       "</style>\n",
       "<table border=\"1\" class=\"dataframe\">\n",
       "  <thead>\n",
       "    <tr style=\"text-align: right;\">\n",
       "      <th></th>\n",
       "      <th>000001ss</th>\n",
       "      <th>ashr</th>\n",
       "    </tr>\n",
       "  </thead>\n",
       "  <tbody>\n",
       "    <tr>\n",
       "      <th>000001ss</th>\n",
       "      <td>1.00000</td>\n",
       "      <td>0.79768</td>\n",
       "    </tr>\n",
       "    <tr>\n",
       "      <th>ashr</th>\n",
       "      <td>0.79768</td>\n",
       "      <td>1.00000</td>\n",
       "    </tr>\n",
       "  </tbody>\n",
       "</table>\n",
       "</div>"
      ],
      "text/plain": [
       "          000001ss     ashr\n",
       "000001ss   1.00000  0.79768\n",
       "ashr       0.79768  1.00000"
      ]
     },
     "execution_count": 54,
     "metadata": {},
     "output_type": "execute_result"
    }
   ],
   "source": [
    "pd.concat([CHINA, ASHR], axis=1).corr()"
   ]
  },
  {
   "cell_type": "code",
   "execution_count": null,
   "id": "f985e111-5729-4dd1-87f8-894fe55b0687",
   "metadata": {},
   "outputs": [],
   "source": []
  },
  {
   "cell_type": "code",
   "execution_count": null,
   "id": "428d2354-4510-437b-b3e1-fd79bba86d08",
   "metadata": {},
   "outputs": [],
   "source": [
    "# 홍콩항셍(^HSI) VS"
   ]
  },
  {
   "cell_type": "code",
   "execution_count": 55,
   "id": "a1cfac9f-db56-458e-a430-026f7a9f6a9e",
   "metadata": {},
   "outputs": [
    {
     "data": {
      "text/html": [
       "<div>\n",
       "<style scoped>\n",
       "    .dataframe tbody tr th:only-of-type {\n",
       "        vertical-align: middle;\n",
       "    }\n",
       "\n",
       "    .dataframe tbody tr th {\n",
       "        vertical-align: top;\n",
       "    }\n",
       "\n",
       "    .dataframe thead th {\n",
       "        text-align: right;\n",
       "    }\n",
       "</style>\n",
       "<table border=\"1\" class=\"dataframe\">\n",
       "  <thead>\n",
       "    <tr style=\"text-align: right;\">\n",
       "      <th></th>\n",
       "      <th>hsi</th>\n",
       "    </tr>\n",
       "    <tr>\n",
       "      <th>Date</th>\n",
       "      <th></th>\n",
       "    </tr>\n",
       "  </thead>\n",
       "  <tbody>\n",
       "    <tr>\n",
       "      <th>2003-01-02</th>\n",
       "      <td>9365.519531</td>\n",
       "    </tr>\n",
       "    <tr>\n",
       "      <th>2003-01-03</th>\n",
       "      <td>9583.849609</td>\n",
       "    </tr>\n",
       "    <tr>\n",
       "      <th>2003-01-06</th>\n",
       "      <td>9665.959961</td>\n",
       "    </tr>\n",
       "    <tr>\n",
       "      <th>2003-01-07</th>\n",
       "      <td>9652.400391</td>\n",
       "    </tr>\n",
       "    <tr>\n",
       "      <th>2003-01-08</th>\n",
       "      <td>9688.209961</td>\n",
       "    </tr>\n",
       "  </tbody>\n",
       "</table>\n",
       "</div>"
      ],
      "text/plain": [
       "                    hsi\n",
       "Date                   \n",
       "2003-01-02  9365.519531\n",
       "2003-01-03  9583.849609\n",
       "2003-01-06  9665.959961\n",
       "2003-01-07  9652.400391\n",
       "2003-01-08  9688.209961"
      ]
     },
     "execution_count": 55,
     "metadata": {},
     "output_type": "execute_result"
    }
   ],
   "source": [
    "HSI = bt.get(\"^HSI\" , start='2003-01-01', end=\"2021-11-14\")\n",
    "HSI.head()"
   ]
  },
  {
   "cell_type": "code",
   "execution_count": 62,
   "id": "d225125d-5f50-4d21-a798-6356e92c5808",
   "metadata": {},
   "outputs": [
    {
     "data": {
      "text/html": [
       "<div>\n",
       "<style scoped>\n",
       "    .dataframe tbody tr th:only-of-type {\n",
       "        vertical-align: middle;\n",
       "    }\n",
       "\n",
       "    .dataframe tbody tr th {\n",
       "        vertical-align: top;\n",
       "    }\n",
       "\n",
       "    .dataframe thead th {\n",
       "        text-align: right;\n",
       "    }\n",
       "</style>\n",
       "<table border=\"1\" class=\"dataframe\">\n",
       "  <thead>\n",
       "    <tr style=\"text-align: right;\">\n",
       "      <th></th>\n",
       "      <th>ewh</th>\n",
       "    </tr>\n",
       "    <tr>\n",
       "      <th>Date</th>\n",
       "      <th></th>\n",
       "    </tr>\n",
       "  </thead>\n",
       "  <tbody>\n",
       "    <tr>\n",
       "      <th>2002-12-31</th>\n",
       "      <td>4.344291</td>\n",
       "    </tr>\n",
       "    <tr>\n",
       "      <th>2003-01-02</th>\n",
       "      <td>4.420301</td>\n",
       "    </tr>\n",
       "    <tr>\n",
       "      <th>2003-01-03</th>\n",
       "      <td>4.443690</td>\n",
       "    </tr>\n",
       "    <tr>\n",
       "      <th>2003-01-06</th>\n",
       "      <td>4.461230</td>\n",
       "    </tr>\n",
       "    <tr>\n",
       "      <th>2003-01-07</th>\n",
       "      <td>4.402761</td>\n",
       "    </tr>\n",
       "  </tbody>\n",
       "</table>\n",
       "</div>"
      ],
      "text/plain": [
       "                 ewh\n",
       "Date                \n",
       "2002-12-31  4.344291\n",
       "2003-01-02  4.420301\n",
       "2003-01-03  4.443690\n",
       "2003-01-06  4.461230\n",
       "2003-01-07  4.402761"
      ]
     },
     "execution_count": 62,
     "metadata": {},
     "output_type": "execute_result"
    }
   ],
   "source": [
    "EWH = bt.get(\"EWH\" , start='2003-01-01', end=\"2021-11-14\")\n",
    "EWH.head()"
   ]
  },
  {
   "cell_type": "code",
   "execution_count": 63,
   "id": "0061cbaa-de3a-486d-ac6f-42c63165e477",
   "metadata": {},
   "outputs": [
    {
     "data": {
      "text/html": [
       "<div>\n",
       "<style scoped>\n",
       "    .dataframe tbody tr th:only-of-type {\n",
       "        vertical-align: middle;\n",
       "    }\n",
       "\n",
       "    .dataframe tbody tr th {\n",
       "        vertical-align: top;\n",
       "    }\n",
       "\n",
       "    .dataframe thead th {\n",
       "        text-align: right;\n",
       "    }\n",
       "</style>\n",
       "<table border=\"1\" class=\"dataframe\">\n",
       "  <thead>\n",
       "    <tr style=\"text-align: right;\">\n",
       "      <th></th>\n",
       "      <th>hsi</th>\n",
       "      <th>ewh</th>\n",
       "    </tr>\n",
       "  </thead>\n",
       "  <tbody>\n",
       "    <tr>\n",
       "      <th>hsi</th>\n",
       "      <td>1.000000</td>\n",
       "      <td>0.911643</td>\n",
       "    </tr>\n",
       "    <tr>\n",
       "      <th>ewh</th>\n",
       "      <td>0.911643</td>\n",
       "      <td>1.000000</td>\n",
       "    </tr>\n",
       "  </tbody>\n",
       "</table>\n",
       "</div>"
      ],
      "text/plain": [
       "          hsi       ewh\n",
       "hsi  1.000000  0.911643\n",
       "ewh  0.911643  1.000000"
      ]
     },
     "execution_count": 63,
     "metadata": {},
     "output_type": "execute_result"
    }
   ],
   "source": [
    "pd.concat([HSI, EWH], axis=1).corr()"
   ]
  },
  {
   "cell_type": "code",
   "execution_count": 64,
   "id": "d79acc8b-b77d-4759-aef0-a286d07f2fc2",
   "metadata": {},
   "outputs": [
    {
     "data": {
      "text/html": [
       "<div>\n",
       "<style scoped>\n",
       "    .dataframe tbody tr th:only-of-type {\n",
       "        vertical-align: middle;\n",
       "    }\n",
       "\n",
       "    .dataframe tbody tr th {\n",
       "        vertical-align: top;\n",
       "    }\n",
       "\n",
       "    .dataframe thead th {\n",
       "        text-align: right;\n",
       "    }\n",
       "</style>\n",
       "<table border=\"1\" class=\"dataframe\">\n",
       "  <thead>\n",
       "    <tr style=\"text-align: right;\">\n",
       "      <th></th>\n",
       "      <th>flhk</th>\n",
       "    </tr>\n",
       "    <tr>\n",
       "      <th>Date</th>\n",
       "      <th></th>\n",
       "    </tr>\n",
       "  </thead>\n",
       "  <tbody>\n",
       "    <tr>\n",
       "      <th>2017-12-18</th>\n",
       "      <td>23.311773</td>\n",
       "    </tr>\n",
       "    <tr>\n",
       "      <th>2017-12-19</th>\n",
       "      <td>23.438667</td>\n",
       "    </tr>\n",
       "    <tr>\n",
       "      <th>2017-12-20</th>\n",
       "      <td>23.497732</td>\n",
       "    </tr>\n",
       "    <tr>\n",
       "      <th>2017-12-21</th>\n",
       "      <td>23.743063</td>\n",
       "    </tr>\n",
       "    <tr>\n",
       "      <th>2017-12-22</th>\n",
       "      <td>23.765779</td>\n",
       "    </tr>\n",
       "  </tbody>\n",
       "</table>\n",
       "</div>"
      ],
      "text/plain": [
       "                 flhk\n",
       "Date                 \n",
       "2017-12-18  23.311773\n",
       "2017-12-19  23.438667\n",
       "2017-12-20  23.497732\n",
       "2017-12-21  23.743063\n",
       "2017-12-22  23.765779"
      ]
     },
     "execution_count": 64,
     "metadata": {},
     "output_type": "execute_result"
    }
   ],
   "source": [
    "FLHK = bt.get(\"FLHK\" , start='2003-01-01', end=\"2021-11-14\")\n",
    "FLHK.head()"
   ]
  },
  {
   "cell_type": "code",
   "execution_count": null,
   "id": "7a8a0757-2a2c-43cd-a3d5-b14262b17db2",
   "metadata": {},
   "outputs": [],
   "source": []
  },
  {
   "cell_type": "code",
   "execution_count": null,
   "id": "ff4904b8-5e39-4e41-af42-f7276d9e8965",
   "metadata": {},
   "outputs": [],
   "source": [
    "# 독일(^GDAXI)"
   ]
  },
  {
   "cell_type": "code",
   "execution_count": 67,
   "id": "64148a27-6647-4049-a19f-45863bcee176",
   "metadata": {},
   "outputs": [
    {
     "data": {
      "text/html": [
       "<div>\n",
       "<style scoped>\n",
       "    .dataframe tbody tr th:only-of-type {\n",
       "        vertical-align: middle;\n",
       "    }\n",
       "\n",
       "    .dataframe tbody tr th {\n",
       "        vertical-align: top;\n",
       "    }\n",
       "\n",
       "    .dataframe thead th {\n",
       "        text-align: right;\n",
       "    }\n",
       "</style>\n",
       "<table border=\"1\" class=\"dataframe\">\n",
       "  <thead>\n",
       "    <tr style=\"text-align: right;\">\n",
       "      <th></th>\n",
       "      <th>gdaxi</th>\n",
       "    </tr>\n",
       "    <tr>\n",
       "      <th>Date</th>\n",
       "      <th></th>\n",
       "    </tr>\n",
       "  </thead>\n",
       "  <tbody>\n",
       "    <tr>\n",
       "      <th>2003-01-02</th>\n",
       "      <td>3105.040039</td>\n",
       "    </tr>\n",
       "    <tr>\n",
       "      <th>2003-01-03</th>\n",
       "      <td>3092.939941</td>\n",
       "    </tr>\n",
       "    <tr>\n",
       "      <th>2003-01-06</th>\n",
       "      <td>3157.250000</td>\n",
       "    </tr>\n",
       "    <tr>\n",
       "      <th>2003-01-07</th>\n",
       "      <td>3112.770020</td>\n",
       "    </tr>\n",
       "    <tr>\n",
       "      <th>2003-01-08</th>\n",
       "      <td>2993.000000</td>\n",
       "    </tr>\n",
       "  </tbody>\n",
       "</table>\n",
       "</div>"
      ],
      "text/plain": [
       "                  gdaxi\n",
       "Date                   \n",
       "2003-01-02  3105.040039\n",
       "2003-01-03  3092.939941\n",
       "2003-01-06  3157.250000\n",
       "2003-01-07  3112.770020\n",
       "2003-01-08  2993.000000"
      ]
     },
     "execution_count": 67,
     "metadata": {},
     "output_type": "execute_result"
    }
   ],
   "source": [
    "GERMAN= bt.get(\"^GDAXI\" , start='2003-01-01', end=\"2021-11-14\")\n",
    "GERMAN.head()"
   ]
  },
  {
   "cell_type": "code",
   "execution_count": 68,
   "id": "6ff99b62-2afb-439f-954f-fd1c58f5ad16",
   "metadata": {},
   "outputs": [
    {
     "data": {
      "text/html": [
       "<div>\n",
       "<style scoped>\n",
       "    .dataframe tbody tr th:only-of-type {\n",
       "        vertical-align: middle;\n",
       "    }\n",
       "\n",
       "    .dataframe tbody tr th {\n",
       "        vertical-align: top;\n",
       "    }\n",
       "\n",
       "    .dataframe thead th {\n",
       "        text-align: right;\n",
       "    }\n",
       "</style>\n",
       "<table border=\"1\" class=\"dataframe\">\n",
       "  <thead>\n",
       "    <tr style=\"text-align: right;\">\n",
       "      <th></th>\n",
       "      <th>ewg</th>\n",
       "    </tr>\n",
       "    <tr>\n",
       "      <th>Date</th>\n",
       "      <th></th>\n",
       "    </tr>\n",
       "  </thead>\n",
       "  <tbody>\n",
       "    <tr>\n",
       "      <th>2002-12-31</th>\n",
       "      <td>6.624043</td>\n",
       "    </tr>\n",
       "    <tr>\n",
       "      <th>2003-01-02</th>\n",
       "      <td>7.001021</td>\n",
       "    </tr>\n",
       "    <tr>\n",
       "      <th>2003-01-03</th>\n",
       "      <td>7.149119</td>\n",
       "    </tr>\n",
       "    <tr>\n",
       "      <th>2003-01-06</th>\n",
       "      <td>7.364536</td>\n",
       "    </tr>\n",
       "    <tr>\n",
       "      <th>2003-01-07</th>\n",
       "      <td>7.189511</td>\n",
       "    </tr>\n",
       "  </tbody>\n",
       "</table>\n",
       "</div>"
      ],
      "text/plain": [
       "                 ewg\n",
       "Date                \n",
       "2002-12-31  6.624043\n",
       "2003-01-02  7.001021\n",
       "2003-01-03  7.149119\n",
       "2003-01-06  7.364536\n",
       "2003-01-07  7.189511"
      ]
     },
     "execution_count": 68,
     "metadata": {},
     "output_type": "execute_result"
    }
   ],
   "source": [
    "EWG= bt.get(\"EWG\" , start='2003-01-01', end=\"2021-11-14\")\n",
    "EWG.head()"
   ]
  },
  {
   "cell_type": "code",
   "execution_count": 69,
   "id": "121aade7-4d68-4048-9d8f-b7f2e2c0a51c",
   "metadata": {},
   "outputs": [
    {
     "data": {
      "text/html": [
       "<div>\n",
       "<style scoped>\n",
       "    .dataframe tbody tr th:only-of-type {\n",
       "        vertical-align: middle;\n",
       "    }\n",
       "\n",
       "    .dataframe tbody tr th {\n",
       "        vertical-align: top;\n",
       "    }\n",
       "\n",
       "    .dataframe thead th {\n",
       "        text-align: right;\n",
       "    }\n",
       "</style>\n",
       "<table border=\"1\" class=\"dataframe\">\n",
       "  <thead>\n",
       "    <tr style=\"text-align: right;\">\n",
       "      <th></th>\n",
       "      <th>gdaxi</th>\n",
       "      <th>ewg</th>\n",
       "    </tr>\n",
       "  </thead>\n",
       "  <tbody>\n",
       "    <tr>\n",
       "      <th>gdaxi</th>\n",
       "      <td>1.000000</td>\n",
       "      <td>0.955025</td>\n",
       "    </tr>\n",
       "    <tr>\n",
       "      <th>ewg</th>\n",
       "      <td>0.955025</td>\n",
       "      <td>1.000000</td>\n",
       "    </tr>\n",
       "  </tbody>\n",
       "</table>\n",
       "</div>"
      ],
      "text/plain": [
       "          gdaxi       ewg\n",
       "gdaxi  1.000000  0.955025\n",
       "ewg    0.955025  1.000000"
      ]
     },
     "execution_count": 69,
     "metadata": {},
     "output_type": "execute_result"
    }
   ],
   "source": [
    "pd.concat([GERMAN, EWG], axis=1).corr()"
   ]
  },
  {
   "cell_type": "code",
   "execution_count": null,
   "id": "a87c1154-df73-4bd5-bb9b-295ea4346729",
   "metadata": {},
   "outputs": [],
   "source": []
  },
  {
   "cell_type": "code",
   "execution_count": null,
   "id": "582320b1-8b2a-47a6-8e8e-4c601149e6f1",
   "metadata": {},
   "outputs": [],
   "source": [
    "# 프랑스(^FCHI)"
   ]
  },
  {
   "cell_type": "code",
   "execution_count": 70,
   "id": "b56206b3-23a4-44c5-84a3-3ebce0260e81",
   "metadata": {},
   "outputs": [
    {
     "data": {
      "text/html": [
       "<div>\n",
       "<style scoped>\n",
       "    .dataframe tbody tr th:only-of-type {\n",
       "        vertical-align: middle;\n",
       "    }\n",
       "\n",
       "    .dataframe tbody tr th {\n",
       "        vertical-align: top;\n",
       "    }\n",
       "\n",
       "    .dataframe thead th {\n",
       "        text-align: right;\n",
       "    }\n",
       "</style>\n",
       "<table border=\"1\" class=\"dataframe\">\n",
       "  <thead>\n",
       "    <tr style=\"text-align: right;\">\n",
       "      <th></th>\n",
       "      <th>fchi</th>\n",
       "    </tr>\n",
       "    <tr>\n",
       "      <th>Date</th>\n",
       "      <th></th>\n",
       "    </tr>\n",
       "  </thead>\n",
       "  <tbody>\n",
       "    <tr>\n",
       "      <th>2002-12-31</th>\n",
       "      <td>3063.909912</td>\n",
       "    </tr>\n",
       "    <tr>\n",
       "      <th>2003-01-02</th>\n",
       "      <td>3195.020020</td>\n",
       "    </tr>\n",
       "    <tr>\n",
       "      <th>2003-01-03</th>\n",
       "      <td>3187.879883</td>\n",
       "    </tr>\n",
       "    <tr>\n",
       "      <th>2003-01-06</th>\n",
       "      <td>3210.270020</td>\n",
       "    </tr>\n",
       "    <tr>\n",
       "      <th>2003-01-07</th>\n",
       "      <td>3160.989990</td>\n",
       "    </tr>\n",
       "  </tbody>\n",
       "</table>\n",
       "</div>"
      ],
      "text/plain": [
       "                   fchi\n",
       "Date                   \n",
       "2002-12-31  3063.909912\n",
       "2003-01-02  3195.020020\n",
       "2003-01-03  3187.879883\n",
       "2003-01-06  3210.270020\n",
       "2003-01-07  3160.989990"
      ]
     },
     "execution_count": 70,
     "metadata": {},
     "output_type": "execute_result"
    }
   ],
   "source": [
    "FRANCE = bt.get(\"^FCHI\" , start='2003-01-01', end=\"2021-11-14\")\n",
    "FRANCE.head()"
   ]
  },
  {
   "cell_type": "code",
   "execution_count": 71,
   "id": "e95fe72b-5b5d-4b4c-9d73-2d4d416ff513",
   "metadata": {},
   "outputs": [
    {
     "data": {
      "text/html": [
       "<div>\n",
       "<style scoped>\n",
       "    .dataframe tbody tr th:only-of-type {\n",
       "        vertical-align: middle;\n",
       "    }\n",
       "\n",
       "    .dataframe tbody tr th {\n",
       "        vertical-align: top;\n",
       "    }\n",
       "\n",
       "    .dataframe thead th {\n",
       "        text-align: right;\n",
       "    }\n",
       "</style>\n",
       "<table border=\"1\" class=\"dataframe\">\n",
       "  <thead>\n",
       "    <tr style=\"text-align: right;\">\n",
       "      <th></th>\n",
       "      <th>ewq</th>\n",
       "    </tr>\n",
       "    <tr>\n",
       "      <th>Date</th>\n",
       "      <th></th>\n",
       "    </tr>\n",
       "  </thead>\n",
       "  <tbody>\n",
       "    <tr>\n",
       "      <th>2002-12-31</th>\n",
       "      <td>9.416442</td>\n",
       "    </tr>\n",
       "    <tr>\n",
       "      <th>2003-01-02</th>\n",
       "      <td>9.734564</td>\n",
       "    </tr>\n",
       "    <tr>\n",
       "      <th>2003-01-03</th>\n",
       "      <td>9.670940</td>\n",
       "    </tr>\n",
       "    <tr>\n",
       "      <th>2003-01-06</th>\n",
       "      <td>9.931799</td>\n",
       "    </tr>\n",
       "    <tr>\n",
       "      <th>2003-01-07</th>\n",
       "      <td>9.613677</td>\n",
       "    </tr>\n",
       "  </tbody>\n",
       "</table>\n",
       "</div>"
      ],
      "text/plain": [
       "                 ewq\n",
       "Date                \n",
       "2002-12-31  9.416442\n",
       "2003-01-02  9.734564\n",
       "2003-01-03  9.670940\n",
       "2003-01-06  9.931799\n",
       "2003-01-07  9.613677"
      ]
     },
     "execution_count": 71,
     "metadata": {},
     "output_type": "execute_result"
    }
   ],
   "source": [
    "EWQ = bt.get(\"EWQ\" , start='2003-01-01', end=\"2021-11-14\")\n",
    "EWQ.head()"
   ]
  },
  {
   "cell_type": "code",
   "execution_count": 72,
   "id": "fec9bac9-a237-47c5-9a57-c8b57dd72f1e",
   "metadata": {},
   "outputs": [
    {
     "data": {
      "text/html": [
       "<div>\n",
       "<style scoped>\n",
       "    .dataframe tbody tr th:only-of-type {\n",
       "        vertical-align: middle;\n",
       "    }\n",
       "\n",
       "    .dataframe tbody tr th {\n",
       "        vertical-align: top;\n",
       "    }\n",
       "\n",
       "    .dataframe thead th {\n",
       "        text-align: right;\n",
       "    }\n",
       "</style>\n",
       "<table border=\"1\" class=\"dataframe\">\n",
       "  <thead>\n",
       "    <tr style=\"text-align: right;\">\n",
       "      <th></th>\n",
       "      <th>fchi</th>\n",
       "      <th>ewq</th>\n",
       "    </tr>\n",
       "  </thead>\n",
       "  <tbody>\n",
       "    <tr>\n",
       "      <th>fchi</th>\n",
       "      <td>1.000000</td>\n",
       "      <td>0.896142</td>\n",
       "    </tr>\n",
       "    <tr>\n",
       "      <th>ewq</th>\n",
       "      <td>0.896142</td>\n",
       "      <td>1.000000</td>\n",
       "    </tr>\n",
       "  </tbody>\n",
       "</table>\n",
       "</div>"
      ],
      "text/plain": [
       "          fchi       ewq\n",
       "fchi  1.000000  0.896142\n",
       "ewq   0.896142  1.000000"
      ]
     },
     "execution_count": 72,
     "metadata": {},
     "output_type": "execute_result"
    }
   ],
   "source": [
    "pd.concat([FRANCE, EWQ], axis=1).corr()"
   ]
  },
  {
   "cell_type": "code",
   "execution_count": null,
   "id": "d8c3842e-1645-45bf-90eb-f5c915e7d1d8",
   "metadata": {},
   "outputs": [],
   "source": []
  },
  {
   "cell_type": "code",
   "execution_count": null,
   "id": "65513186-7f45-4cb1-ba4b-54b35ec238eb",
   "metadata": {},
   "outputs": [],
   "source": [
    "EWQ = bt.get(\"EWQ\" , start='2003-01-01', end=\"2021-11-14\")\n",
    "EWQ.head()"
   ]
  },
  {
   "cell_type": "code",
   "execution_count": null,
   "id": "768b2bda-b6c9-491f-aee9-0fb3a7c9a93d",
   "metadata": {},
   "outputs": [],
   "source": []
  }
 ],
 "metadata": {
  "kernelspec": {
   "display_name": "Python 3 (ipykernel)",
   "language": "python",
   "name": "python3"
  },
  "language_info": {
   "codemirror_mode": {
    "name": "ipython",
    "version": 3
   },
   "file_extension": ".py",
   "mimetype": "text/x-python",
   "name": "python",
   "nbconvert_exporter": "python",
   "pygments_lexer": "ipython3",
   "version": "3.8.8"
  }
 },
 "nbformat": 4,
 "nbformat_minor": 5
}
