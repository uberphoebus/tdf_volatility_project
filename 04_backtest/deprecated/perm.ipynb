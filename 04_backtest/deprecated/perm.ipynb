{
 "cells": [
  {
   "cell_type": "code",
   "execution_count": 2,
   "metadata": {},
   "outputs": [],
   "source": [
    "import pandas as pd\n",
    "import itertools"
   ]
  },
  {
   "cell_type": "code",
   "execution_count": 3,
   "metadata": {},
   "outputs": [],
   "source": [
    "items = ('MA5', 'MA20',\n",
    "       'MA60', 'MA120', 'MA5_gra', 'MA20_gra', 'MA60_gra', 'MA120_gra',\n",
    "       'V_MA5', 'V_MA20', 'V_MA60', 'V_MA120', 'EMA5', 'EMA20', 'EMA60',\n",
    "       'EMA120', 'MACD', 'MACD_sig9', 'MACD_OSC', 'Fast%K', 'Fast%D', 'Slow%K',\n",
    "       'Slow%D', 'RSI14', 'RSI signal', 'CCI', 'A_Ratio', 'B_Ratio', 'ATR',\n",
    "       'UpDI', 'DownDI', 'MFI', 'Momentum', 'Sonar', 'Sonar_sig5', 'STDEV',\n",
    "       'Sigma', 'TRIX', 'VR', 'WILLR', 'Psy', 'Disparity20', 'Disparity60',\n",
    "       'ADX', 'ADOSC', 'Volume_OSC', 'upperband', 'middleband', 'lowerband')\n",
    "\n",
    "items = (\n",
    "       'Sigma', 'Psy', 'TRIX', 'MFI', 'Disparity60', 'VR', 'MACD_OSC', 'RSI14', 'MA20_gra', 'Momentum', 'RSI signal', 'Sonar_sig5', 'Fast%D', 'MA5_gra', 'Volume_OSC', 'Disparity20', 'CCI'\n",
    ")"
   ]
  },
  {
   "cell_type": "code",
   "execution_count": 10,
   "metadata": {},
   "outputs": [],
   "source": [
    "pd.DataFrame(list(itertools.combinations(items, 2))).to_csv('./cols_top17_2.csv', index=False)"
   ]
  },
  {
   "cell_type": "code",
   "execution_count": 11,
   "metadata": {},
   "outputs": [],
   "source": [
    "pd.DataFrame(list(itertools.combinations(items, 3))).to_csv('./cols_top17_3.csv', index=False)"
   ]
  },
  {
   "cell_type": "code",
   "execution_count": null,
   "metadata": {},
   "outputs": [],
   "source": []
  }
 ],
 "metadata": {
  "interpreter": {
   "hash": "17164ff5f922defefa3fdd6afe0c064ec3948eda8922a4bbab17a59b9b0232dc"
  },
  "kernelspec": {
   "display_name": "Python 3.8.8 64-bit ('venv': venv)",
   "language": "python",
   "name": "python3"
  },
  "language_info": {
   "codemirror_mode": {
    "name": "ipython",
    "version": 3
   },
   "file_extension": ".py",
   "mimetype": "text/x-python",
   "name": "python",
   "nbconvert_exporter": "python",
   "pygments_lexer": "ipython3",
   "version": "3.8.8"
  },
  "orig_nbformat": 4
 },
 "nbformat": 4,
 "nbformat_minor": 2
}
